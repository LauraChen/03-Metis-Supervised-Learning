{
 "cells": [
  {
   "cell_type": "markdown",
   "metadata": {},
   "source": [
    "# Supervised Learning: Classifying Chocolate Bars by Rating  \n",
    "**Laura Chen**  \n",
    "  \n",
    "## Table of Contents <a id='top'></a>\n",
    "[Section 1: Data cleaning and Feature engineering](#section1)  \n",
    "[Section 2: EDA](#section2)  \n",
    "[Section 3: Model Selection](#section3)  \n",
    "[Section 4: Parameter Tuning](#section4)  \n",
    "[Section 5: Confusion Matrices](#section5)  \n",
    "[Section 6: Testing the Model](#section6)  \n",
    "[Appendix](#appendix)"
   ]
  },
  {
   "cell_type": "code",
   "execution_count": 4,
   "metadata": {},
   "outputs": [
    {
     "name": "stderr",
     "output_type": "stream",
     "text": [
      "/Users/laurachen/anaconda3/lib/python3.6/site-packages/sklearn/cross_validation.py:41: DeprecationWarning: This module was deprecated in version 0.18 in favor of the model_selection module into which all the refactored classes and functions are moved. Also note that the interface of the new CV iterators are different from that of this module. This module will be removed in 0.20.\n",
      "  \"This module will be removed in 0.20.\", DeprecationWarning)\n"
     ]
    }
   ],
   "source": [
    "import itertools\n",
    "from sqlalchemy import create_engine\n",
    "import pandas as pd\n",
    "import numpy as np\n",
    "import matplotlib.pyplot as plt\n",
    "import seaborn as sns\n",
    "from sklearn.linear_model import LinearRegression\n",
    "from sklearn.linear_model import LassoCV\n",
    "from sklearn.cross_validation import cross_val_score\n",
    "from sklearn.cross_validation import train_test_split\n",
    "\n",
    "from sklearn.metrics import mean_squared_error\n",
    "%matplotlib inline"
   ]
  },
  {
   "cell_type": "markdown",
   "metadata": {},
   "source": [
    "# Section 1: Data cleaning and Feature engineering <a id='section1'></a>"
   ]
  },
  {
   "cell_type": "markdown",
   "metadata": {},
   "source": [
    "# Data Import"
   ]
  },
  {
   "cell_type": "code",
   "execution_count": 1281,
   "metadata": {
    "collapsed": true
   },
   "outputs": [],
   "source": [
    "df=pd.read_csv('flavors_of_cacao2.csv',encoding='latin-1')"
   ]
  },
  {
   "cell_type": "code",
   "execution_count": 1282,
   "metadata": {
    "collapsed": true
   },
   "outputs": [],
   "source": [
    "# Ended up not using soil data due to losing a lot of data\n",
    "# http://www.fao.org/faostat/en/#data/QC\n",
    "# soil_df=pd.read_csv('soildataFAO.csv',encoding='latin-1')"
   ]
  },
  {
   "cell_type": "code",
   "execution_count": 1283,
   "metadata": {
    "collapsed": true
   },
   "outputs": [],
   "source": [
    "# Countries of the world: www.statvision.com/webinars/countries%20of%20the%20world.xls\n",
    "countries_df=pd.read_excel('countries of the world.xls')"
   ]
  },
  {
   "cell_type": "code",
   "execution_count": 1284,
   "metadata": {
    "collapsed": true
   },
   "outputs": [],
   "source": [
    "countries_df=countries_df[['Country','Region']]\n",
    "countries_df['Country']=countries_df['Country'].str.strip()\n",
    "countries_df['Region']=countries_df['Region'].str.strip()\n",
    "countries_df['Country']=countries_df['Country'].replace(value='South Korea',regex='(Korea, South)')\\\n",
    "                                            .replace(value='Sao Tome',regex='(Sao Tome & Principe)')"
   ]
  },
  {
   "cell_type": "code",
   "execution_count": 1285,
   "metadata": {
    "scrolled": true
   },
   "outputs": [
    {
     "data": {
      "text/plain": [
       "(1852, 9)"
      ]
     },
     "execution_count": 1285,
     "metadata": {},
     "output_type": "execute_result"
    }
   ],
   "source": [
    "df.shape"
   ]
  },
  {
   "cell_type": "markdown",
   "metadata": {},
   "source": [
    "# Data Cleaning"
   ]
  },
  {
   "cell_type": "markdown",
   "metadata": {},
   "source": [
    "**Removing invalid characters and converting values to percentages**"
   ]
  },
  {
   "cell_type": "code",
   "execution_count": 1286,
   "metadata": {
    "collapsed": true
   },
   "outputs": [],
   "source": [
    "df.columns=df.columns.str.replace('\\n',' ').str.replace('åÊ','')\n",
    "df['Cocoa Percent']=df['Cocoa Percent'].str.replace(\"%\",\"\").apply(float)\n",
    "df.loc[df['Cocoa Percent'] > 1, 'Cocoa Percent'] = df['Cocoa Percent']/100"
   ]
  },
  {
   "cell_type": "code",
   "execution_count": 1294,
   "metadata": {},
   "outputs": [
    {
     "data": {
      "text/html": [
       "<div>\n",
       "<style scoped>\n",
       "    .dataframe tbody tr th:only-of-type {\n",
       "        vertical-align: middle;\n",
       "    }\n",
       "\n",
       "    .dataframe tbody tr th {\n",
       "        vertical-align: top;\n",
       "    }\n",
       "\n",
       "    .dataframe thead th {\n",
       "        text-align: right;\n",
       "    }\n",
       "</style>\n",
       "<table border=\"1\" class=\"dataframe\">\n",
       "  <thead>\n",
       "    <tr style=\"text-align: right;\">\n",
       "      <th></th>\n",
       "      <th>Company (Maker-if known)</th>\n",
       "      <th>Specific Bean Origin or Bar Name</th>\n",
       "      <th>REF</th>\n",
       "      <th>Review Date</th>\n",
       "      <th>Cocoa Percent</th>\n",
       "      <th>Company Location</th>\n",
       "      <th>Rating</th>\n",
       "      <th>Bean Type</th>\n",
       "      <th>Broad Bean Origin</th>\n",
       "    </tr>\n",
       "  </thead>\n",
       "  <tbody>\n",
       "    <tr>\n",
       "      <th>0</th>\n",
       "      <td>Johnny Iuzzini</td>\n",
       "      <td>Costa Esmeralda, Batch 30</td>\n",
       "      <td>2008</td>\n",
       "      <td>2017</td>\n",
       "      <td>0.78</td>\n",
       "      <td>U.S.A.</td>\n",
       "      <td>3.75</td>\n",
       "      <td>NaN</td>\n",
       "      <td>Ecuador</td>\n",
       "    </tr>\n",
       "    <tr>\n",
       "      <th>1</th>\n",
       "      <td>Johnny Iuzzini</td>\n",
       "      <td>Sambirano Valley, Batch 7</td>\n",
       "      <td>2008</td>\n",
       "      <td>2017</td>\n",
       "      <td>0.68</td>\n",
       "      <td>U.S.A.</td>\n",
       "      <td>3.50</td>\n",
       "      <td>NaN</td>\n",
       "      <td>Madagascar</td>\n",
       "    </tr>\n",
       "    <tr>\n",
       "      <th>2</th>\n",
       "      <td>INDI</td>\n",
       "      <td>Lam Dong</td>\n",
       "      <td>2008</td>\n",
       "      <td>2017</td>\n",
       "      <td>0.72</td>\n",
       "      <td>U.S.A.</td>\n",
       "      <td>3.25</td>\n",
       "      <td>NaN</td>\n",
       "      <td>Vietnam</td>\n",
       "    </tr>\n",
       "    <tr>\n",
       "      <th>3</th>\n",
       "      <td>Ritual</td>\n",
       "      <td>Soconsco</td>\n",
       "      <td>2008</td>\n",
       "      <td>2017</td>\n",
       "      <td>0.75</td>\n",
       "      <td>U.S.A.</td>\n",
       "      <td>3.75</td>\n",
       "      <td>NaN</td>\n",
       "      <td>Mexico</td>\n",
       "    </tr>\n",
       "    <tr>\n",
       "      <th>4</th>\n",
       "      <td>Uncouth</td>\n",
       "      <td>Tanzania</td>\n",
       "      <td>2004</td>\n",
       "      <td>2017</td>\n",
       "      <td>0.75</td>\n",
       "      <td>Canada</td>\n",
       "      <td>3.00</td>\n",
       "      <td>NaN</td>\n",
       "      <td>Tanzania</td>\n",
       "    </tr>\n",
       "  </tbody>\n",
       "</table>\n",
       "</div>"
      ],
      "text/plain": [
       "  Company (Maker-if known) Specific Bean Origin or Bar Name   REF  \\\n",
       "0           Johnny Iuzzini        Costa Esmeralda, Batch 30  2008   \n",
       "1           Johnny Iuzzini        Sambirano Valley, Batch 7  2008   \n",
       "2                     INDI                         Lam Dong  2008   \n",
       "3                   Ritual                         Soconsco  2008   \n",
       "4                  Uncouth                         Tanzania  2004   \n",
       "\n",
       "   Review Date  Cocoa Percent Company Location  Rating Bean Type  \\\n",
       "0         2017           0.78           U.S.A.    3.75       NaN   \n",
       "1         2017           0.68           U.S.A.    3.50       NaN   \n",
       "2         2017           0.72           U.S.A.    3.25       NaN   \n",
       "3         2017           0.75           U.S.A.    3.75       NaN   \n",
       "4         2017           0.75           Canada    3.00       NaN   \n",
       "\n",
       "  Broad Bean Origin  \n",
       "0           Ecuador  \n",
       "1        Madagascar  \n",
       "2           Vietnam  \n",
       "3            Mexico  \n",
       "4          Tanzania  "
      ]
     },
     "execution_count": 1294,
     "metadata": {},
     "output_type": "execute_result"
    }
   ],
   "source": [
    "df.head()"
   ]
  },
  {
   "cell_type": "code",
   "execution_count": 1295,
   "metadata": {
    "collapsed": true
   },
   "outputs": [],
   "source": [
    "# Rounding ratings and binning them by tier\n",
    "df.Rating=df.Rating.apply(round)\n",
    "df.loc[df['Rating'] == 1, 'Tier'] = '1-Low'\n",
    "df.loc[df['Rating'] == 2, 'Tier'] = '1-Low'\n",
    "df.loc[df['Rating'] == 3, 'Tier'] = '2-Med'\n",
    "df.loc[df['Rating'] == 4, 'Tier'] = '3-High'\n",
    "df.loc[df['Rating'] == 5, 'Tier'] = '3-High'"
   ]
  },
  {
   "cell_type": "code",
   "execution_count": 1296,
   "metadata": {
    "collapsed": true
   },
   "outputs": [],
   "source": [
    "df=df.fillna('Unknown')"
   ]
  },
  {
   "cell_type": "markdown",
   "metadata": {},
   "source": [
    "**Cleaning up \"Bean Type' col**"
   ]
  },
  {
   "cell_type": "code",
   "execution_count": 1297,
   "metadata": {
    "collapsed": true
   },
   "outputs": [],
   "source": [
    "# Cleaning up the Bean Types\n",
    "df['Bean Type']=df['Bean Type'].replace(value='',regex='(\\s?\\([A-z0-9%,\\/\\s]+\\))')\\\n",
    "                            .replace(value='',regex='(Blend-)')\\\n",
    "                            .replace(value='Forastero ASS',regex='(Forastero ASSS)')"
   ]
  },
  {
   "cell_type": "code",
   "execution_count": 1298,
   "metadata": {
    "collapsed": true
   },
   "outputs": [],
   "source": [
    "df['Bean Type2']=df['Bean Type'].str.split(',')\n",
    "df['First Bean Type']=[x[0].strip() for x in df['Bean Type2']]"
   ]
  },
  {
   "cell_type": "code",
   "execution_count": 1299,
   "metadata": {},
   "outputs": [
    {
     "name": "stdout",
     "output_type": "stream",
     "text": [
      "(1852, 11)\n"
     ]
    }
   ],
   "source": [
    "c=[]\n",
    "def convert(x):\n",
    "    if len(x)>1:\n",
    "        c.append(1)\n",
    "    else:\n",
    "        c.append(0)\n",
    "\n",
    "df['Bean Type2'].apply(convert)\n",
    "df['Blend']=c\n",
    "df.loc[df['Blend'] == 1, 'Bean Type'] = 'Blend'\n",
    "df=df.drop(['Blend','Bean Type2'],axis=1)\n",
    "print(df.shape)"
   ]
  },
  {
   "cell_type": "markdown",
   "metadata": {},
   "source": [
    "**Cleaning up Country Data**  \n",
    "Replacing abbreviations so the data can match with external country data  \n",
    "Keeping track of lists of multiple country origins"
   ]
  },
  {
   "cell_type": "code",
   "execution_count": 1300,
   "metadata": {
    "collapsed": true
   },
   "outputs": [],
   "source": [
    "df['Company Location']=df['Company Location'].replace(value='Dominican',regex='(Domincan)')\\\n",
    "                                            .replace(value='United States',regex='(U\\.S\\.A\\.)')\\\n",
    "                                            .replace(value='United Kingdom',regex='((U\\.K\\.)|(Scotland)|(Wales))')\\\n",
    "                                            .replace(value='Ecuador',regex='(Eucador)')\\\n",
    "                                            .replace(value='Netherlands',regex='(Amsterdam)')\\\n",
    "                                            .replace(value='Nicaragua',regex='(Niacragua)')"
   ]
  },
  {
   "cell_type": "code",
   "execution_count": 1301,
   "metadata": {
    "collapsed": true
   },
   "outputs": [],
   "source": [
    "df['Broad Bean Origin']=df['Broad Bean Origin']\\\n",
    "        .replace(value='D. R.',regex='(Domin[i]?can Republic)')\\\n",
    "        .replace(value='Dominican Republic',regex='(D(om)?\\.?(in)?\\.?(ican)?\\s?R(ep)?\\.?)')\\\n",
    "        .replace(value='Mex',regex='(Mexico)')\\\n",
    "        .replace(value='Ven.,',regex='(Venezuela[\\s|/]+)')\\\n",
    "        .replace(value='Ven',regex='(Venezuela)(z)?')\\\n",
    "        .replace(value='Ecu,',regex='(Ecuador\\s)')\\\n",
    "        .replace(value='Ecu',regex='(Ecuador)')\\\n",
    "        .replace(value='Mad,',regex='(Madagascar\\s)')\\\n",
    "        .replace(value='Mad',regex='(Madagascar)')\\\n",
    "        .replace(value='United States',regex='(Hawaii)')\\\n",
    "        .replace(value='Guat.',regex='Guatemala')\\\n",
    "        .replace(value=',',regex='(\\s?&\\s?)')\\\n",
    "        .replace(value='Papua New Guinea',regex='PNG')\\\n",
    "        .replace(value='',regex='(\\([A-z,\\/\\s]+\\))')\\\n",
    "        .replace(value='Guatemala',regex='Guat\\.')\\\n",
    "        .replace(value='Brazil',regex='Brasil')\\\n",
    "        .replace(value='Venezuela',regex='(Ven)\\.?(ez)?')\\\n",
    "        .replace(value='Madagascar',regex='(Mad\\.?)')\\\n",
    "        .replace(value='Ecuador',regex='(Ecu\\.?(ad)?)')\\\n",
    "        .replace(value='Grenada',regex='(Gre\\.)')\\\n",
    "        .replace(value='Costa Rica',regex='(Cost Rica)')\\\n",
    "        .replace(value='Dominican Republic,Ecuador,Peru',regex='(Dominican Republic Ecuador Peru)')\\\n",
    "        .replace(value='Venezuela,Dominican Republic',regex='(Venezuela Dominican Republic)')\\\n",
    "        .replace(value='Ecuador,Madagascar',regex='(Ecuador Madagascar)')\\\n",
    "        .replace(value='Madagascar,Ecuador',regex='(MadagascarEcuador)')\\\n",
    "        .replace(value='Mexico',regex='(Mex)')"
   ]
  },
  {
   "cell_type": "code",
   "execution_count": 1302,
   "metadata": {
    "collapsed": true
   },
   "outputs": [],
   "source": [
    "df['Broad Bean Origin2']=df['Broad Bean Origin'].str.split(',')\n",
    "df['First Broad Bean Origin']=[x[0].strip() for x in df['Broad Bean Origin2']]"
   ]
  },
  {
   "cell_type": "code",
   "execution_count": 1303,
   "metadata": {},
   "outputs": [
    {
     "name": "stdout",
     "output_type": "stream",
     "text": [
      "(1852, 13)\n"
     ]
    }
   ],
   "source": [
    "c=[]\n",
    "df['Broad Bean Origin2'].apply(convert)\n",
    "print(df.shape)"
   ]
  },
  {
   "cell_type": "code",
   "execution_count": 1304,
   "metadata": {
    "collapsed": true
   },
   "outputs": [],
   "source": [
    "df['Multi_Origin']=c"
   ]
  },
  {
   "cell_type": "code",
   "execution_count": 1305,
   "metadata": {},
   "outputs": [
    {
     "data": {
      "text/plain": [
       "0    1802\n",
       "1      50\n",
       "Name: Multi_Origin, dtype: int64"
      ]
     },
     "execution_count": 1305,
     "metadata": {},
     "output_type": "execute_result"
    }
   ],
   "source": [
    "df.Multi_Origin.value_counts()"
   ]
  },
  {
   "cell_type": "code",
   "execution_count": 1306,
   "metadata": {},
   "outputs": [
    {
     "data": {
      "text/html": [
       "<div>\n",
       "<style scoped>\n",
       "    .dataframe tbody tr th:only-of-type {\n",
       "        vertical-align: middle;\n",
       "    }\n",
       "\n",
       "    .dataframe tbody tr th {\n",
       "        vertical-align: top;\n",
       "    }\n",
       "\n",
       "    .dataframe thead th {\n",
       "        text-align: right;\n",
       "    }\n",
       "</style>\n",
       "<table border=\"1\" class=\"dataframe\">\n",
       "  <thead>\n",
       "    <tr style=\"text-align: right;\">\n",
       "      <th></th>\n",
       "      <th>Company (Maker-if known)</th>\n",
       "      <th>Specific Bean Origin or Bar Name</th>\n",
       "      <th>REF</th>\n",
       "      <th>Review Date</th>\n",
       "      <th>Cocoa Percent</th>\n",
       "      <th>Company Location</th>\n",
       "      <th>Rating</th>\n",
       "      <th>Bean Type</th>\n",
       "      <th>Broad Bean Origin</th>\n",
       "      <th>Tier</th>\n",
       "      <th>First Bean Type</th>\n",
       "      <th>Broad Bean Origin2</th>\n",
       "      <th>First Broad Bean Origin</th>\n",
       "      <th>Multi_Origin</th>\n",
       "    </tr>\n",
       "  </thead>\n",
       "  <tbody>\n",
       "    <tr>\n",
       "      <th>0</th>\n",
       "      <td>Johnny Iuzzini</td>\n",
       "      <td>Costa Esmeralda, Batch 30</td>\n",
       "      <td>2008</td>\n",
       "      <td>2017</td>\n",
       "      <td>0.78</td>\n",
       "      <td>United States</td>\n",
       "      <td>4</td>\n",
       "      <td>Unknown</td>\n",
       "      <td>Ecuador</td>\n",
       "      <td>3-High</td>\n",
       "      <td>Unknown</td>\n",
       "      <td>[Ecuador]</td>\n",
       "      <td>Ecuador</td>\n",
       "      <td>0</td>\n",
       "    </tr>\n",
       "    <tr>\n",
       "      <th>1</th>\n",
       "      <td>Johnny Iuzzini</td>\n",
       "      <td>Sambirano Valley, Batch 7</td>\n",
       "      <td>2008</td>\n",
       "      <td>2017</td>\n",
       "      <td>0.68</td>\n",
       "      <td>United States</td>\n",
       "      <td>4</td>\n",
       "      <td>Unknown</td>\n",
       "      <td>Madagascar</td>\n",
       "      <td>3-High</td>\n",
       "      <td>Unknown</td>\n",
       "      <td>[Madagascar]</td>\n",
       "      <td>Madagascar</td>\n",
       "      <td>0</td>\n",
       "    </tr>\n",
       "    <tr>\n",
       "      <th>2</th>\n",
       "      <td>INDI</td>\n",
       "      <td>Lam Dong</td>\n",
       "      <td>2008</td>\n",
       "      <td>2017</td>\n",
       "      <td>0.72</td>\n",
       "      <td>United States</td>\n",
       "      <td>3</td>\n",
       "      <td>Unknown</td>\n",
       "      <td>Vietnam</td>\n",
       "      <td>2-Med</td>\n",
       "      <td>Unknown</td>\n",
       "      <td>[Vietnam]</td>\n",
       "      <td>Vietnam</td>\n",
       "      <td>0</td>\n",
       "    </tr>\n",
       "  </tbody>\n",
       "</table>\n",
       "</div>"
      ],
      "text/plain": [
       "  Company (Maker-if known) Specific Bean Origin or Bar Name   REF  \\\n",
       "0           Johnny Iuzzini        Costa Esmeralda, Batch 30  2008   \n",
       "1           Johnny Iuzzini        Sambirano Valley, Batch 7  2008   \n",
       "2                     INDI                         Lam Dong  2008   \n",
       "\n",
       "   Review Date  Cocoa Percent Company Location  Rating Bean Type  \\\n",
       "0         2017           0.78    United States       4   Unknown   \n",
       "1         2017           0.68    United States       4   Unknown   \n",
       "2         2017           0.72    United States       3   Unknown   \n",
       "\n",
       "  Broad Bean Origin    Tier First Bean Type Broad Bean Origin2  \\\n",
       "0           Ecuador  3-High         Unknown          [Ecuador]   \n",
       "1        Madagascar  3-High         Unknown       [Madagascar]   \n",
       "2           Vietnam   2-Med         Unknown          [Vietnam]   \n",
       "\n",
       "  First Broad Bean Origin  Multi_Origin  \n",
       "0                 Ecuador             0  \n",
       "1              Madagascar             0  \n",
       "2                 Vietnam             0  "
      ]
     },
     "execution_count": 1306,
     "metadata": {},
     "output_type": "execute_result"
    }
   ],
   "source": [
    "df.head(3)"
   ]
  },
  {
   "cell_type": "markdown",
   "metadata": {},
   "source": [
    "## Additional Feature Engineering"
   ]
  },
  {
   "cell_type": "markdown",
   "metadata": {},
   "source": [
    "**Joining with additional data**  \n",
    "**Note:** This part has been removed because adding soil data was causing a lot of rows to drop without significantly improving model performance"
   ]
  },
  {
   "cell_type": "code",
   "execution_count": 1307,
   "metadata": {
    "collapsed": true
   },
   "outputs": [],
   "source": [
    "# df3=pd.merge(df2,soil_df[['Country','Value']],left_on='First Broad Bean Origin',right_on='Country',)\n",
    "# df3.Value.name='Avg % wgt carbon in soil'"
   ]
  },
  {
   "cell_type": "markdown",
   "metadata": {},
   "source": [
    "**Creating additional dummy variables**"
   ]
  },
  {
   "cell_type": "code",
   "execution_count": 1308,
   "metadata": {
    "collapsed": true
   },
   "outputs": [],
   "source": [
    "df2=pd.merge(df,countries_df,left_on='First Broad Bean Origin',right_on='Country')\n",
    "df2['Origin_Region']=df2.Region.apply(lambda x: 'Origin: '+x)\n",
    "df2=pd.merge(df2,countries_df,left_on='Company Location',right_on='Country')\n",
    "df2['Prod_Region']=df2.Region_y.apply(lambda x: 'Prod: '+ x)"
   ]
  },
  {
   "cell_type": "code",
   "execution_count": 1309,
   "metadata": {
    "collapsed": true
   },
   "outputs": [],
   "source": [
    "# Creating a column to recognize if a chocolate bar is produced in the same country where the cocoa bean originated\n",
    "df2['Origin_Prod']=list(zip(df2['Region_x'],df2['Region_y']))\n",
    "\n",
    "p = []\n",
    "def local_prod(x):\n",
    "    if x[0]==x[1]:\n",
    "        p.append(1)\n",
    "    else:\n",
    "        p.append(0)\n",
    "\n",
    "df2.Origin_Prod.apply(local_prod)\n",
    "df2['Prod_Locally']=p\n",
    "df2=df2.drop('Origin_Prod',axis=1)"
   ]
  },
  {
   "cell_type": "code",
   "execution_count": 1310,
   "metadata": {},
   "outputs": [
    {
     "data": {
      "text/html": [
       "<div>\n",
       "<style scoped>\n",
       "    .dataframe tbody tr th:only-of-type {\n",
       "        vertical-align: middle;\n",
       "    }\n",
       "\n",
       "    .dataframe tbody tr th {\n",
       "        vertical-align: top;\n",
       "    }\n",
       "\n",
       "    .dataframe thead th {\n",
       "        text-align: right;\n",
       "    }\n",
       "</style>\n",
       "<table border=\"1\" class=\"dataframe\">\n",
       "  <thead>\n",
       "    <tr style=\"text-align: right;\">\n",
       "      <th></th>\n",
       "      <th>Company (Maker-if known)</th>\n",
       "      <th>Specific Bean Origin or Bar Name</th>\n",
       "      <th>REF</th>\n",
       "      <th>Review Date</th>\n",
       "      <th>Cocoa Percent</th>\n",
       "      <th>Company Location</th>\n",
       "      <th>Rating</th>\n",
       "      <th>Bean Type</th>\n",
       "      <th>Broad Bean Origin</th>\n",
       "      <th>Tier</th>\n",
       "      <th>...</th>\n",
       "      <th>South Korea</th>\n",
       "      <th>Spain</th>\n",
       "      <th>St. Lucia</th>\n",
       "      <th>Suriname</th>\n",
       "      <th>Sweden</th>\n",
       "      <th>Switzerland</th>\n",
       "      <th>United Kingdom</th>\n",
       "      <th>United States</th>\n",
       "      <th>Venezuela</th>\n",
       "      <th>Vietnam</th>\n",
       "    </tr>\n",
       "  </thead>\n",
       "  <tbody>\n",
       "    <tr>\n",
       "      <th>0</th>\n",
       "      <td>Johnny Iuzzini</td>\n",
       "      <td>Costa Esmeralda, Batch 30</td>\n",
       "      <td>2008</td>\n",
       "      <td>2017</td>\n",
       "      <td>0.78</td>\n",
       "      <td>United States</td>\n",
       "      <td>4</td>\n",
       "      <td>Unknown</td>\n",
       "      <td>Ecuador</td>\n",
       "      <td>3-High</td>\n",
       "      <td>...</td>\n",
       "      <td>0</td>\n",
       "      <td>0</td>\n",
       "      <td>0</td>\n",
       "      <td>0</td>\n",
       "      <td>0</td>\n",
       "      <td>0</td>\n",
       "      <td>0</td>\n",
       "      <td>1</td>\n",
       "      <td>0</td>\n",
       "      <td>0</td>\n",
       "    </tr>\n",
       "    <tr>\n",
       "      <th>1</th>\n",
       "      <td>Brasstown</td>\n",
       "      <td>Manabi</td>\n",
       "      <td>1984</td>\n",
       "      <td>2017</td>\n",
       "      <td>0.75</td>\n",
       "      <td>United States</td>\n",
       "      <td>4</td>\n",
       "      <td>Unknown</td>\n",
       "      <td>Ecuador</td>\n",
       "      <td>3-High</td>\n",
       "      <td>...</td>\n",
       "      <td>0</td>\n",
       "      <td>0</td>\n",
       "      <td>0</td>\n",
       "      <td>0</td>\n",
       "      <td>0</td>\n",
       "      <td>0</td>\n",
       "      <td>0</td>\n",
       "      <td>1</td>\n",
       "      <td>0</td>\n",
       "      <td>0</td>\n",
       "    </tr>\n",
       "  </tbody>\n",
       "</table>\n",
       "<p>2 rows × 90 columns</p>\n",
       "</div>"
      ],
      "text/plain": [
       "  Company (Maker-if known) Specific Bean Origin or Bar Name   REF  \\\n",
       "0           Johnny Iuzzini        Costa Esmeralda, Batch 30  2008   \n",
       "1                Brasstown                           Manabi  1984   \n",
       "\n",
       "   Review Date  Cocoa Percent Company Location  Rating Bean Type  \\\n",
       "0         2017           0.78    United States       4   Unknown   \n",
       "1         2017           0.75    United States       4   Unknown   \n",
       "\n",
       "  Broad Bean Origin    Tier   ...    South Korea Spain  St. Lucia Suriname  \\\n",
       "0           Ecuador  3-High   ...              0     0          0        0   \n",
       "1           Ecuador  3-High   ...              0     0          0        0   \n",
       "\n",
       "  Sweden  Switzerland  United Kingdom  United States  Venezuela  Vietnam  \n",
       "0      0            0               0              1          0        0  \n",
       "1      0            0               0              1          0        0  \n",
       "\n",
       "[2 rows x 90 columns]"
      ]
     },
     "execution_count": 1310,
     "metadata": {},
     "output_type": "execute_result"
    }
   ],
   "source": [
    "df2.drop(['Country_x','Country_y','Region_y','Region_x','Broad Bean Origin2'],axis=1,inplace=True)\n",
    "df2=pd.concat([df2,pd.get_dummies(df2['First Bean Type']),pd.get_dummies(df2['Origin_Region']),\\\n",
    "                   pd.get_dummies(df2['Company Location'])],axis=1)\n",
    "df2.head(2)"
   ]
  },
  {
   "cell_type": "markdown",
   "metadata": {},
   "source": [
    "# Section 2: EDA <a id='section2'></a>  \n",
    "[Back to Top](#top)"
   ]
  },
  {
   "cell_type": "code",
   "execution_count": 1311,
   "metadata": {},
   "outputs": [
    {
     "name": "stdout",
     "output_type": "stream",
     "text": [
      "(1848, 90)\n",
      "2-Med     927\n",
      "3-High    730\n",
      "1-Low     191\n",
      "Name: Tier, dtype: int64\n"
     ]
    }
   ],
   "source": [
    "print(df2.shape)\n",
    "print(df2.Tier.value_counts())"
   ]
  },
  {
   "cell_type": "code",
   "execution_count": 1312,
   "metadata": {},
   "outputs": [
    {
     "name": "stdout",
     "output_type": "stream",
     "text": [
      "Accuracy of predicting all Med: 0.5016233766233766\n"
     ]
    }
   ],
   "source": [
    "print('Accuracy of predicting all Med:',927/1848)"
   ]
  },
  {
   "cell_type": "code",
   "execution_count": 1313,
   "metadata": {},
   "outputs": [
    {
     "data": {
      "text/plain": [
       "<matplotlib.text.Text at 0x1a305b4d68>"
      ]
     },
     "execution_count": 1313,
     "metadata": {},
     "output_type": "execute_result"
    },
    {
     "data": {
      "image/png": "[encoded data removed]",
      "text/plain": [
       "<matplotlib.figure.Figure at 0x1a30501be0>"
      ]
     },
     "metadata": {},
     "output_type": "display_data"
    }
   ],
   "source": [
    "f=plt.figure(figsize=(5,5))\n",
    "ax=f.add_subplot(111, aspect='equal')\n",
    "p=plt.pie(df2.Tier.value_counts(),labels=['2-Med','3-High','1-Low'], colors=['#cc9966','#ac7339','#ecd9c6'],autopct='%.2f',\\\n",
    "          textprops={'fontsize': 12,'color':'black'})\n",
    "plt.title('Balance of Chocolate Tiers',fontdict={'fontsize': 14})"
   ]
  },
  {
   "cell_type": "code",
   "execution_count": 1314,
   "metadata": {},
   "outputs": [
    {
     "data": {
      "text/plain": [
       "Origin: LATIN AMER. & CARIB     1330\n",
       "Origin: SUB-SAHARAN AFRICA       271\n",
       "Origin: ASIA (EX. NEAR EAST)      77\n",
       "Origin: Unknown                   74\n",
       "Origin: OCEANIA                   68\n",
       "Origin: NORTHERN AMERICA          28\n",
       "Name: Origin_Region, dtype: int64"
      ]
     },
     "execution_count": 1314,
     "metadata": {},
     "output_type": "execute_result"
    }
   ],
   "source": [
    "df2['Origin_Region'].value_counts()"
   ]
  },
  {
   "cell_type": "code",
   "execution_count": 1315,
   "metadata": {
    "collapsed": true
   },
   "outputs": [],
   "source": [
    "df2=df2.dropna()"
   ]
  },
  {
   "cell_type": "markdown",
   "metadata": {},
   "source": [
    "## Setting up json for d3 visualization\n",
    "Commented out this code because it does not need to be run every time. "
   ]
  },
  {
   "cell_type": "code",
   "execution_count": 1316,
   "metadata": {
    "collapsed": true
   },
   "outputs": [],
   "source": [
    "# df2['Company_Location']=df2['Company Location']\n",
    "# df2.Company_Location=df2.Company_Location.replace('United States','United States of America')"
   ]
  },
  {
   "cell_type": "code",
   "execution_count": 1317,
   "metadata": {
    "collapsed": true
   },
   "outputs": [],
   "source": [
    "# json_data=df2.groupby('Company_Location').Rating.mean().sort_values(ascending=False)\n",
    "# json_data=pd.DataFrame(json_data)\n",
    "# json_data['Rating_Count']=df2.groupby('Company_Location').Rating.count().sort_values(ascending=False)\n",
    "# json_data.Rating=json_data.Rating.round(decimals=2)\n",
    "# json_data=json_data.reset_index()\n",
    "# json_data.to_json('cocoa2.json',orient='records')"
   ]
  },
  {
   "cell_type": "code",
   "execution_count": 1318,
   "metadata": {
    "collapsed": true
   },
   "outputs": [],
   "source": [
    "# json_data.head()"
   ]
  },
  {
   "cell_type": "markdown",
   "metadata": {},
   "source": [
    "# Section 3: Model Selection <a id='section3'></a>  \n",
    "Includes experimenting with different models, upsampling, and hyperparameterization.  \n",
    "[Back to Top](#top)"
   ]
  },
  {
   "cell_type": "code",
   "execution_count": 1319,
   "metadata": {
    "collapsed": true
   },
   "outputs": [],
   "source": [
    "from sklearn.cross_validation import train_test_split\n",
    "from sklearn.metrics import accuracy_score\n",
    "from sklearn.neighbors import KNeighborsClassifier\n",
    "from sklearn.linear_model import LogisticRegression\n",
    "from sklearn.learning_curve import learning_curve\n",
    "from sklearn.ensemble import RandomForestClassifier\n",
    "from sklearn.naive_bayes import MultinomialNB\n",
    "from sklearn.svm import SVC\n",
    "from sklearn.tree import DecisionTreeClassifier\n",
    "from sklearn.cross_validation import cross_val_score\n",
    "\n",
    "from sklearn import naive_bayes\n",
    "from sklearn.metrics import accuracy_score, classification_report"
   ]
  },
  {
   "cell_type": "markdown",
   "metadata": {},
   "source": [
    "## Upsampling"
   ]
  },
  {
   "cell_type": "code",
   "execution_count": 1406,
   "metadata": {},
   "outputs": [
    {
     "data": {
      "text/html": [
       "<div>\n",
       "<style scoped>\n",
       "    .dataframe tbody tr th:only-of-type {\n",
       "        vertical-align: middle;\n",
       "    }\n",
       "\n",
       "    .dataframe tbody tr th {\n",
       "        vertical-align: top;\n",
       "    }\n",
       "\n",
       "    .dataframe thead th {\n",
       "        text-align: right;\n",
       "    }\n",
       "</style>\n",
       "<table border=\"1\" class=\"dataframe\">\n",
       "  <thead>\n",
       "    <tr style=\"text-align: right;\">\n",
       "      <th></th>\n",
       "      <th>Company (Maker-if known)</th>\n",
       "      <th>Cocoa Percent</th>\n",
       "      <th>Rating</th>\n",
       "    </tr>\n",
       "  </thead>\n",
       "  <tbody>\n",
       "    <tr>\n",
       "      <th>1847</th>\n",
       "      <td>Chokolat Elot (Girard)</td>\n",
       "      <td>0.42</td>\n",
       "      <td>3</td>\n",
       "    </tr>\n",
       "    <tr>\n",
       "      <th>1776</th>\n",
       "      <td>Luker</td>\n",
       "      <td>0.46</td>\n",
       "      <td>3</td>\n",
       "    </tr>\n",
       "    <tr>\n",
       "      <th>1748</th>\n",
       "      <td>AMMA</td>\n",
       "      <td>0.50</td>\n",
       "      <td>4</td>\n",
       "    </tr>\n",
       "    <tr>\n",
       "      <th>1781</th>\n",
       "      <td>Santander (Compania Nacional)</td>\n",
       "      <td>0.53</td>\n",
       "      <td>2</td>\n",
       "    </tr>\n",
       "    <tr>\n",
       "      <th>1755</th>\n",
       "      <td>Kah Kow</td>\n",
       "      <td>0.55</td>\n",
       "      <td>3</td>\n",
       "    </tr>\n",
       "    <tr>\n",
       "      <th>1739</th>\n",
       "      <td>Q Chocolate</td>\n",
       "      <td>0.55</td>\n",
       "      <td>3</td>\n",
       "    </tr>\n",
       "    <tr>\n",
       "      <th>523</th>\n",
       "      <td>Ethel's Artisan (Mars)</td>\n",
       "      <td>0.55</td>\n",
       "      <td>2</td>\n",
       "    </tr>\n",
       "    <tr>\n",
       "      <th>583</th>\n",
       "      <td>Ethel's Artisan (Mars)</td>\n",
       "      <td>0.55</td>\n",
       "      <td>2</td>\n",
       "    </tr>\n",
       "    <tr>\n",
       "      <th>759</th>\n",
       "      <td>Malie Kai (Guittard)</td>\n",
       "      <td>0.55</td>\n",
       "      <td>4</td>\n",
       "    </tr>\n",
       "    <tr>\n",
       "      <th>760</th>\n",
       "      <td>Guittard</td>\n",
       "      <td>0.55</td>\n",
       "      <td>3</td>\n",
       "    </tr>\n",
       "  </tbody>\n",
       "</table>\n",
       "</div>"
      ],
      "text/plain": [
       "           Company (Maker-if known)  Cocoa Percent  Rating\n",
       "1847         Chokolat Elot (Girard)           0.42       3\n",
       "1776                          Luker           0.46       3\n",
       "1748                           AMMA           0.50       4\n",
       "1781  Santander (Compania Nacional)           0.53       2\n",
       "1755                        Kah Kow           0.55       3\n",
       "1739                    Q Chocolate           0.55       3\n",
       "523          Ethel's Artisan (Mars)           0.55       2\n",
       "583          Ethel's Artisan (Mars)           0.55       2\n",
       "759            Malie Kai (Guittard)           0.55       4\n",
       "760                        Guittard           0.55       3"
      ]
     },
     "execution_count": 1406,
     "metadata": {},
     "output_type": "execute_result"
    }
   ],
   "source": [
    "df2[['Company (Maker-if known)','Cocoa Percent','Rating']].sort_values(by='Cocoa Percent').head(10)"
   ]
  },
  {
   "cell_type": "code",
   "execution_count": 1322,
   "metadata": {
    "collapsed": true
   },
   "outputs": [],
   "source": [
    "from sklearn.utils import resample"
   ]
  },
  {
   "cell_type": "code",
   "execution_count": 1323,
   "metadata": {
    "collapsed": true
   },
   "outputs": [],
   "source": [
    "y=df2['Tier'].apply(str)\n",
    "X=df2.drop(['Company (Maker-if known)', 'Specific Bean Origin or Bar Name', \n",
    "       'Review Date', 'Company Location', 'Rating','Company_Location',\n",
    "       'Bean Type', 'Broad Bean Origin','Broad Bean Origin2','First Broad Bean Origin','First Bean Type','REF','Prod_Region','Origin_Region'],axis=1,errors='ignore')\n",
    "\n",
    "X_train, X_test, y_train, y_test = train_test_split(X,y, test_size = .3, random_state = 4444)\n",
    "X_test=X_test.drop('Tier',axis=1)"
   ]
  },
  {
   "cell_type": "code",
   "execution_count": 1324,
   "metadata": {},
   "outputs": [
    {
     "data": {
      "text/plain": [
       "2-Med     659\n",
       "3-High    512\n",
       "1-Low     122\n",
       "Name: Tier, dtype: int64"
      ]
     },
     "execution_count": 1324,
     "metadata": {},
     "output_type": "execute_result"
    }
   ],
   "source": [
    "X_train.Tier.value_counts()"
   ]
  },
  {
   "cell_type": "code",
   "execution_count": 1325,
   "metadata": {},
   "outputs": [
    {
     "data": {
      "text/plain": [
       "2-Med     659\n",
       "3-High    512\n",
       "1-Low     400\n",
       "Name: Tier, dtype: int64"
      ]
     },
     "execution_count": 1325,
     "metadata": {},
     "output_type": "execute_result"
    }
   ],
   "source": [
    "# Separate majority and minority classes\n",
    "df_low = X_train[X_train.Tier=='1-Low']\n",
    "df_med = X_train[X_train.Tier=='2-Med']\n",
    "df_high = X_train[X_train.Tier=='3-High']\n",
    "\n",
    "# Upsample minority class\n",
    "train_upsampled = resample(df_low, \n",
    "                         replace=True,     # sample with replacement\n",
    "                         n_samples=400,    # to match majority class\n",
    "                         random_state=123) # reproducible results\n",
    " \n",
    "# Combine majority class with upsampled minority class\n",
    "train_upsampled = pd.concat([df_med,df_high ,train_upsampled])\n",
    " \n",
    "# Display new class counts\n",
    "train_upsampled.Tier.value_counts()"
   ]
  },
  {
   "cell_type": "code",
   "execution_count": 1326,
   "metadata": {
    "collapsed": true
   },
   "outputs": [],
   "source": [
    "X=X.drop('Tier',axis=1,errors='ignore')\n",
    "y_train=train_upsampled.Tier\n",
    "X_train=train_upsampled.drop('Tier',axis=1,errors='ignore')"
   ]
  },
  {
   "cell_type": "code",
   "execution_count": 1327,
   "metadata": {},
   "outputs": [
    {
     "data": {
      "text/plain": [
       "<matplotlib.text.Text at 0x1a30567c88>"
      ]
     },
     "execution_count": 1327,
     "metadata": {},
     "output_type": "execute_result"
    },
    {
     "data": {
      "image/png": "[encoded data removed]",
      "text/plain": [
       "<matplotlib.figure.Figure at 0x1a313c76a0>"
      ]
     },
     "metadata": {},
     "output_type": "display_data"
    }
   ],
   "source": [
    "f=plt.figure(figsize=(5,5))\n",
    "ax=f.add_subplot(111, aspect='equal')\n",
    "p=plt.pie(train_upsampled.Tier.value_counts(),labels=['2-Med','3-High','1-Low'],\\\n",
    "          colors=['#cc9966','#ac7339','#ecd9c6'],autopct='%.2f',\\\n",
    "          textprops={'fontsize': 12,'color':'black'})\n",
    "plt.title('Upsampled Chocolate Tiers \\n (Training Set)',fontdict={'fontsize': 14})"
   ]
  },
  {
   "cell_type": "markdown",
   "metadata": {},
   "source": [
    "## Experimenting with Models"
   ]
  },
  {
   "cell_type": "code",
   "execution_count": 1328,
   "metadata": {},
   "outputs": [
    {
     "name": "stderr",
     "output_type": "stream",
     "text": [
      "/Users/laurachen/anaconda3/lib/python3.6/site-packages/sklearn/metrics/classification.py:1135: UndefinedMetricWarning: F-score is ill-defined and being set to 0.0 in labels with no predicted samples.\n",
      "  'precision', 'predicted', average, warn_for)\n",
      "/Users/laurachen/anaconda3/lib/python3.6/site-packages/sklearn/metrics/classification.py:1135: UndefinedMetricWarning: F-score is ill-defined and being set to 0.0 in labels with no predicted samples.\n",
      "  'precision', 'predicted', average, warn_for)\n",
      "/Users/laurachen/anaconda3/lib/python3.6/site-packages/sklearn/metrics/classification.py:1135: UndefinedMetricWarning: F-score is ill-defined and being set to 0.0 in labels with no predicted samples.\n",
      "  'precision', 'predicted', average, warn_for)\n",
      "/Users/laurachen/anaconda3/lib/python3.6/site-packages/sklearn/metrics/classification.py:1135: UndefinedMetricWarning: F-score is ill-defined and being set to 0.0 in labels with no predicted samples.\n",
      "  'precision', 'predicted', average, warn_for)\n",
      "/Users/laurachen/anaconda3/lib/python3.6/site-packages/sklearn/metrics/classification.py:1135: UndefinedMetricWarning: F-score is ill-defined and being set to 0.0 in labels with no predicted samples.\n",
      "  'precision', 'predicted', average, warn_for)\n",
      "/Users/laurachen/anaconda3/lib/python3.6/site-packages/sklearn/metrics/classification.py:1135: UndefinedMetricWarning: F-score is ill-defined and being set to 0.0 in labels with no predicted samples.\n",
      "  'precision', 'predicted', average, warn_for)\n",
      "/Users/laurachen/anaconda3/lib/python3.6/site-packages/sklearn/metrics/classification.py:1135: UndefinedMetricWarning: F-score is ill-defined and being set to 0.0 in labels with no predicted samples.\n",
      "  'precision', 'predicted', average, warn_for)\n",
      "/Users/laurachen/anaconda3/lib/python3.6/site-packages/sklearn/metrics/classification.py:1135: UndefinedMetricWarning: F-score is ill-defined and being set to 0.0 in labels with no predicted samples.\n",
      "  'precision', 'predicted', average, warn_for)\n",
      "/Users/laurachen/anaconda3/lib/python3.6/site-packages/sklearn/metrics/classification.py:1135: UndefinedMetricWarning: F-score is ill-defined and being set to 0.0 in labels with no predicted samples.\n",
      "  'precision', 'predicted', average, warn_for)\n",
      "/Users/laurachen/anaconda3/lib/python3.6/site-packages/sklearn/metrics/classification.py:1135: UndefinedMetricWarning: F-score is ill-defined and being set to 0.0 in labels with no predicted samples.\n",
      "  'precision', 'predicted', average, warn_for)\n",
      "/Users/laurachen/anaconda3/lib/python3.6/site-packages/sklearn/metrics/classification.py:1135: UndefinedMetricWarning: F-score is ill-defined and being set to 0.0 in labels with no predicted samples.\n",
      "  'precision', 'predicted', average, warn_for)\n",
      "/Users/laurachen/anaconda3/lib/python3.6/site-packages/sklearn/metrics/classification.py:1135: UndefinedMetricWarning: F-score is ill-defined and being set to 0.0 in labels with no predicted samples.\n",
      "  'precision', 'predicted', average, warn_for)\n",
      "/Users/laurachen/anaconda3/lib/python3.6/site-packages/sklearn/metrics/classification.py:1135: UndefinedMetricWarning: F-score is ill-defined and being set to 0.0 in labels with no predicted samples.\n",
      "  'precision', 'predicted', average, warn_for)\n",
      "/Users/laurachen/anaconda3/lib/python3.6/site-packages/sklearn/metrics/classification.py:1135: UndefinedMetricWarning: F-score is ill-defined and being set to 0.0 in labels with no predicted samples.\n",
      "  'precision', 'predicted', average, warn_for)\n",
      "/Users/laurachen/anaconda3/lib/python3.6/site-packages/sklearn/metrics/classification.py:1135: UndefinedMetricWarning: F-score is ill-defined and being set to 0.0 in labels with no predicted samples.\n",
      "  'precision', 'predicted', average, warn_for)\n"
     ]
    },
    {
     "data": {
      "image/png": "[encoded data removed]",
      "text/plain": [
       "<matplotlib.figure.Figure at 0x1a307334a8>"
      ]
     },
     "metadata": {},
     "output_type": "display_data"
    }
   ],
   "source": [
    "score = []\n",
    "nn = []\n",
    "for i in range(10,301,10):\n",
    "    knn = KNeighborsClassifier(n_neighbors = i,metric='hamming')\n",
    "    knn.fit(X_train, y_train)\n",
    "    score.append(accuracy_score(y_test, knn.predict(X_test)))\n",
    "    nn.append(i)\n",
    "\n",
    "plt.plot(nn, score)\n",
    "plt.title('KNN Accuracy by Nearest Neighbors')\n",
    "plt.ylabel('Accuracy')\n",
    "plt.xlabel('Nearest Neighbors');\n",
    "\n",
    "knn=KNeighborsClassifier(n_neighbors=nn[score.index(max(score))],metric='hamming')\n",
    "lr = LogisticRegression()\n",
    "nb = MultinomialNB()\n",
    "svc = SVC()\n",
    "rf = RandomForestClassifier()\n",
    "models=[('KNN',knn),('Logistic Regression',lr),('Multinomial NB',nb),('SVC',svc),('Random Forest',rf)]\n",
    "\n",
    "model_metrics = {'CV Accuracy':{},\n",
    "                'CV F1':{}}\n",
    "for name,model in models:\n",
    "    model.fit(X_train, y_train)\n",
    "    model_score = (accuracy_score(y_test, model.predict(X_test)))\n",
    "    model_acc=np.mean(cross_val_score(model, X, y,cv=5))\n",
    "    model_f1=np.mean(cross_val_score(model, X, y,scoring='f1_macro',cv=5))\n",
    "    model_metrics['CV Accuracy'][name]=model_acc\n",
    "    model_metrics['CV F1'][name]=model_f1\n",
    "\n"
   ]
  },
  {
   "cell_type": "code",
   "execution_count": 1335,
   "metadata": {
    "collapsed": true
   },
   "outputs": [],
   "source": []
  },
  {
   "cell_type": "code",
   "execution_count": 1339,
   "metadata": {},
   "outputs": [
    {
     "data": {
      "text/html": [
       "<div>\n",
       "<style scoped>\n",
       "    .dataframe tbody tr th:only-of-type {\n",
       "        vertical-align: middle;\n",
       "    }\n",
       "\n",
       "    .dataframe tbody tr th {\n",
       "        vertical-align: top;\n",
       "    }\n",
       "\n",
       "    .dataframe thead th {\n",
       "        text-align: right;\n",
       "    }\n",
       "</style>\n",
       "<table border=\"1\" class=\"dataframe\">\n",
       "  <thead>\n",
       "    <tr style=\"text-align: right;\">\n",
       "      <th></th>\n",
       "      <th>Model</th>\n",
       "      <th>CV Accuracy</th>\n",
       "      <th>CV F1</th>\n",
       "    </tr>\n",
       "  </thead>\n",
       "  <tbody>\n",
       "    <tr>\n",
       "      <th>0</th>\n",
       "      <td>KNN</td>\n",
       "      <td>0.496187</td>\n",
       "      <td>0.279136</td>\n",
       "    </tr>\n",
       "    <tr>\n",
       "      <th>1</th>\n",
       "      <td>Logistic Regression</td>\n",
       "      <td>0.449593</td>\n",
       "      <td>0.241354</td>\n",
       "    </tr>\n",
       "    <tr>\n",
       "      <th>2</th>\n",
       "      <td>Multinomial NB</td>\n",
       "      <td>0.411655</td>\n",
       "      <td>0.269081</td>\n",
       "    </tr>\n",
       "    <tr>\n",
       "      <th>3</th>\n",
       "      <td>Random Forest</td>\n",
       "      <td>0.446949</td>\n",
       "      <td>0.298414</td>\n",
       "    </tr>\n",
       "    <tr>\n",
       "      <th>4</th>\n",
       "      <td>SVC</td>\n",
       "      <td>0.501623</td>\n",
       "      <td>0.222703</td>\n",
       "    </tr>\n",
       "  </tbody>\n",
       "</table>\n",
       "</div>"
      ],
      "text/plain": [
       "                 Model  CV Accuracy     CV F1\n",
       "0                  KNN     0.496187  0.279136\n",
       "1  Logistic Regression     0.449593  0.241354\n",
       "2       Multinomial NB     0.411655  0.269081\n",
       "3        Random Forest     0.446949  0.298414\n",
       "4                  SVC     0.501623  0.222703"
      ]
     },
     "execution_count": 1339,
     "metadata": {},
     "output_type": "execute_result"
    }
   ],
   "source": [
    "metrics_df"
   ]
  },
  {
   "cell_type": "code",
   "execution_count": 1342,
   "metadata": {},
   "outputs": [
    {
     "data": {
      "text/html": [
       "<div>\n",
       "<style scoped>\n",
       "    .dataframe tbody tr th:only-of-type {\n",
       "        vertical-align: middle;\n",
       "    }\n",
       "\n",
       "    .dataframe tbody tr th {\n",
       "        vertical-align: top;\n",
       "    }\n",
       "\n",
       "    .dataframe thead th {\n",
       "        text-align: right;\n",
       "    }\n",
       "</style>\n",
       "<table border=\"1\" class=\"dataframe\">\n",
       "  <thead>\n",
       "    <tr style=\"text-align: right;\">\n",
       "      <th></th>\n",
       "      <th>Model</th>\n",
       "      <th>CV Accuracy</th>\n",
       "    </tr>\n",
       "  </thead>\n",
       "  <tbody>\n",
       "    <tr>\n",
       "      <th>4</th>\n",
       "      <td>SVC</td>\n",
       "      <td>0.501623</td>\n",
       "    </tr>\n",
       "    <tr>\n",
       "      <th>0</th>\n",
       "      <td>KNN</td>\n",
       "      <td>0.496187</td>\n",
       "    </tr>\n",
       "    <tr>\n",
       "      <th>1</th>\n",
       "      <td>Logistic Regression</td>\n",
       "      <td>0.449593</td>\n",
       "    </tr>\n",
       "    <tr>\n",
       "      <th>3</th>\n",
       "      <td>Random Forest</td>\n",
       "      <td>0.446949</td>\n",
       "    </tr>\n",
       "    <tr>\n",
       "      <th>2</th>\n",
       "      <td>Multinomial NB</td>\n",
       "      <td>0.411655</td>\n",
       "    </tr>\n",
       "  </tbody>\n",
       "</table>\n",
       "</div>"
      ],
      "text/plain": [
       "                 Model  CV Accuracy\n",
       "4                  SVC     0.501623\n",
       "0                  KNN     0.496187\n",
       "1  Logistic Regression     0.449593\n",
       "3        Random Forest     0.446949\n",
       "2       Multinomial NB     0.411655"
      ]
     },
     "execution_count": 1342,
     "metadata": {},
     "output_type": "execute_result"
    }
   ],
   "source": [
    "metrics_df=pd.DataFrame(model_metrics)\n",
    "metrics_df=metrics_df.reset_index()\n",
    "metrics_df.rename(index=str, columns={\"index\": \"Model\"},inplace=True)\n",
    "metrics_df[['Model','CV Accuracy']].sort_values(by='CV Accuracy',ascending=False)"
   ]
  },
  {
   "cell_type": "code",
   "execution_count": 1343,
   "metadata": {},
   "outputs": [
    {
     "data": {
      "text/html": [
       "<div>\n",
       "<style scoped>\n",
       "    .dataframe tbody tr th:only-of-type {\n",
       "        vertical-align: middle;\n",
       "    }\n",
       "\n",
       "    .dataframe tbody tr th {\n",
       "        vertical-align: top;\n",
       "    }\n",
       "\n",
       "    .dataframe thead th {\n",
       "        text-align: right;\n",
       "    }\n",
       "</style>\n",
       "<table border=\"1\" class=\"dataframe\">\n",
       "  <thead>\n",
       "    <tr style=\"text-align: right;\">\n",
       "      <th></th>\n",
       "      <th>Model</th>\n",
       "      <th>CV F1</th>\n",
       "    </tr>\n",
       "  </thead>\n",
       "  <tbody>\n",
       "    <tr>\n",
       "      <th>3</th>\n",
       "      <td>Random Forest</td>\n",
       "      <td>0.298414</td>\n",
       "    </tr>\n",
       "    <tr>\n",
       "      <th>0</th>\n",
       "      <td>KNN</td>\n",
       "      <td>0.279136</td>\n",
       "    </tr>\n",
       "    <tr>\n",
       "      <th>2</th>\n",
       "      <td>Multinomial NB</td>\n",
       "      <td>0.269081</td>\n",
       "    </tr>\n",
       "    <tr>\n",
       "      <th>1</th>\n",
       "      <td>Logistic Regression</td>\n",
       "      <td>0.241354</td>\n",
       "    </tr>\n",
       "    <tr>\n",
       "      <th>4</th>\n",
       "      <td>SVC</td>\n",
       "      <td>0.222703</td>\n",
       "    </tr>\n",
       "  </tbody>\n",
       "</table>\n",
       "</div>"
      ],
      "text/plain": [
       "                 Model     CV F1\n",
       "3        Random Forest  0.298414\n",
       "0                  KNN  0.279136\n",
       "2       Multinomial NB  0.269081\n",
       "1  Logistic Regression  0.241354\n",
       "4                  SVC  0.222703"
      ]
     },
     "execution_count": 1343,
     "metadata": {},
     "output_type": "execute_result"
    }
   ],
   "source": [
    "metrics_df[['Model','CV F1']].sort_values(by='CV F1',ascending=False)"
   ]
  },
  {
   "cell_type": "code",
   "execution_count": 1344,
   "metadata": {
    "scrolled": true
   },
   "outputs": [
    {
     "name": "stdout",
     "output_type": "stream",
     "text": [
      "NB Accuracy: 0.431\n",
      "NB CV Score 0.412300266606\n",
      "             precision    recall  f1-score   support\n",
      "\n",
      "      1-Low       0.17      0.16      0.17        69\n",
      "      2-Med       0.48      0.70      0.57       268\n",
      "     3-High       0.41      0.18      0.25       218\n",
      "\n",
      "avg / total       0.41      0.43      0.39       555\n",
      "\n",
      "RF Accuracy: 0.450\n",
      "RF CV Score 0.389147429337\n",
      "             precision    recall  f1-score   support\n",
      "\n",
      "      1-Low       0.21      0.26      0.23        69\n",
      "      2-Med       0.50      0.58      0.54       268\n",
      "     3-High       0.49      0.35      0.41       218\n",
      "\n",
      "avg / total       0.46      0.45      0.45       555\n",
      "\n",
      "SVC Accuracy: 0.483\n",
      "SVC CV Score 0.503246180964\n",
      "             precision    recall  f1-score   support\n",
      "\n",
      "      1-Low       0.00      0.00      0.00        69\n",
      "      2-Med       0.48      1.00      0.65       268\n",
      "     3-High       0.00      0.00      0.00       218\n",
      "\n",
      "avg / total       0.23      0.48      0.31       555\n",
      "\n",
      "KNN Accuracy: 0.467\n"
     ]
    },
    {
     "name": "stderr",
     "output_type": "stream",
     "text": [
      "/Users/laurachen/anaconda3/lib/python3.6/site-packages/sklearn/metrics/classification.py:1135: UndefinedMetricWarning: Precision and F-score are ill-defined and being set to 0.0 in labels with no predicted samples.\n",
      "  'precision', 'predicted', average, warn_for)\n"
     ]
    },
    {
     "name": "stdout",
     "output_type": "stream",
     "text": [
      "KNN CV Score 0.373389623845\n",
      "             precision    recall  f1-score   support\n",
      "\n",
      "      1-Low       0.26      0.20      0.23        69\n",
      "      2-Med       0.49      0.77      0.60       268\n",
      "     3-High       0.49      0.17      0.26       218\n",
      "\n",
      "avg / total       0.46      0.47      0.42       555\n",
      "\n"
     ]
    }
   ],
   "source": [
    "nb = MultinomialNB()\n",
    "nb.fit(X_train, y_train)\n",
    "print(\"NB Accuracy: %.3f\"% accuracy_score(y_test, lr.predict(X_test)))\n",
    "print(\"NB CV Score\",np.mean(cross_val_score(lr, X, y,cv=10)))\n",
    "print(classification_report(y_test, lr.predict(X_test)))\n",
    "\n",
    "rf = RandomForestClassifier()\n",
    "rf.fit(X_train, y_train)\n",
    "y_pred=rf.predict(X_test)\n",
    "print(\"RF Accuracy: %.3f\"% accuracy_score(y_test, rf.predict(X_test)))\n",
    "print(\"RF CV Score\",np.mean(cross_val_score(rf, X, y,cv=10)))\n",
    "print(classification_report(y_test, rf.predict(X_test)))\n",
    "\n",
    "svc = SVC()\n",
    "svc.fit(X_train, y_train)\n",
    "print(\"SVC Accuracy: %.3f\"% accuracy_score(y_test, svc.predict(X_test)))\n",
    "print(\"SVC CV Score\",np.mean(cross_val_score(svc, X, y,cv=10)))\n",
    "print(classification_report(y_test, svc.predict(X_test)))\n",
    "\n",
    "knn = KNeighborsClassifier(n_neighbors = 7,metric='hamming')\n",
    "knn.fit(X_train, y_train)\n",
    "print(\"KNN Accuracy: %.3f\"% accuracy_score(y_test, knn.predict(X_test)))\n",
    "print(\"KNN CV Score\",np.mean(cross_val_score(knn, X, y,cv=10)))\n",
    "print(classification_report(y_test, knn.predict(X_test)))"
   ]
  },
  {
   "cell_type": "markdown",
   "metadata": {},
   "source": [
    "# Section 4: Parameter Tuning <a id='section4'></a>\n",
    "[Back to Top](#top)  \n",
    "Random Forest was observed to be the best model based on the confusion matrix.  "
   ]
  },
  {
   "cell_type": "code",
   "execution_count": 1182,
   "metadata": {},
   "outputs": [
    {
     "data": {
      "text/plain": [
       "(1571, 77)"
      ]
     },
     "execution_count": 1182,
     "metadata": {},
     "output_type": "execute_result"
    }
   ],
   "source": [
    "X_train.shape"
   ]
  },
  {
   "cell_type": "code",
   "execution_count": 1183,
   "metadata": {
    "collapsed": true
   },
   "outputs": [],
   "source": [
    "from sklearn.model_selection import RandomizedSearchCV\n",
    "from scipy.stats import randint\n",
    "param_dist = {\"max_depth\": [int(x) for x in np.linspace(100, 110, num = 11)],\n",
    "              \"n_estimators\": randint(10,30),\n",
    "              \"max_features\": randint(10, 77),\n",
    "              \"min_samples_split\": randint(2, 20),\n",
    "              \"min_samples_leaf\": randint(2, 20),\n",
    "              \"bootstrap\": [True, False],\n",
    "              \"criterion\": [\"gini\", \"entropy\"],\n",
    "              \"class_weight\" : ['balanced',None],\n",
    "              \"random_state\": [42]}\n",
    "param_dist['max_depth'].append(None)"
   ]
  },
  {
   "cell_type": "code",
   "execution_count": 1346,
   "metadata": {
    "scrolled": true
   },
   "outputs": [
    {
     "name": "stdout",
     "output_type": "stream",
     "text": [
      "Fitting 5 folds for each of 150 candidates, totalling 750 fits\n",
      "[CV] bootstrap=True, class_weight=None, criterion=gini, max_depth=110, max_features=70, min_samples_leaf=8, min_samples_split=12, n_estimators=20, random_state=42 \n",
      "[CV] bootstrap=True, class_weight=None, criterion=gini, max_depth=110, max_features=70, min_samples_leaf=8, min_samples_split=12, n_estimators=20, random_state=42 \n",
      "[CV] bootstrap=True, class_weight=None, criterion=gini, max_depth=110, max_features=70, min_samples_leaf=8, min_samples_split=12, n_estimators=20, random_state=42 \n",
      "[CV] bootstrap=True, class_weight=None, criterion=gini, max_depth=110, max_features=70, min_samples_leaf=8, min_samples_split=12, n_estimators=20, random_state=42 \n",
      "[CV]  bootstrap=True, class_weight=None, criterion=gini, max_depth=110, max_features=70, min_samples_leaf=8, min_samples_split=12, n_estimators=20, random_state=42, total=   0.2s\n",
      "[CV]  bootstrap=True, class_weight=None, criterion=gini, max_depth=110, max_features=70, min_samples_leaf=8, min_samples_split=12, n_estimators=20, random_state=42, total=   0.2s\n",
      "[CV] bootstrap=False, class_weight=balanced, criterion=entropy, max_depth=107, max_features=33, min_samples_leaf=4, min_samples_split=3, n_estimators=21, random_state=42 \n",
      "[CV]  bootstrap=True, class_weight=None, criterion=gini, max_depth=110, max_features=70, min_samples_leaf=8, min_samples_split=12, n_estimators=20, random_state=42, total=   0.2s\n",
      "[CV] bootstrap=False, class_weight=balanced, criterion=entropy, max_depth=107, max_features=33, min_samples_leaf=4, min_samples_split=3, n_estimators=21, random_state=42 \n",
      "[CV]  bootstrap=True, class_weight=None, criterion=gini, max_depth=110, max_features=70, min_samples_leaf=8, min_samples_split=12, n_estimators=20, random_state=42, total=   0.2s\n",
      "[CV] bootstrap=True, class_weight=None, criterion=gini, max_depth=110, max_features=70, min_samples_leaf=8, min_samples_split=12, n_estimators=20, random_state=42 \n",
      "[CV] bootstrap=False, class_weight=balanced, criterion=entropy, max_depth=107, max_features=33, min_samples_leaf=4, min_samples_split=3, n_estimators=21, random_state=42 \n",
      "[CV]  bootstrap=True, class_weight=None, criterion=gini, max_depth=110, max_features=70, min_samples_leaf=8, min_samples_split=12, n_estimators=20, random_state=42, total=   0.2s\n",
      "[CV] bootstrap=False, class_weight=balanced, criterion=entropy, max_depth=107, max_features=33, min_samples_leaf=4, min_samples_split=3, n_estimators=21, random_state=42 \n",
      "[CV]  bootstrap=False, class_weight=balanced, criterion=entropy, max_depth=107, max_features=33, min_samples_leaf=4, min_samples_split=3, n_estimators=21, random_state=42, total=   0.2s\n",
      "[CV] bootstrap=False, class_weight=balanced, criterion=entropy, max_depth=107, max_features=33, min_samples_leaf=4, min_samples_split=3, n_estimators=21, random_state=42 \n",
      "[CV]  bootstrap=False, class_weight=balanced, criterion=entropy, max_depth=107, max_features=33, min_samples_leaf=4, min_samples_split=3, n_estimators=21, random_state=42, total=   0.2s\n",
      "[CV]  bootstrap=False, class_weight=balanced, criterion=entropy, max_depth=107, max_features=33, min_samples_leaf=4, min_samples_split=3, n_estimators=21, random_state=42, total=   0.3s\n",
      "[CV] bootstrap=False, class_weight=None, criterion=entropy, max_depth=None, max_features=30, min_samples_leaf=2, min_samples_split=13, n_estimators=21, random_state=42 \n",
      "[CV] bootstrap=False, class_weight=None, criterion=entropy, max_depth=None, max_features=30, min_samples_leaf=2, min_samples_split=13, n_estimators=21, random_state=42 \n",
      "[CV]  bootstrap=False, class_weight=balanced, criterion=entropy, max_depth=107, max_features=33, min_samples_leaf=4, min_samples_split=3, n_estimators=21, random_state=42, total=   0.2s\n",
      "[CV] bootstrap=False, class_weight=None, criterion=entropy, max_depth=None, max_features=30, min_samples_leaf=2, min_samples_split=13, n_estimators=21, random_state=42 \n",
      "[CV]  bootstrap=False, class_weight=balanced, criterion=entropy, max_depth=107, max_features=33, min_samples_leaf=4, min_samples_split=3, n_estimators=21, random_state=42, total=   0.2s\n",
      "[CV] bootstrap=False, class_weight=None, criterion=entropy, max_depth=None, max_features=30, min_samples_leaf=2, min_samples_split=13, n_estimators=21, random_state=42 \n",
      "[CV]  bootstrap=False, class_weight=None, criterion=entropy, max_depth=None, max_features=30, min_samples_leaf=2, min_samples_split=13, n_estimators=21, random_state=42, total=   0.2s\n",
      "[CV] bootstrap=False, class_weight=None, criterion=entropy, max_depth=None, max_features=30, min_samples_leaf=2, min_samples_split=13, n_estimators=21, random_state=42 \n",
      "[CV]  bootstrap=False, class_weight=None, criterion=entropy, max_depth=None, max_features=30, min_samples_leaf=2, min_samples_split=13, n_estimators=21, random_state=42, total=   0.2s\n",
      "[CV] bootstrap=True, class_weight=balanced, criterion=gini, max_depth=110, max_features=51, min_samples_leaf=17, min_samples_split=16, n_estimators=24, random_state=42 \n",
      "[CV]  bootstrap=True, class_weight=balanced, criterion=gini, max_depth=110, max_features=51, min_samples_leaf=17, min_samples_split=16, n_estimators=24, random_state=42, total=   0.1s\n",
      "[CV] bootstrap=True, class_weight=balanced, criterion=gini, max_depth=110, max_features=51, min_samples_leaf=17, min_samples_split=16, n_estimators=24, random_state=42 \n",
      "[CV]  bootstrap=False, class_weight=None, criterion=entropy, max_depth=None, max_features=30, min_samples_leaf=2, min_samples_split=13, n_estimators=21, random_state=42, total=   0.2s\n",
      "[CV] bootstrap=True, class_weight=balanced, criterion=gini, max_depth=110, max_features=51, min_samples_leaf=17, min_samples_split=16, n_estimators=24, random_state=42 \n",
      "[CV]  bootstrap=False, class_weight=None, criterion=entropy, max_depth=None, max_features=30, min_samples_leaf=2, min_samples_split=13, n_estimators=21, random_state=42, total=   0.2s\n",
      "[CV] bootstrap=True, class_weight=balanced, criterion=gini, max_depth=110, max_features=51, min_samples_leaf=17, min_samples_split=16, n_estimators=24, random_state=42 \n",
      "[CV]  bootstrap=False, class_weight=None, criterion=entropy, max_depth=None, max_features=30, min_samples_leaf=2, min_samples_split=13, n_estimators=21, random_state=42, total=   0.2s\n",
      "[CV] bootstrap=True, class_weight=balanced, criterion=gini, max_depth=110, max_features=51, min_samples_leaf=17, min_samples_split=16, n_estimators=24, random_state=42 \n",
      "[CV]  bootstrap=True, class_weight=balanced, criterion=gini, max_depth=110, max_features=51, min_samples_leaf=17, min_samples_split=16, n_estimators=24, random_state=42, total=   0.2s\n",
      "[CV] bootstrap=False, class_weight=balanced, criterion=entropy, max_depth=106, max_features=73, min_samples_leaf=4, min_samples_split=6, n_estimators=28, random_state=42 \n",
      "[CV]  bootstrap=True, class_weight=balanced, criterion=gini, max_depth=110, max_features=51, min_samples_leaf=17, min_samples_split=16, n_estimators=24, random_state=42, total=   0.2s\n",
      "[CV] bootstrap=False, class_weight=balanced, criterion=entropy, max_depth=106, max_features=73, min_samples_leaf=4, min_samples_split=6, n_estimators=28, random_state=42 \n",
      "[CV]  bootstrap=True, class_weight=balanced, criterion=gini, max_depth=110, max_features=51, min_samples_leaf=17, min_samples_split=16, n_estimators=24, random_state=42, total=   0.2s\n",
      "[CV] bootstrap=False, class_weight=balanced, criterion=entropy, max_depth=106, max_features=73, min_samples_leaf=4, min_samples_split=6, n_estimators=28, random_state=42 \n",
      "[CV]  bootstrap=True, class_weight=balanced, criterion=gini, max_depth=110, max_features=51, min_samples_leaf=17, min_samples_split=16, n_estimators=24, random_state=42, total=   0.2s\n",
      "[CV] bootstrap=False, class_weight=balanced, criterion=entropy, max_depth=106, max_features=73, min_samples_leaf=4, min_samples_split=6, n_estimators=28, random_state=42 \n",
      "[CV]  bootstrap=False, class_weight=balanced, criterion=entropy, max_depth=106, max_features=73, min_samples_leaf=4, min_samples_split=6, n_estimators=28, random_state=42, total=   0.3s\n",
      "[CV] bootstrap=False, class_weight=balanced, criterion=entropy, max_depth=106, max_features=73, min_samples_leaf=4, min_samples_split=6, n_estimators=28, random_state=42 \n",
      "[CV]  bootstrap=False, class_weight=balanced, criterion=entropy, max_depth=106, max_features=73, min_samples_leaf=4, min_samples_split=6, n_estimators=28, random_state=42, total=   0.3s\n"
     ]
    },
    {
     "name": "stdout",
     "output_type": "stream",
     "text": [
      "[CV] bootstrap=True, class_weight=balanced, criterion=gini, max_depth=106, max_features=27, min_samples_leaf=5, min_samples_split=15, n_estimators=27, random_state=42 \n",
      "[CV]  bootstrap=False, class_weight=balanced, criterion=entropy, max_depth=106, max_features=73, min_samples_leaf=4, min_samples_split=6, n_estimators=28, random_state=42, total=   0.3s\n",
      "[CV] bootstrap=True, class_weight=balanced, criterion=gini, max_depth=106, max_features=27, min_samples_leaf=5, min_samples_split=15, n_estimators=27, random_state=42 \n",
      "[CV]  bootstrap=False, class_weight=balanced, criterion=entropy, max_depth=106, max_features=73, min_samples_leaf=4, min_samples_split=6, n_estimators=28, random_state=42, total=   0.4s\n",
      "[CV] bootstrap=True, class_weight=balanced, criterion=gini, max_depth=106, max_features=27, min_samples_leaf=5, min_samples_split=15, n_estimators=27, random_state=42 \n",
      "[CV]  bootstrap=True, class_weight=balanced, criterion=gini, max_depth=106, max_features=27, min_samples_leaf=5, min_samples_split=15, n_estimators=27, random_state=42, total=   0.2s\n",
      "[CV] bootstrap=True, class_weight=balanced, criterion=gini, max_depth=106, max_features=27, min_samples_leaf=5, min_samples_split=15, n_estimators=27, random_state=42 \n",
      "[CV]  bootstrap=True, class_weight=balanced, criterion=gini, max_depth=106, max_features=27, min_samples_leaf=5, min_samples_split=15, n_estimators=27, random_state=42, total=   0.2s\n",
      "[CV] bootstrap=True, class_weight=balanced, criterion=gini, max_depth=106, max_features=27, min_samples_leaf=5, min_samples_split=15, n_estimators=27, random_state=42 \n",
      "[CV]  bootstrap=True, class_weight=balanced, criterion=gini, max_depth=106, max_features=27, min_samples_leaf=5, min_samples_split=15, n_estimators=27, random_state=42, total=   0.2s\n",
      "[CV] bootstrap=False, class_weight=balanced, criterion=entropy, max_depth=104, max_features=11, min_samples_leaf=16, min_samples_split=8, n_estimators=21, random_state=42 \n",
      "[CV]  bootstrap=False, class_weight=balanced, criterion=entropy, max_depth=104, max_features=11, min_samples_leaf=16, min_samples_split=8, n_estimators=21, random_state=42, total=   0.1s\n",
      "[CV] bootstrap=False, class_weight=balanced, criterion=entropy, max_depth=104, max_features=11, min_samples_leaf=16, min_samples_split=8, n_estimators=21, random_state=42 \n",
      "[CV]  bootstrap=True, class_weight=balanced, criterion=gini, max_depth=106, max_features=27, min_samples_leaf=5, min_samples_split=15, n_estimators=27, random_state=42, total=   0.2s\n",
      "[CV] bootstrap=False, class_weight=balanced, criterion=entropy, max_depth=104, max_features=11, min_samples_leaf=16, min_samples_split=8, n_estimators=21, random_state=42 \n",
      "[CV]  bootstrap=False, class_weight=balanced, criterion=entropy, max_depth=106, max_features=73, min_samples_leaf=4, min_samples_split=6, n_estimators=28, random_state=42, total=   0.5s\n",
      "[CV] bootstrap=False, class_weight=balanced, criterion=entropy, max_depth=104, max_features=11, min_samples_leaf=16, min_samples_split=8, n_estimators=21, random_state=42 \n",
      "[CV]  bootstrap=True, class_weight=balanced, criterion=gini, max_depth=106, max_features=27, min_samples_leaf=5, min_samples_split=15, n_estimators=27, random_state=42, total=   0.2s\n",
      "[CV] bootstrap=False, class_weight=balanced, criterion=entropy, max_depth=104, max_features=11, min_samples_leaf=16, min_samples_split=8, n_estimators=21, random_state=42 \n",
      "[CV]  bootstrap=False, class_weight=balanced, criterion=entropy, max_depth=104, max_features=11, min_samples_leaf=16, min_samples_split=8, n_estimators=21, random_state=42, total=   0.1s\n",
      "[CV] bootstrap=True, class_weight=None, criterion=gini, max_depth=102, max_features=45, min_samples_leaf=19, min_samples_split=9, n_estimators=13, random_state=42 \n",
      "[CV]  bootstrap=False, class_weight=balanced, criterion=entropy, max_depth=104, max_features=11, min_samples_leaf=16, min_samples_split=8, n_estimators=21, random_state=42, total=   0.1s\n",
      "[CV]  bootstrap=False, class_weight=balanced, criterion=entropy, max_depth=104, max_features=11, min_samples_leaf=16, min_samples_split=8, n_estimators=21, random_state=42, total=   0.1s\n",
      "[CV] bootstrap=True, class_weight=None, criterion=gini, max_depth=102, max_features=45, min_samples_leaf=19, min_samples_split=9, n_estimators=13, random_state=42 \n",
      "[CV]  bootstrap=False, class_weight=balanced, criterion=entropy, max_depth=104, max_features=11, min_samples_leaf=16, min_samples_split=8, n_estimators=21, random_state=42, total=   0.1s\n",
      "[CV] bootstrap=True, class_weight=None, criterion=gini, max_depth=102, max_features=45, min_samples_leaf=19, min_samples_split=9, n_estimators=13, random_state=42 \n",
      "[CV] bootstrap=True, class_weight=None, criterion=gini, max_depth=102, max_features=45, min_samples_leaf=19, min_samples_split=9, n_estimators=13, random_state=42 \n",
      "[CV]  bootstrap=True, class_weight=None, criterion=gini, max_depth=102, max_features=45, min_samples_leaf=19, min_samples_split=9, n_estimators=13, random_state=42, total=   0.1s\n",
      "[CV] bootstrap=True, class_weight=None, criterion=gini, max_depth=102, max_features=45, min_samples_leaf=19, min_samples_split=9, n_estimators=13, random_state=42 \n",
      "[CV]  bootstrap=True, class_weight=None, criterion=gini, max_depth=102, max_features=45, min_samples_leaf=19, min_samples_split=9, n_estimators=13, random_state=42, total=   0.1s\n",
      "[CV] bootstrap=False, class_weight=None, criterion=entropy, max_depth=105, max_features=13, min_samples_leaf=19, min_samples_split=13, n_estimators=11, random_state=42 \n",
      "[CV]  bootstrap=True, class_weight=None, criterion=gini, max_depth=102, max_features=45, min_samples_leaf=19, min_samples_split=9, n_estimators=13, random_state=42, total=   0.1s\n",
      "[CV] bootstrap=False, class_weight=None, criterion=entropy, max_depth=105, max_features=13, min_samples_leaf=19, min_samples_split=13, n_estimators=11, random_state=42 \n",
      "[CV]  bootstrap=True, class_weight=None, criterion=gini, max_depth=102, max_features=45, min_samples_leaf=19, min_samples_split=9, n_estimators=13, random_state=42, total=   0.1s\n",
      "[CV] bootstrap=False, class_weight=None, criterion=entropy, max_depth=105, max_features=13, min_samples_leaf=19, min_samples_split=13, n_estimators=11, random_state=42 \n",
      "[CV]  bootstrap=True, class_weight=None, criterion=gini, max_depth=102, max_features=45, min_samples_leaf=19, min_samples_split=9, n_estimators=13, random_state=42, total=   0.1s\n",
      "[CV] bootstrap=False, class_weight=None, criterion=entropy, max_depth=105, max_features=13, min_samples_leaf=19, min_samples_split=13, n_estimators=11, random_state=42 \n"
     ]
    },
    {
     "name": "stderr",
     "output_type": "stream",
     "text": [
      "[Parallel(n_jobs=-1)]: Done  33 tasks      | elapsed:    2.2s\n"
     ]
    },
    {
     "name": "stdout",
     "output_type": "stream",
     "text": [
      "[CV]  bootstrap=False, class_weight=None, criterion=entropy, max_depth=105, max_features=13, min_samples_leaf=19, min_samples_split=13, n_estimators=11, random_state=42, total=   0.1s\n",
      "[CV]  bootstrap=False, class_weight=None, criterion=entropy, max_depth=105, max_features=13, min_samples_leaf=19, min_samples_split=13, n_estimators=11, random_state=42, total=   0.1s\n",
      "[CV] bootstrap=False, class_weight=None, criterion=entropy, max_depth=105, max_features=13, min_samples_leaf=19, min_samples_split=13, n_estimators=11, random_state=42 \n",
      "[CV] bootstrap=False, class_weight=None, criterion=entropy, max_depth=107, max_features=71, min_samples_leaf=9, min_samples_split=17, n_estimators=22, random_state=42 \n",
      "[CV]  bootstrap=False, class_weight=None, criterion=entropy, max_depth=105, max_features=13, min_samples_leaf=19, min_samples_split=13, n_estimators=11, random_state=42, total=   0.1s\n",
      "[CV] bootstrap=False, class_weight=None, criterion=entropy, max_depth=107, max_features=71, min_samples_leaf=9, min_samples_split=17, n_estimators=22, random_state=42 \n",
      "[CV]  bootstrap=False, class_weight=None, criterion=entropy, max_depth=105, max_features=13, min_samples_leaf=19, min_samples_split=13, n_estimators=11, random_state=42, total=   0.1s\n",
      "[CV] bootstrap=False, class_weight=None, criterion=entropy, max_depth=107, max_features=71, min_samples_leaf=9, min_samples_split=17, n_estimators=22, random_state=42 \n",
      "[CV]  bootstrap=False, class_weight=None, criterion=entropy, max_depth=105, max_features=13, min_samples_leaf=19, min_samples_split=13, n_estimators=11, random_state=42, total=   0.1s\n",
      "[CV] bootstrap=False, class_weight=None, criterion=entropy, max_depth=107, max_features=71, min_samples_leaf=9, min_samples_split=17, n_estimators=22, random_state=42 \n",
      "[CV]  bootstrap=False, class_weight=None, criterion=entropy, max_depth=107, max_features=71, min_samples_leaf=9, min_samples_split=17, n_estimators=22, random_state=42, total=   0.2s\n",
      "[CV] bootstrap=False, class_weight=None, criterion=entropy, max_depth=107, max_features=71, min_samples_leaf=9, min_samples_split=17, n_estimators=22, random_state=42 \n",
      "[CV]  bootstrap=False, class_weight=None, criterion=entropy, max_depth=107, max_features=71, min_samples_leaf=9, min_samples_split=17, n_estimators=22, random_state=42, total=   0.3s\n",
      "[CV] bootstrap=False, class_weight=balanced, criterion=gini, max_depth=107, max_features=35, min_samples_leaf=14, min_samples_split=10, n_estimators=24, random_state=42 \n",
      "[CV]  bootstrap=False, class_weight=None, criterion=entropy, max_depth=107, max_features=71, min_samples_leaf=9, min_samples_split=17, n_estimators=22, random_state=42, total=   0.2s\n",
      "[CV] bootstrap=False, class_weight=balanced, criterion=gini, max_depth=107, max_features=35, min_samples_leaf=14, min_samples_split=10, n_estimators=24, random_state=42 \n",
      "[CV]  bootstrap=False, class_weight=None, criterion=entropy, max_depth=107, max_features=71, min_samples_leaf=9, min_samples_split=17, n_estimators=22, random_state=42, total=   0.3s\n",
      "[CV] bootstrap=False, class_weight=balanced, criterion=gini, max_depth=107, max_features=35, min_samples_leaf=14, min_samples_split=10, n_estimators=24, random_state=42 \n",
      "[CV]  bootstrap=False, class_weight=balanced, criterion=gini, max_depth=107, max_features=35, min_samples_leaf=14, min_samples_split=10, n_estimators=24, random_state=42, total=   0.2s\n",
      "[CV] bootstrap=False, class_weight=balanced, criterion=gini, max_depth=107, max_features=35, min_samples_leaf=14, min_samples_split=10, n_estimators=24, random_state=42 \n",
      "[CV]  bootstrap=False, class_weight=balanced, criterion=gini, max_depth=107, max_features=35, min_samples_leaf=14, min_samples_split=10, n_estimators=24, random_state=42, total=   0.2s\n",
      "[CV] bootstrap=False, class_weight=balanced, criterion=gini, max_depth=107, max_features=35, min_samples_leaf=14, min_samples_split=10, n_estimators=24, random_state=42 \n",
      "[CV]  bootstrap=False, class_weight=None, criterion=entropy, max_depth=107, max_features=71, min_samples_leaf=9, min_samples_split=17, n_estimators=22, random_state=42, total=   0.3s\n",
      "[CV] bootstrap=True, class_weight=balanced, criterion=gini, max_depth=106, max_features=18, min_samples_leaf=2, min_samples_split=13, n_estimators=17, random_state=42 \n",
      "[CV]  bootstrap=False, class_weight=balanced, criterion=gini, max_depth=107, max_features=35, min_samples_leaf=14, min_samples_split=10, n_estimators=24, random_state=42, total=   0.2s\n",
      "[CV] bootstrap=True, class_weight=balanced, criterion=gini, max_depth=106, max_features=18, min_samples_leaf=2, min_samples_split=13, n_estimators=17, random_state=42 \n",
      "[CV]  bootstrap=True, class_weight=balanced, criterion=gini, max_depth=106, max_features=18, min_samples_leaf=2, min_samples_split=13, n_estimators=17, random_state=42, total=   0.1s\n",
      "[CV] bootstrap=True, class_weight=balanced, criterion=gini, max_depth=106, max_features=18, min_samples_leaf=2, min_samples_split=13, n_estimators=17, random_state=42 \n",
      "[CV]  bootstrap=False, class_weight=balanced, criterion=gini, max_depth=107, max_features=35, min_samples_leaf=14, min_samples_split=10, n_estimators=24, random_state=42, total=   0.2s\n",
      "[CV]  bootstrap=True, class_weight=balanced, criterion=gini, max_depth=106, max_features=18, min_samples_leaf=2, min_samples_split=13, n_estimators=17, random_state=42, total=   0.1s\n",
      "[CV] bootstrap=True, class_weight=balanced, criterion=gini, max_depth=106, max_features=18, min_samples_leaf=2, min_samples_split=13, n_estimators=17, random_state=42 \n",
      "[CV] bootstrap=True, class_weight=balanced, criterion=gini, max_depth=106, max_features=18, min_samples_leaf=2, min_samples_split=13, n_estimators=17, random_state=42 \n",
      "[CV]  bootstrap=False, class_weight=balanced, criterion=gini, max_depth=107, max_features=35, min_samples_leaf=14, min_samples_split=10, n_estimators=24, random_state=42, total=   0.2s\n",
      "[CV] bootstrap=False, class_weight=balanced, criterion=gini, max_depth=102, max_features=17, min_samples_leaf=4, min_samples_split=4, n_estimators=10, random_state=42 \n",
      "[CV]  bootstrap=True, class_weight=balanced, criterion=gini, max_depth=106, max_features=18, min_samples_leaf=2, min_samples_split=13, n_estimators=17, random_state=42, total=   0.1s\n",
      "[CV] bootstrap=False, class_weight=balanced, criterion=gini, max_depth=102, max_features=17, min_samples_leaf=4, min_samples_split=4, n_estimators=10, random_state=42 \n",
      "[CV]  bootstrap=True, class_weight=balanced, criterion=gini, max_depth=106, max_features=18, min_samples_leaf=2, min_samples_split=13, n_estimators=17, random_state=42, total=   0.1s\n",
      "[CV] bootstrap=False, class_weight=balanced, criterion=gini, max_depth=102, max_features=17, min_samples_leaf=4, min_samples_split=4, n_estimators=10, random_state=42 \n",
      "[CV]  bootstrap=False, class_weight=balanced, criterion=gini, max_depth=102, max_features=17, min_samples_leaf=4, min_samples_split=4, n_estimators=10, random_state=42, total=   0.1s\n",
      "[CV] bootstrap=False, class_weight=balanced, criterion=gini, max_depth=102, max_features=17, min_samples_leaf=4, min_samples_split=4, n_estimators=10, random_state=42 \n",
      "[CV]  bootstrap=True, class_weight=balanced, criterion=gini, max_depth=106, max_features=18, min_samples_leaf=2, min_samples_split=13, n_estimators=17, random_state=42, total=   0.1s\n",
      "[CV] bootstrap=False, class_weight=balanced, criterion=gini, max_depth=102, max_features=17, min_samples_leaf=4, min_samples_split=4, n_estimators=10, random_state=42 \n",
      "[CV]  bootstrap=False, class_weight=balanced, criterion=gini, max_depth=102, max_features=17, min_samples_leaf=4, min_samples_split=4, n_estimators=10, random_state=42, total=   0.1s\n",
      "[CV] bootstrap=True, class_weight=balanced, criterion=entropy, max_depth=106, max_features=50, min_samples_leaf=8, min_samples_split=10, n_estimators=17, random_state=42 \n",
      "[CV]  bootstrap=False, class_weight=balanced, criterion=gini, max_depth=102, max_features=17, min_samples_leaf=4, min_samples_split=4, n_estimators=10, random_state=42, total=   0.1s\n",
      "[CV] bootstrap=True, class_weight=balanced, criterion=entropy, max_depth=106, max_features=50, min_samples_leaf=8, min_samples_split=10, n_estimators=17, random_state=42 \n",
      "[CV]  bootstrap=False, class_weight=balanced, criterion=gini, max_depth=102, max_features=17, min_samples_leaf=4, min_samples_split=4, n_estimators=10, random_state=42, total=   0.1s\n"
     ]
    },
    {
     "name": "stdout",
     "output_type": "stream",
     "text": [
      "[CV]  bootstrap=False, class_weight=balanced, criterion=gini, max_depth=102, max_features=17, min_samples_leaf=4, min_samples_split=4, n_estimators=10, random_state=42, total=   0.1s\n",
      "[CV] bootstrap=True, class_weight=balanced, criterion=entropy, max_depth=106, max_features=50, min_samples_leaf=8, min_samples_split=10, n_estimators=17, random_state=42 \n",
      "[CV] bootstrap=True, class_weight=balanced, criterion=entropy, max_depth=106, max_features=50, min_samples_leaf=8, min_samples_split=10, n_estimators=17, random_state=42 \n",
      "[CV]  bootstrap=True, class_weight=balanced, criterion=entropy, max_depth=106, max_features=50, min_samples_leaf=8, min_samples_split=10, n_estimators=17, random_state=42, total=   0.1s\n",
      "[CV] bootstrap=True, class_weight=balanced, criterion=entropy, max_depth=106, max_features=50, min_samples_leaf=8, min_samples_split=10, n_estimators=17, random_state=42 \n",
      "[CV]  bootstrap=True, class_weight=balanced, criterion=entropy, max_depth=106, max_features=50, min_samples_leaf=8, min_samples_split=10, n_estimators=17, random_state=42, total=   0.1s\n",
      "[CV]  bootstrap=True, class_weight=balanced, criterion=entropy, max_depth=106, max_features=50, min_samples_leaf=8, min_samples_split=10, n_estimators=17, random_state=42, total=   0.1s\n",
      "[CV] bootstrap=False, class_weight=None, criterion=gini, max_depth=106, max_features=32, min_samples_leaf=6, min_samples_split=4, n_estimators=21, random_state=42 \n",
      "[CV]  bootstrap=True, class_weight=balanced, criterion=entropy, max_depth=106, max_features=50, min_samples_leaf=8, min_samples_split=10, n_estimators=17, random_state=42, total=   0.1s\n",
      "[CV] bootstrap=False, class_weight=None, criterion=gini, max_depth=106, max_features=32, min_samples_leaf=6, min_samples_split=4, n_estimators=21, random_state=42 \n",
      "[CV] bootstrap=False, class_weight=None, criterion=gini, max_depth=106, max_features=32, min_samples_leaf=6, min_samples_split=4, n_estimators=21, random_state=42 \n",
      "[CV]  bootstrap=True, class_weight=balanced, criterion=entropy, max_depth=106, max_features=50, min_samples_leaf=8, min_samples_split=10, n_estimators=17, random_state=42, total=   0.1s\n",
      "[CV] bootstrap=False, class_weight=None, criterion=gini, max_depth=106, max_features=32, min_samples_leaf=6, min_samples_split=4, n_estimators=21, random_state=42 \n",
      "[CV]  bootstrap=False, class_weight=None, criterion=gini, max_depth=106, max_features=32, min_samples_leaf=6, min_samples_split=4, n_estimators=21, random_state=42, total=   0.2s\n",
      "[CV]  bootstrap=False, class_weight=None, criterion=gini, max_depth=106, max_features=32, min_samples_leaf=6, min_samples_split=4, n_estimators=21, random_state=42, total=   0.2s\n",
      "[CV] bootstrap=False, class_weight=None, criterion=gini, max_depth=106, max_features=32, min_samples_leaf=6, min_samples_split=4, n_estimators=21, random_state=42 \n",
      "[CV] bootstrap=False, class_weight=None, criterion=gini, max_depth=102, max_features=74, min_samples_leaf=4, min_samples_split=6, n_estimators=24, random_state=42 \n",
      "[CV]  bootstrap=False, class_weight=None, criterion=gini, max_depth=106, max_features=32, min_samples_leaf=6, min_samples_split=4, n_estimators=21, random_state=42, total=   0.2s\n",
      "[CV] bootstrap=False, class_weight=None, criterion=gini, max_depth=102, max_features=74, min_samples_leaf=4, min_samples_split=6, n_estimators=24, random_state=42 \n",
      "[CV]  bootstrap=False, class_weight=None, criterion=gini, max_depth=106, max_features=32, min_samples_leaf=6, min_samples_split=4, n_estimators=21, random_state=42, total=   0.2s\n",
      "[CV] bootstrap=False, class_weight=None, criterion=gini, max_depth=102, max_features=74, min_samples_leaf=4, min_samples_split=6, n_estimators=24, random_state=42 \n",
      "[CV]  bootstrap=False, class_weight=None, criterion=gini, max_depth=106, max_features=32, min_samples_leaf=6, min_samples_split=4, n_estimators=21, random_state=42, total=   0.2s\n",
      "[CV] bootstrap=False, class_weight=None, criterion=gini, max_depth=102, max_features=74, min_samples_leaf=4, min_samples_split=6, n_estimators=24, random_state=42 \n",
      "[CV]  bootstrap=False, class_weight=None, criterion=gini, max_depth=102, max_features=74, min_samples_leaf=4, min_samples_split=6, n_estimators=24, random_state=42, total=   0.3s\n",
      "[CV] bootstrap=False, class_weight=None, criterion=gini, max_depth=102, max_features=74, min_samples_leaf=4, min_samples_split=6, n_estimators=24, random_state=42 \n",
      "[CV]  bootstrap=False, class_weight=None, criterion=gini, max_depth=102, max_features=74, min_samples_leaf=4, min_samples_split=6, n_estimators=24, random_state=42, total=   0.3s\n",
      "[CV] bootstrap=False, class_weight=balanced, criterion=gini, max_depth=104, max_features=23, min_samples_leaf=8, min_samples_split=10, n_estimators=24, random_state=42 \n",
      "[CV]  bootstrap=False, class_weight=None, criterion=gini, max_depth=102, max_features=74, min_samples_leaf=4, min_samples_split=6, n_estimators=24, random_state=42, total=   0.3s\n",
      "[CV] bootstrap=False, class_weight=balanced, criterion=gini, max_depth=104, max_features=23, min_samples_leaf=8, min_samples_split=10, n_estimators=24, random_state=42 \n",
      "[CV]  bootstrap=False, class_weight=balanced, criterion=gini, max_depth=104, max_features=23, min_samples_leaf=8, min_samples_split=10, n_estimators=24, random_state=42, total=   0.2s\n",
      "[CV] bootstrap=False, class_weight=balanced, criterion=gini, max_depth=104, max_features=23, min_samples_leaf=8, min_samples_split=10, n_estimators=24, random_state=42 \n",
      "[CV]  bootstrap=False, class_weight=None, criterion=gini, max_depth=102, max_features=74, min_samples_leaf=4, min_samples_split=6, n_estimators=24, random_state=42, total=   0.3s\n",
      "[CV] bootstrap=False, class_weight=balanced, criterion=gini, max_depth=104, max_features=23, min_samples_leaf=8, min_samples_split=10, n_estimators=24, random_state=42 \n",
      "[CV]  bootstrap=False, class_weight=balanced, criterion=gini, max_depth=104, max_features=23, min_samples_leaf=8, min_samples_split=10, n_estimators=24, random_state=42, total=   0.2s\n",
      "[CV] bootstrap=False, class_weight=balanced, criterion=gini, max_depth=104, max_features=23, min_samples_leaf=8, min_samples_split=10, n_estimators=24, random_state=42 \n",
      "[CV]  bootstrap=False, class_weight=None, criterion=gini, max_depth=102, max_features=74, min_samples_leaf=4, min_samples_split=6, n_estimators=24, random_state=42, total=   0.3s\n",
      "[CV] bootstrap=True, class_weight=None, criterion=entropy, max_depth=None, max_features=60, min_samples_leaf=8, min_samples_split=18, n_estimators=29, random_state=42 \n",
      "[CV]  bootstrap=False, class_weight=balanced, criterion=gini, max_depth=104, max_features=23, min_samples_leaf=8, min_samples_split=10, n_estimators=24, random_state=42, total=   0.2s\n",
      "[CV] bootstrap=True, class_weight=None, criterion=entropy, max_depth=None, max_features=60, min_samples_leaf=8, min_samples_split=18, n_estimators=29, random_state=42 \n",
      "[CV]  bootstrap=False, class_weight=balanced, criterion=gini, max_depth=104, max_features=23, min_samples_leaf=8, min_samples_split=10, n_estimators=24, random_state=42, total=   0.2s\n",
      "[CV] bootstrap=True, class_weight=None, criterion=entropy, max_depth=None, max_features=60, min_samples_leaf=8, min_samples_split=18, n_estimators=29, random_state=42 \n",
      "[CV]  bootstrap=False, class_weight=balanced, criterion=gini, max_depth=104, max_features=23, min_samples_leaf=8, min_samples_split=10, n_estimators=24, random_state=42, total=   0.2s\n",
      "[CV] bootstrap=True, class_weight=None, criterion=entropy, max_depth=None, max_features=60, min_samples_leaf=8, min_samples_split=18, n_estimators=29, random_state=42 \n",
      "[CV]  bootstrap=True, class_weight=None, criterion=entropy, max_depth=None, max_features=60, min_samples_leaf=8, min_samples_split=18, n_estimators=29, random_state=42, total=   0.2s\n",
      "[CV] bootstrap=True, class_weight=None, criterion=entropy, max_depth=None, max_features=60, min_samples_leaf=8, min_samples_split=18, n_estimators=29, random_state=42 \n",
      "[CV]  bootstrap=True, class_weight=None, criterion=entropy, max_depth=None, max_features=60, min_samples_leaf=8, min_samples_split=18, n_estimators=29, random_state=42, total=   0.2s\n",
      "[CV] bootstrap=True, class_weight=None, criterion=entropy, max_depth=104, max_features=32, min_samples_leaf=8, min_samples_split=14, n_estimators=24, random_state=42 \n"
     ]
    },
    {
     "name": "stdout",
     "output_type": "stream",
     "text": [
      "[CV]  bootstrap=True, class_weight=None, criterion=entropy, max_depth=None, max_features=60, min_samples_leaf=8, min_samples_split=18, n_estimators=29, random_state=42, total=   0.2s\n",
      "[CV] bootstrap=True, class_weight=None, criterion=entropy, max_depth=104, max_features=32, min_samples_leaf=8, min_samples_split=14, n_estimators=24, random_state=42 \n",
      "[CV]  bootstrap=True, class_weight=None, criterion=entropy, max_depth=None, max_features=60, min_samples_leaf=8, min_samples_split=18, n_estimators=29, random_state=42, total=   0.2s\n",
      "[CV] bootstrap=True, class_weight=None, criterion=entropy, max_depth=104, max_features=32, min_samples_leaf=8, min_samples_split=14, n_estimators=24, random_state=42 \n",
      "[CV]  bootstrap=True, class_weight=None, criterion=entropy, max_depth=104, max_features=32, min_samples_leaf=8, min_samples_split=14, n_estimators=24, random_state=42, total=   0.2s\n",
      "[CV] bootstrap=True, class_weight=None, criterion=entropy, max_depth=104, max_features=32, min_samples_leaf=8, min_samples_split=14, n_estimators=24, random_state=42 \n",
      "[CV]  bootstrap=True, class_weight=None, criterion=entropy, max_depth=None, max_features=60, min_samples_leaf=8, min_samples_split=18, n_estimators=29, random_state=42, total=   0.2s\n",
      "[CV] bootstrap=True, class_weight=None, criterion=entropy, max_depth=104, max_features=32, min_samples_leaf=8, min_samples_split=14, n_estimators=24, random_state=42 \n",
      "[CV]  bootstrap=True, class_weight=None, criterion=entropy, max_depth=104, max_features=32, min_samples_leaf=8, min_samples_split=14, n_estimators=24, random_state=42, total=   0.2s\n",
      "[CV] bootstrap=True, class_weight=balanced, criterion=entropy, max_depth=106, max_features=68, min_samples_leaf=3, min_samples_split=11, n_estimators=22, random_state=42 \n",
      "[CV]  bootstrap=True, class_weight=None, criterion=entropy, max_depth=104, max_features=32, min_samples_leaf=8, min_samples_split=14, n_estimators=24, random_state=42, total=   0.2s\n",
      "[CV] bootstrap=True, class_weight=balanced, criterion=entropy, max_depth=106, max_features=68, min_samples_leaf=3, min_samples_split=11, n_estimators=22, random_state=42 \n",
      "[CV]  bootstrap=True, class_weight=None, criterion=entropy, max_depth=104, max_features=32, min_samples_leaf=8, min_samples_split=14, n_estimators=24, random_state=42, total=   0.2s\n",
      "[CV] bootstrap=True, class_weight=balanced, criterion=entropy, max_depth=106, max_features=68, min_samples_leaf=3, min_samples_split=11, n_estimators=22, random_state=42 \n",
      "[CV]  bootstrap=True, class_weight=None, criterion=entropy, max_depth=104, max_features=32, min_samples_leaf=8, min_samples_split=14, n_estimators=24, random_state=42, total=   0.2s\n",
      "[CV] bootstrap=True, class_weight=balanced, criterion=entropy, max_depth=106, max_features=68, min_samples_leaf=3, min_samples_split=11, n_estimators=22, random_state=42 \n",
      "[CV]  bootstrap=True, class_weight=balanced, criterion=entropy, max_depth=106, max_features=68, min_samples_leaf=3, min_samples_split=11, n_estimators=22, random_state=42, total=   0.2s\n",
      "[CV] bootstrap=True, class_weight=balanced, criterion=entropy, max_depth=106, max_features=68, min_samples_leaf=3, min_samples_split=11, n_estimators=22, random_state=42 \n",
      "[CV]  bootstrap=True, class_weight=balanced, criterion=entropy, max_depth=106, max_features=68, min_samples_leaf=3, min_samples_split=11, n_estimators=22, random_state=42, total=   0.2s\n",
      "[CV] bootstrap=False, class_weight=balanced, criterion=gini, max_depth=105, max_features=37, min_samples_leaf=13, min_samples_split=13, n_estimators=29, random_state=42 \n",
      "[CV]  bootstrap=True, class_weight=balanced, criterion=entropy, max_depth=106, max_features=68, min_samples_leaf=3, min_samples_split=11, n_estimators=22, random_state=42, total=   0.2s\n",
      "[CV] bootstrap=False, class_weight=balanced, criterion=gini, max_depth=105, max_features=37, min_samples_leaf=13, min_samples_split=13, n_estimators=29, random_state=42 \n",
      "[CV]  bootstrap=True, class_weight=balanced, criterion=entropy, max_depth=106, max_features=68, min_samples_leaf=3, min_samples_split=11, n_estimators=22, random_state=42, total=   0.2s\n",
      "[CV] bootstrap=False, class_weight=balanced, criterion=gini, max_depth=105, max_features=37, min_samples_leaf=13, min_samples_split=13, n_estimators=29, random_state=42 \n",
      "[CV]  bootstrap=True, class_weight=balanced, criterion=entropy, max_depth=106, max_features=68, min_samples_leaf=3, min_samples_split=11, n_estimators=22, random_state=42, total=   0.2s\n",
      "[CV] bootstrap=False, class_weight=balanced, criterion=gini, max_depth=105, max_features=37, min_samples_leaf=13, min_samples_split=13, n_estimators=29, random_state=42 \n",
      "[CV]  bootstrap=False, class_weight=balanced, criterion=gini, max_depth=105, max_features=37, min_samples_leaf=13, min_samples_split=13, n_estimators=29, random_state=42, total=   0.2s\n",
      "[CV] bootstrap=False, class_weight=balanced, criterion=gini, max_depth=105, max_features=37, min_samples_leaf=13, min_samples_split=13, n_estimators=29, random_state=42 \n",
      "[CV]  bootstrap=False, class_weight=balanced, criterion=gini, max_depth=105, max_features=37, min_samples_leaf=13, min_samples_split=13, n_estimators=29, random_state=42, total=   0.2s\n",
      "[CV] bootstrap=False, class_weight=None, criterion=gini, max_depth=109, max_features=71, min_samples_leaf=2, min_samples_split=2, n_estimators=29, random_state=42 \n",
      "[CV]  bootstrap=False, class_weight=balanced, criterion=gini, max_depth=105, max_features=37, min_samples_leaf=13, min_samples_split=13, n_estimators=29, random_state=42, total=   0.2s\n",
      "[CV] bootstrap=False, class_weight=None, criterion=gini, max_depth=109, max_features=71, min_samples_leaf=2, min_samples_split=2, n_estimators=29, random_state=42 \n",
      "[CV]  bootstrap=False, class_weight=balanced, criterion=gini, max_depth=105, max_features=37, min_samples_leaf=13, min_samples_split=13, n_estimators=29, random_state=42, total=   0.3s\n",
      "[CV] bootstrap=False, class_weight=None, criterion=gini, max_depth=109, max_features=71, min_samples_leaf=2, min_samples_split=2, n_estimators=29, random_state=42 \n",
      "[CV]  bootstrap=False, class_weight=balanced, criterion=gini, max_depth=105, max_features=37, min_samples_leaf=13, min_samples_split=13, n_estimators=29, random_state=42, total=   0.2s\n",
      "[CV] bootstrap=False, class_weight=None, criterion=gini, max_depth=109, max_features=71, min_samples_leaf=2, min_samples_split=2, n_estimators=29, random_state=42 \n",
      "[CV]  bootstrap=False, class_weight=None, criterion=gini, max_depth=109, max_features=71, min_samples_leaf=2, min_samples_split=2, n_estimators=29, random_state=42, total=   0.4s\n",
      "[CV] bootstrap=False, class_weight=None, criterion=gini, max_depth=109, max_features=71, min_samples_leaf=2, min_samples_split=2, n_estimators=29, random_state=42 \n",
      "[CV]  bootstrap=False, class_weight=None, criterion=gini, max_depth=109, max_features=71, min_samples_leaf=2, min_samples_split=2, n_estimators=29, random_state=42, total=   0.4s\n",
      "[CV] bootstrap=True, class_weight=balanced, criterion=gini, max_depth=106, max_features=36, min_samples_leaf=10, min_samples_split=6, n_estimators=10, random_state=42 \n",
      "[CV]  bootstrap=False, class_weight=None, criterion=gini, max_depth=109, max_features=71, min_samples_leaf=2, min_samples_split=2, n_estimators=29, random_state=42, total=   0.4s\n",
      "[CV] bootstrap=True, class_weight=balanced, criterion=gini, max_depth=106, max_features=36, min_samples_leaf=10, min_samples_split=6, n_estimators=10, random_state=42 \n",
      "[CV]  bootstrap=True, class_weight=balanced, criterion=gini, max_depth=106, max_features=36, min_samples_leaf=10, min_samples_split=6, n_estimators=10, random_state=42, total=   0.1s\n",
      "[CV] bootstrap=True, class_weight=balanced, criterion=gini, max_depth=106, max_features=36, min_samples_leaf=10, min_samples_split=6, n_estimators=10, random_state=42 \n",
      "[CV]  bootstrap=True, class_weight=balanced, criterion=gini, max_depth=106, max_features=36, min_samples_leaf=10, min_samples_split=6, n_estimators=10, random_state=42, total=   0.1s\n",
      "[CV] bootstrap=True, class_weight=balanced, criterion=gini, max_depth=106, max_features=36, min_samples_leaf=10, min_samples_split=6, n_estimators=10, random_state=42 \n",
      "[CV]  bootstrap=True, class_weight=balanced, criterion=gini, max_depth=106, max_features=36, min_samples_leaf=10, min_samples_split=6, n_estimators=10, random_state=42, total=   0.1s\n"
     ]
    },
    {
     "name": "stdout",
     "output_type": "stream",
     "text": [
      "[CV] bootstrap=True, class_weight=balanced, criterion=gini, max_depth=106, max_features=36, min_samples_leaf=10, min_samples_split=6, n_estimators=10, random_state=42 \n",
      "[CV]  bootstrap=False, class_weight=None, criterion=gini, max_depth=109, max_features=71, min_samples_leaf=2, min_samples_split=2, n_estimators=29, random_state=42, total=   0.4s\n",
      "[CV] bootstrap=True, class_weight=None, criterion=entropy, max_depth=107, max_features=68, min_samples_leaf=10, min_samples_split=18, n_estimators=26, random_state=42 \n",
      "[CV]  bootstrap=True, class_weight=balanced, criterion=gini, max_depth=106, max_features=36, min_samples_leaf=10, min_samples_split=6, n_estimators=10, random_state=42, total=   0.1s\n",
      "[CV] bootstrap=True, class_weight=None, criterion=entropy, max_depth=107, max_features=68, min_samples_leaf=10, min_samples_split=18, n_estimators=26, random_state=42 \n",
      "[CV]  bootstrap=True, class_weight=balanced, criterion=gini, max_depth=106, max_features=36, min_samples_leaf=10, min_samples_split=6, n_estimators=10, random_state=42, total=   0.1s\n",
      "[CV] bootstrap=True, class_weight=None, criterion=entropy, max_depth=107, max_features=68, min_samples_leaf=10, min_samples_split=18, n_estimators=26, random_state=42 \n",
      "[CV]  bootstrap=False, class_weight=None, criterion=gini, max_depth=109, max_features=71, min_samples_leaf=2, min_samples_split=2, n_estimators=29, random_state=42, total=   0.4s\n",
      "[CV]  bootstrap=True, class_weight=None, criterion=entropy, max_depth=107, max_features=68, min_samples_leaf=10, min_samples_split=18, n_estimators=26, random_state=42, total=   0.2s\n",
      "[CV] bootstrap=True, class_weight=None, criterion=entropy, max_depth=107, max_features=68, min_samples_leaf=10, min_samples_split=18, n_estimators=26, random_state=42 \n",
      "[CV] bootstrap=True, class_weight=None, criterion=entropy, max_depth=107, max_features=68, min_samples_leaf=10, min_samples_split=18, n_estimators=26, random_state=42 \n",
      "[CV]  bootstrap=True, class_weight=None, criterion=entropy, max_depth=107, max_features=68, min_samples_leaf=10, min_samples_split=18, n_estimators=26, random_state=42, total=   0.2s\n",
      "[CV] bootstrap=False, class_weight=None, criterion=entropy, max_depth=106, max_features=11, min_samples_leaf=4, min_samples_split=18, n_estimators=14, random_state=42 \n",
      "[CV]  bootstrap=True, class_weight=None, criterion=entropy, max_depth=107, max_features=68, min_samples_leaf=10, min_samples_split=18, n_estimators=26, random_state=42, total=   0.2s\n",
      "[CV] bootstrap=False, class_weight=None, criterion=entropy, max_depth=106, max_features=11, min_samples_leaf=4, min_samples_split=18, n_estimators=14, random_state=42 \n",
      "[CV]  bootstrap=False, class_weight=None, criterion=entropy, max_depth=106, max_features=11, min_samples_leaf=4, min_samples_split=18, n_estimators=14, random_state=42, total=   0.1s\n",
      "[CV] bootstrap=False, class_weight=None, criterion=entropy, max_depth=106, max_features=11, min_samples_leaf=4, min_samples_split=18, n_estimators=14, random_state=42 \n",
      "[CV]  bootstrap=False, class_weight=None, criterion=entropy, max_depth=106, max_features=11, min_samples_leaf=4, min_samples_split=18, n_estimators=14, random_state=42, total=   0.1s\n",
      "[CV] bootstrap=False, class_weight=None, criterion=entropy, max_depth=106, max_features=11, min_samples_leaf=4, min_samples_split=18, n_estimators=14, random_state=42 \n",
      "[CV]  bootstrap=True, class_weight=None, criterion=entropy, max_depth=107, max_features=68, min_samples_leaf=10, min_samples_split=18, n_estimators=26, random_state=42, total=   0.2s\n",
      "[CV] bootstrap=False, class_weight=None, criterion=entropy, max_depth=106, max_features=11, min_samples_leaf=4, min_samples_split=18, n_estimators=14, random_state=42 \n",
      "[CV]  bootstrap=True, class_weight=None, criterion=entropy, max_depth=107, max_features=68, min_samples_leaf=10, min_samples_split=18, n_estimators=26, random_state=42, total=   0.2s\n",
      "[CV] bootstrap=True, class_weight=None, criterion=gini, max_depth=110, max_features=11, min_samples_leaf=3, min_samples_split=6, n_estimators=10, random_state=42 \n",
      "[CV]  bootstrap=False, class_weight=None, criterion=entropy, max_depth=106, max_features=11, min_samples_leaf=4, min_samples_split=18, n_estimators=14, random_state=42, total=   0.1s\n",
      "[CV] bootstrap=True, class_weight=None, criterion=gini, max_depth=110, max_features=11, min_samples_leaf=3, min_samples_split=6, n_estimators=10, random_state=42 \n",
      "[CV]  bootstrap=False, class_weight=None, criterion=entropy, max_depth=106, max_features=11, min_samples_leaf=4, min_samples_split=18, n_estimators=14, random_state=42, total=   0.1s\n",
      "[CV] bootstrap=True, class_weight=None, criterion=gini, max_depth=110, max_features=11, min_samples_leaf=3, min_samples_split=6, n_estimators=10, random_state=42 \n",
      "[CV]  bootstrap=True, class_weight=None, criterion=gini, max_depth=110, max_features=11, min_samples_leaf=3, min_samples_split=6, n_estimators=10, random_state=42, total=   0.1s\n",
      "[CV] bootstrap=True, class_weight=None, criterion=gini, max_depth=110, max_features=11, min_samples_leaf=3, min_samples_split=6, n_estimators=10, random_state=42 \n",
      "[CV]  bootstrap=True, class_weight=None, criterion=gini, max_depth=110, max_features=11, min_samples_leaf=3, min_samples_split=6, n_estimators=10, random_state=42, total=   0.1s\n",
      "[CV]  bootstrap=False, class_weight=None, criterion=entropy, max_depth=106, max_features=11, min_samples_leaf=4, min_samples_split=18, n_estimators=14, random_state=42, total=   0.1s\n",
      "[CV] bootstrap=True, class_weight=None, criterion=gini, max_depth=110, max_features=11, min_samples_leaf=3, min_samples_split=6, n_estimators=10, random_state=42 \n",
      "[CV] bootstrap=True, class_weight=balanced, criterion=entropy, max_depth=101, max_features=62, min_samples_leaf=13, min_samples_split=7, n_estimators=13, random_state=42 \n",
      "[CV]  bootstrap=True, class_weight=None, criterion=gini, max_depth=110, max_features=11, min_samples_leaf=3, min_samples_split=6, n_estimators=10, random_state=42, total=   0.1s\n",
      "[CV] bootstrap=True, class_weight=balanced, criterion=entropy, max_depth=101, max_features=62, min_samples_leaf=13, min_samples_split=7, n_estimators=13, random_state=42 \n",
      "[CV]  bootstrap=True, class_weight=None, criterion=gini, max_depth=110, max_features=11, min_samples_leaf=3, min_samples_split=6, n_estimators=10, random_state=42, total=   0.1s\n",
      "[CV] bootstrap=True, class_weight=balanced, criterion=entropy, max_depth=101, max_features=62, min_samples_leaf=13, min_samples_split=7, n_estimators=13, random_state=42 \n",
      "[CV]  bootstrap=True, class_weight=None, criterion=gini, max_depth=110, max_features=11, min_samples_leaf=3, min_samples_split=6, n_estimators=10, random_state=42, total=   0.1s\n",
      "[CV] bootstrap=True, class_weight=balanced, criterion=entropy, max_depth=101, max_features=62, min_samples_leaf=13, min_samples_split=7, n_estimators=13, random_state=42 \n",
      "[CV]  bootstrap=True, class_weight=balanced, criterion=entropy, max_depth=101, max_features=62, min_samples_leaf=13, min_samples_split=7, n_estimators=13, random_state=42, total=   0.1s\n",
      "[CV] bootstrap=True, class_weight=balanced, criterion=entropy, max_depth=101, max_features=62, min_samples_leaf=13, min_samples_split=7, n_estimators=13, random_state=42 \n",
      "[CV]  bootstrap=True, class_weight=balanced, criterion=entropy, max_depth=101, max_features=62, min_samples_leaf=13, min_samples_split=7, n_estimators=13, random_state=42, total=   0.1s\n",
      "[CV] bootstrap=True, class_weight=balanced, criterion=entropy, max_depth=110, max_features=26, min_samples_leaf=7, min_samples_split=6, n_estimators=29, random_state=42 \n",
      "[CV]  bootstrap=True, class_weight=balanced, criterion=entropy, max_depth=101, max_features=62, min_samples_leaf=13, min_samples_split=7, n_estimators=13, random_state=42, total=   0.1s\n",
      "[CV]  bootstrap=True, class_weight=balanced, criterion=entropy, max_depth=101, max_features=62, min_samples_leaf=13, min_samples_split=7, n_estimators=13, random_state=42, total=   0.1s\n",
      "[CV] bootstrap=True, class_weight=balanced, criterion=entropy, max_depth=110, max_features=26, min_samples_leaf=7, min_samples_split=6, n_estimators=29, random_state=42 \n",
      "[CV] bootstrap=True, class_weight=balanced, criterion=entropy, max_depth=110, max_features=26, min_samples_leaf=7, min_samples_split=6, n_estimators=29, random_state=42 \n"
     ]
    },
    {
     "name": "stdout",
     "output_type": "stream",
     "text": [
      "[CV]  bootstrap=True, class_weight=balanced, criterion=entropy, max_depth=101, max_features=62, min_samples_leaf=13, min_samples_split=7, n_estimators=13, random_state=42, total=   0.1s\n",
      "[CV] bootstrap=True, class_weight=balanced, criterion=entropy, max_depth=110, max_features=26, min_samples_leaf=7, min_samples_split=6, n_estimators=29, random_state=42 \n",
      "[CV]  bootstrap=True, class_weight=balanced, criterion=entropy, max_depth=110, max_features=26, min_samples_leaf=7, min_samples_split=6, n_estimators=29, random_state=42, total=   0.2s\n",
      "[CV] bootstrap=True, class_weight=balanced, criterion=entropy, max_depth=110, max_features=26, min_samples_leaf=7, min_samples_split=6, n_estimators=29, random_state=42 \n",
      "[CV]  bootstrap=True, class_weight=balanced, criterion=entropy, max_depth=110, max_features=26, min_samples_leaf=7, min_samples_split=6, n_estimators=29, random_state=42, total=   0.2s\n",
      "[CV]  bootstrap=True, class_weight=balanced, criterion=entropy, max_depth=110, max_features=26, min_samples_leaf=7, min_samples_split=6, n_estimators=29, random_state=42, total=   0.2s\n",
      "[CV] bootstrap=False, class_weight=None, criterion=entropy, max_depth=110, max_features=25, min_samples_leaf=2, min_samples_split=10, n_estimators=15, random_state=42 \n",
      "[CV] bootstrap=False, class_weight=None, criterion=entropy, max_depth=110, max_features=25, min_samples_leaf=2, min_samples_split=10, n_estimators=15, random_state=42 \n",
      "[CV]  bootstrap=True, class_weight=balanced, criterion=entropy, max_depth=110, max_features=26, min_samples_leaf=7, min_samples_split=6, n_estimators=29, random_state=42, total=   0.2s\n",
      "[CV] bootstrap=False, class_weight=None, criterion=entropy, max_depth=110, max_features=25, min_samples_leaf=2, min_samples_split=10, n_estimators=15, random_state=42 \n",
      "[CV]  bootstrap=False, class_weight=None, criterion=entropy, max_depth=110, max_features=25, min_samples_leaf=2, min_samples_split=10, n_estimators=15, random_state=42, total=   0.1s\n",
      "[CV] bootstrap=False, class_weight=None, criterion=entropy, max_depth=110, max_features=25, min_samples_leaf=2, min_samples_split=10, n_estimators=15, random_state=42 \n",
      "[CV]  bootstrap=False, class_weight=None, criterion=entropy, max_depth=110, max_features=25, min_samples_leaf=2, min_samples_split=10, n_estimators=15, random_state=42, total=   0.1s\n",
      "[CV] bootstrap=False, class_weight=None, criterion=entropy, max_depth=110, max_features=25, min_samples_leaf=2, min_samples_split=10, n_estimators=15, random_state=42 \n",
      "[CV]  bootstrap=True, class_weight=balanced, criterion=entropy, max_depth=110, max_features=26, min_samples_leaf=7, min_samples_split=6, n_estimators=29, random_state=42, total=   0.2s\n",
      "[CV] bootstrap=False, class_weight=balanced, criterion=gini, max_depth=103, max_features=68, min_samples_leaf=5, min_samples_split=4, n_estimators=28, random_state=42 \n",
      "[CV]  bootstrap=False, class_weight=None, criterion=entropy, max_depth=110, max_features=25, min_samples_leaf=2, min_samples_split=10, n_estimators=15, random_state=42, total=   0.1s\n",
      "[CV] bootstrap=False, class_weight=balanced, criterion=gini, max_depth=103, max_features=68, min_samples_leaf=5, min_samples_split=4, n_estimators=28, random_state=42 \n",
      "[CV]  bootstrap=False, class_weight=None, criterion=entropy, max_depth=110, max_features=25, min_samples_leaf=2, min_samples_split=10, n_estimators=15, random_state=42, total=   0.1s\n",
      "[CV]  bootstrap=False, class_weight=None, criterion=entropy, max_depth=110, max_features=25, min_samples_leaf=2, min_samples_split=10, n_estimators=15, random_state=42, total=   0.2s\n",
      "[CV] bootstrap=False, class_weight=balanced, criterion=gini, max_depth=103, max_features=68, min_samples_leaf=5, min_samples_split=4, n_estimators=28, random_state=42 \n",
      "[CV] bootstrap=False, class_weight=balanced, criterion=gini, max_depth=103, max_features=68, min_samples_leaf=5, min_samples_split=4, n_estimators=28, random_state=42 \n",
      "[CV]  bootstrap=False, class_weight=balanced, criterion=gini, max_depth=103, max_features=68, min_samples_leaf=5, min_samples_split=4, n_estimators=28, random_state=42, total=   0.4s\n",
      "[CV] bootstrap=False, class_weight=balanced, criterion=gini, max_depth=103, max_features=68, min_samples_leaf=5, min_samples_split=4, n_estimators=28, random_state=42 \n",
      "[CV]  bootstrap=False, class_weight=balanced, criterion=gini, max_depth=103, max_features=68, min_samples_leaf=5, min_samples_split=4, n_estimators=28, random_state=42, total=   0.3s\n",
      "[CV] bootstrap=False, class_weight=None, criterion=gini, max_depth=103, max_features=42, min_samples_leaf=9, min_samples_split=8, n_estimators=27, random_state=42 \n",
      "[CV]  bootstrap=False, class_weight=balanced, criterion=gini, max_depth=103, max_features=68, min_samples_leaf=5, min_samples_split=4, n_estimators=28, random_state=42, total=   0.3s\n",
      "[CV] bootstrap=False, class_weight=None, criterion=gini, max_depth=103, max_features=42, min_samples_leaf=9, min_samples_split=8, n_estimators=27, random_state=42 \n",
      "[CV]  bootstrap=False, class_weight=balanced, criterion=gini, max_depth=103, max_features=68, min_samples_leaf=5, min_samples_split=4, n_estimators=28, random_state=42, total=   0.4s\n",
      "[CV] bootstrap=False, class_weight=None, criterion=gini, max_depth=103, max_features=42, min_samples_leaf=9, min_samples_split=8, n_estimators=27, random_state=42 \n",
      "[CV]  bootstrap=False, class_weight=None, criterion=gini, max_depth=103, max_features=42, min_samples_leaf=9, min_samples_split=8, n_estimators=27, random_state=42, total=   0.3s\n",
      "[CV] bootstrap=False, class_weight=None, criterion=gini, max_depth=103, max_features=42, min_samples_leaf=9, min_samples_split=8, n_estimators=27, random_state=42 \n",
      "[CV]  bootstrap=False, class_weight=None, criterion=gini, max_depth=103, max_features=42, min_samples_leaf=9, min_samples_split=8, n_estimators=27, random_state=42, total=   0.3s\n",
      "[CV] bootstrap=False, class_weight=None, criterion=gini, max_depth=103, max_features=42, min_samples_leaf=9, min_samples_split=8, n_estimators=27, random_state=42 \n",
      "[CV]  bootstrap=False, class_weight=balanced, criterion=gini, max_depth=103, max_features=68, min_samples_leaf=5, min_samples_split=4, n_estimators=28, random_state=42, total=   0.4s\n",
      "[CV] bootstrap=False, class_weight=balanced, criterion=gini, max_depth=None, max_features=66, min_samples_leaf=19, min_samples_split=11, n_estimators=12, random_state=42 \n",
      "[CV]  bootstrap=False, class_weight=None, criterion=gini, max_depth=103, max_features=42, min_samples_leaf=9, min_samples_split=8, n_estimators=27, random_state=42, total=   0.3s\n",
      "[CV] bootstrap=False, class_weight=balanced, criterion=gini, max_depth=None, max_features=66, min_samples_leaf=19, min_samples_split=11, n_estimators=12, random_state=42 \n",
      "[CV]  bootstrap=False, class_weight=balanced, criterion=gini, max_depth=None, max_features=66, min_samples_leaf=19, min_samples_split=11, n_estimators=12, random_state=42, total=   0.2s\n",
      "[CV]  bootstrap=False, class_weight=None, criterion=gini, max_depth=103, max_features=42, min_samples_leaf=9, min_samples_split=8, n_estimators=27, random_state=42, total=   0.3s\n",
      "[CV]  bootstrap=False, class_weight=balanced, criterion=gini, max_depth=None, max_features=66, min_samples_leaf=19, min_samples_split=11, n_estimators=12, random_state=42, total=   0.1s\n",
      "[CV] bootstrap=False, class_weight=balanced, criterion=gini, max_depth=None, max_features=66, min_samples_leaf=19, min_samples_split=11, n_estimators=12, random_state=42 \n",
      "[CV] bootstrap=False, class_weight=balanced, criterion=gini, max_depth=None, max_features=66, min_samples_leaf=19, min_samples_split=11, n_estimators=12, random_state=42 \n",
      "[CV] bootstrap=False, class_weight=balanced, criterion=gini, max_depth=None, max_features=66, min_samples_leaf=19, min_samples_split=11, n_estimators=12, random_state=42 \n",
      "[CV]  bootstrap=False, class_weight=None, criterion=gini, max_depth=103, max_features=42, min_samples_leaf=9, min_samples_split=8, n_estimators=27, random_state=42, total=   0.3s\n",
      "[CV] bootstrap=True, class_weight=None, criterion=entropy, max_depth=109, max_features=69, min_samples_leaf=18, min_samples_split=3, n_estimators=10, random_state=42 \n",
      "[CV]  bootstrap=False, class_weight=balanced, criterion=gini, max_depth=None, max_features=66, min_samples_leaf=19, min_samples_split=11, n_estimators=12, random_state=42, total=   0.1s\n"
     ]
    },
    {
     "name": "stdout",
     "output_type": "stream",
     "text": [
      "[CV]  bootstrap=False, class_weight=balanced, criterion=gini, max_depth=None, max_features=66, min_samples_leaf=19, min_samples_split=11, n_estimators=12, random_state=42, total=   0.1s\n",
      "[CV] bootstrap=True, class_weight=None, criterion=entropy, max_depth=109, max_features=69, min_samples_leaf=18, min_samples_split=3, n_estimators=10, random_state=42 \n",
      "[CV] bootstrap=True, class_weight=None, criterion=entropy, max_depth=109, max_features=69, min_samples_leaf=18, min_samples_split=3, n_estimators=10, random_state=42 \n",
      "[CV]  bootstrap=False, class_weight=balanced, criterion=gini, max_depth=None, max_features=66, min_samples_leaf=19, min_samples_split=11, n_estimators=12, random_state=42, total=   0.1s\n",
      "[CV] bootstrap=True, class_weight=None, criterion=entropy, max_depth=109, max_features=69, min_samples_leaf=18, min_samples_split=3, n_estimators=10, random_state=42 \n"
     ]
    },
    {
     "name": "stderr",
     "output_type": "stream",
     "text": [
      "[Parallel(n_jobs=-1)]: Done 154 tasks      | elapsed:    8.5s\n"
     ]
    },
    {
     "name": "stdout",
     "output_type": "stream",
     "text": [
      "[CV]  bootstrap=True, class_weight=None, criterion=entropy, max_depth=109, max_features=69, min_samples_leaf=18, min_samples_split=3, n_estimators=10, random_state=42, total=   0.1s\n",
      "[CV] bootstrap=True, class_weight=None, criterion=entropy, max_depth=109, max_features=69, min_samples_leaf=18, min_samples_split=3, n_estimators=10, random_state=42 \n",
      "[CV]  bootstrap=True, class_weight=None, criterion=entropy, max_depth=109, max_features=69, min_samples_leaf=18, min_samples_split=3, n_estimators=10, random_state=42, total=   0.1s\n",
      "[CV] bootstrap=False, class_weight=None, criterion=entropy, max_depth=104, max_features=46, min_samples_leaf=10, min_samples_split=10, n_estimators=12, random_state=42 \n",
      "[CV]  bootstrap=True, class_weight=None, criterion=entropy, max_depth=109, max_features=69, min_samples_leaf=18, min_samples_split=3, n_estimators=10, random_state=42, total=   0.1s\n",
      "[CV]  bootstrap=True, class_weight=None, criterion=entropy, max_depth=109, max_features=69, min_samples_leaf=18, min_samples_split=3, n_estimators=10, random_state=42, total=   0.1s\n",
      "[CV] bootstrap=False, class_weight=None, criterion=entropy, max_depth=104, max_features=46, min_samples_leaf=10, min_samples_split=10, n_estimators=12, random_state=42 \n",
      "[CV] bootstrap=False, class_weight=None, criterion=entropy, max_depth=104, max_features=46, min_samples_leaf=10, min_samples_split=10, n_estimators=12, random_state=42 \n",
      "[CV]  bootstrap=True, class_weight=None, criterion=entropy, max_depth=109, max_features=69, min_samples_leaf=18, min_samples_split=3, n_estimators=10, random_state=42, total=   0.1s\n",
      "[CV] bootstrap=False, class_weight=None, criterion=entropy, max_depth=104, max_features=46, min_samples_leaf=10, min_samples_split=10, n_estimators=12, random_state=42 \n",
      "[CV]  bootstrap=False, class_weight=None, criterion=entropy, max_depth=104, max_features=46, min_samples_leaf=10, min_samples_split=10, n_estimators=12, random_state=42, total=   0.1s\n",
      "[CV] bootstrap=False, class_weight=None, criterion=entropy, max_depth=104, max_features=46, min_samples_leaf=10, min_samples_split=10, n_estimators=12, random_state=42 \n",
      "[CV]  bootstrap=False, class_weight=None, criterion=entropy, max_depth=104, max_features=46, min_samples_leaf=10, min_samples_split=10, n_estimators=12, random_state=42, total=   0.1s\n",
      "[CV] bootstrap=True, class_weight=None, criterion=entropy, max_depth=102, max_features=29, min_samples_leaf=2, min_samples_split=12, n_estimators=26, random_state=42 \n",
      "[CV]  bootstrap=False, class_weight=None, criterion=entropy, max_depth=104, max_features=46, min_samples_leaf=10, min_samples_split=10, n_estimators=12, random_state=42, total=   0.1s\n",
      "[CV] bootstrap=True, class_weight=None, criterion=entropy, max_depth=102, max_features=29, min_samples_leaf=2, min_samples_split=12, n_estimators=26, random_state=42 \n",
      "[CV]  bootstrap=False, class_weight=None, criterion=entropy, max_depth=104, max_features=46, min_samples_leaf=10, min_samples_split=10, n_estimators=12, random_state=42, total=   0.1s\n",
      "[CV] bootstrap=True, class_weight=None, criterion=entropy, max_depth=102, max_features=29, min_samples_leaf=2, min_samples_split=12, n_estimators=26, random_state=42 \n",
      "[CV]  bootstrap=False, class_weight=None, criterion=entropy, max_depth=104, max_features=46, min_samples_leaf=10, min_samples_split=10, n_estimators=12, random_state=42, total=   0.2s\n",
      "[CV] bootstrap=True, class_weight=None, criterion=entropy, max_depth=102, max_features=29, min_samples_leaf=2, min_samples_split=12, n_estimators=26, random_state=42 \n",
      "[CV]  bootstrap=True, class_weight=None, criterion=entropy, max_depth=102, max_features=29, min_samples_leaf=2, min_samples_split=12, n_estimators=26, random_state=42, total=   0.3s\n",
      "[CV]  bootstrap=True, class_weight=None, criterion=entropy, max_depth=102, max_features=29, min_samples_leaf=2, min_samples_split=12, n_estimators=26, random_state=42, total=   0.3s\n",
      "[CV] bootstrap=True, class_weight=None, criterion=entropy, max_depth=102, max_features=29, min_samples_leaf=2, min_samples_split=12, n_estimators=26, random_state=42 \n",
      "[CV] bootstrap=False, class_weight=None, criterion=entropy, max_depth=107, max_features=34, min_samples_leaf=19, min_samples_split=15, n_estimators=27, random_state=42 \n",
      "[CV]  bootstrap=True, class_weight=None, criterion=entropy, max_depth=102, max_features=29, min_samples_leaf=2, min_samples_split=12, n_estimators=26, random_state=42, total=   0.3s\n",
      "[CV] bootstrap=False, class_weight=None, criterion=entropy, max_depth=107, max_features=34, min_samples_leaf=19, min_samples_split=15, n_estimators=27, random_state=42 \n",
      "[CV]  bootstrap=True, class_weight=None, criterion=entropy, max_depth=102, max_features=29, min_samples_leaf=2, min_samples_split=12, n_estimators=26, random_state=42, total=   0.2s\n",
      "[CV] bootstrap=False, class_weight=None, criterion=entropy, max_depth=107, max_features=34, min_samples_leaf=19, min_samples_split=15, n_estimators=27, random_state=42 \n",
      "[CV]  bootstrap=False, class_weight=None, criterion=entropy, max_depth=107, max_features=34, min_samples_leaf=19, min_samples_split=15, n_estimators=27, random_state=42, total=   0.2s\n",
      "[CV] bootstrap=False, class_weight=None, criterion=entropy, max_depth=107, max_features=34, min_samples_leaf=19, min_samples_split=15, n_estimators=27, random_state=42 \n",
      "[CV]  bootstrap=True, class_weight=None, criterion=entropy, max_depth=102, max_features=29, min_samples_leaf=2, min_samples_split=12, n_estimators=26, random_state=42, total=   0.3s\n",
      "[CV] bootstrap=False, class_weight=None, criterion=entropy, max_depth=107, max_features=34, min_samples_leaf=19, min_samples_split=15, n_estimators=27, random_state=42 \n",
      "[CV]  bootstrap=False, class_weight=None, criterion=entropy, max_depth=107, max_features=34, min_samples_leaf=19, min_samples_split=15, n_estimators=27, random_state=42, total=   0.3s\n",
      "[CV] bootstrap=False, class_weight=None, criterion=gini, max_depth=108, max_features=42, min_samples_leaf=5, min_samples_split=2, n_estimators=23, random_state=42 \n",
      "[CV]  bootstrap=False, class_weight=None, criterion=entropy, max_depth=107, max_features=34, min_samples_leaf=19, min_samples_split=15, n_estimators=27, random_state=42, total=   0.3s\n",
      "[CV] bootstrap=False, class_weight=None, criterion=gini, max_depth=108, max_features=42, min_samples_leaf=5, min_samples_split=2, n_estimators=23, random_state=42 \n",
      "[CV]  bootstrap=False, class_weight=None, criterion=entropy, max_depth=107, max_features=34, min_samples_leaf=19, min_samples_split=15, n_estimators=27, random_state=42, total=   0.2s\n",
      "[CV]  bootstrap=False, class_weight=None, criterion=entropy, max_depth=107, max_features=34, min_samples_leaf=19, min_samples_split=15, n_estimators=27, random_state=42, total=   0.2s\n",
      "[CV] bootstrap=False, class_weight=None, criterion=gini, max_depth=108, max_features=42, min_samples_leaf=5, min_samples_split=2, n_estimators=23, random_state=42 \n",
      "[CV] bootstrap=False, class_weight=None, criterion=gini, max_depth=108, max_features=42, min_samples_leaf=5, min_samples_split=2, n_estimators=23, random_state=42 \n",
      "[CV]  bootstrap=False, class_weight=None, criterion=gini, max_depth=108, max_features=42, min_samples_leaf=5, min_samples_split=2, n_estimators=23, random_state=42, total=   0.2s\n",
      "[CV] bootstrap=False, class_weight=None, criterion=gini, max_depth=108, max_features=42, min_samples_leaf=5, min_samples_split=2, n_estimators=23, random_state=42 \n",
      "[CV]  bootstrap=False, class_weight=None, criterion=gini, max_depth=108, max_features=42, min_samples_leaf=5, min_samples_split=2, n_estimators=23, random_state=42, total=   0.2s\n",
      "[CV] bootstrap=True, class_weight=None, criterion=entropy, max_depth=107, max_features=17, min_samples_leaf=8, min_samples_split=4, n_estimators=26, random_state=42 \n",
      "[CV]  bootstrap=False, class_weight=None, criterion=gini, max_depth=108, max_features=42, min_samples_leaf=5, min_samples_split=2, n_estimators=23, random_state=42, total=   0.2s\n",
      "[CV] bootstrap=True, class_weight=None, criterion=entropy, max_depth=107, max_features=17, min_samples_leaf=8, min_samples_split=4, n_estimators=26, random_state=42 \n",
      "[CV]  bootstrap=False, class_weight=None, criterion=gini, max_depth=108, max_features=42, min_samples_leaf=5, min_samples_split=2, n_estimators=23, random_state=42, total=   0.2s\n"
     ]
    },
    {
     "name": "stdout",
     "output_type": "stream",
     "text": [
      "[CV] bootstrap=True, class_weight=None, criterion=entropy, max_depth=107, max_features=17, min_samples_leaf=8, min_samples_split=4, n_estimators=26, random_state=42 \n",
      "[CV]  bootstrap=False, class_weight=None, criterion=gini, max_depth=108, max_features=42, min_samples_leaf=5, min_samples_split=2, n_estimators=23, random_state=42, total=   0.2s\n",
      "[CV]  bootstrap=True, class_weight=None, criterion=entropy, max_depth=107, max_features=17, min_samples_leaf=8, min_samples_split=4, n_estimators=26, random_state=42, total=   0.1s\n",
      "[CV] bootstrap=True, class_weight=None, criterion=entropy, max_depth=107, max_features=17, min_samples_leaf=8, min_samples_split=4, n_estimators=26, random_state=42 \n",
      "[CV] bootstrap=True, class_weight=None, criterion=entropy, max_depth=107, max_features=17, min_samples_leaf=8, min_samples_split=4, n_estimators=26, random_state=42 \n",
      "[CV]  bootstrap=True, class_weight=None, criterion=entropy, max_depth=107, max_features=17, min_samples_leaf=8, min_samples_split=4, n_estimators=26, random_state=42, total=   0.2s\n",
      "[CV] bootstrap=False, class_weight=balanced, criterion=entropy, max_depth=None, max_features=68, min_samples_leaf=15, min_samples_split=7, n_estimators=15, random_state=42 \n",
      "[CV]  bootstrap=True, class_weight=None, criterion=entropy, max_depth=107, max_features=17, min_samples_leaf=8, min_samples_split=4, n_estimators=26, random_state=42, total=   0.2s\n",
      "[CV] bootstrap=False, class_weight=balanced, criterion=entropy, max_depth=None, max_features=68, min_samples_leaf=15, min_samples_split=7, n_estimators=15, random_state=42 \n",
      "[CV]  bootstrap=True, class_weight=None, criterion=entropy, max_depth=107, max_features=17, min_samples_leaf=8, min_samples_split=4, n_estimators=26, random_state=42, total=   0.2s\n",
      "[CV]  bootstrap=True, class_weight=None, criterion=entropy, max_depth=107, max_features=17, min_samples_leaf=8, min_samples_split=4, n_estimators=26, random_state=42, total=   0.2s\n",
      "[CV] bootstrap=False, class_weight=balanced, criterion=entropy, max_depth=None, max_features=68, min_samples_leaf=15, min_samples_split=7, n_estimators=15, random_state=42 \n",
      "[CV] bootstrap=False, class_weight=balanced, criterion=entropy, max_depth=None, max_features=68, min_samples_leaf=15, min_samples_split=7, n_estimators=15, random_state=42 \n",
      "[CV]  bootstrap=False, class_weight=balanced, criterion=entropy, max_depth=None, max_features=68, min_samples_leaf=15, min_samples_split=7, n_estimators=15, random_state=42, total=   0.2s\n",
      "[CV]  bootstrap=False, class_weight=balanced, criterion=entropy, max_depth=None, max_features=68, min_samples_leaf=15, min_samples_split=7, n_estimators=15, random_state=42, total=   0.2s\n",
      "[CV] bootstrap=False, class_weight=balanced, criterion=entropy, max_depth=None, max_features=68, min_samples_leaf=15, min_samples_split=7, n_estimators=15, random_state=42 \n",
      "[CV] bootstrap=True, class_weight=balanced, criterion=entropy, max_depth=107, max_features=36, min_samples_leaf=3, min_samples_split=2, n_estimators=24, random_state=42 \n",
      "[CV]  bootstrap=False, class_weight=balanced, criterion=entropy, max_depth=None, max_features=68, min_samples_leaf=15, min_samples_split=7, n_estimators=15, random_state=42, total=   0.2s\n",
      "[CV] bootstrap=True, class_weight=balanced, criterion=entropy, max_depth=107, max_features=36, min_samples_leaf=3, min_samples_split=2, n_estimators=24, random_state=42 \n",
      "[CV]  bootstrap=False, class_weight=balanced, criterion=entropy, max_depth=None, max_features=68, min_samples_leaf=15, min_samples_split=7, n_estimators=15, random_state=42, total=   0.2s\n",
      "[CV] bootstrap=True, class_weight=balanced, criterion=entropy, max_depth=107, max_features=36, min_samples_leaf=3, min_samples_split=2, n_estimators=24, random_state=42 \n",
      "[CV]  bootstrap=False, class_weight=balanced, criterion=entropy, max_depth=None, max_features=68, min_samples_leaf=15, min_samples_split=7, n_estimators=15, random_state=42, total=   0.2s\n",
      "[CV] bootstrap=True, class_weight=balanced, criterion=entropy, max_depth=107, max_features=36, min_samples_leaf=3, min_samples_split=2, n_estimators=24, random_state=42 \n",
      "[CV]  bootstrap=True, class_weight=balanced, criterion=entropy, max_depth=107, max_features=36, min_samples_leaf=3, min_samples_split=2, n_estimators=24, random_state=42, total=   0.2s\n",
      "[CV] bootstrap=True, class_weight=balanced, criterion=entropy, max_depth=107, max_features=36, min_samples_leaf=3, min_samples_split=2, n_estimators=24, random_state=42 \n",
      "[CV]  bootstrap=True, class_weight=balanced, criterion=entropy, max_depth=107, max_features=36, min_samples_leaf=3, min_samples_split=2, n_estimators=24, random_state=42, total=   0.2s\n",
      "[CV] bootstrap=False, class_weight=balanced, criterion=gini, max_depth=None, max_features=70, min_samples_leaf=17, min_samples_split=5, n_estimators=12, random_state=42 \n",
      "[CV]  bootstrap=True, class_weight=balanced, criterion=entropy, max_depth=107, max_features=36, min_samples_leaf=3, min_samples_split=2, n_estimators=24, random_state=42, total=   0.2s\n",
      "[CV] bootstrap=False, class_weight=balanced, criterion=gini, max_depth=None, max_features=70, min_samples_leaf=17, min_samples_split=5, n_estimators=12, random_state=42 \n",
      "[CV]  bootstrap=True, class_weight=balanced, criterion=entropy, max_depth=107, max_features=36, min_samples_leaf=3, min_samples_split=2, n_estimators=24, random_state=42, total=   0.2s\n",
      "[CV]  bootstrap=False, class_weight=balanced, criterion=gini, max_depth=None, max_features=70, min_samples_leaf=17, min_samples_split=5, n_estimators=12, random_state=42, total=   0.1s\n",
      "[CV] bootstrap=False, class_weight=balanced, criterion=gini, max_depth=None, max_features=70, min_samples_leaf=17, min_samples_split=5, n_estimators=12, random_state=42 \n",
      "[CV]  bootstrap=False, class_weight=balanced, criterion=gini, max_depth=None, max_features=70, min_samples_leaf=17, min_samples_split=5, n_estimators=12, random_state=42, total=   0.1s\n",
      "[CV] bootstrap=False, class_weight=balanced, criterion=gini, max_depth=None, max_features=70, min_samples_leaf=17, min_samples_split=5, n_estimators=12, random_state=42 \n",
      "[CV] bootstrap=False, class_weight=balanced, criterion=gini, max_depth=None, max_features=70, min_samples_leaf=17, min_samples_split=5, n_estimators=12, random_state=42 \n",
      "[CV]  bootstrap=True, class_weight=balanced, criterion=entropy, max_depth=107, max_features=36, min_samples_leaf=3, min_samples_split=2, n_estimators=24, random_state=42, total=   0.2s\n",
      "[CV] bootstrap=False, class_weight=balanced, criterion=entropy, max_depth=100, max_features=53, min_samples_leaf=15, min_samples_split=7, n_estimators=12, random_state=42 \n",
      "[CV]  bootstrap=False, class_weight=balanced, criterion=gini, max_depth=None, max_features=70, min_samples_leaf=17, min_samples_split=5, n_estimators=12, random_state=42, total=   0.2s\n",
      "[CV] bootstrap=False, class_weight=balanced, criterion=entropy, max_depth=100, max_features=53, min_samples_leaf=15, min_samples_split=7, n_estimators=12, random_state=42 \n",
      "[CV]  bootstrap=False, class_weight=balanced, criterion=gini, max_depth=None, max_features=70, min_samples_leaf=17, min_samples_split=5, n_estimators=12, random_state=42, total=   0.2s\n",
      "[CV] bootstrap=False, class_weight=balanced, criterion=entropy, max_depth=100, max_features=53, min_samples_leaf=15, min_samples_split=7, n_estimators=12, random_state=42 \n",
      "[CV]  bootstrap=False, class_weight=balanced, criterion=entropy, max_depth=100, max_features=53, min_samples_leaf=15, min_samples_split=7, n_estimators=12, random_state=42, total=   0.1s\n",
      "[CV]  bootstrap=False, class_weight=balanced, criterion=gini, max_depth=None, max_features=70, min_samples_leaf=17, min_samples_split=5, n_estimators=12, random_state=42, total=   0.2s\n",
      "[CV] bootstrap=False, class_weight=balanced, criterion=entropy, max_depth=100, max_features=53, min_samples_leaf=15, min_samples_split=7, n_estimators=12, random_state=42 \n",
      "[CV] bootstrap=False, class_weight=balanced, criterion=entropy, max_depth=100, max_features=53, min_samples_leaf=15, min_samples_split=7, n_estimators=12, random_state=42 \n",
      "[CV]  bootstrap=False, class_weight=balanced, criterion=entropy, max_depth=100, max_features=53, min_samples_leaf=15, min_samples_split=7, n_estimators=12, random_state=42, total=   0.1s\n",
      "[CV] bootstrap=False, class_weight=balanced, criterion=gini, max_depth=107, max_features=55, min_samples_leaf=4, min_samples_split=2, n_estimators=29, random_state=42 \n"
     ]
    },
    {
     "name": "stdout",
     "output_type": "stream",
     "text": [
      "[CV]  bootstrap=False, class_weight=balanced, criterion=entropy, max_depth=100, max_features=53, min_samples_leaf=15, min_samples_split=7, n_estimators=12, random_state=42, total=   0.1s\n",
      "[CV] bootstrap=False, class_weight=balanced, criterion=gini, max_depth=107, max_features=55, min_samples_leaf=4, min_samples_split=2, n_estimators=29, random_state=42 \n",
      "[CV]  bootstrap=False, class_weight=balanced, criterion=entropy, max_depth=100, max_features=53, min_samples_leaf=15, min_samples_split=7, n_estimators=12, random_state=42, total=   0.1s\n",
      "[CV] bootstrap=False, class_weight=balanced, criterion=gini, max_depth=107, max_features=55, min_samples_leaf=4, min_samples_split=2, n_estimators=29, random_state=42 \n",
      "[CV]  bootstrap=False, class_weight=balanced, criterion=entropy, max_depth=100, max_features=53, min_samples_leaf=15, min_samples_split=7, n_estimators=12, random_state=42, total=   0.1s\n",
      "[CV] bootstrap=False, class_weight=balanced, criterion=gini, max_depth=107, max_features=55, min_samples_leaf=4, min_samples_split=2, n_estimators=29, random_state=42 \n",
      "[CV]  bootstrap=False, class_weight=balanced, criterion=gini, max_depth=107, max_features=55, min_samples_leaf=4, min_samples_split=2, n_estimators=29, random_state=42, total=   0.4s\n",
      "[CV] bootstrap=False, class_weight=balanced, criterion=gini, max_depth=107, max_features=55, min_samples_leaf=4, min_samples_split=2, n_estimators=29, random_state=42 \n",
      "[CV]  bootstrap=False, class_weight=balanced, criterion=gini, max_depth=107, max_features=55, min_samples_leaf=4, min_samples_split=2, n_estimators=29, random_state=42, total=   0.4s\n",
      "[CV]  bootstrap=False, class_weight=balanced, criterion=gini, max_depth=107, max_features=55, min_samples_leaf=4, min_samples_split=2, n_estimators=29, random_state=42, total=   0.3s\n",
      "[CV] bootstrap=True, class_weight=balanced, criterion=gini, max_depth=106, max_features=42, min_samples_leaf=4, min_samples_split=19, n_estimators=19, random_state=42 \n",
      "[CV] bootstrap=True, class_weight=balanced, criterion=gini, max_depth=106, max_features=42, min_samples_leaf=4, min_samples_split=19, n_estimators=19, random_state=42 \n",
      "[CV]  bootstrap=False, class_weight=balanced, criterion=gini, max_depth=107, max_features=55, min_samples_leaf=4, min_samples_split=2, n_estimators=29, random_state=42, total=   0.3s\n",
      "[CV] bootstrap=True, class_weight=balanced, criterion=gini, max_depth=106, max_features=42, min_samples_leaf=4, min_samples_split=19, n_estimators=19, random_state=42 \n",
      "[CV]  bootstrap=True, class_weight=balanced, criterion=gini, max_depth=106, max_features=42, min_samples_leaf=4, min_samples_split=19, n_estimators=19, random_state=42, total=   0.2s\n",
      "[CV]  bootstrap=True, class_weight=balanced, criterion=gini, max_depth=106, max_features=42, min_samples_leaf=4, min_samples_split=19, n_estimators=19, random_state=42, total=   0.2s\n",
      "[CV] bootstrap=True, class_weight=balanced, criterion=gini, max_depth=106, max_features=42, min_samples_leaf=4, min_samples_split=19, n_estimators=19, random_state=42 \n",
      "[CV] bootstrap=True, class_weight=balanced, criterion=gini, max_depth=106, max_features=42, min_samples_leaf=4, min_samples_split=19, n_estimators=19, random_state=42 \n",
      "[CV]  bootstrap=True, class_weight=balanced, criterion=gini, max_depth=106, max_features=42, min_samples_leaf=4, min_samples_split=19, n_estimators=19, random_state=42, total=   0.2s\n",
      "[CV] bootstrap=True, class_weight=None, criterion=entropy, max_depth=102, max_features=55, min_samples_leaf=19, min_samples_split=16, n_estimators=11, random_state=42 \n",
      "[CV]  bootstrap=True, class_weight=None, criterion=entropy, max_depth=102, max_features=55, min_samples_leaf=19, min_samples_split=16, n_estimators=11, random_state=42, total=   0.1s\n",
      "[CV] bootstrap=True, class_weight=None, criterion=entropy, max_depth=102, max_features=55, min_samples_leaf=19, min_samples_split=16, n_estimators=11, random_state=42 \n",
      "[CV]  bootstrap=True, class_weight=balanced, criterion=gini, max_depth=106, max_features=42, min_samples_leaf=4, min_samples_split=19, n_estimators=19, random_state=42, total=   0.2s\n",
      "[CV] bootstrap=True, class_weight=None, criterion=entropy, max_depth=102, max_features=55, min_samples_leaf=19, min_samples_split=16, n_estimators=11, random_state=42 \n",
      "[CV]  bootstrap=False, class_weight=balanced, criterion=gini, max_depth=107, max_features=55, min_samples_leaf=4, min_samples_split=2, n_estimators=29, random_state=42, total=   0.4s\n",
      "[CV]  bootstrap=True, class_weight=balanced, criterion=gini, max_depth=106, max_features=42, min_samples_leaf=4, min_samples_split=19, n_estimators=19, random_state=42, total=   0.2s\n",
      "[CV] bootstrap=True, class_weight=None, criterion=entropy, max_depth=102, max_features=55, min_samples_leaf=19, min_samples_split=16, n_estimators=11, random_state=42 \n",
      "[CV] bootstrap=True, class_weight=None, criterion=entropy, max_depth=102, max_features=55, min_samples_leaf=19, min_samples_split=16, n_estimators=11, random_state=42 \n",
      "[CV]  bootstrap=True, class_weight=None, criterion=entropy, max_depth=102, max_features=55, min_samples_leaf=19, min_samples_split=16, n_estimators=11, random_state=42, total=   0.1s\n",
      "[CV] bootstrap=True, class_weight=balanced, criterion=entropy, max_depth=101, max_features=26, min_samples_leaf=9, min_samples_split=2, n_estimators=18, random_state=42 \n",
      "[CV]  bootstrap=True, class_weight=None, criterion=entropy, max_depth=102, max_features=55, min_samples_leaf=19, min_samples_split=16, n_estimators=11, random_state=42, total=   0.1s\n",
      "[CV] bootstrap=True, class_weight=balanced, criterion=entropy, max_depth=101, max_features=26, min_samples_leaf=9, min_samples_split=2, n_estimators=18, random_state=42 \n",
      "[CV]  bootstrap=True, class_weight=None, criterion=entropy, max_depth=102, max_features=55, min_samples_leaf=19, min_samples_split=16, n_estimators=11, random_state=42, total=   0.1s\n",
      "[CV] bootstrap=True, class_weight=balanced, criterion=entropy, max_depth=101, max_features=26, min_samples_leaf=9, min_samples_split=2, n_estimators=18, random_state=42 \n",
      "[CV]  bootstrap=True, class_weight=None, criterion=entropy, max_depth=102, max_features=55, min_samples_leaf=19, min_samples_split=16, n_estimators=11, random_state=42, total=   0.1s\n",
      "[CV] bootstrap=True, class_weight=balanced, criterion=entropy, max_depth=101, max_features=26, min_samples_leaf=9, min_samples_split=2, n_estimators=18, random_state=42 \n",
      "[CV]  bootstrap=True, class_weight=balanced, criterion=entropy, max_depth=101, max_features=26, min_samples_leaf=9, min_samples_split=2, n_estimators=18, random_state=42, total=   0.1s\n",
      "[CV] bootstrap=True, class_weight=balanced, criterion=entropy, max_depth=101, max_features=26, min_samples_leaf=9, min_samples_split=2, n_estimators=18, random_state=42 \n",
      "[CV]  bootstrap=True, class_weight=balanced, criterion=entropy, max_depth=101, max_features=26, min_samples_leaf=9, min_samples_split=2, n_estimators=18, random_state=42, total=   0.1s\n",
      "[CV] bootstrap=True, class_weight=None, criterion=entropy, max_depth=106, max_features=51, min_samples_leaf=4, min_samples_split=19, n_estimators=22, random_state=42 \n",
      "[CV]  bootstrap=True, class_weight=balanced, criterion=entropy, max_depth=101, max_features=26, min_samples_leaf=9, min_samples_split=2, n_estimators=18, random_state=42, total=   0.1s\n",
      "[CV] bootstrap=True, class_weight=None, criterion=entropy, max_depth=106, max_features=51, min_samples_leaf=4, min_samples_split=19, n_estimators=22, random_state=42 \n",
      "[CV]  bootstrap=True, class_weight=balanced, criterion=entropy, max_depth=101, max_features=26, min_samples_leaf=9, min_samples_split=2, n_estimators=18, random_state=42, total=   0.1s\n",
      "[CV] bootstrap=True, class_weight=None, criterion=entropy, max_depth=106, max_features=51, min_samples_leaf=4, min_samples_split=19, n_estimators=22, random_state=42 \n",
      "[CV]  bootstrap=True, class_weight=balanced, criterion=entropy, max_depth=101, max_features=26, min_samples_leaf=9, min_samples_split=2, n_estimators=18, random_state=42, total=   0.1s\n",
      "[CV] bootstrap=True, class_weight=None, criterion=entropy, max_depth=106, max_features=51, min_samples_leaf=4, min_samples_split=19, n_estimators=22, random_state=42 \n",
      "[CV]  bootstrap=True, class_weight=None, criterion=entropy, max_depth=106, max_features=51, min_samples_leaf=4, min_samples_split=19, n_estimators=22, random_state=42, total=   0.2s\n"
     ]
    },
    {
     "name": "stdout",
     "output_type": "stream",
     "text": [
      "[CV]  bootstrap=True, class_weight=None, criterion=entropy, max_depth=106, max_features=51, min_samples_leaf=4, min_samples_split=19, n_estimators=22, random_state=42, total=   0.2s\n",
      "[CV] bootstrap=True, class_weight=None, criterion=entropy, max_depth=106, max_features=51, min_samples_leaf=4, min_samples_split=19, n_estimators=22, random_state=42 \n",
      "[CV] bootstrap=False, class_weight=None, criterion=gini, max_depth=108, max_features=45, min_samples_leaf=14, min_samples_split=2, n_estimators=17, random_state=42 \n",
      "[CV]  bootstrap=True, class_weight=None, criterion=entropy, max_depth=106, max_features=51, min_samples_leaf=4, min_samples_split=19, n_estimators=22, random_state=42, total=   0.2s\n",
      "[CV] bootstrap=False, class_weight=None, criterion=gini, max_depth=108, max_features=45, min_samples_leaf=14, min_samples_split=2, n_estimators=17, random_state=42 \n",
      "[CV]  bootstrap=True, class_weight=None, criterion=entropy, max_depth=106, max_features=51, min_samples_leaf=4, min_samples_split=19, n_estimators=22, random_state=42, total=   0.2s\n",
      "[CV] bootstrap=False, class_weight=None, criterion=gini, max_depth=108, max_features=45, min_samples_leaf=14, min_samples_split=2, n_estimators=17, random_state=42 \n",
      "[CV]  bootstrap=False, class_weight=None, criterion=gini, max_depth=108, max_features=45, min_samples_leaf=14, min_samples_split=2, n_estimators=17, random_state=42, total=   0.1s\n",
      "[CV] bootstrap=False, class_weight=None, criterion=gini, max_depth=108, max_features=45, min_samples_leaf=14, min_samples_split=2, n_estimators=17, random_state=42 \n",
      "[CV]  bootstrap=False, class_weight=None, criterion=gini, max_depth=108, max_features=45, min_samples_leaf=14, min_samples_split=2, n_estimators=17, random_state=42, total=   0.2s\n",
      "[CV] bootstrap=False, class_weight=None, criterion=gini, max_depth=108, max_features=45, min_samples_leaf=14, min_samples_split=2, n_estimators=17, random_state=42 \n",
      "[CV]  bootstrap=True, class_weight=None, criterion=entropy, max_depth=106, max_features=51, min_samples_leaf=4, min_samples_split=19, n_estimators=22, random_state=42, total=   0.2s\n",
      "[CV] bootstrap=False, class_weight=None, criterion=entropy, max_depth=None, max_features=24, min_samples_leaf=3, min_samples_split=3, n_estimators=28, random_state=42 \n",
      "[CV]  bootstrap=False, class_weight=None, criterion=gini, max_depth=108, max_features=45, min_samples_leaf=14, min_samples_split=2, n_estimators=17, random_state=42, total=   0.1s\n",
      "[CV] bootstrap=False, class_weight=None, criterion=entropy, max_depth=None, max_features=24, min_samples_leaf=3, min_samples_split=3, n_estimators=28, random_state=42 \n",
      "[CV]  bootstrap=False, class_weight=None, criterion=gini, max_depth=108, max_features=45, min_samples_leaf=14, min_samples_split=2, n_estimators=17, random_state=42, total=   0.2s\n",
      "[CV] bootstrap=False, class_weight=None, criterion=entropy, max_depth=None, max_features=24, min_samples_leaf=3, min_samples_split=3, n_estimators=28, random_state=42 \n",
      "[CV]  bootstrap=False, class_weight=None, criterion=gini, max_depth=108, max_features=45, min_samples_leaf=14, min_samples_split=2, n_estimators=17, random_state=42, total=   0.2s\n",
      "[CV] bootstrap=False, class_weight=None, criterion=entropy, max_depth=None, max_features=24, min_samples_leaf=3, min_samples_split=3, n_estimators=28, random_state=42 \n",
      "[CV]  bootstrap=False, class_weight=None, criterion=entropy, max_depth=None, max_features=24, min_samples_leaf=3, min_samples_split=3, n_estimators=28, random_state=42, total=   0.2s\n",
      "[CV] bootstrap=False, class_weight=None, criterion=entropy, max_depth=None, max_features=24, min_samples_leaf=3, min_samples_split=3, n_estimators=28, random_state=42 \n",
      "[CV]  bootstrap=False, class_weight=None, criterion=entropy, max_depth=None, max_features=24, min_samples_leaf=3, min_samples_split=3, n_estimators=28, random_state=42, total=   0.3s\n",
      "[CV] bootstrap=True, class_weight=None, criterion=gini, max_depth=105, max_features=67, min_samples_leaf=18, min_samples_split=11, n_estimators=15, random_state=42 \n",
      "[CV]  bootstrap=False, class_weight=None, criterion=entropy, max_depth=None, max_features=24, min_samples_leaf=3, min_samples_split=3, n_estimators=28, random_state=42, total=   0.3s\n",
      "[CV] bootstrap=True, class_weight=None, criterion=gini, max_depth=105, max_features=67, min_samples_leaf=18, min_samples_split=11, n_estimators=15, random_state=42 \n",
      "[CV]  bootstrap=False, class_weight=None, criterion=entropy, max_depth=None, max_features=24, min_samples_leaf=3, min_samples_split=3, n_estimators=28, random_state=42, total=   0.3s\n",
      "[CV] bootstrap=True, class_weight=None, criterion=gini, max_depth=105, max_features=67, min_samples_leaf=18, min_samples_split=11, n_estimators=15, random_state=42 \n",
      "[CV]  bootstrap=True, class_weight=None, criterion=gini, max_depth=105, max_features=67, min_samples_leaf=18, min_samples_split=11, n_estimators=15, random_state=42, total=   0.1s\n",
      "[CV] bootstrap=True, class_weight=None, criterion=gini, max_depth=105, max_features=67, min_samples_leaf=18, min_samples_split=11, n_estimators=15, random_state=42 \n",
      "[CV]  bootstrap=False, class_weight=None, criterion=entropy, max_depth=None, max_features=24, min_samples_leaf=3, min_samples_split=3, n_estimators=28, random_state=42, total=   0.3s\n",
      "[CV] bootstrap=True, class_weight=None, criterion=gini, max_depth=105, max_features=67, min_samples_leaf=18, min_samples_split=11, n_estimators=15, random_state=42 \n",
      "[CV]  bootstrap=True, class_weight=None, criterion=gini, max_depth=105, max_features=67, min_samples_leaf=18, min_samples_split=11, n_estimators=15, random_state=42, total=   0.1s\n",
      "[CV] bootstrap=True, class_weight=None, criterion=gini, max_depth=None, max_features=17, min_samples_leaf=13, min_samples_split=13, n_estimators=14, random_state=42 \n",
      "[CV]  bootstrap=True, class_weight=None, criterion=gini, max_depth=105, max_features=67, min_samples_leaf=18, min_samples_split=11, n_estimators=15, random_state=42, total=   0.1s\n",
      "[CV] bootstrap=True, class_weight=None, criterion=gini, max_depth=None, max_features=17, min_samples_leaf=13, min_samples_split=13, n_estimators=14, random_state=42 \n",
      "[CV]  bootstrap=True, class_weight=None, criterion=gini, max_depth=105, max_features=67, min_samples_leaf=18, min_samples_split=11, n_estimators=15, random_state=42, total=   0.1s\n",
      "[CV] bootstrap=True, class_weight=None, criterion=gini, max_depth=None, max_features=17, min_samples_leaf=13, min_samples_split=13, n_estimators=14, random_state=42 \n",
      "[CV]  bootstrap=True, class_weight=None, criterion=gini, max_depth=None, max_features=17, min_samples_leaf=13, min_samples_split=13, n_estimators=14, random_state=42, total=   0.1s\n",
      "[CV] bootstrap=True, class_weight=None, criterion=gini, max_depth=None, max_features=17, min_samples_leaf=13, min_samples_split=13, n_estimators=14, random_state=42 \n",
      "[CV]  bootstrap=True, class_weight=None, criterion=gini, max_depth=None, max_features=17, min_samples_leaf=13, min_samples_split=13, n_estimators=14, random_state=42, total=   0.1s\n",
      "[CV] bootstrap=True, class_weight=None, criterion=gini, max_depth=None, max_features=17, min_samples_leaf=13, min_samples_split=13, n_estimators=14, random_state=42 \n",
      "[CV]  bootstrap=True, class_weight=None, criterion=gini, max_depth=105, max_features=67, min_samples_leaf=18, min_samples_split=11, n_estimators=15, random_state=42, total=   0.1s\n",
      "[CV] bootstrap=True, class_weight=None, criterion=entropy, max_depth=103, max_features=56, min_samples_leaf=4, min_samples_split=9, n_estimators=29, random_state=42 \n",
      "[CV]  bootstrap=True, class_weight=None, criterion=gini, max_depth=None, max_features=17, min_samples_leaf=13, min_samples_split=13, n_estimators=14, random_state=42, total=   0.1s\n",
      "[CV] bootstrap=True, class_weight=None, criterion=entropy, max_depth=103, max_features=56, min_samples_leaf=4, min_samples_split=9, n_estimators=29, random_state=42 \n",
      "[CV]  bootstrap=True, class_weight=None, criterion=gini, max_depth=None, max_features=17, min_samples_leaf=13, min_samples_split=13, n_estimators=14, random_state=42, total=   0.1s\n",
      "[CV] bootstrap=True, class_weight=None, criterion=entropy, max_depth=103, max_features=56, min_samples_leaf=4, min_samples_split=9, n_estimators=29, random_state=42 \n",
      "[CV]  bootstrap=True, class_weight=None, criterion=gini, max_depth=None, max_features=17, min_samples_leaf=13, min_samples_split=13, n_estimators=14, random_state=42, total=   0.1s\n"
     ]
    },
    {
     "name": "stdout",
     "output_type": "stream",
     "text": [
      "[CV] bootstrap=True, class_weight=None, criterion=entropy, max_depth=103, max_features=56, min_samples_leaf=4, min_samples_split=9, n_estimators=29, random_state=42 \n",
      "[CV]  bootstrap=True, class_weight=None, criterion=entropy, max_depth=103, max_features=56, min_samples_leaf=4, min_samples_split=9, n_estimators=29, random_state=42, total=   0.3s\n",
      "[CV] bootstrap=True, class_weight=None, criterion=entropy, max_depth=103, max_features=56, min_samples_leaf=4, min_samples_split=9, n_estimators=29, random_state=42 \n",
      "[CV]  bootstrap=True, class_weight=None, criterion=entropy, max_depth=103, max_features=56, min_samples_leaf=4, min_samples_split=9, n_estimators=29, random_state=42, total=   0.2s\n",
      "[CV] bootstrap=False, class_weight=balanced, criterion=entropy, max_depth=None, max_features=39, min_samples_leaf=18, min_samples_split=6, n_estimators=18, random_state=42 \n",
      "[CV]  bootstrap=True, class_weight=None, criterion=entropy, max_depth=103, max_features=56, min_samples_leaf=4, min_samples_split=9, n_estimators=29, random_state=42, total=   0.2s\n",
      "[CV] bootstrap=False, class_weight=balanced, criterion=entropy, max_depth=None, max_features=39, min_samples_leaf=18, min_samples_split=6, n_estimators=18, random_state=42 \n",
      "[CV]  bootstrap=True, class_weight=None, criterion=entropy, max_depth=103, max_features=56, min_samples_leaf=4, min_samples_split=9, n_estimators=29, random_state=42, total=   0.3s\n",
      "[CV] bootstrap=False, class_weight=balanced, criterion=entropy, max_depth=None, max_features=39, min_samples_leaf=18, min_samples_split=6, n_estimators=18, random_state=42 \n",
      "[CV]  bootstrap=False, class_weight=balanced, criterion=entropy, max_depth=None, max_features=39, min_samples_leaf=18, min_samples_split=6, n_estimators=18, random_state=42, total=   0.2s\n",
      "[CV] bootstrap=False, class_weight=balanced, criterion=entropy, max_depth=None, max_features=39, min_samples_leaf=18, min_samples_split=6, n_estimators=18, random_state=42 \n",
      "[CV]  bootstrap=False, class_weight=balanced, criterion=entropy, max_depth=None, max_features=39, min_samples_leaf=18, min_samples_split=6, n_estimators=18, random_state=42, total=   0.2s\n",
      "[CV] bootstrap=False, class_weight=balanced, criterion=entropy, max_depth=None, max_features=39, min_samples_leaf=18, min_samples_split=6, n_estimators=18, random_state=42 \n",
      "[CV]  bootstrap=False, class_weight=balanced, criterion=entropy, max_depth=None, max_features=39, min_samples_leaf=18, min_samples_split=6, n_estimators=18, random_state=42, total=   0.2s\n",
      "[CV] bootstrap=False, class_weight=balanced, criterion=gini, max_depth=109, max_features=10, min_samples_leaf=16, min_samples_split=3, n_estimators=25, random_state=42 \n",
      "[CV]  bootstrap=True, class_weight=None, criterion=entropy, max_depth=103, max_features=56, min_samples_leaf=4, min_samples_split=9, n_estimators=29, random_state=42, total=   0.3s\n",
      "[CV] bootstrap=False, class_weight=balanced, criterion=gini, max_depth=109, max_features=10, min_samples_leaf=16, min_samples_split=3, n_estimators=25, random_state=42 \n",
      "[CV]  bootstrap=False, class_weight=balanced, criterion=entropy, max_depth=None, max_features=39, min_samples_leaf=18, min_samples_split=6, n_estimators=18, random_state=42, total=   0.1s\n",
      "[CV] bootstrap=False, class_weight=balanced, criterion=gini, max_depth=109, max_features=10, min_samples_leaf=16, min_samples_split=3, n_estimators=25, random_state=42 \n",
      "[CV]  bootstrap=False, class_weight=balanced, criterion=entropy, max_depth=None, max_features=39, min_samples_leaf=18, min_samples_split=6, n_estimators=18, random_state=42, total=   0.1s\n",
      "[CV] bootstrap=False, class_weight=balanced, criterion=gini, max_depth=109, max_features=10, min_samples_leaf=16, min_samples_split=3, n_estimators=25, random_state=42 \n",
      "[CV]  bootstrap=False, class_weight=balanced, criterion=gini, max_depth=109, max_features=10, min_samples_leaf=16, min_samples_split=3, n_estimators=25, random_state=42, total=   0.1s\n",
      "[CV]  bootstrap=False, class_weight=balanced, criterion=gini, max_depth=109, max_features=10, min_samples_leaf=16, min_samples_split=3, n_estimators=25, random_state=42, total=   0.1s\n",
      "[CV] bootstrap=False, class_weight=balanced, criterion=gini, max_depth=109, max_features=10, min_samples_leaf=16, min_samples_split=3, n_estimators=25, random_state=42 \n",
      "[CV] bootstrap=True, class_weight=None, criterion=gini, max_depth=104, max_features=10, min_samples_leaf=17, min_samples_split=8, n_estimators=14, random_state=42 \n",
      "[CV]  bootstrap=False, class_weight=balanced, criterion=gini, max_depth=109, max_features=10, min_samples_leaf=16, min_samples_split=3, n_estimators=25, random_state=42, total=   0.2s\n",
      "[CV] bootstrap=True, class_weight=None, criterion=gini, max_depth=104, max_features=10, min_samples_leaf=17, min_samples_split=8, n_estimators=14, random_state=42 \n",
      "[CV]  bootstrap=True, class_weight=None, criterion=gini, max_depth=104, max_features=10, min_samples_leaf=17, min_samples_split=8, n_estimators=14, random_state=42, total=   0.1s\n",
      "[CV]  bootstrap=False, class_weight=balanced, criterion=gini, max_depth=109, max_features=10, min_samples_leaf=16, min_samples_split=3, n_estimators=25, random_state=42, total=   0.1s\n",
      "[CV] bootstrap=True, class_weight=None, criterion=gini, max_depth=104, max_features=10, min_samples_leaf=17, min_samples_split=8, n_estimators=14, random_state=42 \n",
      "[CV] bootstrap=True, class_weight=None, criterion=gini, max_depth=104, max_features=10, min_samples_leaf=17, min_samples_split=8, n_estimators=14, random_state=42 \n",
      "[CV]  bootstrap=False, class_weight=balanced, criterion=gini, max_depth=109, max_features=10, min_samples_leaf=16, min_samples_split=3, n_estimators=25, random_state=42, total=   0.1s\n",
      "[CV] bootstrap=True, class_weight=None, criterion=gini, max_depth=104, max_features=10, min_samples_leaf=17, min_samples_split=8, n_estimators=14, random_state=42 \n",
      "[CV]  bootstrap=True, class_weight=None, criterion=gini, max_depth=104, max_features=10, min_samples_leaf=17, min_samples_split=8, n_estimators=14, random_state=42, total=   0.1s\n",
      "[CV] bootstrap=False, class_weight=balanced, criterion=gini, max_depth=102, max_features=35, min_samples_leaf=17, min_samples_split=6, n_estimators=23, random_state=42 \n",
      "[CV]  bootstrap=True, class_weight=None, criterion=gini, max_depth=104, max_features=10, min_samples_leaf=17, min_samples_split=8, n_estimators=14, random_state=42, total=   0.1s\n",
      "[CV] bootstrap=False, class_weight=balanced, criterion=gini, max_depth=102, max_features=35, min_samples_leaf=17, min_samples_split=6, n_estimators=23, random_state=42 \n",
      "[CV]  bootstrap=True, class_weight=None, criterion=gini, max_depth=104, max_features=10, min_samples_leaf=17, min_samples_split=8, n_estimators=14, random_state=42, total=   0.1s\n",
      "[CV] bootstrap=False, class_weight=balanced, criterion=gini, max_depth=102, max_features=35, min_samples_leaf=17, min_samples_split=6, n_estimators=23, random_state=42 \n",
      "[CV]  bootstrap=True, class_weight=None, criterion=gini, max_depth=104, max_features=10, min_samples_leaf=17, min_samples_split=8, n_estimators=14, random_state=42, total=   0.1s\n",
      "[CV] bootstrap=False, class_weight=balanced, criterion=gini, max_depth=102, max_features=35, min_samples_leaf=17, min_samples_split=6, n_estimators=23, random_state=42 \n",
      "[CV]  bootstrap=False, class_weight=balanced, criterion=gini, max_depth=102, max_features=35, min_samples_leaf=17, min_samples_split=6, n_estimators=23, random_state=42, total=   0.2s\n",
      "[CV] bootstrap=False, class_weight=balanced, criterion=gini, max_depth=102, max_features=35, min_samples_leaf=17, min_samples_split=6, n_estimators=23, random_state=42 \n",
      "[CV]  bootstrap=False, class_weight=balanced, criterion=gini, max_depth=102, max_features=35, min_samples_leaf=17, min_samples_split=6, n_estimators=23, random_state=42, total=   0.2s\n",
      "[CV]  bootstrap=False, class_weight=balanced, criterion=gini, max_depth=102, max_features=35, min_samples_leaf=17, min_samples_split=6, n_estimators=23, random_state=42, total=   0.1s\n",
      "[CV] bootstrap=False, class_weight=balanced, criterion=gini, max_depth=100, max_features=71, min_samples_leaf=6, min_samples_split=13, n_estimators=25, random_state=42 \n",
      "[CV] bootstrap=False, class_weight=balanced, criterion=gini, max_depth=100, max_features=71, min_samples_leaf=6, min_samples_split=13, n_estimators=25, random_state=42 \n"
     ]
    },
    {
     "name": "stdout",
     "output_type": "stream",
     "text": [
      "[CV]  bootstrap=False, class_weight=balanced, criterion=gini, max_depth=102, max_features=35, min_samples_leaf=17, min_samples_split=6, n_estimators=23, random_state=42, total=   0.2s\n",
      "[CV] bootstrap=False, class_weight=balanced, criterion=gini, max_depth=100, max_features=71, min_samples_leaf=6, min_samples_split=13, n_estimators=25, random_state=42 \n",
      "[CV]  bootstrap=False, class_weight=balanced, criterion=gini, max_depth=102, max_features=35, min_samples_leaf=17, min_samples_split=6, n_estimators=23, random_state=42, total=   0.2s\n",
      "[CV] bootstrap=False, class_weight=balanced, criterion=gini, max_depth=100, max_features=71, min_samples_leaf=6, min_samples_split=13, n_estimators=25, random_state=42 \n",
      "[CV]  bootstrap=False, class_weight=balanced, criterion=gini, max_depth=100, max_features=71, min_samples_leaf=6, min_samples_split=13, n_estimators=25, random_state=42, total=   0.3s\n",
      "[CV]  bootstrap=False, class_weight=balanced, criterion=gini, max_depth=100, max_features=71, min_samples_leaf=6, min_samples_split=13, n_estimators=25, random_state=42, total=   0.3s\n",
      "[CV] bootstrap=False, class_weight=balanced, criterion=gini, max_depth=100, max_features=71, min_samples_leaf=6, min_samples_split=13, n_estimators=25, random_state=42 \n",
      "[CV] bootstrap=False, class_weight=None, criterion=entropy, max_depth=104, max_features=48, min_samples_leaf=5, min_samples_split=2, n_estimators=14, random_state=42 \n",
      "[CV]  bootstrap=False, class_weight=balanced, criterion=gini, max_depth=100, max_features=71, min_samples_leaf=6, min_samples_split=13, n_estimators=25, random_state=42, total=   0.3s\n",
      "[CV] bootstrap=False, class_weight=None, criterion=entropy, max_depth=104, max_features=48, min_samples_leaf=5, min_samples_split=2, n_estimators=14, random_state=42 \n",
      "[CV]  bootstrap=False, class_weight=None, criterion=entropy, max_depth=104, max_features=48, min_samples_leaf=5, min_samples_split=2, n_estimators=14, random_state=42, total=   0.1s\n",
      "[CV] bootstrap=False, class_weight=None, criterion=entropy, max_depth=104, max_features=48, min_samples_leaf=5, min_samples_split=2, n_estimators=14, random_state=42 \n",
      "[CV]  bootstrap=False, class_weight=balanced, criterion=gini, max_depth=100, max_features=71, min_samples_leaf=6, min_samples_split=13, n_estimators=25, random_state=42, total=   0.3s\n",
      "[CV] bootstrap=False, class_weight=None, criterion=entropy, max_depth=104, max_features=48, min_samples_leaf=5, min_samples_split=2, n_estimators=14, random_state=42 \n",
      "[CV]  bootstrap=False, class_weight=None, criterion=entropy, max_depth=104, max_features=48, min_samples_leaf=5, min_samples_split=2, n_estimators=14, random_state=42, total=   0.2s\n",
      "[CV] bootstrap=False, class_weight=None, criterion=entropy, max_depth=104, max_features=48, min_samples_leaf=5, min_samples_split=2, n_estimators=14, random_state=42 \n",
      "[CV]  bootstrap=False, class_weight=balanced, criterion=gini, max_depth=100, max_features=71, min_samples_leaf=6, min_samples_split=13, n_estimators=25, random_state=42, total=   0.3s\n",
      "[CV] bootstrap=True, class_weight=None, criterion=entropy, max_depth=105, max_features=43, min_samples_leaf=11, min_samples_split=2, n_estimators=14, random_state=42 \n",
      "[CV]  bootstrap=False, class_weight=None, criterion=entropy, max_depth=104, max_features=48, min_samples_leaf=5, min_samples_split=2, n_estimators=14, random_state=42, total=   0.2s\n",
      "[CV] bootstrap=True, class_weight=None, criterion=entropy, max_depth=105, max_features=43, min_samples_leaf=11, min_samples_split=2, n_estimators=14, random_state=42 \n",
      "[CV]  bootstrap=False, class_weight=None, criterion=entropy, max_depth=104, max_features=48, min_samples_leaf=5, min_samples_split=2, n_estimators=14, random_state=42, total=   0.2s\n",
      "[CV] bootstrap=True, class_weight=None, criterion=entropy, max_depth=105, max_features=43, min_samples_leaf=11, min_samples_split=2, n_estimators=14, random_state=42 \n",
      "[CV]  bootstrap=False, class_weight=None, criterion=entropy, max_depth=104, max_features=48, min_samples_leaf=5, min_samples_split=2, n_estimators=14, random_state=42, total=   0.2s\n",
      "[CV] bootstrap=True, class_weight=None, criterion=entropy, max_depth=105, max_features=43, min_samples_leaf=11, min_samples_split=2, n_estimators=14, random_state=42 \n",
      "[CV]  bootstrap=True, class_weight=None, criterion=entropy, max_depth=105, max_features=43, min_samples_leaf=11, min_samples_split=2, n_estimators=14, random_state=42, total=   0.1s\n",
      "[CV]  bootstrap=True, class_weight=None, criterion=entropy, max_depth=105, max_features=43, min_samples_leaf=11, min_samples_split=2, n_estimators=14, random_state=42, total=   0.1s\n",
      "[CV] bootstrap=True, class_weight=None, criterion=entropy, max_depth=105, max_features=43, min_samples_leaf=11, min_samples_split=2, n_estimators=14, random_state=42 \n",
      "[CV] bootstrap=True, class_weight=None, criterion=entropy, max_depth=107, max_features=11, min_samples_leaf=18, min_samples_split=13, n_estimators=27, random_state=42 \n",
      "[CV]  bootstrap=True, class_weight=None, criterion=entropy, max_depth=105, max_features=43, min_samples_leaf=11, min_samples_split=2, n_estimators=14, random_state=42, total=   0.1s\n",
      "[CV] bootstrap=True, class_weight=None, criterion=entropy, max_depth=107, max_features=11, min_samples_leaf=18, min_samples_split=13, n_estimators=27, random_state=42 \n",
      "[CV]  bootstrap=True, class_weight=None, criterion=entropy, max_depth=105, max_features=43, min_samples_leaf=11, min_samples_split=2, n_estimators=14, random_state=42, total=   0.1s\n",
      "[CV] bootstrap=True, class_weight=None, criterion=entropy, max_depth=107, max_features=11, min_samples_leaf=18, min_samples_split=13, n_estimators=27, random_state=42 \n",
      "[CV]  bootstrap=True, class_weight=None, criterion=entropy, max_depth=105, max_features=43, min_samples_leaf=11, min_samples_split=2, n_estimators=14, random_state=42, total=   0.1s\n",
      "[CV] bootstrap=True, class_weight=None, criterion=entropy, max_depth=107, max_features=11, min_samples_leaf=18, min_samples_split=13, n_estimators=27, random_state=42 \n",
      "[CV]  bootstrap=True, class_weight=None, criterion=entropy, max_depth=107, max_features=11, min_samples_leaf=18, min_samples_split=13, n_estimators=27, random_state=42, total=   0.1s\n",
      "[CV] bootstrap=True, class_weight=None, criterion=entropy, max_depth=107, max_features=11, min_samples_leaf=18, min_samples_split=13, n_estimators=27, random_state=42 \n",
      "[CV]  bootstrap=True, class_weight=None, criterion=entropy, max_depth=107, max_features=11, min_samples_leaf=18, min_samples_split=13, n_estimators=27, random_state=42, total=   0.1s\n",
      "[CV] bootstrap=True, class_weight=None, criterion=gini, max_depth=100, max_features=70, min_samples_leaf=12, min_samples_split=6, n_estimators=21, random_state=42 \n",
      "[CV]  bootstrap=True, class_weight=None, criterion=entropy, max_depth=107, max_features=11, min_samples_leaf=18, min_samples_split=13, n_estimators=27, random_state=42, total=   0.1s\n",
      "[CV] bootstrap=True, class_weight=None, criterion=gini, max_depth=100, max_features=70, min_samples_leaf=12, min_samples_split=6, n_estimators=21, random_state=42 \n",
      "[CV]  bootstrap=True, class_weight=None, criterion=entropy, max_depth=107, max_features=11, min_samples_leaf=18, min_samples_split=13, n_estimators=27, random_state=42, total=   0.1s\n",
      "[CV] bootstrap=True, class_weight=None, criterion=gini, max_depth=100, max_features=70, min_samples_leaf=12, min_samples_split=6, n_estimators=21, random_state=42 \n",
      "[CV]  bootstrap=True, class_weight=None, criterion=entropy, max_depth=107, max_features=11, min_samples_leaf=18, min_samples_split=13, n_estimators=27, random_state=42, total=   0.1s\n",
      "[CV] bootstrap=True, class_weight=None, criterion=gini, max_depth=100, max_features=70, min_samples_leaf=12, min_samples_split=6, n_estimators=21, random_state=42 \n",
      "[CV]  bootstrap=True, class_weight=None, criterion=gini, max_depth=100, max_features=70, min_samples_leaf=12, min_samples_split=6, n_estimators=21, random_state=42, total=   0.2s\n",
      "[CV] bootstrap=True, class_weight=None, criterion=gini, max_depth=100, max_features=70, min_samples_leaf=12, min_samples_split=6, n_estimators=21, random_state=42 \n",
      "[CV]  bootstrap=True, class_weight=None, criterion=gini, max_depth=100, max_features=70, min_samples_leaf=12, min_samples_split=6, n_estimators=21, random_state=42, total=   0.2s\n"
     ]
    },
    {
     "name": "stdout",
     "output_type": "stream",
     "text": [
      "[CV] bootstrap=True, class_weight=balanced, criterion=gini, max_depth=107, max_features=52, min_samples_leaf=13, min_samples_split=14, n_estimators=21, random_state=42 \n",
      "[CV]  bootstrap=True, class_weight=None, criterion=gini, max_depth=100, max_features=70, min_samples_leaf=12, min_samples_split=6, n_estimators=21, random_state=42, total=   0.2s\n",
      "[CV] bootstrap=True, class_weight=balanced, criterion=gini, max_depth=107, max_features=52, min_samples_leaf=13, min_samples_split=14, n_estimators=21, random_state=42 \n",
      "[CV]  bootstrap=True, class_weight=None, criterion=gini, max_depth=100, max_features=70, min_samples_leaf=12, min_samples_split=6, n_estimators=21, random_state=42, total=   0.2s\n",
      "[CV] bootstrap=True, class_weight=balanced, criterion=gini, max_depth=107, max_features=52, min_samples_leaf=13, min_samples_split=14, n_estimators=21, random_state=42 \n",
      "[CV]  bootstrap=True, class_weight=None, criterion=gini, max_depth=100, max_features=70, min_samples_leaf=12, min_samples_split=6, n_estimators=21, random_state=42, total=   0.2s\n",
      "[CV] bootstrap=True, class_weight=balanced, criterion=gini, max_depth=107, max_features=52, min_samples_leaf=13, min_samples_split=14, n_estimators=21, random_state=42 \n",
      "[CV]  bootstrap=True, class_weight=balanced, criterion=gini, max_depth=107, max_features=52, min_samples_leaf=13, min_samples_split=14, n_estimators=21, random_state=42, total=   0.1s\n",
      "[CV] bootstrap=True, class_weight=balanced, criterion=gini, max_depth=107, max_features=52, min_samples_leaf=13, min_samples_split=14, n_estimators=21, random_state=42 \n",
      "[CV]  bootstrap=True, class_weight=balanced, criterion=gini, max_depth=107, max_features=52, min_samples_leaf=13, min_samples_split=14, n_estimators=21, random_state=42, total=   0.1s\n",
      "[CV] bootstrap=True, class_weight=None, criterion=entropy, max_depth=102, max_features=44, min_samples_leaf=18, min_samples_split=9, n_estimators=19, random_state=42 \n",
      "[CV]  bootstrap=True, class_weight=balanced, criterion=gini, max_depth=107, max_features=52, min_samples_leaf=13, min_samples_split=14, n_estimators=21, random_state=42, total=   0.1s\n",
      "[CV] bootstrap=True, class_weight=None, criterion=entropy, max_depth=102, max_features=44, min_samples_leaf=18, min_samples_split=9, n_estimators=19, random_state=42 \n",
      "[CV]  bootstrap=True, class_weight=balanced, criterion=gini, max_depth=107, max_features=52, min_samples_leaf=13, min_samples_split=14, n_estimators=21, random_state=42, total=   0.1s\n",
      "[CV] bootstrap=True, class_weight=None, criterion=entropy, max_depth=102, max_features=44, min_samples_leaf=18, min_samples_split=9, n_estimators=19, random_state=42 \n",
      "[CV]  bootstrap=True, class_weight=balanced, criterion=gini, max_depth=107, max_features=52, min_samples_leaf=13, min_samples_split=14, n_estimators=21, random_state=42, total=   0.1s\n",
      "[CV] bootstrap=True, class_weight=None, criterion=entropy, max_depth=102, max_features=44, min_samples_leaf=18, min_samples_split=9, n_estimators=19, random_state=42 \n",
      "[CV]  bootstrap=True, class_weight=None, criterion=entropy, max_depth=102, max_features=44, min_samples_leaf=18, min_samples_split=9, n_estimators=19, random_state=42, total=   0.1s\n",
      "[CV] bootstrap=True, class_weight=None, criterion=entropy, max_depth=102, max_features=44, min_samples_leaf=18, min_samples_split=9, n_estimators=19, random_state=42 \n",
      "[CV]  bootstrap=True, class_weight=None, criterion=entropy, max_depth=102, max_features=44, min_samples_leaf=18, min_samples_split=9, n_estimators=19, random_state=42, total=   0.1s\n",
      "[CV] bootstrap=False, class_weight=None, criterion=entropy, max_depth=102, max_features=16, min_samples_leaf=5, min_samples_split=19, n_estimators=22, random_state=42 \n",
      "[CV]  bootstrap=True, class_weight=None, criterion=entropy, max_depth=102, max_features=44, min_samples_leaf=18, min_samples_split=9, n_estimators=19, random_state=42, total=   0.1s\n",
      "[CV] bootstrap=False, class_weight=None, criterion=entropy, max_depth=102, max_features=16, min_samples_leaf=5, min_samples_split=19, n_estimators=22, random_state=42 \n",
      "[CV]  bootstrap=True, class_weight=None, criterion=entropy, max_depth=102, max_features=44, min_samples_leaf=18, min_samples_split=9, n_estimators=19, random_state=42, total=   0.2s\n",
      "[CV] bootstrap=False, class_weight=None, criterion=entropy, max_depth=102, max_features=16, min_samples_leaf=5, min_samples_split=19, n_estimators=22, random_state=42 \n",
      "[CV]  bootstrap=True, class_weight=None, criterion=entropy, max_depth=102, max_features=44, min_samples_leaf=18, min_samples_split=9, n_estimators=19, random_state=42, total=   0.2s\n",
      "[CV] bootstrap=False, class_weight=None, criterion=entropy, max_depth=102, max_features=16, min_samples_leaf=5, min_samples_split=19, n_estimators=22, random_state=42 \n",
      "[CV]  bootstrap=False, class_weight=None, criterion=entropy, max_depth=102, max_features=16, min_samples_leaf=5, min_samples_split=19, n_estimators=22, random_state=42, total=   0.2s\n",
      "[CV] bootstrap=False, class_weight=None, criterion=entropy, max_depth=102, max_features=16, min_samples_leaf=5, min_samples_split=19, n_estimators=22, random_state=42 \n",
      "[CV]  bootstrap=False, class_weight=None, criterion=entropy, max_depth=102, max_features=16, min_samples_leaf=5, min_samples_split=19, n_estimators=22, random_state=42, total=   0.1s\n",
      "[CV] bootstrap=True, class_weight=balanced, criterion=entropy, max_depth=103, max_features=30, min_samples_leaf=5, min_samples_split=11, n_estimators=14, random_state=42 \n",
      "[CV]  bootstrap=False, class_weight=None, criterion=entropy, max_depth=102, max_features=16, min_samples_leaf=5, min_samples_split=19, n_estimators=22, random_state=42, total=   0.1s\n",
      "[CV] bootstrap=True, class_weight=balanced, criterion=entropy, max_depth=103, max_features=30, min_samples_leaf=5, min_samples_split=11, n_estimators=14, random_state=42 \n",
      "[CV]  bootstrap=False, class_weight=None, criterion=entropy, max_depth=102, max_features=16, min_samples_leaf=5, min_samples_split=19, n_estimators=22, random_state=42, total=   0.2s\n",
      "[CV] bootstrap=True, class_weight=balanced, criterion=entropy, max_depth=103, max_features=30, min_samples_leaf=5, min_samples_split=11, n_estimators=14, random_state=42 \n",
      "[CV]  bootstrap=True, class_weight=balanced, criterion=entropy, max_depth=103, max_features=30, min_samples_leaf=5, min_samples_split=11, n_estimators=14, random_state=42, total=   0.1s\n",
      "[CV] bootstrap=True, class_weight=balanced, criterion=entropy, max_depth=103, max_features=30, min_samples_leaf=5, min_samples_split=11, n_estimators=14, random_state=42 \n",
      "[CV]  bootstrap=False, class_weight=None, criterion=entropy, max_depth=102, max_features=16, min_samples_leaf=5, min_samples_split=19, n_estimators=22, random_state=42, total=   0.2s\n",
      "[CV] bootstrap=True, class_weight=balanced, criterion=entropy, max_depth=103, max_features=30, min_samples_leaf=5, min_samples_split=11, n_estimators=14, random_state=42 \n",
      "[CV]  bootstrap=True, class_weight=balanced, criterion=entropy, max_depth=103, max_features=30, min_samples_leaf=5, min_samples_split=11, n_estimators=14, random_state=42, total=   0.1s\n",
      "[CV] bootstrap=True, class_weight=None, criterion=entropy, max_depth=102, max_features=58, min_samples_leaf=4, min_samples_split=17, n_estimators=13, random_state=42 \n",
      "[CV]  bootstrap=True, class_weight=balanced, criterion=entropy, max_depth=103, max_features=30, min_samples_leaf=5, min_samples_split=11, n_estimators=14, random_state=42, total=   0.1s\n",
      "[CV] bootstrap=True, class_weight=None, criterion=entropy, max_depth=102, max_features=58, min_samples_leaf=4, min_samples_split=17, n_estimators=13, random_state=42 \n",
      "[CV]  bootstrap=True, class_weight=balanced, criterion=entropy, max_depth=103, max_features=30, min_samples_leaf=5, min_samples_split=11, n_estimators=14, random_state=42, total=   0.1s\n",
      "[CV] bootstrap=True, class_weight=None, criterion=entropy, max_depth=102, max_features=58, min_samples_leaf=4, min_samples_split=17, n_estimators=13, random_state=42 \n",
      "[CV]  bootstrap=True, class_weight=balanced, criterion=entropy, max_depth=103, max_features=30, min_samples_leaf=5, min_samples_split=11, n_estimators=14, random_state=42, total=   0.1s\n",
      "[CV] bootstrap=True, class_weight=None, criterion=entropy, max_depth=102, max_features=58, min_samples_leaf=4, min_samples_split=17, n_estimators=13, random_state=42 \n"
     ]
    },
    {
     "name": "stdout",
     "output_type": "stream",
     "text": [
      "[CV]  bootstrap=True, class_weight=None, criterion=entropy, max_depth=102, max_features=58, min_samples_leaf=4, min_samples_split=17, n_estimators=13, random_state=42, total=   0.1s\n",
      "[CV] bootstrap=True, class_weight=None, criterion=entropy, max_depth=102, max_features=58, min_samples_leaf=4, min_samples_split=17, n_estimators=13, random_state=42 \n",
      "[CV]  bootstrap=True, class_weight=None, criterion=entropy, max_depth=102, max_features=58, min_samples_leaf=4, min_samples_split=17, n_estimators=13, random_state=42, total=   0.1s\n",
      "[CV] bootstrap=False, class_weight=balanced, criterion=gini, max_depth=107, max_features=32, min_samples_leaf=6, min_samples_split=13, n_estimators=26, random_state=42 \n",
      "[CV]  bootstrap=True, class_weight=None, criterion=entropy, max_depth=102, max_features=58, min_samples_leaf=4, min_samples_split=17, n_estimators=13, random_state=42, total=   0.1s\n",
      "[CV]  bootstrap=True, class_weight=None, criterion=entropy, max_depth=102, max_features=58, min_samples_leaf=4, min_samples_split=17, n_estimators=13, random_state=42, total=   0.1s\n",
      "[CV] bootstrap=False, class_weight=balanced, criterion=gini, max_depth=107, max_features=32, min_samples_leaf=6, min_samples_split=13, n_estimators=26, random_state=42 \n",
      "[CV] bootstrap=False, class_weight=balanced, criterion=gini, max_depth=107, max_features=32, min_samples_leaf=6, min_samples_split=13, n_estimators=26, random_state=42 \n",
      "[CV]  bootstrap=True, class_weight=None, criterion=entropy, max_depth=102, max_features=58, min_samples_leaf=4, min_samples_split=17, n_estimators=13, random_state=42, total=   0.1s\n",
      "[CV] bootstrap=False, class_weight=balanced, criterion=gini, max_depth=107, max_features=32, min_samples_leaf=6, min_samples_split=13, n_estimators=26, random_state=42 \n",
      "[CV]  bootstrap=False, class_weight=balanced, criterion=gini, max_depth=107, max_features=32, min_samples_leaf=6, min_samples_split=13, n_estimators=26, random_state=42, total=   0.2s\n",
      "[CV] bootstrap=False, class_weight=balanced, criterion=gini, max_depth=107, max_features=32, min_samples_leaf=6, min_samples_split=13, n_estimators=26, random_state=42 \n",
      "[CV]  bootstrap=False, class_weight=balanced, criterion=gini, max_depth=107, max_features=32, min_samples_leaf=6, min_samples_split=13, n_estimators=26, random_state=42, total=   0.2s\n",
      "[CV]  bootstrap=False, class_weight=balanced, criterion=gini, max_depth=107, max_features=32, min_samples_leaf=6, min_samples_split=13, n_estimators=26, random_state=42, total=   0.2s\n",
      "[CV] bootstrap=True, class_weight=balanced, criterion=gini, max_depth=108, max_features=39, min_samples_leaf=18, min_samples_split=18, n_estimators=29, random_state=42 \n",
      "[CV] bootstrap=True, class_weight=balanced, criterion=gini, max_depth=108, max_features=39, min_samples_leaf=18, min_samples_split=18, n_estimators=29, random_state=42 \n",
      "[CV]  bootstrap=False, class_weight=balanced, criterion=gini, max_depth=107, max_features=32, min_samples_leaf=6, min_samples_split=13, n_estimators=26, random_state=42, total=   0.2s\n",
      "[CV] bootstrap=True, class_weight=balanced, criterion=gini, max_depth=108, max_features=39, min_samples_leaf=18, min_samples_split=18, n_estimators=29, random_state=42 \n",
      "[CV]  bootstrap=False, class_weight=balanced, criterion=gini, max_depth=107, max_features=32, min_samples_leaf=6, min_samples_split=13, n_estimators=26, random_state=42, total=   0.2s\n",
      "[CV] bootstrap=True, class_weight=balanced, criterion=gini, max_depth=108, max_features=39, min_samples_leaf=18, min_samples_split=18, n_estimators=29, random_state=42 \n",
      "[CV]  bootstrap=True, class_weight=balanced, criterion=gini, max_depth=108, max_features=39, min_samples_leaf=18, min_samples_split=18, n_estimators=29, random_state=42, total=   0.2s\n",
      "[CV] bootstrap=True, class_weight=balanced, criterion=gini, max_depth=108, max_features=39, min_samples_leaf=18, min_samples_split=18, n_estimators=29, random_state=42 \n",
      "[CV]  bootstrap=True, class_weight=balanced, criterion=gini, max_depth=108, max_features=39, min_samples_leaf=18, min_samples_split=18, n_estimators=29, random_state=42, total=   0.2s\n",
      "[CV] bootstrap=False, class_weight=balanced, criterion=entropy, max_depth=110, max_features=28, min_samples_leaf=18, min_samples_split=5, n_estimators=21, random_state=42 \n",
      "[CV]  bootstrap=True, class_weight=balanced, criterion=gini, max_depth=108, max_features=39, min_samples_leaf=18, min_samples_split=18, n_estimators=29, random_state=42, total=   0.2s\n",
      "[CV] bootstrap=False, class_weight=balanced, criterion=entropy, max_depth=110, max_features=28, min_samples_leaf=18, min_samples_split=5, n_estimators=21, random_state=42 \n",
      "[CV]  bootstrap=False, class_weight=balanced, criterion=entropy, max_depth=110, max_features=28, min_samples_leaf=18, min_samples_split=5, n_estimators=21, random_state=42, total=   0.1s\n",
      "[CV] bootstrap=False, class_weight=balanced, criterion=entropy, max_depth=110, max_features=28, min_samples_leaf=18, min_samples_split=5, n_estimators=21, random_state=42 \n",
      "[CV]  bootstrap=True, class_weight=balanced, criterion=gini, max_depth=108, max_features=39, min_samples_leaf=18, min_samples_split=18, n_estimators=29, random_state=42, total=   0.2s\n",
      "[CV]  bootstrap=True, class_weight=balanced, criterion=gini, max_depth=108, max_features=39, min_samples_leaf=18, min_samples_split=18, n_estimators=29, random_state=42, total=   0.2s\n",
      "[CV] bootstrap=False, class_weight=balanced, criterion=entropy, max_depth=110, max_features=28, min_samples_leaf=18, min_samples_split=5, n_estimators=21, random_state=42 \n",
      "[CV] bootstrap=False, class_weight=balanced, criterion=entropy, max_depth=110, max_features=28, min_samples_leaf=18, min_samples_split=5, n_estimators=21, random_state=42 \n",
      "[CV]  bootstrap=False, class_weight=balanced, criterion=entropy, max_depth=110, max_features=28, min_samples_leaf=18, min_samples_split=5, n_estimators=21, random_state=42, total=   0.1s\n",
      "[CV] bootstrap=True, class_weight=balanced, criterion=gini, max_depth=None, max_features=18, min_samples_leaf=8, min_samples_split=15, n_estimators=29, random_state=42 \n",
      "[CV]  bootstrap=False, class_weight=balanced, criterion=entropy, max_depth=110, max_features=28, min_samples_leaf=18, min_samples_split=5, n_estimators=21, random_state=42, total=   0.1s\n",
      "[CV] bootstrap=True, class_weight=balanced, criterion=gini, max_depth=None, max_features=18, min_samples_leaf=8, min_samples_split=15, n_estimators=29, random_state=42 \n",
      "[CV]  bootstrap=False, class_weight=balanced, criterion=entropy, max_depth=110, max_features=28, min_samples_leaf=18, min_samples_split=5, n_estimators=21, random_state=42, total=   0.2s\n",
      "[CV] bootstrap=True, class_weight=balanced, criterion=gini, max_depth=None, max_features=18, min_samples_leaf=8, min_samples_split=15, n_estimators=29, random_state=42 \n",
      "[CV]  bootstrap=False, class_weight=balanced, criterion=entropy, max_depth=110, max_features=28, min_samples_leaf=18, min_samples_split=5, n_estimators=21, random_state=42, total=   0.1s\n",
      "[CV] bootstrap=True, class_weight=balanced, criterion=gini, max_depth=None, max_features=18, min_samples_leaf=8, min_samples_split=15, n_estimators=29, random_state=42 \n",
      "[CV]  bootstrap=True, class_weight=balanced, criterion=gini, max_depth=None, max_features=18, min_samples_leaf=8, min_samples_split=15, n_estimators=29, random_state=42, total=   0.1s\n",
      "[CV] bootstrap=True, class_weight=balanced, criterion=gini, max_depth=None, max_features=18, min_samples_leaf=8, min_samples_split=15, n_estimators=29, random_state=42 \n",
      "[CV]  bootstrap=True, class_weight=balanced, criterion=gini, max_depth=None, max_features=18, min_samples_leaf=8, min_samples_split=15, n_estimators=29, random_state=42, total=   0.2s\n",
      "[CV] bootstrap=True, class_weight=None, criterion=gini, max_depth=104, max_features=21, min_samples_leaf=5, min_samples_split=17, n_estimators=16, random_state=42 \n",
      "[CV]  bootstrap=True, class_weight=balanced, criterion=gini, max_depth=None, max_features=18, min_samples_leaf=8, min_samples_split=15, n_estimators=29, random_state=42, total=   0.2s\n",
      "[CV] bootstrap=True, class_weight=None, criterion=gini, max_depth=104, max_features=21, min_samples_leaf=5, min_samples_split=17, n_estimators=16, random_state=42 \n",
      "[CV]  bootstrap=True, class_weight=balanced, criterion=gini, max_depth=None, max_features=18, min_samples_leaf=8, min_samples_split=15, n_estimators=29, random_state=42, total=   0.1s\n"
     ]
    },
    {
     "name": "stdout",
     "output_type": "stream",
     "text": [
      "[CV] bootstrap=True, class_weight=None, criterion=gini, max_depth=104, max_features=21, min_samples_leaf=5, min_samples_split=17, n_estimators=16, random_state=42 \n",
      "[CV]  bootstrap=True, class_weight=balanced, criterion=gini, max_depth=None, max_features=18, min_samples_leaf=8, min_samples_split=15, n_estimators=29, random_state=42, total=   0.2s\n",
      "[CV] bootstrap=True, class_weight=None, criterion=gini, max_depth=104, max_features=21, min_samples_leaf=5, min_samples_split=17, n_estimators=16, random_state=42 \n",
      "[CV]  bootstrap=True, class_weight=None, criterion=gini, max_depth=104, max_features=21, min_samples_leaf=5, min_samples_split=17, n_estimators=16, random_state=42, total=   0.1s\n",
      "[CV] bootstrap=True, class_weight=None, criterion=gini, max_depth=104, max_features=21, min_samples_leaf=5, min_samples_split=17, n_estimators=16, random_state=42 \n",
      "[CV]  bootstrap=True, class_weight=None, criterion=gini, max_depth=104, max_features=21, min_samples_leaf=5, min_samples_split=17, n_estimators=16, random_state=42, total=   0.1s\n",
      "[CV] bootstrap=True, class_weight=balanced, criterion=entropy, max_depth=109, max_features=48, min_samples_leaf=15, min_samples_split=6, n_estimators=12, random_state=42 \n",
      "[CV]  bootstrap=True, class_weight=None, criterion=gini, max_depth=104, max_features=21, min_samples_leaf=5, min_samples_split=17, n_estimators=16, random_state=42, total=   0.1s\n",
      "[CV] bootstrap=True, class_weight=balanced, criterion=entropy, max_depth=109, max_features=48, min_samples_leaf=15, min_samples_split=6, n_estimators=12, random_state=42 \n",
      "[CV]  bootstrap=True, class_weight=None, criterion=gini, max_depth=104, max_features=21, min_samples_leaf=5, min_samples_split=17, n_estimators=16, random_state=42, total=   0.1s\n",
      "[CV] bootstrap=True, class_weight=balanced, criterion=entropy, max_depth=109, max_features=48, min_samples_leaf=15, min_samples_split=6, n_estimators=12, random_state=42 \n",
      "[CV]  bootstrap=True, class_weight=balanced, criterion=entropy, max_depth=109, max_features=48, min_samples_leaf=15, min_samples_split=6, n_estimators=12, random_state=42, total=   0.1s\n",
      "[CV]  bootstrap=True, class_weight=None, criterion=gini, max_depth=104, max_features=21, min_samples_leaf=5, min_samples_split=17, n_estimators=16, random_state=42, total=   0.1s\n",
      "[CV] bootstrap=True, class_weight=balanced, criterion=entropy, max_depth=109, max_features=48, min_samples_leaf=15, min_samples_split=6, n_estimators=12, random_state=42 \n",
      "[CV] bootstrap=True, class_weight=balanced, criterion=entropy, max_depth=109, max_features=48, min_samples_leaf=15, min_samples_split=6, n_estimators=12, random_state=42 \n",
      "[CV]  bootstrap=True, class_weight=balanced, criterion=entropy, max_depth=109, max_features=48, min_samples_leaf=15, min_samples_split=6, n_estimators=12, random_state=42, total=   0.1s\n",
      "[CV] bootstrap=True, class_weight=balanced, criterion=gini, max_depth=110, max_features=27, min_samples_leaf=16, min_samples_split=13, n_estimators=18, random_state=42 \n",
      "[CV]  bootstrap=True, class_weight=balanced, criterion=entropy, max_depth=109, max_features=48, min_samples_leaf=15, min_samples_split=6, n_estimators=12, random_state=42, total=   0.1s\n",
      "[CV] bootstrap=True, class_weight=balanced, criterion=gini, max_depth=110, max_features=27, min_samples_leaf=16, min_samples_split=13, n_estimators=18, random_state=42 \n",
      "[CV]  bootstrap=True, class_weight=balanced, criterion=entropy, max_depth=109, max_features=48, min_samples_leaf=15, min_samples_split=6, n_estimators=12, random_state=42, total=   0.1s\n",
      "[CV] bootstrap=True, class_weight=balanced, criterion=gini, max_depth=110, max_features=27, min_samples_leaf=16, min_samples_split=13, n_estimators=18, random_state=42 \n",
      "[CV]  bootstrap=True, class_weight=balanced, criterion=entropy, max_depth=109, max_features=48, min_samples_leaf=15, min_samples_split=6, n_estimators=12, random_state=42, total=   0.1s\n",
      "[CV] bootstrap=True, class_weight=balanced, criterion=gini, max_depth=110, max_features=27, min_samples_leaf=16, min_samples_split=13, n_estimators=18, random_state=42 \n",
      "[CV]  bootstrap=True, class_weight=balanced, criterion=gini, max_depth=110, max_features=27, min_samples_leaf=16, min_samples_split=13, n_estimators=18, random_state=42, total=   0.1s\n",
      "[CV] bootstrap=True, class_weight=balanced, criterion=gini, max_depth=110, max_features=27, min_samples_leaf=16, min_samples_split=13, n_estimators=18, random_state=42 \n",
      "[CV]  bootstrap=True, class_weight=balanced, criterion=gini, max_depth=110, max_features=27, min_samples_leaf=16, min_samples_split=13, n_estimators=18, random_state=42, total=   0.1s\n"
     ]
    },
    {
     "name": "stderr",
     "output_type": "stream",
     "text": [
      "[Parallel(n_jobs=-1)]: Done 357 tasks      | elapsed:   18.2s\n"
     ]
    },
    {
     "name": "stdout",
     "output_type": "stream",
     "text": [
      "[CV] bootstrap=False, class_weight=None, criterion=entropy, max_depth=100, max_features=16, min_samples_leaf=15, min_samples_split=14, n_estimators=17, random_state=42 \n",
      "[CV]  bootstrap=True, class_weight=balanced, criterion=gini, max_depth=110, max_features=27, min_samples_leaf=16, min_samples_split=13, n_estimators=18, random_state=42, total=   0.1s\n",
      "[CV] bootstrap=False, class_weight=None, criterion=entropy, max_depth=100, max_features=16, min_samples_leaf=15, min_samples_split=14, n_estimators=17, random_state=42 \n",
      "[CV]  bootstrap=True, class_weight=balanced, criterion=gini, max_depth=110, max_features=27, min_samples_leaf=16, min_samples_split=13, n_estimators=18, random_state=42, total=   0.1s\n",
      "[CV] bootstrap=False, class_weight=None, criterion=entropy, max_depth=100, max_features=16, min_samples_leaf=15, min_samples_split=14, n_estimators=17, random_state=42 \n",
      "[CV]  bootstrap=True, class_weight=balanced, criterion=gini, max_depth=110, max_features=27, min_samples_leaf=16, min_samples_split=13, n_estimators=18, random_state=42, total=   0.1s\n",
      "[CV] bootstrap=False, class_weight=None, criterion=entropy, max_depth=100, max_features=16, min_samples_leaf=15, min_samples_split=14, n_estimators=17, random_state=42 \n",
      "[CV]  bootstrap=False, class_weight=None, criterion=entropy, max_depth=100, max_features=16, min_samples_leaf=15, min_samples_split=14, n_estimators=17, random_state=42, total=   0.1s\n",
      "[CV] bootstrap=False, class_weight=None, criterion=entropy, max_depth=100, max_features=16, min_samples_leaf=15, min_samples_split=14, n_estimators=17, random_state=42 \n",
      "[CV]  bootstrap=False, class_weight=None, criterion=entropy, max_depth=100, max_features=16, min_samples_leaf=15, min_samples_split=14, n_estimators=17, random_state=42, total=   0.1s\n",
      "[CV] bootstrap=False, class_weight=balanced, criterion=entropy, max_depth=110, max_features=75, min_samples_leaf=6, min_samples_split=6, n_estimators=15, random_state=42 \n",
      "[CV]  bootstrap=False, class_weight=None, criterion=entropy, max_depth=100, max_features=16, min_samples_leaf=15, min_samples_split=14, n_estimators=17, random_state=42, total=   0.1s\n",
      "[CV] bootstrap=False, class_weight=balanced, criterion=entropy, max_depth=110, max_features=75, min_samples_leaf=6, min_samples_split=6, n_estimators=15, random_state=42 \n",
      "[CV]  bootstrap=False, class_weight=None, criterion=entropy, max_depth=100, max_features=16, min_samples_leaf=15, min_samples_split=14, n_estimators=17, random_state=42, total=   0.1s\n",
      "[CV] bootstrap=False, class_weight=balanced, criterion=entropy, max_depth=110, max_features=75, min_samples_leaf=6, min_samples_split=6, n_estimators=15, random_state=42 \n",
      "[CV]  bootstrap=False, class_weight=None, criterion=entropy, max_depth=100, max_features=16, min_samples_leaf=15, min_samples_split=14, n_estimators=17, random_state=42, total=   0.1s\n",
      "[CV] bootstrap=False, class_weight=balanced, criterion=entropy, max_depth=110, max_features=75, min_samples_leaf=6, min_samples_split=6, n_estimators=15, random_state=42 \n",
      "[CV]  bootstrap=False, class_weight=balanced, criterion=entropy, max_depth=110, max_features=75, min_samples_leaf=6, min_samples_split=6, n_estimators=15, random_state=42, total=   0.2s\n",
      "[CV] bootstrap=False, class_weight=balanced, criterion=entropy, max_depth=110, max_features=75, min_samples_leaf=6, min_samples_split=6, n_estimators=15, random_state=42 \n",
      "[CV]  bootstrap=False, class_weight=balanced, criterion=entropy, max_depth=110, max_features=75, min_samples_leaf=6, min_samples_split=6, n_estimators=15, random_state=42, total=   0.2s\n",
      "[CV] bootstrap=True, class_weight=None, criterion=entropy, max_depth=100, max_features=26, min_samples_leaf=8, min_samples_split=14, n_estimators=13, random_state=42 \n",
      "[CV]  bootstrap=False, class_weight=balanced, criterion=entropy, max_depth=110, max_features=75, min_samples_leaf=6, min_samples_split=6, n_estimators=15, random_state=42, total=   0.2s\n",
      "[CV] bootstrap=True, class_weight=None, criterion=entropy, max_depth=100, max_features=26, min_samples_leaf=8, min_samples_split=14, n_estimators=13, random_state=42 \n",
      "[CV]  bootstrap=False, class_weight=balanced, criterion=entropy, max_depth=110, max_features=75, min_samples_leaf=6, min_samples_split=6, n_estimators=15, random_state=42, total=   0.2s\n",
      "[CV] bootstrap=True, class_weight=None, criterion=entropy, max_depth=100, max_features=26, min_samples_leaf=8, min_samples_split=14, n_estimators=13, random_state=42 \n",
      "[CV]  bootstrap=True, class_weight=None, criterion=entropy, max_depth=100, max_features=26, min_samples_leaf=8, min_samples_split=14, n_estimators=13, random_state=42, total=   0.1s\n",
      "[CV] bootstrap=True, class_weight=None, criterion=entropy, max_depth=100, max_features=26, min_samples_leaf=8, min_samples_split=14, n_estimators=13, random_state=42 \n",
      "[CV]  bootstrap=True, class_weight=None, criterion=entropy, max_depth=100, max_features=26, min_samples_leaf=8, min_samples_split=14, n_estimators=13, random_state=42, total=   0.1s\n",
      "[CV] bootstrap=True, class_weight=None, criterion=entropy, max_depth=100, max_features=26, min_samples_leaf=8, min_samples_split=14, n_estimators=13, random_state=42 \n",
      "[CV]  bootstrap=False, class_weight=balanced, criterion=entropy, max_depth=110, max_features=75, min_samples_leaf=6, min_samples_split=6, n_estimators=15, random_state=42, total=   0.2s\n",
      "[CV] bootstrap=False, class_weight=None, criterion=entropy, max_depth=102, max_features=70, min_samples_leaf=13, min_samples_split=8, n_estimators=19, random_state=42 \n",
      "[CV]  bootstrap=True, class_weight=None, criterion=entropy, max_depth=100, max_features=26, min_samples_leaf=8, min_samples_split=14, n_estimators=13, random_state=42, total=   0.1s\n",
      "[CV] bootstrap=False, class_weight=None, criterion=entropy, max_depth=102, max_features=70, min_samples_leaf=13, min_samples_split=8, n_estimators=19, random_state=42 \n",
      "[CV]  bootstrap=True, class_weight=None, criterion=entropy, max_depth=100, max_features=26, min_samples_leaf=8, min_samples_split=14, n_estimators=13, random_state=42, total=   0.1s\n",
      "[CV] bootstrap=False, class_weight=None, criterion=entropy, max_depth=102, max_features=70, min_samples_leaf=13, min_samples_split=8, n_estimators=19, random_state=42 \n",
      "[CV]  bootstrap=True, class_weight=None, criterion=entropy, max_depth=100, max_features=26, min_samples_leaf=8, min_samples_split=14, n_estimators=13, random_state=42, total=   0.1s\n",
      "[CV] bootstrap=False, class_weight=None, criterion=entropy, max_depth=102, max_features=70, min_samples_leaf=13, min_samples_split=8, n_estimators=19, random_state=42 \n",
      "[CV]  bootstrap=False, class_weight=None, criterion=entropy, max_depth=102, max_features=70, min_samples_leaf=13, min_samples_split=8, n_estimators=19, random_state=42, total=   0.2s\n",
      "[CV] bootstrap=False, class_weight=None, criterion=entropy, max_depth=102, max_features=70, min_samples_leaf=13, min_samples_split=8, n_estimators=19, random_state=42 \n",
      "[CV]  bootstrap=False, class_weight=None, criterion=entropy, max_depth=102, max_features=70, min_samples_leaf=13, min_samples_split=8, n_estimators=19, random_state=42, total=   0.2s\n",
      "[CV] bootstrap=False, class_weight=balanced, criterion=gini, max_depth=102, max_features=54, min_samples_leaf=14, min_samples_split=19, n_estimators=29, random_state=42 \n",
      "[CV]  bootstrap=False, class_weight=None, criterion=entropy, max_depth=102, max_features=70, min_samples_leaf=13, min_samples_split=8, n_estimators=19, random_state=42, total=   0.2s\n",
      "[CV] bootstrap=False, class_weight=balanced, criterion=gini, max_depth=102, max_features=54, min_samples_leaf=14, min_samples_split=19, n_estimators=29, random_state=42 \n",
      "[CV]  bootstrap=False, class_weight=None, criterion=entropy, max_depth=102, max_features=70, min_samples_leaf=13, min_samples_split=8, n_estimators=19, random_state=42, total=   0.2s\n",
      "[CV] bootstrap=False, class_weight=balanced, criterion=gini, max_depth=102, max_features=54, min_samples_leaf=14, min_samples_split=19, n_estimators=29, random_state=42 \n",
      "[CV]  bootstrap=False, class_weight=None, criterion=entropy, max_depth=102, max_features=70, min_samples_leaf=13, min_samples_split=8, n_estimators=19, random_state=42, total=   0.2s\n",
      "[CV] bootstrap=False, class_weight=balanced, criterion=gini, max_depth=102, max_features=54, min_samples_leaf=14, min_samples_split=19, n_estimators=29, random_state=42 \n"
     ]
    },
    {
     "name": "stdout",
     "output_type": "stream",
     "text": [
      "[CV]  bootstrap=False, class_weight=balanced, criterion=gini, max_depth=102, max_features=54, min_samples_leaf=14, min_samples_split=19, n_estimators=29, random_state=42, total=   0.2s\n",
      "[CV] bootstrap=False, class_weight=balanced, criterion=gini, max_depth=102, max_features=54, min_samples_leaf=14, min_samples_split=19, n_estimators=29, random_state=42 \n",
      "[CV]  bootstrap=False, class_weight=balanced, criterion=gini, max_depth=102, max_features=54, min_samples_leaf=14, min_samples_split=19, n_estimators=29, random_state=42, total=   0.2s\n",
      "[CV] bootstrap=False, class_weight=None, criterion=gini, max_depth=108, max_features=48, min_samples_leaf=2, min_samples_split=4, n_estimators=22, random_state=42 \n",
      "[CV]  bootstrap=False, class_weight=balanced, criterion=gini, max_depth=102, max_features=54, min_samples_leaf=14, min_samples_split=19, n_estimators=29, random_state=42, total=   0.2s\n",
      "[CV] bootstrap=False, class_weight=None, criterion=gini, max_depth=108, max_features=48, min_samples_leaf=2, min_samples_split=4, n_estimators=22, random_state=42 \n",
      "[CV]  bootstrap=False, class_weight=balanced, criterion=gini, max_depth=102, max_features=54, min_samples_leaf=14, min_samples_split=19, n_estimators=29, random_state=42, total=   0.3s\n",
      "[CV] bootstrap=False, class_weight=None, criterion=gini, max_depth=108, max_features=48, min_samples_leaf=2, min_samples_split=4, n_estimators=22, random_state=42 \n",
      "[CV]  bootstrap=False, class_weight=balanced, criterion=gini, max_depth=102, max_features=54, min_samples_leaf=14, min_samples_split=19, n_estimators=29, random_state=42, total=   0.3s\n",
      "[CV] bootstrap=False, class_weight=None, criterion=gini, max_depth=108, max_features=48, min_samples_leaf=2, min_samples_split=4, n_estimators=22, random_state=42 \n",
      "[CV]  bootstrap=False, class_weight=None, criterion=gini, max_depth=108, max_features=48, min_samples_leaf=2, min_samples_split=4, n_estimators=22, random_state=42, total=   0.3s\n",
      "[CV] bootstrap=False, class_weight=None, criterion=gini, max_depth=108, max_features=48, min_samples_leaf=2, min_samples_split=4, n_estimators=22, random_state=42 \n",
      "[CV]  bootstrap=False, class_weight=None, criterion=gini, max_depth=108, max_features=48, min_samples_leaf=2, min_samples_split=4, n_estimators=22, random_state=42, total=   0.3s\n",
      "[CV] bootstrap=False, class_weight=None, criterion=gini, max_depth=None, max_features=34, min_samples_leaf=2, min_samples_split=7, n_estimators=15, random_state=42 \n",
      "[CV]  bootstrap=False, class_weight=None, criterion=gini, max_depth=None, max_features=34, min_samples_leaf=2, min_samples_split=7, n_estimators=15, random_state=42, total=   0.2s\n",
      "[CV]  bootstrap=False, class_weight=None, criterion=gini, max_depth=108, max_features=48, min_samples_leaf=2, min_samples_split=4, n_estimators=22, random_state=42, total=   0.3s\n",
      "[CV] bootstrap=False, class_weight=None, criterion=gini, max_depth=None, max_features=34, min_samples_leaf=2, min_samples_split=7, n_estimators=15, random_state=42 \n",
      "[CV] bootstrap=False, class_weight=None, criterion=gini, max_depth=None, max_features=34, min_samples_leaf=2, min_samples_split=7, n_estimators=15, random_state=42 \n",
      "[CV]  bootstrap=False, class_weight=None, criterion=gini, max_depth=108, max_features=48, min_samples_leaf=2, min_samples_split=4, n_estimators=22, random_state=42, total=   0.3s\n",
      "[CV] bootstrap=False, class_weight=None, criterion=gini, max_depth=None, max_features=34, min_samples_leaf=2, min_samples_split=7, n_estimators=15, random_state=42 \n",
      "[CV]  bootstrap=False, class_weight=None, criterion=gini, max_depth=108, max_features=48, min_samples_leaf=2, min_samples_split=4, n_estimators=22, random_state=42, total=   0.3s\n",
      "[CV] bootstrap=False, class_weight=None, criterion=gini, max_depth=None, max_features=34, min_samples_leaf=2, min_samples_split=7, n_estimators=15, random_state=42 \n",
      "[CV]  bootstrap=False, class_weight=None, criterion=gini, max_depth=None, max_features=34, min_samples_leaf=2, min_samples_split=7, n_estimators=15, random_state=42, total=   0.2s\n",
      "[CV] bootstrap=False, class_weight=None, criterion=gini, max_depth=104, max_features=45, min_samples_leaf=4, min_samples_split=19, n_estimators=24, random_state=42 \n",
      "[CV]  bootstrap=False, class_weight=None, criterion=gini, max_depth=None, max_features=34, min_samples_leaf=2, min_samples_split=7, n_estimators=15, random_state=42, total=   0.2s\n",
      "[CV] bootstrap=False, class_weight=None, criterion=gini, max_depth=104, max_features=45, min_samples_leaf=4, min_samples_split=19, n_estimators=24, random_state=42 \n",
      "[CV]  bootstrap=False, class_weight=None, criterion=gini, max_depth=None, max_features=34, min_samples_leaf=2, min_samples_split=7, n_estimators=15, random_state=42, total=   0.2s\n",
      "[CV] bootstrap=False, class_weight=None, criterion=gini, max_depth=104, max_features=45, min_samples_leaf=4, min_samples_split=19, n_estimators=24, random_state=42 \n",
      "[CV]  bootstrap=False, class_weight=None, criterion=gini, max_depth=None, max_features=34, min_samples_leaf=2, min_samples_split=7, n_estimators=15, random_state=42, total=   0.1s\n",
      "[CV] bootstrap=False, class_weight=None, criterion=gini, max_depth=104, max_features=45, min_samples_leaf=4, min_samples_split=19, n_estimators=24, random_state=42 \n",
      "[CV]  bootstrap=False, class_weight=None, criterion=gini, max_depth=104, max_features=45, min_samples_leaf=4, min_samples_split=19, n_estimators=24, random_state=42, total=   0.2s\n",
      "[CV] bootstrap=False, class_weight=None, criterion=gini, max_depth=104, max_features=45, min_samples_leaf=4, min_samples_split=19, n_estimators=24, random_state=42 \n",
      "[CV]  bootstrap=False, class_weight=None, criterion=gini, max_depth=104, max_features=45, min_samples_leaf=4, min_samples_split=19, n_estimators=24, random_state=42, total=   0.2s\n",
      "[CV] bootstrap=True, class_weight=balanced, criterion=entropy, max_depth=100, max_features=63, min_samples_leaf=4, min_samples_split=17, n_estimators=20, random_state=42 \n",
      "[CV]  bootstrap=False, class_weight=None, criterion=gini, max_depth=104, max_features=45, min_samples_leaf=4, min_samples_split=19, n_estimators=24, random_state=42, total=   0.2s\n",
      "[CV] bootstrap=True, class_weight=balanced, criterion=entropy, max_depth=100, max_features=63, min_samples_leaf=4, min_samples_split=17, n_estimators=20, random_state=42 \n",
      "[CV]  bootstrap=False, class_weight=None, criterion=gini, max_depth=104, max_features=45, min_samples_leaf=4, min_samples_split=19, n_estimators=24, random_state=42, total=   0.2s\n",
      "[CV] bootstrap=True, class_weight=balanced, criterion=entropy, max_depth=100, max_features=63, min_samples_leaf=4, min_samples_split=17, n_estimators=20, random_state=42 \n",
      "[CV]  bootstrap=True, class_weight=balanced, criterion=entropy, max_depth=100, max_features=63, min_samples_leaf=4, min_samples_split=17, n_estimators=20, random_state=42, total=   0.2s\n",
      "[CV] bootstrap=True, class_weight=balanced, criterion=entropy, max_depth=100, max_features=63, min_samples_leaf=4, min_samples_split=17, n_estimators=20, random_state=42 \n",
      "[CV]  bootstrap=False, class_weight=None, criterion=gini, max_depth=104, max_features=45, min_samples_leaf=4, min_samples_split=19, n_estimators=24, random_state=42, total=   0.2s\n",
      "[CV] bootstrap=True, class_weight=balanced, criterion=entropy, max_depth=100, max_features=63, min_samples_leaf=4, min_samples_split=17, n_estimators=20, random_state=42 \n",
      "[CV]  bootstrap=True, class_weight=balanced, criterion=entropy, max_depth=100, max_features=63, min_samples_leaf=4, min_samples_split=17, n_estimators=20, random_state=42, total=   0.2s\n",
      "[CV] bootstrap=False, class_weight=None, criterion=entropy, max_depth=107, max_features=33, min_samples_leaf=9, min_samples_split=5, n_estimators=17, random_state=42 \n",
      "[CV]  bootstrap=True, class_weight=balanced, criterion=entropy, max_depth=100, max_features=63, min_samples_leaf=4, min_samples_split=17, n_estimators=20, random_state=42, total=   0.2s\n",
      "[CV] bootstrap=False, class_weight=None, criterion=entropy, max_depth=107, max_features=33, min_samples_leaf=9, min_samples_split=5, n_estimators=17, random_state=42 \n",
      "[CV]  bootstrap=True, class_weight=balanced, criterion=entropy, max_depth=100, max_features=63, min_samples_leaf=4, min_samples_split=17, n_estimators=20, random_state=42, total=   0.2s\n"
     ]
    },
    {
     "name": "stdout",
     "output_type": "stream",
     "text": [
      "[CV] bootstrap=False, class_weight=None, criterion=entropy, max_depth=107, max_features=33, min_samples_leaf=9, min_samples_split=5, n_estimators=17, random_state=42 \n",
      "[CV]  bootstrap=True, class_weight=balanced, criterion=entropy, max_depth=100, max_features=63, min_samples_leaf=4, min_samples_split=17, n_estimators=20, random_state=42, total=   0.2s\n",
      "[CV] bootstrap=False, class_weight=None, criterion=entropy, max_depth=107, max_features=33, min_samples_leaf=9, min_samples_split=5, n_estimators=17, random_state=42 \n",
      "[CV]  bootstrap=False, class_weight=None, criterion=entropy, max_depth=107, max_features=33, min_samples_leaf=9, min_samples_split=5, n_estimators=17, random_state=42, total=   0.1s\n",
      "[CV] bootstrap=False, class_weight=None, criterion=entropy, max_depth=107, max_features=33, min_samples_leaf=9, min_samples_split=5, n_estimators=17, random_state=42 \n",
      "[CV]  bootstrap=False, class_weight=None, criterion=entropy, max_depth=107, max_features=33, min_samples_leaf=9, min_samples_split=5, n_estimators=17, random_state=42, total=   0.1s\n",
      "[CV] bootstrap=False, class_weight=None, criterion=entropy, max_depth=None, max_features=50, min_samples_leaf=5, min_samples_split=18, n_estimators=18, random_state=42 \n",
      "[CV]  bootstrap=False, class_weight=None, criterion=entropy, max_depth=107, max_features=33, min_samples_leaf=9, min_samples_split=5, n_estimators=17, random_state=42, total=   0.2s\n",
      "[CV] bootstrap=False, class_weight=None, criterion=entropy, max_depth=None, max_features=50, min_samples_leaf=5, min_samples_split=18, n_estimators=18, random_state=42 \n",
      "[CV]  bootstrap=False, class_weight=None, criterion=entropy, max_depth=107, max_features=33, min_samples_leaf=9, min_samples_split=5, n_estimators=17, random_state=42, total=   0.1s\n",
      "[CV] bootstrap=False, class_weight=None, criterion=entropy, max_depth=None, max_features=50, min_samples_leaf=5, min_samples_split=18, n_estimators=18, random_state=42 \n",
      "[CV]  bootstrap=False, class_weight=None, criterion=entropy, max_depth=107, max_features=33, min_samples_leaf=9, min_samples_split=5, n_estimators=17, random_state=42, total=   0.1s\n",
      "[CV] bootstrap=False, class_weight=None, criterion=entropy, max_depth=None, max_features=50, min_samples_leaf=5, min_samples_split=18, n_estimators=18, random_state=42 \n",
      "[CV]  bootstrap=False, class_weight=None, criterion=entropy, max_depth=None, max_features=50, min_samples_leaf=5, min_samples_split=18, n_estimators=18, random_state=42, total=   0.2s\n",
      "[CV] bootstrap=False, class_weight=None, criterion=entropy, max_depth=None, max_features=50, min_samples_leaf=5, min_samples_split=18, n_estimators=18, random_state=42 \n",
      "[CV]  bootstrap=False, class_weight=None, criterion=entropy, max_depth=None, max_features=50, min_samples_leaf=5, min_samples_split=18, n_estimators=18, random_state=42, total=   0.2s\n",
      "[CV] bootstrap=True, class_weight=balanced, criterion=entropy, max_depth=None, max_features=38, min_samples_leaf=14, min_samples_split=15, n_estimators=12, random_state=42 \n",
      "[CV]  bootstrap=False, class_weight=None, criterion=entropy, max_depth=None, max_features=50, min_samples_leaf=5, min_samples_split=18, n_estimators=18, random_state=42, total=   0.2s\n",
      "[CV] bootstrap=True, class_weight=balanced, criterion=entropy, max_depth=None, max_features=38, min_samples_leaf=14, min_samples_split=15, n_estimators=12, random_state=42 \n",
      "[CV]  bootstrap=False, class_weight=None, criterion=entropy, max_depth=None, max_features=50, min_samples_leaf=5, min_samples_split=18, n_estimators=18, random_state=42, total=   0.2s\n",
      "[CV] bootstrap=True, class_weight=balanced, criterion=entropy, max_depth=None, max_features=38, min_samples_leaf=14, min_samples_split=15, n_estimators=12, random_state=42 \n",
      "[CV]  bootstrap=False, class_weight=None, criterion=entropy, max_depth=None, max_features=50, min_samples_leaf=5, min_samples_split=18, n_estimators=18, random_state=42, total=   0.2s\n",
      "[CV] bootstrap=True, class_weight=balanced, criterion=entropy, max_depth=None, max_features=38, min_samples_leaf=14, min_samples_split=15, n_estimators=12, random_state=42 \n",
      "[CV]  bootstrap=True, class_weight=balanced, criterion=entropy, max_depth=None, max_features=38, min_samples_leaf=14, min_samples_split=15, n_estimators=12, random_state=42, total=   0.1s\n",
      "[CV]  bootstrap=True, class_weight=balanced, criterion=entropy, max_depth=None, max_features=38, min_samples_leaf=14, min_samples_split=15, n_estimators=12, random_state=42, total=   0.1s\n",
      "[CV] bootstrap=True, class_weight=balanced, criterion=entropy, max_depth=None, max_features=38, min_samples_leaf=14, min_samples_split=15, n_estimators=12, random_state=42 \n",
      "[CV] bootstrap=True, class_weight=None, criterion=entropy, max_depth=102, max_features=56, min_samples_leaf=3, min_samples_split=11, n_estimators=27, random_state=42 \n",
      "[CV]  bootstrap=True, class_weight=balanced, criterion=entropy, max_depth=None, max_features=38, min_samples_leaf=14, min_samples_split=15, n_estimators=12, random_state=42, total=   0.1s\n",
      "[CV] bootstrap=True, class_weight=None, criterion=entropy, max_depth=102, max_features=56, min_samples_leaf=3, min_samples_split=11, n_estimators=27, random_state=42 \n",
      "[CV]  bootstrap=True, class_weight=balanced, criterion=entropy, max_depth=None, max_features=38, min_samples_leaf=14, min_samples_split=15, n_estimators=12, random_state=42, total=   0.1s\n",
      "[CV] bootstrap=True, class_weight=None, criterion=entropy, max_depth=102, max_features=56, min_samples_leaf=3, min_samples_split=11, n_estimators=27, random_state=42 \n",
      "[CV]  bootstrap=True, class_weight=balanced, criterion=entropy, max_depth=None, max_features=38, min_samples_leaf=14, min_samples_split=15, n_estimators=12, random_state=42, total=   0.1s\n",
      "[CV] bootstrap=True, class_weight=None, criterion=entropy, max_depth=102, max_features=56, min_samples_leaf=3, min_samples_split=11, n_estimators=27, random_state=42 \n",
      "[CV]  bootstrap=True, class_weight=None, criterion=entropy, max_depth=102, max_features=56, min_samples_leaf=3, min_samples_split=11, n_estimators=27, random_state=42, total=   0.2s\n",
      "[CV] bootstrap=True, class_weight=None, criterion=entropy, max_depth=102, max_features=56, min_samples_leaf=3, min_samples_split=11, n_estimators=27, random_state=42 \n",
      "[CV]  bootstrap=True, class_weight=None, criterion=entropy, max_depth=102, max_features=56, min_samples_leaf=3, min_samples_split=11, n_estimators=27, random_state=42, total=   0.2s\n",
      "[CV] bootstrap=True, class_weight=balanced, criterion=gini, max_depth=106, max_features=42, min_samples_leaf=2, min_samples_split=19, n_estimators=24, random_state=42 \n",
      "[CV]  bootstrap=True, class_weight=None, criterion=entropy, max_depth=102, max_features=56, min_samples_leaf=3, min_samples_split=11, n_estimators=27, random_state=42, total=   0.3s\n",
      "[CV] bootstrap=True, class_weight=balanced, criterion=gini, max_depth=106, max_features=42, min_samples_leaf=2, min_samples_split=19, n_estimators=24, random_state=42 \n",
      "[CV]  bootstrap=True, class_weight=None, criterion=entropy, max_depth=102, max_features=56, min_samples_leaf=3, min_samples_split=11, n_estimators=27, random_state=42, total=   0.3s\n",
      "[CV] bootstrap=True, class_weight=balanced, criterion=gini, max_depth=106, max_features=42, min_samples_leaf=2, min_samples_split=19, n_estimators=24, random_state=42 \n",
      "[CV]  bootstrap=True, class_weight=balanced, criterion=gini, max_depth=106, max_features=42, min_samples_leaf=2, min_samples_split=19, n_estimators=24, random_state=42, total=   0.2s\n",
      "[CV] bootstrap=True, class_weight=balanced, criterion=gini, max_depth=106, max_features=42, min_samples_leaf=2, min_samples_split=19, n_estimators=24, random_state=42 \n",
      "[CV]  bootstrap=True, class_weight=balanced, criterion=gini, max_depth=106, max_features=42, min_samples_leaf=2, min_samples_split=19, n_estimators=24, random_state=42, total=   0.2s\n",
      "[CV] bootstrap=True, class_weight=balanced, criterion=gini, max_depth=106, max_features=42, min_samples_leaf=2, min_samples_split=19, n_estimators=24, random_state=42 \n",
      "[CV]  bootstrap=True, class_weight=None, criterion=entropy, max_depth=102, max_features=56, min_samples_leaf=3, min_samples_split=11, n_estimators=27, random_state=42, total=   0.3s\n",
      "[CV] bootstrap=True, class_weight=balanced, criterion=gini, max_depth=109, max_features=72, min_samples_leaf=18, min_samples_split=14, n_estimators=10, random_state=42 \n"
     ]
    },
    {
     "name": "stdout",
     "output_type": "stream",
     "text": [
      "[CV]  bootstrap=True, class_weight=balanced, criterion=gini, max_depth=106, max_features=42, min_samples_leaf=2, min_samples_split=19, n_estimators=24, random_state=42, total=   0.2s\n",
      "[CV] bootstrap=True, class_weight=balanced, criterion=gini, max_depth=109, max_features=72, min_samples_leaf=18, min_samples_split=14, n_estimators=10, random_state=42 \n",
      "[CV]  bootstrap=True, class_weight=balanced, criterion=gini, max_depth=109, max_features=72, min_samples_leaf=18, min_samples_split=14, n_estimators=10, random_state=42, total=   0.1s\n",
      "[CV] bootstrap=True, class_weight=balanced, criterion=gini, max_depth=109, max_features=72, min_samples_leaf=18, min_samples_split=14, n_estimators=10, random_state=42 \n",
      "[CV]  bootstrap=True, class_weight=balanced, criterion=gini, max_depth=109, max_features=72, min_samples_leaf=18, min_samples_split=14, n_estimators=10, random_state=42, total=   0.1s\n",
      "[CV] bootstrap=True, class_weight=balanced, criterion=gini, max_depth=109, max_features=72, min_samples_leaf=18, min_samples_split=14, n_estimators=10, random_state=42 \n",
      "[CV]  bootstrap=True, class_weight=balanced, criterion=gini, max_depth=106, max_features=42, min_samples_leaf=2, min_samples_split=19, n_estimators=24, random_state=42, total=   0.2s\n",
      "[CV] bootstrap=True, class_weight=balanced, criterion=gini, max_depth=109, max_features=72, min_samples_leaf=18, min_samples_split=14, n_estimators=10, random_state=42 \n",
      "[CV]  bootstrap=True, class_weight=balanced, criterion=gini, max_depth=109, max_features=72, min_samples_leaf=18, min_samples_split=14, n_estimators=10, random_state=42, total=   0.1s\n",
      "[CV] bootstrap=False, class_weight=balanced, criterion=gini, max_depth=100, max_features=30, min_samples_leaf=17, min_samples_split=7, n_estimators=26, random_state=42 \n",
      "[CV]  bootstrap=True, class_weight=balanced, criterion=gini, max_depth=106, max_features=42, min_samples_leaf=2, min_samples_split=19, n_estimators=24, random_state=42, total=   0.2s\n",
      "[CV] bootstrap=False, class_weight=balanced, criterion=gini, max_depth=100, max_features=30, min_samples_leaf=17, min_samples_split=7, n_estimators=26, random_state=42 \n",
      "[CV]  bootstrap=True, class_weight=balanced, criterion=gini, max_depth=109, max_features=72, min_samples_leaf=18, min_samples_split=14, n_estimators=10, random_state=42, total=   0.1s\n",
      "[CV] bootstrap=False, class_weight=balanced, criterion=gini, max_depth=100, max_features=30, min_samples_leaf=17, min_samples_split=7, n_estimators=26, random_state=42 \n",
      "[CV]  bootstrap=True, class_weight=balanced, criterion=gini, max_depth=109, max_features=72, min_samples_leaf=18, min_samples_split=14, n_estimators=10, random_state=42, total=   0.1s\n",
      "[CV] bootstrap=False, class_weight=balanced, criterion=gini, max_depth=100, max_features=30, min_samples_leaf=17, min_samples_split=7, n_estimators=26, random_state=42 \n",
      "[CV]  bootstrap=False, class_weight=balanced, criterion=gini, max_depth=100, max_features=30, min_samples_leaf=17, min_samples_split=7, n_estimators=26, random_state=42, total=   0.2s\n",
      "[CV]  bootstrap=False, class_weight=balanced, criterion=gini, max_depth=100, max_features=30, min_samples_leaf=17, min_samples_split=7, n_estimators=26, random_state=42, total=   0.2s\n",
      "[CV] bootstrap=False, class_weight=balanced, criterion=gini, max_depth=100, max_features=30, min_samples_leaf=17, min_samples_split=7, n_estimators=26, random_state=42 \n",
      "[CV] bootstrap=True, class_weight=balanced, criterion=gini, max_depth=105, max_features=12, min_samples_leaf=6, min_samples_split=6, n_estimators=19, random_state=42 \n",
      "[CV]  bootstrap=False, class_weight=balanced, criterion=gini, max_depth=100, max_features=30, min_samples_leaf=17, min_samples_split=7, n_estimators=26, random_state=42, total=   0.2s\n",
      "[CV] bootstrap=True, class_weight=balanced, criterion=gini, max_depth=105, max_features=12, min_samples_leaf=6, min_samples_split=6, n_estimators=19, random_state=42 \n",
      "[CV]  bootstrap=False, class_weight=balanced, criterion=gini, max_depth=100, max_features=30, min_samples_leaf=17, min_samples_split=7, n_estimators=26, random_state=42, total=   0.2s\n",
      "[CV] bootstrap=True, class_weight=balanced, criterion=gini, max_depth=105, max_features=12, min_samples_leaf=6, min_samples_split=6, n_estimators=19, random_state=42 \n",
      "[CV]  bootstrap=True, class_weight=balanced, criterion=gini, max_depth=105, max_features=12, min_samples_leaf=6, min_samples_split=6, n_estimators=19, random_state=42, total=   0.1s\n",
      "[CV] bootstrap=True, class_weight=balanced, criterion=gini, max_depth=105, max_features=12, min_samples_leaf=6, min_samples_split=6, n_estimators=19, random_state=42 \n",
      "[CV]  bootstrap=True, class_weight=balanced, criterion=gini, max_depth=105, max_features=12, min_samples_leaf=6, min_samples_split=6, n_estimators=19, random_state=42, total=   0.1s\n",
      "[CV] bootstrap=True, class_weight=balanced, criterion=gini, max_depth=105, max_features=12, min_samples_leaf=6, min_samples_split=6, n_estimators=19, random_state=42 \n",
      "[CV]  bootstrap=False, class_weight=balanced, criterion=gini, max_depth=100, max_features=30, min_samples_leaf=17, min_samples_split=7, n_estimators=26, random_state=42, total=   0.2s\n",
      "[CV]  bootstrap=True, class_weight=balanced, criterion=gini, max_depth=105, max_features=12, min_samples_leaf=6, min_samples_split=6, n_estimators=19, random_state=42, total=   0.1s\n",
      "[CV] bootstrap=False, class_weight=balanced, criterion=gini, max_depth=104, max_features=10, min_samples_leaf=14, min_samples_split=14, n_estimators=13, random_state=42 \n",
      "[CV] bootstrap=False, class_weight=balanced, criterion=gini, max_depth=104, max_features=10, min_samples_leaf=14, min_samples_split=14, n_estimators=13, random_state=42 \n",
      "[CV]  bootstrap=True, class_weight=balanced, criterion=gini, max_depth=105, max_features=12, min_samples_leaf=6, min_samples_split=6, n_estimators=19, random_state=42, total=   0.1s\n",
      "[CV] bootstrap=False, class_weight=balanced, criterion=gini, max_depth=104, max_features=10, min_samples_leaf=14, min_samples_split=14, n_estimators=13, random_state=42 \n",
      "[CV]  bootstrap=False, class_weight=balanced, criterion=gini, max_depth=104, max_features=10, min_samples_leaf=14, min_samples_split=14, n_estimators=13, random_state=42, total=   0.1s\n",
      "[CV]  bootstrap=True, class_weight=balanced, criterion=gini, max_depth=105, max_features=12, min_samples_leaf=6, min_samples_split=6, n_estimators=19, random_state=42, total=   0.1s\n",
      "[CV] bootstrap=False, class_weight=balanced, criterion=gini, max_depth=104, max_features=10, min_samples_leaf=14, min_samples_split=14, n_estimators=13, random_state=42 \n",
      "[CV] bootstrap=False, class_weight=balanced, criterion=gini, max_depth=104, max_features=10, min_samples_leaf=14, min_samples_split=14, n_estimators=13, random_state=42 \n",
      "[CV]  bootstrap=False, class_weight=balanced, criterion=gini, max_depth=104, max_features=10, min_samples_leaf=14, min_samples_split=14, n_estimators=13, random_state=42, total=   0.1s\n",
      "[CV] bootstrap=False, class_weight=balanced, criterion=gini, max_depth=107, max_features=41, min_samples_leaf=3, min_samples_split=9, n_estimators=16, random_state=42 \n",
      "[CV]  bootstrap=False, class_weight=balanced, criterion=gini, max_depth=104, max_features=10, min_samples_leaf=14, min_samples_split=14, n_estimators=13, random_state=42, total=   0.1s\n",
      "[CV] bootstrap=False, class_weight=balanced, criterion=gini, max_depth=107, max_features=41, min_samples_leaf=3, min_samples_split=9, n_estimators=16, random_state=42 \n",
      "[CV]  bootstrap=False, class_weight=balanced, criterion=gini, max_depth=104, max_features=10, min_samples_leaf=14, min_samples_split=14, n_estimators=13, random_state=42, total=   0.1s\n",
      "[CV]  bootstrap=False, class_weight=balanced, criterion=gini, max_depth=104, max_features=10, min_samples_leaf=14, min_samples_split=14, n_estimators=13, random_state=42, total=   0.1s\n",
      "[CV] bootstrap=False, class_weight=balanced, criterion=gini, max_depth=107, max_features=41, min_samples_leaf=3, min_samples_split=9, n_estimators=16, random_state=42 \n",
      "[CV] bootstrap=False, class_weight=balanced, criterion=gini, max_depth=107, max_features=41, min_samples_leaf=3, min_samples_split=9, n_estimators=16, random_state=42 \n",
      "[CV]  bootstrap=False, class_weight=balanced, criterion=gini, max_depth=107, max_features=41, min_samples_leaf=3, min_samples_split=9, n_estimators=16, random_state=42, total=   0.2s\n"
     ]
    },
    {
     "name": "stdout",
     "output_type": "stream",
     "text": [
      "[CV] bootstrap=False, class_weight=balanced, criterion=gini, max_depth=107, max_features=41, min_samples_leaf=3, min_samples_split=9, n_estimators=16, random_state=42 \n",
      "[CV]  bootstrap=False, class_weight=balanced, criterion=gini, max_depth=107, max_features=41, min_samples_leaf=3, min_samples_split=9, n_estimators=16, random_state=42, total=   0.2s\n",
      "[CV] bootstrap=False, class_weight=None, criterion=entropy, max_depth=105, max_features=12, min_samples_leaf=19, min_samples_split=13, n_estimators=10, random_state=42 \n",
      "[CV]  bootstrap=False, class_weight=balanced, criterion=gini, max_depth=107, max_features=41, min_samples_leaf=3, min_samples_split=9, n_estimators=16, random_state=42, total=   0.1s\n",
      "[CV] bootstrap=False, class_weight=None, criterion=entropy, max_depth=105, max_features=12, min_samples_leaf=19, min_samples_split=13, n_estimators=10, random_state=42 \n",
      "[CV]  bootstrap=False, class_weight=balanced, criterion=gini, max_depth=107, max_features=41, min_samples_leaf=3, min_samples_split=9, n_estimators=16, random_state=42, total=   0.1s\n",
      "[CV] bootstrap=False, class_weight=None, criterion=entropy, max_depth=105, max_features=12, min_samples_leaf=19, min_samples_split=13, n_estimators=10, random_state=42 \n",
      "[CV]  bootstrap=False, class_weight=None, criterion=entropy, max_depth=105, max_features=12, min_samples_leaf=19, min_samples_split=13, n_estimators=10, random_state=42, total=   0.1s\n",
      "[CV] bootstrap=False, class_weight=None, criterion=entropy, max_depth=105, max_features=12, min_samples_leaf=19, min_samples_split=13, n_estimators=10, random_state=42 \n",
      "[CV]  bootstrap=False, class_weight=None, criterion=entropy, max_depth=105, max_features=12, min_samples_leaf=19, min_samples_split=13, n_estimators=10, random_state=42, total=   0.1s\n",
      "[CV] bootstrap=False, class_weight=None, criterion=entropy, max_depth=105, max_features=12, min_samples_leaf=19, min_samples_split=13, n_estimators=10, random_state=42 \n",
      "[CV]  bootstrap=False, class_weight=None, criterion=entropy, max_depth=105, max_features=12, min_samples_leaf=19, min_samples_split=13, n_estimators=10, random_state=42, total=   0.0s\n",
      "[CV] bootstrap=False, class_weight=None, criterion=gini, max_depth=110, max_features=66, min_samples_leaf=18, min_samples_split=17, n_estimators=24, random_state=42 \n",
      "[CV]  bootstrap=False, class_weight=None, criterion=entropy, max_depth=105, max_features=12, min_samples_leaf=19, min_samples_split=13, n_estimators=10, random_state=42, total=   0.1s\n",
      "[CV]  bootstrap=False, class_weight=balanced, criterion=gini, max_depth=107, max_features=41, min_samples_leaf=3, min_samples_split=9, n_estimators=16, random_state=42, total=   0.2s\n",
      "[CV] bootstrap=False, class_weight=None, criterion=gini, max_depth=110, max_features=66, min_samples_leaf=18, min_samples_split=17, n_estimators=24, random_state=42 \n",
      "[CV] bootstrap=False, class_weight=None, criterion=gini, max_depth=110, max_features=66, min_samples_leaf=18, min_samples_split=17, n_estimators=24, random_state=42 \n",
      "[CV]  bootstrap=False, class_weight=None, criterion=entropy, max_depth=105, max_features=12, min_samples_leaf=19, min_samples_split=13, n_estimators=10, random_state=42, total=   0.0s\n",
      "[CV] bootstrap=False, class_weight=None, criterion=gini, max_depth=110, max_features=66, min_samples_leaf=18, min_samples_split=17, n_estimators=24, random_state=42 \n",
      "[CV]  bootstrap=False, class_weight=None, criterion=gini, max_depth=110, max_features=66, min_samples_leaf=18, min_samples_split=17, n_estimators=24, random_state=42, total=   0.2s\n",
      "[CV] bootstrap=False, class_weight=None, criterion=gini, max_depth=110, max_features=66, min_samples_leaf=18, min_samples_split=17, n_estimators=24, random_state=42 \n",
      "[CV]  bootstrap=False, class_weight=None, criterion=gini, max_depth=110, max_features=66, min_samples_leaf=18, min_samples_split=17, n_estimators=24, random_state=42, total=   0.2s\n",
      "[CV] bootstrap=True, class_weight=balanced, criterion=gini, max_depth=104, max_features=23, min_samples_leaf=3, min_samples_split=12, n_estimators=28, random_state=42 \n",
      "[CV]  bootstrap=False, class_weight=None, criterion=gini, max_depth=110, max_features=66, min_samples_leaf=18, min_samples_split=17, n_estimators=24, random_state=42, total=   0.2s\n",
      "[CV] bootstrap=True, class_weight=balanced, criterion=gini, max_depth=104, max_features=23, min_samples_leaf=3, min_samples_split=12, n_estimators=28, random_state=42 \n",
      "[CV]  bootstrap=False, class_weight=None, criterion=gini, max_depth=110, max_features=66, min_samples_leaf=18, min_samples_split=17, n_estimators=24, random_state=42, total=   0.2s\n",
      "[CV] bootstrap=True, class_weight=balanced, criterion=gini, max_depth=104, max_features=23, min_samples_leaf=3, min_samples_split=12, n_estimators=28, random_state=42 \n",
      "[CV]  bootstrap=False, class_weight=None, criterion=gini, max_depth=110, max_features=66, min_samples_leaf=18, min_samples_split=17, n_estimators=24, random_state=42, total=   0.2s\n",
      "[CV]  bootstrap=True, class_weight=balanced, criterion=gini, max_depth=104, max_features=23, min_samples_leaf=3, min_samples_split=12, n_estimators=28, random_state=42, total=   0.2s\n",
      "[CV] bootstrap=True, class_weight=balanced, criterion=gini, max_depth=104, max_features=23, min_samples_leaf=3, min_samples_split=12, n_estimators=28, random_state=42 \n",
      "[CV]  bootstrap=True, class_weight=balanced, criterion=gini, max_depth=104, max_features=23, min_samples_leaf=3, min_samples_split=12, n_estimators=28, random_state=42, total=   0.2s\n",
      "[CV] bootstrap=True, class_weight=balanced, criterion=gini, max_depth=104, max_features=23, min_samples_leaf=3, min_samples_split=12, n_estimators=28, random_state=42 \n",
      "[CV] bootstrap=True, class_weight=None, criterion=entropy, max_depth=None, max_features=47, min_samples_leaf=19, min_samples_split=3, n_estimators=27, random_state=42 \n",
      "[CV]  bootstrap=True, class_weight=balanced, criterion=gini, max_depth=104, max_features=23, min_samples_leaf=3, min_samples_split=12, n_estimators=28, random_state=42, total=   0.2s\n",
      "[CV] bootstrap=True, class_weight=None, criterion=entropy, max_depth=None, max_features=47, min_samples_leaf=19, min_samples_split=3, n_estimators=27, random_state=42 \n",
      "[CV]  bootstrap=True, class_weight=None, criterion=entropy, max_depth=None, max_features=47, min_samples_leaf=19, min_samples_split=3, n_estimators=27, random_state=42, total=   0.2s\n",
      "[CV] bootstrap=True, class_weight=None, criterion=entropy, max_depth=None, max_features=47, min_samples_leaf=19, min_samples_split=3, n_estimators=27, random_state=42 \n",
      "[CV]  bootstrap=True, class_weight=balanced, criterion=gini, max_depth=104, max_features=23, min_samples_leaf=3, min_samples_split=12, n_estimators=28, random_state=42, total=   0.2s\n",
      "[CV] bootstrap=True, class_weight=None, criterion=entropy, max_depth=None, max_features=47, min_samples_leaf=19, min_samples_split=3, n_estimators=27, random_state=42 \n",
      "[CV]  bootstrap=True, class_weight=balanced, criterion=gini, max_depth=104, max_features=23, min_samples_leaf=3, min_samples_split=12, n_estimators=28, random_state=42, total=   0.2s\n",
      "[CV] bootstrap=True, class_weight=None, criterion=entropy, max_depth=None, max_features=47, min_samples_leaf=19, min_samples_split=3, n_estimators=27, random_state=42 \n",
      "[CV]  bootstrap=True, class_weight=None, criterion=entropy, max_depth=None, max_features=47, min_samples_leaf=19, min_samples_split=3, n_estimators=27, random_state=42, total=   0.2s\n",
      "[CV] bootstrap=False, class_weight=balanced, criterion=gini, max_depth=102, max_features=72, min_samples_leaf=3, min_samples_split=7, n_estimators=10, random_state=42 \n",
      "[CV]  bootstrap=False, class_weight=balanced, criterion=gini, max_depth=102, max_features=72, min_samples_leaf=3, min_samples_split=7, n_estimators=10, random_state=42, total=   0.1s\n",
      "[CV] bootstrap=False, class_weight=balanced, criterion=gini, max_depth=102, max_features=72, min_samples_leaf=3, min_samples_split=7, n_estimators=10, random_state=42 \n",
      "[CV]  bootstrap=True, class_weight=None, criterion=entropy, max_depth=None, max_features=47, min_samples_leaf=19, min_samples_split=3, n_estimators=27, random_state=42, total=   0.1s\n",
      "[CV] bootstrap=False, class_weight=balanced, criterion=gini, max_depth=102, max_features=72, min_samples_leaf=3, min_samples_split=7, n_estimators=10, random_state=42 \n"
     ]
    },
    {
     "name": "stdout",
     "output_type": "stream",
     "text": [
      "[CV]  bootstrap=True, class_weight=None, criterion=entropy, max_depth=None, max_features=47, min_samples_leaf=19, min_samples_split=3, n_estimators=27, random_state=42, total=   0.2s\n",
      "[CV] bootstrap=False, class_weight=balanced, criterion=gini, max_depth=102, max_features=72, min_samples_leaf=3, min_samples_split=7, n_estimators=10, random_state=42 \n",
      "[CV]  bootstrap=True, class_weight=None, criterion=entropy, max_depth=None, max_features=47, min_samples_leaf=19, min_samples_split=3, n_estimators=27, random_state=42, total=   0.2s\n",
      "[CV] bootstrap=False, class_weight=balanced, criterion=gini, max_depth=102, max_features=72, min_samples_leaf=3, min_samples_split=7, n_estimators=10, random_state=42 \n",
      "[CV]  bootstrap=False, class_weight=balanced, criterion=gini, max_depth=102, max_features=72, min_samples_leaf=3, min_samples_split=7, n_estimators=10, random_state=42, total=   0.1s\n",
      "[CV] bootstrap=False, class_weight=balanced, criterion=entropy, max_depth=106, max_features=60, min_samples_leaf=18, min_samples_split=6, n_estimators=13, random_state=42 \n",
      "[CV]  bootstrap=False, class_weight=balanced, criterion=gini, max_depth=102, max_features=72, min_samples_leaf=3, min_samples_split=7, n_estimators=10, random_state=42, total=   0.1s\n",
      "[CV] bootstrap=False, class_weight=balanced, criterion=entropy, max_depth=106, max_features=60, min_samples_leaf=18, min_samples_split=6, n_estimators=13, random_state=42 \n",
      "[CV]  bootstrap=False, class_weight=balanced, criterion=gini, max_depth=102, max_features=72, min_samples_leaf=3, min_samples_split=7, n_estimators=10, random_state=42, total=   0.2s\n",
      "[CV] bootstrap=False, class_weight=balanced, criterion=entropy, max_depth=106, max_features=60, min_samples_leaf=18, min_samples_split=6, n_estimators=13, random_state=42 \n",
      "[CV]  bootstrap=False, class_weight=balanced, criterion=gini, max_depth=102, max_features=72, min_samples_leaf=3, min_samples_split=7, n_estimators=10, random_state=42, total=   0.2s\n",
      "[CV] bootstrap=False, class_weight=balanced, criterion=entropy, max_depth=106, max_features=60, min_samples_leaf=18, min_samples_split=6, n_estimators=13, random_state=42 \n",
      "[CV]  bootstrap=False, class_weight=balanced, criterion=entropy, max_depth=106, max_features=60, min_samples_leaf=18, min_samples_split=6, n_estimators=13, random_state=42, total=   0.1s\n",
      "[CV] bootstrap=False, class_weight=balanced, criterion=entropy, max_depth=106, max_features=60, min_samples_leaf=18, min_samples_split=6, n_estimators=13, random_state=42 \n",
      "[CV]  bootstrap=False, class_weight=balanced, criterion=entropy, max_depth=106, max_features=60, min_samples_leaf=18, min_samples_split=6, n_estimators=13, random_state=42, total=   0.1s\n",
      "[CV]  bootstrap=False, class_weight=balanced, criterion=entropy, max_depth=106, max_features=60, min_samples_leaf=18, min_samples_split=6, n_estimators=13, random_state=42, total=   0.1s\n",
      "[CV] bootstrap=False, class_weight=None, criterion=gini, max_depth=109, max_features=26, min_samples_leaf=6, min_samples_split=3, n_estimators=15, random_state=42 \n",
      "[CV] bootstrap=False, class_weight=None, criterion=gini, max_depth=109, max_features=26, min_samples_leaf=6, min_samples_split=3, n_estimators=15, random_state=42 \n",
      "[CV]  bootstrap=False, class_weight=balanced, criterion=entropy, max_depth=106, max_features=60, min_samples_leaf=18, min_samples_split=6, n_estimators=13, random_state=42, total=   0.1s\n",
      "[CV] bootstrap=False, class_weight=None, criterion=gini, max_depth=109, max_features=26, min_samples_leaf=6, min_samples_split=3, n_estimators=15, random_state=42 \n",
      "[CV]  bootstrap=False, class_weight=balanced, criterion=entropy, max_depth=106, max_features=60, min_samples_leaf=18, min_samples_split=6, n_estimators=13, random_state=42, total=   0.2s\n",
      "[CV] bootstrap=False, class_weight=None, criterion=gini, max_depth=109, max_features=26, min_samples_leaf=6, min_samples_split=3, n_estimators=15, random_state=42 \n",
      "[CV]  bootstrap=False, class_weight=None, criterion=gini, max_depth=109, max_features=26, min_samples_leaf=6, min_samples_split=3, n_estimators=15, random_state=42, total=   0.1s\n",
      "[CV] bootstrap=False, class_weight=None, criterion=gini, max_depth=109, max_features=26, min_samples_leaf=6, min_samples_split=3, n_estimators=15, random_state=42 \n",
      "[CV]  bootstrap=False, class_weight=None, criterion=gini, max_depth=109, max_features=26, min_samples_leaf=6, min_samples_split=3, n_estimators=15, random_state=42, total=   0.1s\n",
      "[CV] bootstrap=True, class_weight=None, criterion=gini, max_depth=110, max_features=52, min_samples_leaf=17, min_samples_split=12, n_estimators=28, random_state=42 \n",
      "[CV]  bootstrap=False, class_weight=None, criterion=gini, max_depth=109, max_features=26, min_samples_leaf=6, min_samples_split=3, n_estimators=15, random_state=42, total=   0.2s\n",
      "[CV] bootstrap=True, class_weight=None, criterion=gini, max_depth=110, max_features=52, min_samples_leaf=17, min_samples_split=12, n_estimators=28, random_state=42 \n",
      "[CV]  bootstrap=False, class_weight=None, criterion=gini, max_depth=109, max_features=26, min_samples_leaf=6, min_samples_split=3, n_estimators=15, random_state=42, total=   0.1s\n",
      "[CV]  bootstrap=False, class_weight=None, criterion=gini, max_depth=109, max_features=26, min_samples_leaf=6, min_samples_split=3, n_estimators=15, random_state=42, total=   0.1s\n",
      "[CV] bootstrap=True, class_weight=None, criterion=gini, max_depth=110, max_features=52, min_samples_leaf=17, min_samples_split=12, n_estimators=28, random_state=42 \n",
      "[CV] bootstrap=True, class_weight=None, criterion=gini, max_depth=110, max_features=52, min_samples_leaf=17, min_samples_split=12, n_estimators=28, random_state=42 \n",
      "[CV]  bootstrap=True, class_weight=None, criterion=gini, max_depth=110, max_features=52, min_samples_leaf=17, min_samples_split=12, n_estimators=28, random_state=42, total=   0.2s\n",
      "[CV] bootstrap=True, class_weight=None, criterion=gini, max_depth=110, max_features=52, min_samples_leaf=17, min_samples_split=12, n_estimators=28, random_state=42 \n",
      "[CV]  bootstrap=True, class_weight=None, criterion=gini, max_depth=110, max_features=52, min_samples_leaf=17, min_samples_split=12, n_estimators=28, random_state=42, total=   0.2s\n",
      "[CV] bootstrap=True, class_weight=balanced, criterion=gini, max_depth=106, max_features=25, min_samples_leaf=9, min_samples_split=5, n_estimators=17, random_state=42 \n",
      "[CV]  bootstrap=True, class_weight=None, criterion=gini, max_depth=110, max_features=52, min_samples_leaf=17, min_samples_split=12, n_estimators=28, random_state=42, total=   0.2s\n",
      "[CV] bootstrap=True, class_weight=balanced, criterion=gini, max_depth=106, max_features=25, min_samples_leaf=9, min_samples_split=5, n_estimators=17, random_state=42 \n",
      "[CV]  bootstrap=True, class_weight=None, criterion=gini, max_depth=110, max_features=52, min_samples_leaf=17, min_samples_split=12, n_estimators=28, random_state=42, total=   0.2s\n",
      "[CV]  bootstrap=True, class_weight=balanced, criterion=gini, max_depth=106, max_features=25, min_samples_leaf=9, min_samples_split=5, n_estimators=17, random_state=42, total=   0.1s\n",
      "[CV] bootstrap=True, class_weight=balanced, criterion=gini, max_depth=106, max_features=25, min_samples_leaf=9, min_samples_split=5, n_estimators=17, random_state=42 \n",
      "[CV] bootstrap=True, class_weight=balanced, criterion=gini, max_depth=106, max_features=25, min_samples_leaf=9, min_samples_split=5, n_estimators=17, random_state=42 \n",
      "[CV]  bootstrap=True, class_weight=None, criterion=gini, max_depth=110, max_features=52, min_samples_leaf=17, min_samples_split=12, n_estimators=28, random_state=42, total=   0.2s\n",
      "[CV] bootstrap=True, class_weight=balanced, criterion=gini, max_depth=106, max_features=25, min_samples_leaf=9, min_samples_split=5, n_estimators=17, random_state=42 \n",
      "[CV]  bootstrap=True, class_weight=balanced, criterion=gini, max_depth=106, max_features=25, min_samples_leaf=9, min_samples_split=5, n_estimators=17, random_state=42, total=   0.1s\n",
      "[CV]  bootstrap=True, class_weight=balanced, criterion=gini, max_depth=106, max_features=25, min_samples_leaf=9, min_samples_split=5, n_estimators=17, random_state=42, total=   0.1s\n",
      "[CV] bootstrap=False, class_weight=None, criterion=gini, max_depth=102, max_features=76, min_samples_leaf=19, min_samples_split=6, n_estimators=27, random_state=42 \n"
     ]
    },
    {
     "name": "stdout",
     "output_type": "stream",
     "text": [
      "[CV] bootstrap=False, class_weight=None, criterion=gini, max_depth=102, max_features=76, min_samples_leaf=19, min_samples_split=6, n_estimators=27, random_state=42 \n",
      "[CV]  bootstrap=True, class_weight=balanced, criterion=gini, max_depth=106, max_features=25, min_samples_leaf=9, min_samples_split=5, n_estimators=17, random_state=42, total=   0.1s\n",
      "[CV] bootstrap=False, class_weight=None, criterion=gini, max_depth=102, max_features=76, min_samples_leaf=19, min_samples_split=6, n_estimators=27, random_state=42 \n",
      "[CV]  bootstrap=True, class_weight=balanced, criterion=gini, max_depth=106, max_features=25, min_samples_leaf=9, min_samples_split=5, n_estimators=17, random_state=42, total=   0.1s\n",
      "[CV] bootstrap=False, class_weight=None, criterion=gini, max_depth=102, max_features=76, min_samples_leaf=19, min_samples_split=6, n_estimators=27, random_state=42 \n",
      "[CV]  bootstrap=False, class_weight=None, criterion=gini, max_depth=102, max_features=76, min_samples_leaf=19, min_samples_split=6, n_estimators=27, random_state=42, total=   0.3s\n",
      "[CV] bootstrap=False, class_weight=None, criterion=gini, max_depth=102, max_features=76, min_samples_leaf=19, min_samples_split=6, n_estimators=27, random_state=42 \n",
      "[CV]  bootstrap=False, class_weight=None, criterion=gini, max_depth=102, max_features=76, min_samples_leaf=19, min_samples_split=6, n_estimators=27, random_state=42, total=   0.3s\n",
      "[CV] bootstrap=False, class_weight=None, criterion=gini, max_depth=105, max_features=30, min_samples_leaf=7, min_samples_split=2, n_estimators=14, random_state=42 \n",
      "[CV]  bootstrap=False, class_weight=None, criterion=gini, max_depth=102, max_features=76, min_samples_leaf=19, min_samples_split=6, n_estimators=27, random_state=42, total=   0.3s\n",
      "[CV] bootstrap=False, class_weight=None, criterion=gini, max_depth=105, max_features=30, min_samples_leaf=7, min_samples_split=2, n_estimators=14, random_state=42 \n",
      "[CV]  bootstrap=False, class_weight=None, criterion=gini, max_depth=102, max_features=76, min_samples_leaf=19, min_samples_split=6, n_estimators=27, random_state=42, total=   0.3s\n",
      "[CV] bootstrap=False, class_weight=None, criterion=gini, max_depth=105, max_features=30, min_samples_leaf=7, min_samples_split=2, n_estimators=14, random_state=42 \n",
      "[CV]  bootstrap=False, class_weight=None, criterion=gini, max_depth=105, max_features=30, min_samples_leaf=7, min_samples_split=2, n_estimators=14, random_state=42, total=   0.1s\n",
      "[CV] bootstrap=False, class_weight=None, criterion=gini, max_depth=105, max_features=30, min_samples_leaf=7, min_samples_split=2, n_estimators=14, random_state=42 \n",
      "[CV]  bootstrap=False, class_weight=None, criterion=gini, max_depth=105, max_features=30, min_samples_leaf=7, min_samples_split=2, n_estimators=14, random_state=42, total=   0.1s\n",
      "[CV] bootstrap=False, class_weight=None, criterion=gini, max_depth=105, max_features=30, min_samples_leaf=7, min_samples_split=2, n_estimators=14, random_state=42 \n",
      "[CV]  bootstrap=False, class_weight=None, criterion=gini, max_depth=105, max_features=30, min_samples_leaf=7, min_samples_split=2, n_estimators=14, random_state=42, total=   0.1s\n",
      "[CV] bootstrap=True, class_weight=None, criterion=entropy, max_depth=101, max_features=58, min_samples_leaf=15, min_samples_split=14, n_estimators=18, random_state=42 \n",
      "[CV]  bootstrap=False, class_weight=None, criterion=gini, max_depth=105, max_features=30, min_samples_leaf=7, min_samples_split=2, n_estimators=14, random_state=42, total=   0.1s\n",
      "[CV] bootstrap=True, class_weight=None, criterion=entropy, max_depth=101, max_features=58, min_samples_leaf=15, min_samples_split=14, n_estimators=18, random_state=42 \n",
      "[CV]  bootstrap=False, class_weight=None, criterion=gini, max_depth=102, max_features=76, min_samples_leaf=19, min_samples_split=6, n_estimators=27, random_state=42, total=   0.3s\n",
      "[CV]  bootstrap=False, class_weight=None, criterion=gini, max_depth=105, max_features=30, min_samples_leaf=7, min_samples_split=2, n_estimators=14, random_state=42, total=   0.1s\n",
      "[CV] bootstrap=True, class_weight=None, criterion=entropy, max_depth=101, max_features=58, min_samples_leaf=15, min_samples_split=14, n_estimators=18, random_state=42 \n",
      "[CV] bootstrap=True, class_weight=None, criterion=entropy, max_depth=101, max_features=58, min_samples_leaf=15, min_samples_split=14, n_estimators=18, random_state=42 \n",
      "[CV]  bootstrap=True, class_weight=None, criterion=entropy, max_depth=101, max_features=58, min_samples_leaf=15, min_samples_split=14, n_estimators=18, random_state=42, total=   0.1s\n",
      "[CV] bootstrap=True, class_weight=None, criterion=entropy, max_depth=101, max_features=58, min_samples_leaf=15, min_samples_split=14, n_estimators=18, random_state=42 \n",
      "[CV]  bootstrap=True, class_weight=None, criterion=entropy, max_depth=101, max_features=58, min_samples_leaf=15, min_samples_split=14, n_estimators=18, random_state=42, total=   0.1s\n",
      "[CV] bootstrap=False, class_weight=balanced, criterion=gini, max_depth=108, max_features=65, min_samples_leaf=12, min_samples_split=17, n_estimators=26, random_state=42 \n",
      "[CV]  bootstrap=True, class_weight=None, criterion=entropy, max_depth=101, max_features=58, min_samples_leaf=15, min_samples_split=14, n_estimators=18, random_state=42, total=   0.1s\n",
      "[CV]  bootstrap=True, class_weight=None, criterion=entropy, max_depth=101, max_features=58, min_samples_leaf=15, min_samples_split=14, n_estimators=18, random_state=42, total=   0.1s\n",
      "[CV] bootstrap=False, class_weight=balanced, criterion=gini, max_depth=108, max_features=65, min_samples_leaf=12, min_samples_split=17, n_estimators=26, random_state=42 \n",
      "[CV] bootstrap=False, class_weight=balanced, criterion=gini, max_depth=108, max_features=65, min_samples_leaf=12, min_samples_split=17, n_estimators=26, random_state=42 \n",
      "[CV]  bootstrap=True, class_weight=None, criterion=entropy, max_depth=101, max_features=58, min_samples_leaf=15, min_samples_split=14, n_estimators=18, random_state=42, total=   0.1s\n",
      "[CV] bootstrap=False, class_weight=balanced, criterion=gini, max_depth=108, max_features=65, min_samples_leaf=12, min_samples_split=17, n_estimators=26, random_state=42 \n",
      "[CV]  bootstrap=False, class_weight=balanced, criterion=gini, max_depth=108, max_features=65, min_samples_leaf=12, min_samples_split=17, n_estimators=26, random_state=42, total=   0.4s\n",
      "[CV] bootstrap=False, class_weight=balanced, criterion=gini, max_depth=108, max_features=65, min_samples_leaf=12, min_samples_split=17, n_estimators=26, random_state=42 \n",
      "[CV]  bootstrap=False, class_weight=balanced, criterion=gini, max_depth=108, max_features=65, min_samples_leaf=12, min_samples_split=17, n_estimators=26, random_state=42, total=   0.3s\n",
      "[CV]  bootstrap=False, class_weight=balanced, criterion=gini, max_depth=108, max_features=65, min_samples_leaf=12, min_samples_split=17, n_estimators=26, random_state=42, total=   0.3s\n",
      "[CV] bootstrap=False, class_weight=None, criterion=gini, max_depth=107, max_features=61, min_samples_leaf=16, min_samples_split=16, n_estimators=23, random_state=42 \n",
      "[CV] bootstrap=False, class_weight=None, criterion=gini, max_depth=107, max_features=61, min_samples_leaf=16, min_samples_split=16, n_estimators=23, random_state=42 \n",
      "[CV]  bootstrap=False, class_weight=balanced, criterion=gini, max_depth=108, max_features=65, min_samples_leaf=12, min_samples_split=17, n_estimators=26, random_state=42, total=   0.3s\n",
      "[CV] bootstrap=False, class_weight=None, criterion=gini, max_depth=107, max_features=61, min_samples_leaf=16, min_samples_split=16, n_estimators=23, random_state=42 \n",
      "[CV]  bootstrap=False, class_weight=None, criterion=gini, max_depth=107, max_features=61, min_samples_leaf=16, min_samples_split=16, n_estimators=23, random_state=42, total=   0.2s\n",
      "[CV]  bootstrap=False, class_weight=None, criterion=gini, max_depth=107, max_features=61, min_samples_leaf=16, min_samples_split=16, n_estimators=23, random_state=42, total=   0.2s\n",
      "[CV] bootstrap=False, class_weight=None, criterion=gini, max_depth=107, max_features=61, min_samples_leaf=16, min_samples_split=16, n_estimators=23, random_state=42 \n",
      "[CV] bootstrap=False, class_weight=None, criterion=gini, max_depth=107, max_features=61, min_samples_leaf=16, min_samples_split=16, n_estimators=23, random_state=42 \n",
      "[CV]  bootstrap=False, class_weight=balanced, criterion=gini, max_depth=108, max_features=65, min_samples_leaf=12, min_samples_split=17, n_estimators=26, random_state=42, total=   0.3s\n"
     ]
    },
    {
     "name": "stdout",
     "output_type": "stream",
     "text": [
      "[CV] bootstrap=False, class_weight=None, criterion=gini, max_depth=107, max_features=11, min_samples_leaf=14, min_samples_split=15, n_estimators=28, random_state=42 \n",
      "[CV]  bootstrap=False, class_weight=None, criterion=gini, max_depth=107, max_features=61, min_samples_leaf=16, min_samples_split=16, n_estimators=23, random_state=42, total=   0.2s\n",
      "[CV] bootstrap=False, class_weight=None, criterion=gini, max_depth=107, max_features=11, min_samples_leaf=14, min_samples_split=15, n_estimators=28, random_state=42 \n",
      "[CV]  bootstrap=False, class_weight=None, criterion=gini, max_depth=107, max_features=11, min_samples_leaf=14, min_samples_split=15, n_estimators=28, random_state=42, total=   0.1s\n",
      "[CV] bootstrap=False, class_weight=None, criterion=gini, max_depth=107, max_features=11, min_samples_leaf=14, min_samples_split=15, n_estimators=28, random_state=42 \n",
      "[CV]  bootstrap=False, class_weight=None, criterion=gini, max_depth=107, max_features=61, min_samples_leaf=16, min_samples_split=16, n_estimators=23, random_state=42, total=   0.2s\n",
      "[CV] bootstrap=False, class_weight=None, criterion=gini, max_depth=107, max_features=11, min_samples_leaf=14, min_samples_split=15, n_estimators=28, random_state=42 \n",
      "[CV]  bootstrap=False, class_weight=None, criterion=gini, max_depth=107, max_features=61, min_samples_leaf=16, min_samples_split=16, n_estimators=23, random_state=42, total=   0.2s\n",
      "[CV] bootstrap=False, class_weight=None, criterion=gini, max_depth=107, max_features=11, min_samples_leaf=14, min_samples_split=15, n_estimators=28, random_state=42 \n",
      "[CV]  bootstrap=False, class_weight=None, criterion=gini, max_depth=107, max_features=11, min_samples_leaf=14, min_samples_split=15, n_estimators=28, random_state=42, total=   0.2s\n",
      "[CV] bootstrap=True, class_weight=balanced, criterion=gini, max_depth=106, max_features=27, min_samples_leaf=7, min_samples_split=4, n_estimators=28, random_state=42 \n",
      "[CV]  bootstrap=False, class_weight=None, criterion=gini, max_depth=107, max_features=11, min_samples_leaf=14, min_samples_split=15, n_estimators=28, random_state=42, total=   0.2s\n",
      "[CV] bootstrap=True, class_weight=balanced, criterion=gini, max_depth=106, max_features=27, min_samples_leaf=7, min_samples_split=4, n_estimators=28, random_state=42 \n",
      "[CV]  bootstrap=False, class_weight=None, criterion=gini, max_depth=107, max_features=11, min_samples_leaf=14, min_samples_split=15, n_estimators=28, random_state=42, total=   0.2s\n",
      "[CV] bootstrap=True, class_weight=balanced, criterion=gini, max_depth=106, max_features=27, min_samples_leaf=7, min_samples_split=4, n_estimators=28, random_state=42 \n",
      "[CV]  bootstrap=False, class_weight=None, criterion=gini, max_depth=107, max_features=11, min_samples_leaf=14, min_samples_split=15, n_estimators=28, random_state=42, total=   0.2s\n",
      "[CV] bootstrap=True, class_weight=balanced, criterion=gini, max_depth=106, max_features=27, min_samples_leaf=7, min_samples_split=4, n_estimators=28, random_state=42 \n",
      "[CV]  bootstrap=True, class_weight=balanced, criterion=gini, max_depth=106, max_features=27, min_samples_leaf=7, min_samples_split=4, n_estimators=28, random_state=42, total=   0.2s\n",
      "[CV] bootstrap=True, class_weight=balanced, criterion=gini, max_depth=106, max_features=27, min_samples_leaf=7, min_samples_split=4, n_estimators=28, random_state=42 \n",
      "[CV]  bootstrap=True, class_weight=balanced, criterion=gini, max_depth=106, max_features=27, min_samples_leaf=7, min_samples_split=4, n_estimators=28, random_state=42, total=   0.2s\n",
      "[CV] bootstrap=True, class_weight=None, criterion=gini, max_depth=106, max_features=37, min_samples_leaf=11, min_samples_split=8, n_estimators=26, random_state=42 \n",
      "[CV]  bootstrap=True, class_weight=balanced, criterion=gini, max_depth=106, max_features=27, min_samples_leaf=7, min_samples_split=4, n_estimators=28, random_state=42, total=   0.2s\n",
      "[CV] bootstrap=True, class_weight=None, criterion=gini, max_depth=106, max_features=37, min_samples_leaf=11, min_samples_split=8, n_estimators=26, random_state=42 \n",
      "[CV]  bootstrap=True, class_weight=balanced, criterion=gini, max_depth=106, max_features=27, min_samples_leaf=7, min_samples_split=4, n_estimators=28, random_state=42, total=   0.2s\n",
      "[CV] bootstrap=True, class_weight=None, criterion=gini, max_depth=106, max_features=37, min_samples_leaf=11, min_samples_split=8, n_estimators=26, random_state=42 \n",
      "[CV]  bootstrap=True, class_weight=balanced, criterion=gini, max_depth=106, max_features=27, min_samples_leaf=7, min_samples_split=4, n_estimators=28, random_state=42, total=   0.2s\n",
      "[CV] bootstrap=True, class_weight=None, criterion=gini, max_depth=106, max_features=37, min_samples_leaf=11, min_samples_split=8, n_estimators=26, random_state=42 \n",
      "[CV]  bootstrap=True, class_weight=None, criterion=gini, max_depth=106, max_features=37, min_samples_leaf=11, min_samples_split=8, n_estimators=26, random_state=42, total=   0.2s\n",
      "[CV] bootstrap=True, class_weight=None, criterion=gini, max_depth=106, max_features=37, min_samples_leaf=11, min_samples_split=8, n_estimators=26, random_state=42 \n",
      "[CV]  bootstrap=True, class_weight=None, criterion=gini, max_depth=106, max_features=37, min_samples_leaf=11, min_samples_split=8, n_estimators=26, random_state=42, total=   0.2s\n",
      "[CV] bootstrap=True, class_weight=None, criterion=entropy, max_depth=None, max_features=34, min_samples_leaf=18, min_samples_split=14, n_estimators=29, random_state=42 \n",
      "[CV]  bootstrap=True, class_weight=None, criterion=gini, max_depth=106, max_features=37, min_samples_leaf=11, min_samples_split=8, n_estimators=26, random_state=42, total=   0.2s\n",
      "[CV] bootstrap=True, class_weight=None, criterion=entropy, max_depth=None, max_features=34, min_samples_leaf=18, min_samples_split=14, n_estimators=29, random_state=42 \n",
      "[CV]  bootstrap=True, class_weight=None, criterion=gini, max_depth=106, max_features=37, min_samples_leaf=11, min_samples_split=8, n_estimators=26, random_state=42, total=   0.2s\n",
      "[CV] bootstrap=True, class_weight=None, criterion=entropy, max_depth=None, max_features=34, min_samples_leaf=18, min_samples_split=14, n_estimators=29, random_state=42 \n",
      "[CV]  bootstrap=True, class_weight=None, criterion=gini, max_depth=106, max_features=37, min_samples_leaf=11, min_samples_split=8, n_estimators=26, random_state=42, total=   0.2s\n",
      "[CV] bootstrap=True, class_weight=None, criterion=entropy, max_depth=None, max_features=34, min_samples_leaf=18, min_samples_split=14, n_estimators=29, random_state=42 \n",
      "[CV]  bootstrap=True, class_weight=None, criterion=entropy, max_depth=None, max_features=34, min_samples_leaf=18, min_samples_split=14, n_estimators=29, random_state=42, total=   0.2s\n",
      "[CV] bootstrap=True, class_weight=None, criterion=entropy, max_depth=None, max_features=34, min_samples_leaf=18, min_samples_split=14, n_estimators=29, random_state=42 \n",
      "[CV]  bootstrap=True, class_weight=None, criterion=entropy, max_depth=None, max_features=34, min_samples_leaf=18, min_samples_split=14, n_estimators=29, random_state=42, total=   0.2s\n",
      "[CV] bootstrap=True, class_weight=None, criterion=entropy, max_depth=102, max_features=27, min_samples_leaf=16, min_samples_split=5, n_estimators=24, random_state=42 \n",
      "[CV]  bootstrap=True, class_weight=None, criterion=entropy, max_depth=None, max_features=34, min_samples_leaf=18, min_samples_split=14, n_estimators=29, random_state=42, total=   0.2s\n",
      "[CV] bootstrap=True, class_weight=None, criterion=entropy, max_depth=102, max_features=27, min_samples_leaf=16, min_samples_split=5, n_estimators=24, random_state=42 \n",
      "[CV]  bootstrap=True, class_weight=None, criterion=entropy, max_depth=None, max_features=34, min_samples_leaf=18, min_samples_split=14, n_estimators=29, random_state=42, total=   0.2s\n",
      "[CV]  bootstrap=True, class_weight=None, criterion=entropy, max_depth=102, max_features=27, min_samples_leaf=16, min_samples_split=5, n_estimators=24, random_state=42, total=   0.1s\n",
      "[CV]  bootstrap=True, class_weight=None, criterion=entropy, max_depth=None, max_features=34, min_samples_leaf=18, min_samples_split=14, n_estimators=29, random_state=42, total=   0.2s\n",
      "[CV] bootstrap=True, class_weight=None, criterion=entropy, max_depth=102, max_features=27, min_samples_leaf=16, min_samples_split=5, n_estimators=24, random_state=42 \n",
      "[CV] bootstrap=True, class_weight=None, criterion=entropy, max_depth=102, max_features=27, min_samples_leaf=16, min_samples_split=5, n_estimators=24, random_state=42 \n"
     ]
    },
    {
     "name": "stdout",
     "output_type": "stream",
     "text": [
      "[CV] bootstrap=True, class_weight=None, criterion=entropy, max_depth=102, max_features=27, min_samples_leaf=16, min_samples_split=5, n_estimators=24, random_state=42 \n",
      "[CV]  bootstrap=True, class_weight=None, criterion=entropy, max_depth=102, max_features=27, min_samples_leaf=16, min_samples_split=5, n_estimators=24, random_state=42, total=   0.1s\n",
      "[CV] bootstrap=False, class_weight=None, criterion=gini, max_depth=107, max_features=49, min_samples_leaf=18, min_samples_split=13, n_estimators=28, random_state=42 \n",
      "[CV]  bootstrap=True, class_weight=None, criterion=entropy, max_depth=102, max_features=27, min_samples_leaf=16, min_samples_split=5, n_estimators=24, random_state=42, total=   0.1s\n",
      "[CV] bootstrap=False, class_weight=None, criterion=gini, max_depth=107, max_features=49, min_samples_leaf=18, min_samples_split=13, n_estimators=28, random_state=42 \n",
      "[CV]  bootstrap=True, class_weight=None, criterion=entropy, max_depth=102, max_features=27, min_samples_leaf=16, min_samples_split=5, n_estimators=24, random_state=42, total=   0.1s\n",
      "[CV] bootstrap=False, class_weight=None, criterion=gini, max_depth=107, max_features=49, min_samples_leaf=18, min_samples_split=13, n_estimators=28, random_state=42 \n",
      "[CV]  bootstrap=True, class_weight=None, criterion=entropy, max_depth=102, max_features=27, min_samples_leaf=16, min_samples_split=5, n_estimators=24, random_state=42, total=   0.1s\n",
      "[CV] bootstrap=False, class_weight=None, criterion=gini, max_depth=107, max_features=49, min_samples_leaf=18, min_samples_split=13, n_estimators=28, random_state=42 \n",
      "[CV]  bootstrap=False, class_weight=None, criterion=gini, max_depth=107, max_features=49, min_samples_leaf=18, min_samples_split=13, n_estimators=28, random_state=42, total=   0.2s\n",
      "[CV] bootstrap=False, class_weight=None, criterion=gini, max_depth=107, max_features=49, min_samples_leaf=18, min_samples_split=13, n_estimators=28, random_state=42 \n",
      "[CV]  bootstrap=False, class_weight=None, criterion=gini, max_depth=107, max_features=49, min_samples_leaf=18, min_samples_split=13, n_estimators=28, random_state=42, total=   0.2s\n",
      "[CV]  bootstrap=False, class_weight=None, criterion=gini, max_depth=107, max_features=49, min_samples_leaf=18, min_samples_split=13, n_estimators=28, random_state=42, total=   0.2s\n",
      "[CV] bootstrap=False, class_weight=balanced, criterion=gini, max_depth=105, max_features=61, min_samples_leaf=3, min_samples_split=14, n_estimators=15, random_state=42 \n",
      "[CV]  bootstrap=False, class_weight=None, criterion=gini, max_depth=107, max_features=49, min_samples_leaf=18, min_samples_split=13, n_estimators=28, random_state=42, total=   0.2s\n",
      "[CV] bootstrap=False, class_weight=balanced, criterion=gini, max_depth=105, max_features=61, min_samples_leaf=3, min_samples_split=14, n_estimators=15, random_state=42 \n",
      "[CV] bootstrap=False, class_weight=balanced, criterion=gini, max_depth=105, max_features=61, min_samples_leaf=3, min_samples_split=14, n_estimators=15, random_state=42 \n",
      "[CV]  bootstrap=False, class_weight=None, criterion=gini, max_depth=107, max_features=49, min_samples_leaf=18, min_samples_split=13, n_estimators=28, random_state=42, total=   0.2s\n",
      "[CV] bootstrap=False, class_weight=balanced, criterion=gini, max_depth=105, max_features=61, min_samples_leaf=3, min_samples_split=14, n_estimators=15, random_state=42 \n",
      "[CV]  bootstrap=False, class_weight=balanced, criterion=gini, max_depth=105, max_features=61, min_samples_leaf=3, min_samples_split=14, n_estimators=15, random_state=42, total=   0.2s\n",
      "[CV] bootstrap=False, class_weight=balanced, criterion=gini, max_depth=105, max_features=61, min_samples_leaf=3, min_samples_split=14, n_estimators=15, random_state=42 \n",
      "[CV]  bootstrap=False, class_weight=balanced, criterion=gini, max_depth=105, max_features=61, min_samples_leaf=3, min_samples_split=14, n_estimators=15, random_state=42, total=   0.2s\n",
      "[CV] bootstrap=True, class_weight=balanced, criterion=gini, max_depth=104, max_features=31, min_samples_leaf=7, min_samples_split=7, n_estimators=25, random_state=42 \n",
      "[CV]  bootstrap=False, class_weight=balanced, criterion=gini, max_depth=105, max_features=61, min_samples_leaf=3, min_samples_split=14, n_estimators=15, random_state=42, total=   0.2s\n",
      "[CV] bootstrap=True, class_weight=balanced, criterion=gini, max_depth=104, max_features=31, min_samples_leaf=7, min_samples_split=7, n_estimators=25, random_state=42 \n",
      "[CV]  bootstrap=False, class_weight=balanced, criterion=gini, max_depth=105, max_features=61, min_samples_leaf=3, min_samples_split=14, n_estimators=15, random_state=42, total=   0.2s\n",
      "[CV] bootstrap=True, class_weight=balanced, criterion=gini, max_depth=104, max_features=31, min_samples_leaf=7, min_samples_split=7, n_estimators=25, random_state=42 \n",
      "[CV]  bootstrap=True, class_weight=balanced, criterion=gini, max_depth=104, max_features=31, min_samples_leaf=7, min_samples_split=7, n_estimators=25, random_state=42, total=   0.1s\n",
      "[CV] bootstrap=True, class_weight=balanced, criterion=gini, max_depth=104, max_features=31, min_samples_leaf=7, min_samples_split=7, n_estimators=25, random_state=42 \n",
      "[CV]  bootstrap=False, class_weight=balanced, criterion=gini, max_depth=105, max_features=61, min_samples_leaf=3, min_samples_split=14, n_estimators=15, random_state=42, total=   0.2s\n",
      "[CV] bootstrap=True, class_weight=balanced, criterion=gini, max_depth=104, max_features=31, min_samples_leaf=7, min_samples_split=7, n_estimators=25, random_state=42 \n",
      "[CV]  bootstrap=True, class_weight=balanced, criterion=gini, max_depth=104, max_features=31, min_samples_leaf=7, min_samples_split=7, n_estimators=25, random_state=42, total=   0.2s\n",
      "[CV] bootstrap=False, class_weight=None, criterion=gini, max_depth=107, max_features=64, min_samples_leaf=10, min_samples_split=4, n_estimators=28, random_state=42 \n",
      "[CV]  bootstrap=True, class_weight=balanced, criterion=gini, max_depth=104, max_features=31, min_samples_leaf=7, min_samples_split=7, n_estimators=25, random_state=42, total=   0.2s\n",
      "[CV]  bootstrap=True, class_weight=balanced, criterion=gini, max_depth=104, max_features=31, min_samples_leaf=7, min_samples_split=7, n_estimators=25, random_state=42, total=   0.1s\n",
      "[CV] bootstrap=False, class_weight=None, criterion=gini, max_depth=107, max_features=64, min_samples_leaf=10, min_samples_split=4, n_estimators=28, random_state=42 \n",
      "[CV]  bootstrap=True, class_weight=balanced, criterion=gini, max_depth=104, max_features=31, min_samples_leaf=7, min_samples_split=7, n_estimators=25, random_state=42, total=   0.1s\n",
      "[CV] bootstrap=False, class_weight=None, criterion=gini, max_depth=107, max_features=64, min_samples_leaf=10, min_samples_split=4, n_estimators=28, random_state=42 \n",
      "[CV] bootstrap=False, class_weight=None, criterion=gini, max_depth=107, max_features=64, min_samples_leaf=10, min_samples_split=4, n_estimators=28, random_state=42 \n",
      "[CV]  bootstrap=False, class_weight=None, criterion=gini, max_depth=107, max_features=64, min_samples_leaf=10, min_samples_split=4, n_estimators=28, random_state=42, total=   0.3s\n",
      "[CV] bootstrap=False, class_weight=None, criterion=gini, max_depth=107, max_features=64, min_samples_leaf=10, min_samples_split=4, n_estimators=28, random_state=42 \n",
      "[CV]  bootstrap=False, class_weight=None, criterion=gini, max_depth=107, max_features=64, min_samples_leaf=10, min_samples_split=4, n_estimators=28, random_state=42, total=   0.3s\n",
      "[CV] bootstrap=True, class_weight=None, criterion=gini, max_depth=103, max_features=33, min_samples_leaf=7, min_samples_split=3, n_estimators=29, random_state=42 \n",
      "[CV]  bootstrap=False, class_weight=None, criterion=gini, max_depth=107, max_features=64, min_samples_leaf=10, min_samples_split=4, n_estimators=28, random_state=42, total=   0.3s\n",
      "[CV] bootstrap=True, class_weight=None, criterion=gini, max_depth=103, max_features=33, min_samples_leaf=7, min_samples_split=3, n_estimators=29, random_state=42 \n",
      "[CV]  bootstrap=False, class_weight=None, criterion=gini, max_depth=107, max_features=64, min_samples_leaf=10, min_samples_split=4, n_estimators=28, random_state=42, total=   0.3s\n",
      "[CV] bootstrap=True, class_weight=None, criterion=gini, max_depth=103, max_features=33, min_samples_leaf=7, min_samples_split=3, n_estimators=29, random_state=42 \n",
      "[CV]  bootstrap=False, class_weight=None, criterion=gini, max_depth=107, max_features=64, min_samples_leaf=10, min_samples_split=4, n_estimators=28, random_state=42, total=   0.3s\n"
     ]
    },
    {
     "name": "stdout",
     "output_type": "stream",
     "text": [
      "[CV] bootstrap=True, class_weight=None, criterion=gini, max_depth=103, max_features=33, min_samples_leaf=7, min_samples_split=3, n_estimators=29, random_state=42 \n",
      "[CV]  bootstrap=True, class_weight=None, criterion=gini, max_depth=103, max_features=33, min_samples_leaf=7, min_samples_split=3, n_estimators=29, random_state=42, total=   0.2s\n",
      "[CV] bootstrap=True, class_weight=None, criterion=gini, max_depth=103, max_features=33, min_samples_leaf=7, min_samples_split=3, n_estimators=29, random_state=42 \n",
      "[CV]  bootstrap=True, class_weight=None, criterion=gini, max_depth=103, max_features=33, min_samples_leaf=7, min_samples_split=3, n_estimators=29, random_state=42, total=   0.2s\n",
      "[CV] bootstrap=False, class_weight=balanced, criterion=entropy, max_depth=105, max_features=60, min_samples_leaf=3, min_samples_split=16, n_estimators=20, random_state=42 \n",
      "[CV]  bootstrap=True, class_weight=None, criterion=gini, max_depth=103, max_features=33, min_samples_leaf=7, min_samples_split=3, n_estimators=29, random_state=42, total=   0.2s\n",
      "[CV] bootstrap=False, class_weight=balanced, criterion=entropy, max_depth=105, max_features=60, min_samples_leaf=3, min_samples_split=16, n_estimators=20, random_state=42 \n",
      "[CV]  bootstrap=True, class_weight=None, criterion=gini, max_depth=103, max_features=33, min_samples_leaf=7, min_samples_split=3, n_estimators=29, random_state=42, total=   0.2s\n",
      "[CV] bootstrap=False, class_weight=balanced, criterion=entropy, max_depth=105, max_features=60, min_samples_leaf=3, min_samples_split=16, n_estimators=20, random_state=42 \n",
      "[CV]  bootstrap=True, class_weight=None, criterion=gini, max_depth=103, max_features=33, min_samples_leaf=7, min_samples_split=3, n_estimators=29, random_state=42, total=   0.2s\n",
      "[CV] bootstrap=False, class_weight=balanced, criterion=entropy, max_depth=105, max_features=60, min_samples_leaf=3, min_samples_split=16, n_estimators=20, random_state=42 \n",
      "[CV]  bootstrap=False, class_weight=balanced, criterion=entropy, max_depth=105, max_features=60, min_samples_leaf=3, min_samples_split=16, n_estimators=20, random_state=42, total=   0.2s\n",
      "[CV] bootstrap=False, class_weight=balanced, criterion=entropy, max_depth=105, max_features=60, min_samples_leaf=3, min_samples_split=16, n_estimators=20, random_state=42 \n",
      "[CV]  bootstrap=False, class_weight=balanced, criterion=entropy, max_depth=105, max_features=60, min_samples_leaf=3, min_samples_split=16, n_estimators=20, random_state=42, total=   0.3s\n",
      "[CV] bootstrap=False, class_weight=None, criterion=gini, max_depth=None, max_features=14, min_samples_leaf=7, min_samples_split=5, n_estimators=28, random_state=42 \n",
      "[CV]  bootstrap=False, class_weight=balanced, criterion=entropy, max_depth=105, max_features=60, min_samples_leaf=3, min_samples_split=16, n_estimators=20, random_state=42, total=   0.3s\n",
      "[CV] bootstrap=False, class_weight=None, criterion=gini, max_depth=None, max_features=14, min_samples_leaf=7, min_samples_split=5, n_estimators=28, random_state=42 \n",
      "[CV]  bootstrap=False, class_weight=balanced, criterion=entropy, max_depth=105, max_features=60, min_samples_leaf=3, min_samples_split=16, n_estimators=20, random_state=42, total=   0.2s\n",
      "[CV] bootstrap=False, class_weight=None, criterion=gini, max_depth=None, max_features=14, min_samples_leaf=7, min_samples_split=5, n_estimators=28, random_state=42 \n",
      "[CV]  bootstrap=False, class_weight=None, criterion=gini, max_depth=None, max_features=14, min_samples_leaf=7, min_samples_split=5, n_estimators=28, random_state=42, total=   0.2s\n",
      "[CV] bootstrap=False, class_weight=None, criterion=gini, max_depth=None, max_features=14, min_samples_leaf=7, min_samples_split=5, n_estimators=28, random_state=42 \n",
      "[CV]  bootstrap=False, class_weight=balanced, criterion=entropy, max_depth=105, max_features=60, min_samples_leaf=3, min_samples_split=16, n_estimators=20, random_state=42, total=   0.3s\n",
      "[CV] bootstrap=False, class_weight=None, criterion=gini, max_depth=None, max_features=14, min_samples_leaf=7, min_samples_split=5, n_estimators=28, random_state=42 \n",
      "[CV]  bootstrap=False, class_weight=None, criterion=gini, max_depth=None, max_features=14, min_samples_leaf=7, min_samples_split=5, n_estimators=28, random_state=42, total=   0.2s\n",
      "[CV] bootstrap=False, class_weight=balanced, criterion=entropy, max_depth=100, max_features=21, min_samples_leaf=16, min_samples_split=2, n_estimators=23, random_state=42 \n",
      "[CV]  bootstrap=False, class_weight=None, criterion=gini, max_depth=None, max_features=14, min_samples_leaf=7, min_samples_split=5, n_estimators=28, random_state=42, total=   0.2s\n",
      "[CV] bootstrap=False, class_weight=balanced, criterion=entropy, max_depth=100, max_features=21, min_samples_leaf=16, min_samples_split=2, n_estimators=23, random_state=42 \n",
      "[CV]  bootstrap=False, class_weight=None, criterion=gini, max_depth=None, max_features=14, min_samples_leaf=7, min_samples_split=5, n_estimators=28, random_state=42, total=   0.2s\n",
      "[CV] bootstrap=False, class_weight=balanced, criterion=entropy, max_depth=100, max_features=21, min_samples_leaf=16, min_samples_split=2, n_estimators=23, random_state=42 \n",
      "[CV]  bootstrap=False, class_weight=None, criterion=gini, max_depth=None, max_features=14, min_samples_leaf=7, min_samples_split=5, n_estimators=28, random_state=42, total=   0.2s\n",
      "[CV] bootstrap=False, class_weight=balanced, criterion=entropy, max_depth=100, max_features=21, min_samples_leaf=16, min_samples_split=2, n_estimators=23, random_state=42 \n",
      "[CV]  bootstrap=False, class_weight=balanced, criterion=entropy, max_depth=100, max_features=21, min_samples_leaf=16, min_samples_split=2, n_estimators=23, random_state=42, total=   0.2s\n",
      "[CV] bootstrap=False, class_weight=balanced, criterion=entropy, max_depth=100, max_features=21, min_samples_leaf=16, min_samples_split=2, n_estimators=23, random_state=42 \n",
      "[CV]  bootstrap=False, class_weight=balanced, criterion=entropy, max_depth=100, max_features=21, min_samples_leaf=16, min_samples_split=2, n_estimators=23, random_state=42, total=   0.2s\n",
      "[CV] bootstrap=False, class_weight=None, criterion=gini, max_depth=110, max_features=12, min_samples_leaf=2, min_samples_split=7, n_estimators=27, random_state=42 \n",
      "[CV]  bootstrap=False, class_weight=balanced, criterion=entropy, max_depth=100, max_features=21, min_samples_leaf=16, min_samples_split=2, n_estimators=23, random_state=42, total=   0.2s\n",
      "[CV] bootstrap=False, class_weight=None, criterion=gini, max_depth=110, max_features=12, min_samples_leaf=2, min_samples_split=7, n_estimators=27, random_state=42 \n",
      "[CV]  bootstrap=False, class_weight=balanced, criterion=entropy, max_depth=100, max_features=21, min_samples_leaf=16, min_samples_split=2, n_estimators=23, random_state=42, total=   0.1s\n",
      "[CV] bootstrap=False, class_weight=None, criterion=gini, max_depth=110, max_features=12, min_samples_leaf=2, min_samples_split=7, n_estimators=27, random_state=42 \n",
      "[CV]  bootstrap=False, class_weight=balanced, criterion=entropy, max_depth=100, max_features=21, min_samples_leaf=16, min_samples_split=2, n_estimators=23, random_state=42, total=   0.1s\n",
      "[CV] bootstrap=False, class_weight=None, criterion=gini, max_depth=110, max_features=12, min_samples_leaf=2, min_samples_split=7, n_estimators=27, random_state=42 \n",
      "[CV]  bootstrap=False, class_weight=None, criterion=gini, max_depth=110, max_features=12, min_samples_leaf=2, min_samples_split=7, n_estimators=27, random_state=42, total=   0.2s\n",
      "[CV] bootstrap=False, class_weight=None, criterion=gini, max_depth=110, max_features=12, min_samples_leaf=2, min_samples_split=7, n_estimators=27, random_state=42 \n",
      "[CV]  bootstrap=False, class_weight=None, criterion=gini, max_depth=110, max_features=12, min_samples_leaf=2, min_samples_split=7, n_estimators=27, random_state=42, total=   0.2s\n",
      "[CV] bootstrap=False, class_weight=None, criterion=gini, max_depth=106, max_features=19, min_samples_leaf=13, min_samples_split=3, n_estimators=22, random_state=42 \n",
      "[CV]  bootstrap=False, class_weight=None, criterion=gini, max_depth=110, max_features=12, min_samples_leaf=2, min_samples_split=7, n_estimators=27, random_state=42, total=   0.2s\n",
      "[CV] bootstrap=False, class_weight=None, criterion=gini, max_depth=106, max_features=19, min_samples_leaf=13, min_samples_split=3, n_estimators=22, random_state=42 \n"
     ]
    },
    {
     "name": "stdout",
     "output_type": "stream",
     "text": [
      "[CV]  bootstrap=False, class_weight=None, criterion=gini, max_depth=110, max_features=12, min_samples_leaf=2, min_samples_split=7, n_estimators=27, random_state=42, total=   0.2s\n",
      "[CV] bootstrap=False, class_weight=None, criterion=gini, max_depth=106, max_features=19, min_samples_leaf=13, min_samples_split=3, n_estimators=22, random_state=42 \n",
      "[CV]  bootstrap=False, class_weight=None, criterion=gini, max_depth=106, max_features=19, min_samples_leaf=13, min_samples_split=3, n_estimators=22, random_state=42, total=   0.1s\n",
      "[CV] bootstrap=False, class_weight=None, criterion=gini, max_depth=106, max_features=19, min_samples_leaf=13, min_samples_split=3, n_estimators=22, random_state=42 \n",
      "[CV]  bootstrap=False, class_weight=None, criterion=gini, max_depth=110, max_features=12, min_samples_leaf=2, min_samples_split=7, n_estimators=27, random_state=42, total=   0.2s\n",
      "[CV] bootstrap=False, class_weight=None, criterion=gini, max_depth=106, max_features=19, min_samples_leaf=13, min_samples_split=3, n_estimators=22, random_state=42 \n",
      "[CV]  bootstrap=False, class_weight=None, criterion=gini, max_depth=106, max_features=19, min_samples_leaf=13, min_samples_split=3, n_estimators=22, random_state=42, total=   0.1s\n",
      "[CV] bootstrap=False, class_weight=None, criterion=entropy, max_depth=100, max_features=72, min_samples_leaf=6, min_samples_split=10, n_estimators=26, random_state=42 \n",
      "[CV]  bootstrap=False, class_weight=None, criterion=gini, max_depth=106, max_features=19, min_samples_leaf=13, min_samples_split=3, n_estimators=22, random_state=42, total=   0.1s\n",
      "[CV] bootstrap=False, class_weight=None, criterion=entropy, max_depth=100, max_features=72, min_samples_leaf=6, min_samples_split=10, n_estimators=26, random_state=42 \n",
      "[CV]  bootstrap=False, class_weight=None, criterion=gini, max_depth=106, max_features=19, min_samples_leaf=13, min_samples_split=3, n_estimators=22, random_state=42, total=   0.1s\n",
      "[CV] bootstrap=False, class_weight=None, criterion=entropy, max_depth=100, max_features=72, min_samples_leaf=6, min_samples_split=10, n_estimators=26, random_state=42 \n",
      "[CV]  bootstrap=False, class_weight=None, criterion=gini, max_depth=106, max_features=19, min_samples_leaf=13, min_samples_split=3, n_estimators=22, random_state=42, total=   0.1s\n",
      "[CV] bootstrap=False, class_weight=None, criterion=entropy, max_depth=100, max_features=72, min_samples_leaf=6, min_samples_split=10, n_estimators=26, random_state=42 \n",
      "[CV]  bootstrap=False, class_weight=None, criterion=entropy, max_depth=100, max_features=72, min_samples_leaf=6, min_samples_split=10, n_estimators=26, random_state=42, total=   0.3s\n",
      "[CV] bootstrap=False, class_weight=None, criterion=entropy, max_depth=100, max_features=72, min_samples_leaf=6, min_samples_split=10, n_estimators=26, random_state=42 \n",
      "[CV]  bootstrap=False, class_weight=None, criterion=entropy, max_depth=100, max_features=72, min_samples_leaf=6, min_samples_split=10, n_estimators=26, random_state=42, total=   0.3s\n",
      "[CV] bootstrap=True, class_weight=balanced, criterion=gini, max_depth=107, max_features=47, min_samples_leaf=4, min_samples_split=18, n_estimators=14, random_state=42 \n",
      "[CV]  bootstrap=False, class_weight=None, criterion=entropy, max_depth=100, max_features=72, min_samples_leaf=6, min_samples_split=10, n_estimators=26, random_state=42, total=   0.3s\n",
      "[CV] bootstrap=True, class_weight=balanced, criterion=gini, max_depth=107, max_features=47, min_samples_leaf=4, min_samples_split=18, n_estimators=14, random_state=42 \n",
      "[CV]  bootstrap=False, class_weight=None, criterion=entropy, max_depth=100, max_features=72, min_samples_leaf=6, min_samples_split=10, n_estimators=26, random_state=42, total=   0.3s\n",
      "[CV] bootstrap=True, class_weight=balanced, criterion=gini, max_depth=107, max_features=47, min_samples_leaf=4, min_samples_split=18, n_estimators=14, random_state=42 \n",
      "[CV]  bootstrap=True, class_weight=balanced, criterion=gini, max_depth=107, max_features=47, min_samples_leaf=4, min_samples_split=18, n_estimators=14, random_state=42, total=   0.1s\n",
      "[CV] bootstrap=True, class_weight=balanced, criterion=gini, max_depth=107, max_features=47, min_samples_leaf=4, min_samples_split=18, n_estimators=14, random_state=42 \n",
      "[CV]  bootstrap=True, class_weight=balanced, criterion=gini, max_depth=107, max_features=47, min_samples_leaf=4, min_samples_split=18, n_estimators=14, random_state=42, total=   0.1s\n",
      "[CV] bootstrap=True, class_weight=balanced, criterion=gini, max_depth=107, max_features=47, min_samples_leaf=4, min_samples_split=18, n_estimators=14, random_state=42 \n",
      "[CV]  bootstrap=True, class_weight=balanced, criterion=gini, max_depth=107, max_features=47, min_samples_leaf=4, min_samples_split=18, n_estimators=14, random_state=42, total=   0.1s\n",
      "[CV] bootstrap=False, class_weight=None, criterion=entropy, max_depth=101, max_features=18, min_samples_leaf=3, min_samples_split=13, n_estimators=12, random_state=42 \n",
      "[CV]  bootstrap=True, class_weight=balanced, criterion=gini, max_depth=107, max_features=47, min_samples_leaf=4, min_samples_split=18, n_estimators=14, random_state=42, total=   0.1s\n",
      "[CV] bootstrap=False, class_weight=None, criterion=entropy, max_depth=101, max_features=18, min_samples_leaf=3, min_samples_split=13, n_estimators=12, random_state=42 \n",
      "[CV]  bootstrap=True, class_weight=balanced, criterion=gini, max_depth=107, max_features=47, min_samples_leaf=4, min_samples_split=18, n_estimators=14, random_state=42, total=   0.1s\n",
      "[CV] bootstrap=False, class_weight=None, criterion=entropy, max_depth=101, max_features=18, min_samples_leaf=3, min_samples_split=13, n_estimators=12, random_state=42 \n",
      "[CV]  bootstrap=False, class_weight=None, criterion=entropy, max_depth=101, max_features=18, min_samples_leaf=3, min_samples_split=13, n_estimators=12, random_state=42, total=   0.1s\n",
      "[CV] bootstrap=False, class_weight=None, criterion=entropy, max_depth=101, max_features=18, min_samples_leaf=3, min_samples_split=13, n_estimators=12, random_state=42 \n",
      "[CV]  bootstrap=False, class_weight=None, criterion=entropy, max_depth=100, max_features=72, min_samples_leaf=6, min_samples_split=10, n_estimators=26, random_state=42, total=   0.4s\n",
      "[CV] bootstrap=False, class_weight=None, criterion=entropy, max_depth=101, max_features=18, min_samples_leaf=3, min_samples_split=13, n_estimators=12, random_state=42 \n",
      "[CV]  bootstrap=False, class_weight=None, criterion=entropy, max_depth=101, max_features=18, min_samples_leaf=3, min_samples_split=13, n_estimators=12, random_state=42, total=   0.1s\n",
      "[CV] bootstrap=True, class_weight=balanced, criterion=entropy, max_depth=105, max_features=69, min_samples_leaf=9, min_samples_split=12, n_estimators=18, random_state=42 \n",
      "[CV]  bootstrap=False, class_weight=None, criterion=entropy, max_depth=101, max_features=18, min_samples_leaf=3, min_samples_split=13, n_estimators=12, random_state=42, total=   0.1s\n",
      "[CV] bootstrap=True, class_weight=balanced, criterion=entropy, max_depth=105, max_features=69, min_samples_leaf=9, min_samples_split=12, n_estimators=18, random_state=42 \n",
      "[CV]  bootstrap=False, class_weight=None, criterion=entropy, max_depth=101, max_features=18, min_samples_leaf=3, min_samples_split=13, n_estimators=12, random_state=42, total=   0.1s\n",
      "[CV] bootstrap=True, class_weight=balanced, criterion=entropy, max_depth=105, max_features=69, min_samples_leaf=9, min_samples_split=12, n_estimators=18, random_state=42 \n",
      "[CV]  bootstrap=False, class_weight=None, criterion=entropy, max_depth=101, max_features=18, min_samples_leaf=3, min_samples_split=13, n_estimators=12, random_state=42, total=   0.1s\n",
      "[CV] bootstrap=True, class_weight=balanced, criterion=entropy, max_depth=105, max_features=69, min_samples_leaf=9, min_samples_split=12, n_estimators=18, random_state=42 \n",
      "[CV]  bootstrap=True, class_weight=balanced, criterion=entropy, max_depth=105, max_features=69, min_samples_leaf=9, min_samples_split=12, n_estimators=18, random_state=42, total=   0.1s\n",
      "[CV] bootstrap=True, class_weight=balanced, criterion=entropy, max_depth=105, max_features=69, min_samples_leaf=9, min_samples_split=12, n_estimators=18, random_state=42 \n",
      "[CV]  bootstrap=True, class_weight=balanced, criterion=entropy, max_depth=105, max_features=69, min_samples_leaf=9, min_samples_split=12, n_estimators=18, random_state=42, total=   0.1s\n"
     ]
    },
    {
     "name": "stdout",
     "output_type": "stream",
     "text": [
      "[CV] bootstrap=True, class_weight=None, criterion=entropy, max_depth=102, max_features=46, min_samples_leaf=6, min_samples_split=15, n_estimators=13, random_state=42 \n",
      "[CV]  bootstrap=True, class_weight=balanced, criterion=entropy, max_depth=105, max_features=69, min_samples_leaf=9, min_samples_split=12, n_estimators=18, random_state=42, total=   0.2s\n",
      "[CV] bootstrap=True, class_weight=None, criterion=entropy, max_depth=102, max_features=46, min_samples_leaf=6, min_samples_split=15, n_estimators=13, random_state=42 \n",
      "[CV]  bootstrap=True, class_weight=balanced, criterion=entropy, max_depth=105, max_features=69, min_samples_leaf=9, min_samples_split=12, n_estimators=18, random_state=42, total=   0.1s\n",
      "[CV] bootstrap=True, class_weight=None, criterion=entropy, max_depth=102, max_features=46, min_samples_leaf=6, min_samples_split=15, n_estimators=13, random_state=42 \n",
      "[CV]  bootstrap=True, class_weight=None, criterion=entropy, max_depth=102, max_features=46, min_samples_leaf=6, min_samples_split=15, n_estimators=13, random_state=42, total=   0.1s\n",
      "[CV] bootstrap=True, class_weight=None, criterion=entropy, max_depth=102, max_features=46, min_samples_leaf=6, min_samples_split=15, n_estimators=13, random_state=42 \n",
      "[CV]  bootstrap=True, class_weight=None, criterion=entropy, max_depth=102, max_features=46, min_samples_leaf=6, min_samples_split=15, n_estimators=13, random_state=42, total=   0.1s\n",
      "[CV] bootstrap=True, class_weight=None, criterion=entropy, max_depth=102, max_features=46, min_samples_leaf=6, min_samples_split=15, n_estimators=13, random_state=42 \n",
      "[CV]  bootstrap=True, class_weight=balanced, criterion=entropy, max_depth=105, max_features=69, min_samples_leaf=9, min_samples_split=12, n_estimators=18, random_state=42, total=   0.2s\n",
      "[CV] bootstrap=True, class_weight=balanced, criterion=entropy, max_depth=108, max_features=27, min_samples_leaf=9, min_samples_split=9, n_estimators=16, random_state=42 \n",
      "[CV]  bootstrap=True, class_weight=None, criterion=entropy, max_depth=102, max_features=46, min_samples_leaf=6, min_samples_split=15, n_estimators=13, random_state=42, total=   0.1s\n",
      "[CV] bootstrap=True, class_weight=balanced, criterion=entropy, max_depth=108, max_features=27, min_samples_leaf=9, min_samples_split=9, n_estimators=16, random_state=42 \n",
      "[CV]  bootstrap=True, class_weight=None, criterion=entropy, max_depth=102, max_features=46, min_samples_leaf=6, min_samples_split=15, n_estimators=13, random_state=42, total=   0.1s\n",
      "[CV] bootstrap=True, class_weight=balanced, criterion=entropy, max_depth=108, max_features=27, min_samples_leaf=9, min_samples_split=9, n_estimators=16, random_state=42 \n",
      "[CV]  bootstrap=True, class_weight=None, criterion=entropy, max_depth=102, max_features=46, min_samples_leaf=6, min_samples_split=15, n_estimators=13, random_state=42, total=   0.1s\n",
      "[CV] bootstrap=True, class_weight=balanced, criterion=entropy, max_depth=108, max_features=27, min_samples_leaf=9, min_samples_split=9, n_estimators=16, random_state=42 \n",
      "[CV]  bootstrap=True, class_weight=balanced, criterion=entropy, max_depth=108, max_features=27, min_samples_leaf=9, min_samples_split=9, n_estimators=16, random_state=42, total=   0.1s\n",
      "[CV] bootstrap=True, class_weight=balanced, criterion=entropy, max_depth=108, max_features=27, min_samples_leaf=9, min_samples_split=9, n_estimators=16, random_state=42 \n",
      "[CV]  bootstrap=True, class_weight=balanced, criterion=entropy, max_depth=108, max_features=27, min_samples_leaf=9, min_samples_split=9, n_estimators=16, random_state=42, total=   0.1s\n",
      "[CV] bootstrap=False, class_weight=None, criterion=entropy, max_depth=102, max_features=47, min_samples_leaf=2, min_samples_split=16, n_estimators=10, random_state=42 \n",
      "[CV]  bootstrap=True, class_weight=balanced, criterion=entropy, max_depth=108, max_features=27, min_samples_leaf=9, min_samples_split=9, n_estimators=16, random_state=42, total=   0.1s\n",
      "[CV]  bootstrap=True, class_weight=balanced, criterion=entropy, max_depth=108, max_features=27, min_samples_leaf=9, min_samples_split=9, n_estimators=16, random_state=42, total=   0.1s\n",
      "[CV] bootstrap=False, class_weight=None, criterion=entropy, max_depth=102, max_features=47, min_samples_leaf=2, min_samples_split=16, n_estimators=10, random_state=42 \n",
      "[CV] bootstrap=False, class_weight=None, criterion=entropy, max_depth=102, max_features=47, min_samples_leaf=2, min_samples_split=16, n_estimators=10, random_state=42 \n",
      "[CV]  bootstrap=True, class_weight=balanced, criterion=entropy, max_depth=108, max_features=27, min_samples_leaf=9, min_samples_split=9, n_estimators=16, random_state=42, total=   0.1s\n",
      "[CV] bootstrap=False, class_weight=None, criterion=entropy, max_depth=102, max_features=47, min_samples_leaf=2, min_samples_split=16, n_estimators=10, random_state=42 \n",
      "[CV]  bootstrap=False, class_weight=None, criterion=entropy, max_depth=102, max_features=47, min_samples_leaf=2, min_samples_split=16, n_estimators=10, random_state=42, total=   0.1s\n",
      "[CV] bootstrap=False, class_weight=None, criterion=entropy, max_depth=102, max_features=47, min_samples_leaf=2, min_samples_split=16, n_estimators=10, random_state=42 \n",
      "[CV]  bootstrap=False, class_weight=None, criterion=entropy, max_depth=102, max_features=47, min_samples_leaf=2, min_samples_split=16, n_estimators=10, random_state=42, total=   0.1s\n",
      "[CV]  bootstrap=False, class_weight=None, criterion=entropy, max_depth=102, max_features=47, min_samples_leaf=2, min_samples_split=16, n_estimators=10, random_state=42, total=   0.1s\n",
      "[CV] bootstrap=True, class_weight=balanced, criterion=gini, max_depth=106, max_features=75, min_samples_leaf=15, min_samples_split=9, n_estimators=17, random_state=42 \n",
      "[CV]  bootstrap=False, class_weight=None, criterion=entropy, max_depth=102, max_features=47, min_samples_leaf=2, min_samples_split=16, n_estimators=10, random_state=42, total=   0.1s\n",
      "[CV] bootstrap=True, class_weight=balanced, criterion=gini, max_depth=106, max_features=75, min_samples_leaf=15, min_samples_split=9, n_estimators=17, random_state=42 \n",
      "[CV]  bootstrap=False, class_weight=None, criterion=entropy, max_depth=102, max_features=47, min_samples_leaf=2, min_samples_split=16, n_estimators=10, random_state=42, total=   0.1s\n",
      "[CV] bootstrap=True, class_weight=balanced, criterion=gini, max_depth=106, max_features=75, min_samples_leaf=15, min_samples_split=9, n_estimators=17, random_state=42 \n",
      "[CV] bootstrap=True, class_weight=balanced, criterion=gini, max_depth=106, max_features=75, min_samples_leaf=15, min_samples_split=9, n_estimators=17, random_state=42 \n",
      "[CV]  bootstrap=True, class_weight=balanced, criterion=gini, max_depth=106, max_features=75, min_samples_leaf=15, min_samples_split=9, n_estimators=17, random_state=42, total=   0.1s\n",
      "[CV] bootstrap=True, class_weight=balanced, criterion=gini, max_depth=106, max_features=75, min_samples_leaf=15, min_samples_split=9, n_estimators=17, random_state=42 \n",
      "[CV]  bootstrap=True, class_weight=balanced, criterion=gini, max_depth=106, max_features=75, min_samples_leaf=15, min_samples_split=9, n_estimators=17, random_state=42, total=   0.1s\n",
      "[CV] bootstrap=True, class_weight=balanced, criterion=gini, max_depth=105, max_features=15, min_samples_leaf=4, min_samples_split=8, n_estimators=28, random_state=42 \n",
      "[CV]  bootstrap=True, class_weight=balanced, criterion=gini, max_depth=106, max_features=75, min_samples_leaf=15, min_samples_split=9, n_estimators=17, random_state=42, total=   0.1s\n",
      "[CV] bootstrap=True, class_weight=balanced, criterion=gini, max_depth=105, max_features=15, min_samples_leaf=4, min_samples_split=8, n_estimators=28, random_state=42 \n",
      "[CV]  bootstrap=True, class_weight=balanced, criterion=gini, max_depth=106, max_features=75, min_samples_leaf=15, min_samples_split=9, n_estimators=17, random_state=42, total=   0.1s\n",
      "[CV] bootstrap=True, class_weight=balanced, criterion=gini, max_depth=105, max_features=15, min_samples_leaf=4, min_samples_split=8, n_estimators=28, random_state=42 \n"
     ]
    },
    {
     "name": "stderr",
     "output_type": "stream",
     "text": [
      "[Parallel(n_jobs=-1)]: Done 640 tasks      | elapsed:   31.9s\n"
     ]
    },
    {
     "name": "stdout",
     "output_type": "stream",
     "text": [
      "[CV]  bootstrap=True, class_weight=balanced, criterion=gini, max_depth=106, max_features=75, min_samples_leaf=15, min_samples_split=9, n_estimators=17, random_state=42, total=   0.1s\n",
      "[CV] bootstrap=True, class_weight=balanced, criterion=gini, max_depth=105, max_features=15, min_samples_leaf=4, min_samples_split=8, n_estimators=28, random_state=42 \n",
      "[CV]  bootstrap=True, class_weight=balanced, criterion=gini, max_depth=105, max_features=15, min_samples_leaf=4, min_samples_split=8, n_estimators=28, random_state=42, total=   0.1s\n",
      "[CV]  bootstrap=True, class_weight=balanced, criterion=gini, max_depth=105, max_features=15, min_samples_leaf=4, min_samples_split=8, n_estimators=28, random_state=42, total=   0.1s\n",
      "[CV] bootstrap=True, class_weight=balanced, criterion=gini, max_depth=105, max_features=15, min_samples_leaf=4, min_samples_split=8, n_estimators=28, random_state=42 \n",
      "[CV]  bootstrap=True, class_weight=balanced, criterion=gini, max_depth=105, max_features=15, min_samples_leaf=4, min_samples_split=8, n_estimators=28, random_state=42, total=   0.1s\n",
      "[CV] bootstrap=False, class_weight=None, criterion=entropy, max_depth=103, max_features=24, min_samples_leaf=16, min_samples_split=2, n_estimators=29, random_state=42 \n",
      "[CV] bootstrap=False, class_weight=None, criterion=entropy, max_depth=103, max_features=24, min_samples_leaf=16, min_samples_split=2, n_estimators=29, random_state=42 \n",
      "[CV]  bootstrap=True, class_weight=balanced, criterion=gini, max_depth=105, max_features=15, min_samples_leaf=4, min_samples_split=8, n_estimators=28, random_state=42, total=   0.2s\n",
      "[CV] bootstrap=False, class_weight=None, criterion=entropy, max_depth=103, max_features=24, min_samples_leaf=16, min_samples_split=2, n_estimators=29, random_state=42 \n",
      "[CV]  bootstrap=True, class_weight=balanced, criterion=gini, max_depth=105, max_features=15, min_samples_leaf=4, min_samples_split=8, n_estimators=28, random_state=42, total=   0.2s\n",
      "[CV] bootstrap=False, class_weight=None, criterion=entropy, max_depth=103, max_features=24, min_samples_leaf=16, min_samples_split=2, n_estimators=29, random_state=42 \n",
      "[CV]  bootstrap=False, class_weight=None, criterion=entropy, max_depth=103, max_features=24, min_samples_leaf=16, min_samples_split=2, n_estimators=29, random_state=42, total=   0.2s\n",
      "[CV] bootstrap=False, class_weight=None, criterion=entropy, max_depth=103, max_features=24, min_samples_leaf=16, min_samples_split=2, n_estimators=29, random_state=42 \n",
      "[CV]  bootstrap=False, class_weight=None, criterion=entropy, max_depth=103, max_features=24, min_samples_leaf=16, min_samples_split=2, n_estimators=29, random_state=42, total=   0.2s\n",
      "[CV] bootstrap=False, class_weight=balanced, criterion=gini, max_depth=103, max_features=38, min_samples_leaf=7, min_samples_split=2, n_estimators=14, random_state=42 \n",
      "[CV]  bootstrap=False, class_weight=None, criterion=entropy, max_depth=103, max_features=24, min_samples_leaf=16, min_samples_split=2, n_estimators=29, random_state=42, total=   0.2s\n",
      "[CV] bootstrap=False, class_weight=balanced, criterion=gini, max_depth=103, max_features=38, min_samples_leaf=7, min_samples_split=2, n_estimators=14, random_state=42 \n",
      "[CV]  bootstrap=False, class_weight=None, criterion=entropy, max_depth=103, max_features=24, min_samples_leaf=16, min_samples_split=2, n_estimators=29, random_state=42, total=   0.2s\n",
      "[CV] bootstrap=False, class_weight=balanced, criterion=gini, max_depth=103, max_features=38, min_samples_leaf=7, min_samples_split=2, n_estimators=14, random_state=42 \n",
      "[CV]  bootstrap=False, class_weight=balanced, criterion=gini, max_depth=103, max_features=38, min_samples_leaf=7, min_samples_split=2, n_estimators=14, random_state=42, total=   0.1s\n",
      "[CV] bootstrap=False, class_weight=balanced, criterion=gini, max_depth=103, max_features=38, min_samples_leaf=7, min_samples_split=2, n_estimators=14, random_state=42 \n",
      "[CV]  bootstrap=False, class_weight=None, criterion=entropy, max_depth=103, max_features=24, min_samples_leaf=16, min_samples_split=2, n_estimators=29, random_state=42, total=   0.2s\n",
      "[CV] bootstrap=False, class_weight=balanced, criterion=gini, max_depth=103, max_features=38, min_samples_leaf=7, min_samples_split=2, n_estimators=14, random_state=42 \n",
      "[CV]  bootstrap=False, class_weight=balanced, criterion=gini, max_depth=103, max_features=38, min_samples_leaf=7, min_samples_split=2, n_estimators=14, random_state=42, total=   0.1s\n",
      "[CV] bootstrap=True, class_weight=balanced, criterion=gini, max_depth=103, max_features=75, min_samples_leaf=11, min_samples_split=6, n_estimators=19, random_state=42 \n",
      "[CV]  bootstrap=False, class_weight=balanced, criterion=gini, max_depth=103, max_features=38, min_samples_leaf=7, min_samples_split=2, n_estimators=14, random_state=42, total=   0.1s\n",
      "[CV] bootstrap=True, class_weight=balanced, criterion=gini, max_depth=103, max_features=75, min_samples_leaf=11, min_samples_split=6, n_estimators=19, random_state=42 \n",
      "[CV]  bootstrap=False, class_weight=balanced, criterion=gini, max_depth=103, max_features=38, min_samples_leaf=7, min_samples_split=2, n_estimators=14, random_state=42, total=   0.1s\n",
      "[CV] bootstrap=True, class_weight=balanced, criterion=gini, max_depth=103, max_features=75, min_samples_leaf=11, min_samples_split=6, n_estimators=19, random_state=42 \n",
      "[CV]  bootstrap=False, class_weight=balanced, criterion=gini, max_depth=103, max_features=38, min_samples_leaf=7, min_samples_split=2, n_estimators=14, random_state=42, total=   0.1s\n",
      "[CV] bootstrap=True, class_weight=balanced, criterion=gini, max_depth=103, max_features=75, min_samples_leaf=11, min_samples_split=6, n_estimators=19, random_state=42 \n",
      "[CV]  bootstrap=True, class_weight=balanced, criterion=gini, max_depth=103, max_features=75, min_samples_leaf=11, min_samples_split=6, n_estimators=19, random_state=42, total=   0.1s\n",
      "[CV] bootstrap=True, class_weight=balanced, criterion=gini, max_depth=103, max_features=75, min_samples_leaf=11, min_samples_split=6, n_estimators=19, random_state=42 \n",
      "[CV]  bootstrap=True, class_weight=balanced, criterion=gini, max_depth=103, max_features=75, min_samples_leaf=11, min_samples_split=6, n_estimators=19, random_state=42, total=   0.2s\n",
      "[CV]  bootstrap=True, class_weight=balanced, criterion=gini, max_depth=103, max_features=75, min_samples_leaf=11, min_samples_split=6, n_estimators=19, random_state=42, total=   0.2s\n",
      "[CV] bootstrap=True, class_weight=None, criterion=entropy, max_depth=103, max_features=61, min_samples_leaf=16, min_samples_split=9, n_estimators=14, random_state=42 \n",
      "[CV] bootstrap=True, class_weight=None, criterion=entropy, max_depth=103, max_features=61, min_samples_leaf=16, min_samples_split=9, n_estimators=14, random_state=42 \n",
      "[CV]  bootstrap=True, class_weight=balanced, criterion=gini, max_depth=103, max_features=75, min_samples_leaf=11, min_samples_split=6, n_estimators=19, random_state=42, total=   0.2s\n",
      "[CV] bootstrap=True, class_weight=None, criterion=entropy, max_depth=103, max_features=61, min_samples_leaf=16, min_samples_split=9, n_estimators=14, random_state=42 \n",
      "[CV]  bootstrap=True, class_weight=None, criterion=entropy, max_depth=103, max_features=61, min_samples_leaf=16, min_samples_split=9, n_estimators=14, random_state=42, total=   0.1s\n",
      "[CV] bootstrap=True, class_weight=None, criterion=entropy, max_depth=103, max_features=61, min_samples_leaf=16, min_samples_split=9, n_estimators=14, random_state=42 \n",
      "[CV]  bootstrap=True, class_weight=None, criterion=entropy, max_depth=103, max_features=61, min_samples_leaf=16, min_samples_split=9, n_estimators=14, random_state=42, total=   0.1s\n",
      "[CV] bootstrap=True, class_weight=None, criterion=entropy, max_depth=103, max_features=61, min_samples_leaf=16, min_samples_split=9, n_estimators=14, random_state=42 \n",
      "[CV]  bootstrap=True, class_weight=balanced, criterion=gini, max_depth=103, max_features=75, min_samples_leaf=11, min_samples_split=6, n_estimators=19, random_state=42, total=   0.1s\n",
      "[CV] bootstrap=True, class_weight=balanced, criterion=entropy, max_depth=None, max_features=54, min_samples_leaf=3, min_samples_split=5, n_estimators=13, random_state=42 \n",
      "[CV]  bootstrap=True, class_weight=None, criterion=entropy, max_depth=103, max_features=61, min_samples_leaf=16, min_samples_split=9, n_estimators=14, random_state=42, total=   0.1s\n"
     ]
    },
    {
     "name": "stdout",
     "output_type": "stream",
     "text": [
      "[CV] bootstrap=True, class_weight=balanced, criterion=entropy, max_depth=None, max_features=54, min_samples_leaf=3, min_samples_split=5, n_estimators=13, random_state=42 \n",
      "[CV]  bootstrap=True, class_weight=None, criterion=entropy, max_depth=103, max_features=61, min_samples_leaf=16, min_samples_split=9, n_estimators=14, random_state=42, total=   0.1s\n",
      "[CV] bootstrap=True, class_weight=balanced, criterion=entropy, max_depth=None, max_features=54, min_samples_leaf=3, min_samples_split=5, n_estimators=13, random_state=42 \n",
      "[CV]  bootstrap=True, class_weight=None, criterion=entropy, max_depth=103, max_features=61, min_samples_leaf=16, min_samples_split=9, n_estimators=14, random_state=42, total=   0.1s\n",
      "[CV] bootstrap=True, class_weight=balanced, criterion=entropy, max_depth=None, max_features=54, min_samples_leaf=3, min_samples_split=5, n_estimators=13, random_state=42 \n",
      "[CV]  bootstrap=True, class_weight=balanced, criterion=entropy, max_depth=None, max_features=54, min_samples_leaf=3, min_samples_split=5, n_estimators=13, random_state=42, total=   0.1s\n",
      "[CV] bootstrap=True, class_weight=balanced, criterion=entropy, max_depth=None, max_features=54, min_samples_leaf=3, min_samples_split=5, n_estimators=13, random_state=42 \n",
      "[CV]  bootstrap=True, class_weight=balanced, criterion=entropy, max_depth=None, max_features=54, min_samples_leaf=3, min_samples_split=5, n_estimators=13, random_state=42, total=   0.1s\n",
      "[CV] bootstrap=False, class_weight=balanced, criterion=gini, max_depth=104, max_features=29, min_samples_leaf=12, min_samples_split=11, n_estimators=17, random_state=42 \n",
      "[CV]  bootstrap=True, class_weight=balanced, criterion=entropy, max_depth=None, max_features=54, min_samples_leaf=3, min_samples_split=5, n_estimators=13, random_state=42, total=   0.1s\n",
      "[CV] bootstrap=False, class_weight=balanced, criterion=gini, max_depth=104, max_features=29, min_samples_leaf=12, min_samples_split=11, n_estimators=17, random_state=42 \n",
      "[CV]  bootstrap=True, class_weight=balanced, criterion=entropy, max_depth=None, max_features=54, min_samples_leaf=3, min_samples_split=5, n_estimators=13, random_state=42, total=   0.2s\n",
      "[CV]  bootstrap=True, class_weight=balanced, criterion=entropy, max_depth=None, max_features=54, min_samples_leaf=3, min_samples_split=5, n_estimators=13, random_state=42, total=   0.1s\n",
      "[CV] bootstrap=False, class_weight=balanced, criterion=gini, max_depth=104, max_features=29, min_samples_leaf=12, min_samples_split=11, n_estimators=17, random_state=42 \n",
      "[CV] bootstrap=False, class_weight=balanced, criterion=gini, max_depth=104, max_features=29, min_samples_leaf=12, min_samples_split=11, n_estimators=17, random_state=42 \n",
      "[CV]  bootstrap=False, class_weight=balanced, criterion=gini, max_depth=104, max_features=29, min_samples_leaf=12, min_samples_split=11, n_estimators=17, random_state=42, total=   0.2s\n",
      "[CV] bootstrap=False, class_weight=balanced, criterion=gini, max_depth=104, max_features=29, min_samples_leaf=12, min_samples_split=11, n_estimators=17, random_state=42 \n",
      "[CV]  bootstrap=False, class_weight=balanced, criterion=gini, max_depth=104, max_features=29, min_samples_leaf=12, min_samples_split=11, n_estimators=17, random_state=42, total=   0.1s\n",
      "[CV] bootstrap=False, class_weight=None, criterion=entropy, max_depth=106, max_features=56, min_samples_leaf=15, min_samples_split=12, n_estimators=21, random_state=42 \n",
      "[CV]  bootstrap=False, class_weight=balanced, criterion=gini, max_depth=104, max_features=29, min_samples_leaf=12, min_samples_split=11, n_estimators=17, random_state=42, total=   0.1s\n",
      "[CV] bootstrap=False, class_weight=None, criterion=entropy, max_depth=106, max_features=56, min_samples_leaf=15, min_samples_split=12, n_estimators=21, random_state=42 \n",
      "[CV]  bootstrap=False, class_weight=balanced, criterion=gini, max_depth=104, max_features=29, min_samples_leaf=12, min_samples_split=11, n_estimators=17, random_state=42, total=   0.1s\n",
      "[CV] bootstrap=False, class_weight=None, criterion=entropy, max_depth=106, max_features=56, min_samples_leaf=15, min_samples_split=12, n_estimators=21, random_state=42 \n",
      "[CV]  bootstrap=False, class_weight=balanced, criterion=gini, max_depth=104, max_features=29, min_samples_leaf=12, min_samples_split=11, n_estimators=17, random_state=42, total=   0.1s\n",
      "[CV] bootstrap=False, class_weight=None, criterion=entropy, max_depth=106, max_features=56, min_samples_leaf=15, min_samples_split=12, n_estimators=21, random_state=42 \n",
      "[CV]  bootstrap=False, class_weight=None, criterion=entropy, max_depth=106, max_features=56, min_samples_leaf=15, min_samples_split=12, n_estimators=21, random_state=42, total=   0.2s\n",
      "[CV] bootstrap=False, class_weight=None, criterion=entropy, max_depth=106, max_features=56, min_samples_leaf=15, min_samples_split=12, n_estimators=21, random_state=42 \n",
      "[CV]  bootstrap=False, class_weight=None, criterion=entropy, max_depth=106, max_features=56, min_samples_leaf=15, min_samples_split=12, n_estimators=21, random_state=42, total=   0.2s\n",
      "[CV] bootstrap=False, class_weight=balanced, criterion=entropy, max_depth=101, max_features=69, min_samples_leaf=12, min_samples_split=13, n_estimators=21, random_state=42 \n",
      "[CV]  bootstrap=False, class_weight=None, criterion=entropy, max_depth=106, max_features=56, min_samples_leaf=15, min_samples_split=12, n_estimators=21, random_state=42, total=   0.2s\n",
      "[CV] bootstrap=False, class_weight=balanced, criterion=entropy, max_depth=101, max_features=69, min_samples_leaf=12, min_samples_split=13, n_estimators=21, random_state=42 \n",
      "[CV]  bootstrap=False, class_weight=None, criterion=entropy, max_depth=106, max_features=56, min_samples_leaf=15, min_samples_split=12, n_estimators=21, random_state=42, total=   0.2s\n",
      "[CV] bootstrap=False, class_weight=balanced, criterion=entropy, max_depth=101, max_features=69, min_samples_leaf=12, min_samples_split=13, n_estimators=21, random_state=42 \n",
      "[CV]  bootstrap=False, class_weight=None, criterion=entropy, max_depth=106, max_features=56, min_samples_leaf=15, min_samples_split=12, n_estimators=21, random_state=42, total=   0.2s\n",
      "[CV] bootstrap=False, class_weight=balanced, criterion=entropy, max_depth=101, max_features=69, min_samples_leaf=12, min_samples_split=13, n_estimators=21, random_state=42 \n",
      "[CV]  bootstrap=False, class_weight=balanced, criterion=entropy, max_depth=101, max_features=69, min_samples_leaf=12, min_samples_split=13, n_estimators=21, random_state=42, total=   0.2s\n",
      "[CV] bootstrap=False, class_weight=balanced, criterion=entropy, max_depth=101, max_features=69, min_samples_leaf=12, min_samples_split=13, n_estimators=21, random_state=42 \n",
      "[CV]  bootstrap=False, class_weight=balanced, criterion=entropy, max_depth=101, max_features=69, min_samples_leaf=12, min_samples_split=13, n_estimators=21, random_state=42, total=   0.2s\n",
      "[CV] bootstrap=False, class_weight=None, criterion=entropy, max_depth=104, max_features=46, min_samples_leaf=9, min_samples_split=11, n_estimators=26, random_state=42 \n",
      "[CV]  bootstrap=False, class_weight=balanced, criterion=entropy, max_depth=101, max_features=69, min_samples_leaf=12, min_samples_split=13, n_estimators=21, random_state=42, total=   0.2s\n",
      "[CV] bootstrap=False, class_weight=None, criterion=entropy, max_depth=104, max_features=46, min_samples_leaf=9, min_samples_split=11, n_estimators=26, random_state=42 \n",
      "[CV]  bootstrap=False, class_weight=balanced, criterion=entropy, max_depth=101, max_features=69, min_samples_leaf=12, min_samples_split=13, n_estimators=21, random_state=42, total=   0.2s\n",
      "[CV] bootstrap=False, class_weight=None, criterion=entropy, max_depth=104, max_features=46, min_samples_leaf=9, min_samples_split=11, n_estimators=26, random_state=42 \n",
      "[CV]  bootstrap=False, class_weight=balanced, criterion=entropy, max_depth=101, max_features=69, min_samples_leaf=12, min_samples_split=13, n_estimators=21, random_state=42, total=   0.2s\n",
      "[CV] bootstrap=False, class_weight=None, criterion=entropy, max_depth=104, max_features=46, min_samples_leaf=9, min_samples_split=11, n_estimators=26, random_state=42 \n",
      "[CV]  bootstrap=False, class_weight=None, criterion=entropy, max_depth=104, max_features=46, min_samples_leaf=9, min_samples_split=11, n_estimators=26, random_state=42, total=   0.2s\n",
      "[CV] bootstrap=False, class_weight=None, criterion=entropy, max_depth=104, max_features=46, min_samples_leaf=9, min_samples_split=11, n_estimators=26, random_state=42 \n"
     ]
    },
    {
     "name": "stdout",
     "output_type": "stream",
     "text": [
      "[CV]  bootstrap=False, class_weight=None, criterion=entropy, max_depth=104, max_features=46, min_samples_leaf=9, min_samples_split=11, n_estimators=26, random_state=42, total=   0.2s\n",
      "[CV] bootstrap=False, class_weight=balanced, criterion=entropy, max_depth=108, max_features=60, min_samples_leaf=15, min_samples_split=9, n_estimators=18, random_state=42 \n",
      "[CV]  bootstrap=False, class_weight=None, criterion=entropy, max_depth=104, max_features=46, min_samples_leaf=9, min_samples_split=11, n_estimators=26, random_state=42, total=   0.2s\n",
      "[CV] bootstrap=False, class_weight=balanced, criterion=entropy, max_depth=108, max_features=60, min_samples_leaf=15, min_samples_split=9, n_estimators=18, random_state=42 \n",
      "[CV]  bootstrap=False, class_weight=None, criterion=entropy, max_depth=104, max_features=46, min_samples_leaf=9, min_samples_split=11, n_estimators=26, random_state=42, total=   0.2s\n",
      "[CV] bootstrap=False, class_weight=balanced, criterion=entropy, max_depth=108, max_features=60, min_samples_leaf=15, min_samples_split=9, n_estimators=18, random_state=42 \n",
      "[CV]  bootstrap=False, class_weight=balanced, criterion=entropy, max_depth=108, max_features=60, min_samples_leaf=15, min_samples_split=9, n_estimators=18, random_state=42, total=   0.2s\n",
      "[CV] bootstrap=False, class_weight=balanced, criterion=entropy, max_depth=108, max_features=60, min_samples_leaf=15, min_samples_split=9, n_estimators=18, random_state=42 \n",
      "[CV]  bootstrap=False, class_weight=None, criterion=entropy, max_depth=104, max_features=46, min_samples_leaf=9, min_samples_split=11, n_estimators=26, random_state=42, total=   0.2s\n",
      "[CV] bootstrap=False, class_weight=balanced, criterion=entropy, max_depth=108, max_features=60, min_samples_leaf=15, min_samples_split=9, n_estimators=18, random_state=42 \n",
      "[CV]  bootstrap=False, class_weight=balanced, criterion=entropy, max_depth=108, max_features=60, min_samples_leaf=15, min_samples_split=9, n_estimators=18, random_state=42, total=   0.2s\n",
      "[CV] bootstrap=False, class_weight=balanced, criterion=gini, max_depth=100, max_features=55, min_samples_leaf=6, min_samples_split=15, n_estimators=13, random_state=42 \n",
      "[CV]  bootstrap=False, class_weight=balanced, criterion=entropy, max_depth=108, max_features=60, min_samples_leaf=15, min_samples_split=9, n_estimators=18, random_state=42, total=   0.2s\n",
      "[CV] bootstrap=False, class_weight=balanced, criterion=gini, max_depth=100, max_features=55, min_samples_leaf=6, min_samples_split=15, n_estimators=13, random_state=42 \n",
      "[CV]  bootstrap=False, class_weight=balanced, criterion=entropy, max_depth=108, max_features=60, min_samples_leaf=15, min_samples_split=9, n_estimators=18, random_state=42, total=   0.2s\n",
      "[CV] bootstrap=False, class_weight=balanced, criterion=gini, max_depth=100, max_features=55, min_samples_leaf=6, min_samples_split=15, n_estimators=13, random_state=42 \n",
      "[CV]  bootstrap=False, class_weight=balanced, criterion=entropy, max_depth=108, max_features=60, min_samples_leaf=15, min_samples_split=9, n_estimators=18, random_state=42, total=   0.2s\n",
      "[CV] bootstrap=False, class_weight=balanced, criterion=gini, max_depth=100, max_features=55, min_samples_leaf=6, min_samples_split=15, n_estimators=13, random_state=42 \n",
      "[CV]  bootstrap=False, class_weight=balanced, criterion=gini, max_depth=100, max_features=55, min_samples_leaf=6, min_samples_split=15, n_estimators=13, random_state=42, total=   0.2s\n",
      "[CV] bootstrap=False, class_weight=balanced, criterion=gini, max_depth=100, max_features=55, min_samples_leaf=6, min_samples_split=15, n_estimators=13, random_state=42 \n",
      "[CV]  bootstrap=False, class_weight=balanced, criterion=gini, max_depth=100, max_features=55, min_samples_leaf=6, min_samples_split=15, n_estimators=13, random_state=42, total=   0.1s\n",
      "[CV] bootstrap=False, class_weight=balanced, criterion=gini, max_depth=100, max_features=72, min_samples_leaf=9, min_samples_split=16, n_estimators=24, random_state=42 \n",
      "[CV]  bootstrap=False, class_weight=balanced, criterion=gini, max_depth=100, max_features=55, min_samples_leaf=6, min_samples_split=15, n_estimators=13, random_state=42, total=   0.1s\n",
      "[CV] bootstrap=False, class_weight=balanced, criterion=gini, max_depth=100, max_features=72, min_samples_leaf=9, min_samples_split=16, n_estimators=24, random_state=42 \n",
      "[CV]  bootstrap=False, class_weight=balanced, criterion=gini, max_depth=100, max_features=55, min_samples_leaf=6, min_samples_split=15, n_estimators=13, random_state=42, total=   0.2s\n",
      "[CV] bootstrap=False, class_weight=balanced, criterion=gini, max_depth=100, max_features=72, min_samples_leaf=9, min_samples_split=16, n_estimators=24, random_state=42 \n",
      "[CV]  bootstrap=False, class_weight=balanced, criterion=gini, max_depth=100, max_features=55, min_samples_leaf=6, min_samples_split=15, n_estimators=13, random_state=42, total=   0.1s\n",
      "[CV] bootstrap=False, class_weight=balanced, criterion=gini, max_depth=100, max_features=72, min_samples_leaf=9, min_samples_split=16, n_estimators=24, random_state=42 \n",
      "[CV]  bootstrap=False, class_weight=balanced, criterion=gini, max_depth=100, max_features=72, min_samples_leaf=9, min_samples_split=16, n_estimators=24, random_state=42, total=   0.3s\n",
      "[CV] bootstrap=False, class_weight=balanced, criterion=gini, max_depth=100, max_features=72, min_samples_leaf=9, min_samples_split=16, n_estimators=24, random_state=42 \n",
      "[CV]  bootstrap=False, class_weight=balanced, criterion=gini, max_depth=100, max_features=72, min_samples_leaf=9, min_samples_split=16, n_estimators=24, random_state=42, total=   0.3s\n",
      "[CV] bootstrap=True, class_weight=balanced, criterion=gini, max_depth=109, max_features=61, min_samples_leaf=10, min_samples_split=4, n_estimators=29, random_state=42 \n",
      "[CV]  bootstrap=False, class_weight=balanced, criterion=gini, max_depth=100, max_features=72, min_samples_leaf=9, min_samples_split=16, n_estimators=24, random_state=42, total=   0.3s\n",
      "[CV] bootstrap=True, class_weight=balanced, criterion=gini, max_depth=109, max_features=61, min_samples_leaf=10, min_samples_split=4, n_estimators=29, random_state=42 \n",
      "[CV]  bootstrap=False, class_weight=balanced, criterion=gini, max_depth=100, max_features=72, min_samples_leaf=9, min_samples_split=16, n_estimators=24, random_state=42, total=   0.3s\n",
      "[CV] bootstrap=True, class_weight=balanced, criterion=gini, max_depth=109, max_features=61, min_samples_leaf=10, min_samples_split=4, n_estimators=29, random_state=42 \n",
      "[CV]  bootstrap=True, class_weight=balanced, criterion=gini, max_depth=109, max_features=61, min_samples_leaf=10, min_samples_split=4, n_estimators=29, random_state=42, total=   0.2s\n",
      "[CV] bootstrap=True, class_weight=balanced, criterion=gini, max_depth=109, max_features=61, min_samples_leaf=10, min_samples_split=4, n_estimators=29, random_state=42 \n",
      "[CV]  bootstrap=True, class_weight=balanced, criterion=gini, max_depth=109, max_features=61, min_samples_leaf=10, min_samples_split=4, n_estimators=29, random_state=42, total=   0.2s\n",
      "[CV] bootstrap=True, class_weight=balanced, criterion=gini, max_depth=109, max_features=61, min_samples_leaf=10, min_samples_split=4, n_estimators=29, random_state=42 \n",
      "[CV]  bootstrap=False, class_weight=balanced, criterion=gini, max_depth=100, max_features=72, min_samples_leaf=9, min_samples_split=16, n_estimators=24, random_state=42, total=   0.3s\n",
      "[CV] bootstrap=True, class_weight=None, criterion=gini, max_depth=105, max_features=11, min_samples_leaf=8, min_samples_split=19, n_estimators=11, random_state=42 \n",
      "[CV]  bootstrap=True, class_weight=balanced, criterion=gini, max_depth=109, max_features=61, min_samples_leaf=10, min_samples_split=4, n_estimators=29, random_state=42, total=   0.2s\n",
      "[CV] bootstrap=True, class_weight=None, criterion=gini, max_depth=105, max_features=11, min_samples_leaf=8, min_samples_split=19, n_estimators=11, random_state=42 \n",
      "[CV]  bootstrap=True, class_weight=None, criterion=gini, max_depth=105, max_features=11, min_samples_leaf=8, min_samples_split=19, n_estimators=11, random_state=42, total=   0.1s\n",
      "[CV] bootstrap=True, class_weight=None, criterion=gini, max_depth=105, max_features=11, min_samples_leaf=8, min_samples_split=19, n_estimators=11, random_state=42 \n",
      "[CV]  bootstrap=True, class_weight=None, criterion=gini, max_depth=105, max_features=11, min_samples_leaf=8, min_samples_split=19, n_estimators=11, random_state=42, total=   0.1s\n"
     ]
    },
    {
     "name": "stdout",
     "output_type": "stream",
     "text": [
      "[CV]  bootstrap=True, class_weight=None, criterion=gini, max_depth=105, max_features=11, min_samples_leaf=8, min_samples_split=19, n_estimators=11, random_state=42, total=   0.1s\n",
      "[CV] bootstrap=True, class_weight=None, criterion=gini, max_depth=105, max_features=11, min_samples_leaf=8, min_samples_split=19, n_estimators=11, random_state=42 \n",
      "[CV] bootstrap=True, class_weight=None, criterion=gini, max_depth=105, max_features=11, min_samples_leaf=8, min_samples_split=19, n_estimators=11, random_state=42 \n",
      "[CV]  bootstrap=True, class_weight=balanced, criterion=gini, max_depth=109, max_features=61, min_samples_leaf=10, min_samples_split=4, n_estimators=29, random_state=42, total=   0.2s\n",
      "[CV] bootstrap=True, class_weight=balanced, criterion=entropy, max_depth=110, max_features=68, min_samples_leaf=13, min_samples_split=8, n_estimators=29, random_state=42 \n",
      "[CV]  bootstrap=True, class_weight=None, criterion=gini, max_depth=105, max_features=11, min_samples_leaf=8, min_samples_split=19, n_estimators=11, random_state=42, total=   0.1s\n",
      "[CV] bootstrap=True, class_weight=balanced, criterion=entropy, max_depth=110, max_features=68, min_samples_leaf=13, min_samples_split=8, n_estimators=29, random_state=42 \n",
      "[CV]  bootstrap=True, class_weight=balanced, criterion=gini, max_depth=109, max_features=61, min_samples_leaf=10, min_samples_split=4, n_estimators=29, random_state=42, total=   0.2s\n",
      "[CV] bootstrap=True, class_weight=balanced, criterion=entropy, max_depth=110, max_features=68, min_samples_leaf=13, min_samples_split=8, n_estimators=29, random_state=42 \n",
      "[CV]  bootstrap=True, class_weight=None, criterion=gini, max_depth=105, max_features=11, min_samples_leaf=8, min_samples_split=19, n_estimators=11, random_state=42, total=   0.1s\n",
      "[CV] bootstrap=True, class_weight=balanced, criterion=entropy, max_depth=110, max_features=68, min_samples_leaf=13, min_samples_split=8, n_estimators=29, random_state=42 \n",
      "[CV]  bootstrap=True, class_weight=balanced, criterion=entropy, max_depth=110, max_features=68, min_samples_leaf=13, min_samples_split=8, n_estimators=29, random_state=42, total=   0.2s\n",
      "[CV] bootstrap=True, class_weight=balanced, criterion=entropy, max_depth=110, max_features=68, min_samples_leaf=13, min_samples_split=8, n_estimators=29, random_state=42 \n",
      "[CV]  bootstrap=True, class_weight=balanced, criterion=entropy, max_depth=110, max_features=68, min_samples_leaf=13, min_samples_split=8, n_estimators=29, random_state=42, total=   0.2s\n",
      "[CV] bootstrap=False, class_weight=balanced, criterion=entropy, max_depth=100, max_features=58, min_samples_leaf=12, min_samples_split=19, n_estimators=26, random_state=42 \n",
      "[CV]  bootstrap=True, class_weight=balanced, criterion=entropy, max_depth=110, max_features=68, min_samples_leaf=13, min_samples_split=8, n_estimators=29, random_state=42, total=   0.2s\n",
      "[CV] bootstrap=False, class_weight=balanced, criterion=entropy, max_depth=100, max_features=58, min_samples_leaf=12, min_samples_split=19, n_estimators=26, random_state=42 \n",
      "[CV]  bootstrap=True, class_weight=balanced, criterion=entropy, max_depth=110, max_features=68, min_samples_leaf=13, min_samples_split=8, n_estimators=29, random_state=42, total=   0.2s\n",
      "[CV] bootstrap=False, class_weight=balanced, criterion=entropy, max_depth=100, max_features=58, min_samples_leaf=12, min_samples_split=19, n_estimators=26, random_state=42 \n",
      "[CV]  bootstrap=True, class_weight=balanced, criterion=entropy, max_depth=110, max_features=68, min_samples_leaf=13, min_samples_split=8, n_estimators=29, random_state=42, total=   0.2s\n",
      "[CV] bootstrap=False, class_weight=balanced, criterion=entropy, max_depth=100, max_features=58, min_samples_leaf=12, min_samples_split=19, n_estimators=26, random_state=42 \n",
      "[CV]  bootstrap=False, class_weight=balanced, criterion=entropy, max_depth=100, max_features=58, min_samples_leaf=12, min_samples_split=19, n_estimators=26, random_state=42, total=   0.2s\n",
      "[CV] bootstrap=False, class_weight=balanced, criterion=entropy, max_depth=100, max_features=58, min_samples_leaf=12, min_samples_split=19, n_estimators=26, random_state=42 \n",
      "[CV]  bootstrap=False, class_weight=balanced, criterion=entropy, max_depth=100, max_features=58, min_samples_leaf=12, min_samples_split=19, n_estimators=26, random_state=42, total=   0.2s\n",
      "[CV] bootstrap=True, class_weight=balanced, criterion=entropy, max_depth=108, max_features=58, min_samples_leaf=9, min_samples_split=18, n_estimators=16, random_state=42 \n",
      "[CV]  bootstrap=False, class_weight=balanced, criterion=entropy, max_depth=100, max_features=58, min_samples_leaf=12, min_samples_split=19, n_estimators=26, random_state=42, total=   0.2s\n",
      "[CV] bootstrap=True, class_weight=balanced, criterion=entropy, max_depth=108, max_features=58, min_samples_leaf=9, min_samples_split=18, n_estimators=16, random_state=42 \n",
      "[CV]  bootstrap=True, class_weight=balanced, criterion=entropy, max_depth=108, max_features=58, min_samples_leaf=9, min_samples_split=18, n_estimators=16, random_state=42, total=   0.1s\n",
      "[CV] bootstrap=True, class_weight=balanced, criterion=entropy, max_depth=108, max_features=58, min_samples_leaf=9, min_samples_split=18, n_estimators=16, random_state=42 \n",
      "[CV]  bootstrap=True, class_weight=balanced, criterion=entropy, max_depth=108, max_features=58, min_samples_leaf=9, min_samples_split=18, n_estimators=16, random_state=42, total=   0.1s\n",
      "[CV] bootstrap=True, class_weight=balanced, criterion=entropy, max_depth=108, max_features=58, min_samples_leaf=9, min_samples_split=18, n_estimators=16, random_state=42 \n",
      "[CV]  bootstrap=False, class_weight=balanced, criterion=entropy, max_depth=100, max_features=58, min_samples_leaf=12, min_samples_split=19, n_estimators=26, random_state=42, total=   0.3s\n",
      "[CV] bootstrap=True, class_weight=balanced, criterion=entropy, max_depth=108, max_features=58, min_samples_leaf=9, min_samples_split=18, n_estimators=16, random_state=42 \n",
      "[CV]  bootstrap=False, class_weight=balanced, criterion=entropy, max_depth=100, max_features=58, min_samples_leaf=12, min_samples_split=19, n_estimators=26, random_state=42, total=   0.3s\n",
      "[CV] bootstrap=True, class_weight=None, criterion=gini, max_depth=106, max_features=60, min_samples_leaf=18, min_samples_split=14, n_estimators=25, random_state=42 \n",
      "[CV]  bootstrap=True, class_weight=balanced, criterion=entropy, max_depth=108, max_features=58, min_samples_leaf=9, min_samples_split=18, n_estimators=16, random_state=42, total=   0.1s\n",
      "[CV] bootstrap=True, class_weight=None, criterion=gini, max_depth=106, max_features=60, min_samples_leaf=18, min_samples_split=14, n_estimators=25, random_state=42 \n",
      "[CV]  bootstrap=True, class_weight=balanced, criterion=entropy, max_depth=108, max_features=58, min_samples_leaf=9, min_samples_split=18, n_estimators=16, random_state=42, total=   0.1s\n",
      "[CV] bootstrap=True, class_weight=None, criterion=gini, max_depth=106, max_features=60, min_samples_leaf=18, min_samples_split=14, n_estimators=25, random_state=42 \n",
      "[CV]  bootstrap=True, class_weight=balanced, criterion=entropy, max_depth=108, max_features=58, min_samples_leaf=9, min_samples_split=18, n_estimators=16, random_state=42, total=   0.1s\n",
      "[CV] bootstrap=True, class_weight=None, criterion=gini, max_depth=106, max_features=60, min_samples_leaf=18, min_samples_split=14, n_estimators=25, random_state=42 \n",
      "[CV]  bootstrap=True, class_weight=None, criterion=gini, max_depth=106, max_features=60, min_samples_leaf=18, min_samples_split=14, n_estimators=25, random_state=42, total=   0.2s\n",
      "[CV] bootstrap=True, class_weight=None, criterion=gini, max_depth=106, max_features=60, min_samples_leaf=18, min_samples_split=14, n_estimators=25, random_state=42 \n",
      "[CV]  bootstrap=True, class_weight=None, criterion=gini, max_depth=106, max_features=60, min_samples_leaf=18, min_samples_split=14, n_estimators=25, random_state=42, total=   0.2s\n",
      "[CV] bootstrap=False, class_weight=balanced, criterion=entropy, max_depth=100, max_features=56, min_samples_leaf=19, min_samples_split=3, n_estimators=26, random_state=42 \n",
      "[CV]  bootstrap=True, class_weight=None, criterion=gini, max_depth=106, max_features=60, min_samples_leaf=18, min_samples_split=14, n_estimators=25, random_state=42, total=   0.2s\n",
      "[CV] bootstrap=False, class_weight=balanced, criterion=entropy, max_depth=100, max_features=56, min_samples_leaf=19, min_samples_split=3, n_estimators=26, random_state=42 \n"
     ]
    },
    {
     "name": "stdout",
     "output_type": "stream",
     "text": [
      "[CV]  bootstrap=True, class_weight=None, criterion=gini, max_depth=106, max_features=60, min_samples_leaf=18, min_samples_split=14, n_estimators=25, random_state=42, total=   0.2s\n",
      "[CV] bootstrap=False, class_weight=balanced, criterion=entropy, max_depth=100, max_features=56, min_samples_leaf=19, min_samples_split=3, n_estimators=26, random_state=42 \n",
      "[CV]  bootstrap=True, class_weight=None, criterion=gini, max_depth=106, max_features=60, min_samples_leaf=18, min_samples_split=14, n_estimators=25, random_state=42, total=   0.2s\n",
      "[CV] bootstrap=False, class_weight=balanced, criterion=entropy, max_depth=100, max_features=56, min_samples_leaf=19, min_samples_split=3, n_estimators=26, random_state=42 \n",
      "[CV]  bootstrap=False, class_weight=balanced, criterion=entropy, max_depth=100, max_features=56, min_samples_leaf=19, min_samples_split=3, n_estimators=26, random_state=42, total=   0.2s\n",
      "[CV] bootstrap=False, class_weight=balanced, criterion=entropy, max_depth=100, max_features=56, min_samples_leaf=19, min_samples_split=3, n_estimators=26, random_state=42 \n",
      "[CV]  bootstrap=False, class_weight=balanced, criterion=entropy, max_depth=100, max_features=56, min_samples_leaf=19, min_samples_split=3, n_estimators=26, random_state=42, total=   0.3s\n",
      "[CV] bootstrap=False, class_weight=None, criterion=entropy, max_depth=102, max_features=72, min_samples_leaf=5, min_samples_split=2, n_estimators=17, random_state=42 \n",
      "[CV]  bootstrap=False, class_weight=balanced, criterion=entropy, max_depth=100, max_features=56, min_samples_leaf=19, min_samples_split=3, n_estimators=26, random_state=42, total=   0.3s\n",
      "[CV] bootstrap=False, class_weight=None, criterion=entropy, max_depth=102, max_features=72, min_samples_leaf=5, min_samples_split=2, n_estimators=17, random_state=42 \n",
      "[CV]  bootstrap=False, class_weight=balanced, criterion=entropy, max_depth=100, max_features=56, min_samples_leaf=19, min_samples_split=3, n_estimators=26, random_state=42, total=   0.3s\n",
      "[CV] bootstrap=False, class_weight=None, criterion=entropy, max_depth=102, max_features=72, min_samples_leaf=5, min_samples_split=2, n_estimators=17, random_state=42 \n",
      "[CV]  bootstrap=False, class_weight=balanced, criterion=entropy, max_depth=100, max_features=56, min_samples_leaf=19, min_samples_split=3, n_estimators=26, random_state=42, total=   0.2s\n",
      "[CV] bootstrap=False, class_weight=None, criterion=entropy, max_depth=102, max_features=72, min_samples_leaf=5, min_samples_split=2, n_estimators=17, random_state=42 \n",
      "[CV]  bootstrap=False, class_weight=None, criterion=entropy, max_depth=102, max_features=72, min_samples_leaf=5, min_samples_split=2, n_estimators=17, random_state=42, total=   0.2s\n",
      "[CV] bootstrap=False, class_weight=None, criterion=entropy, max_depth=102, max_features=72, min_samples_leaf=5, min_samples_split=2, n_estimators=17, random_state=42 \n",
      "[CV]  bootstrap=False, class_weight=None, criterion=entropy, max_depth=102, max_features=72, min_samples_leaf=5, min_samples_split=2, n_estimators=17, random_state=42, total=   0.2s\n",
      "[CV]  bootstrap=False, class_weight=None, criterion=entropy, max_depth=102, max_features=72, min_samples_leaf=5, min_samples_split=2, n_estimators=17, random_state=42, total=   0.2s\n",
      "[CV]  bootstrap=False, class_weight=None, criterion=entropy, max_depth=102, max_features=72, min_samples_leaf=5, min_samples_split=2, n_estimators=17, random_state=42, total=   0.2s\n",
      "[CV]  bootstrap=False, class_weight=None, criterion=entropy, max_depth=102, max_features=72, min_samples_leaf=5, min_samples_split=2, n_estimators=17, random_state=42, total=   0.2s\n"
     ]
    },
    {
     "name": "stderr",
     "output_type": "stream",
     "text": [
      "[Parallel(n_jobs=-1)]: Done 750 out of 750 | elapsed:   37.6s finished\n"
     ]
    },
    {
     "data": {
      "text/plain": [
       "RandomizedSearchCV(cv=5, error_score='raise',\n",
       "          estimator=RandomForestClassifier(bootstrap=True, class_weight=None, criterion='gini',\n",
       "            max_depth=None, max_features='auto', max_leaf_nodes=None,\n",
       "            min_impurity_decrease=0.0, min_impurity_split=None,\n",
       "            min_samples_leaf=1, min_samples_split=2,\n",
       "            min_weight_fraction_leaf=0.0, n_estimators=10, n_jobs=1,\n",
       "            oob_score=False, random_state=None, verbose=0,\n",
       "            warm_start=False),\n",
       "          fit_params=None, iid=True, n_iter=150, n_jobs=-1,\n",
       "          param_distributions={'max_depth': [100, 101, 102, 103, 104, 105, 106, 107, 108, 109, 110, None], 'n_estimators': <scipy.stats._distn_infrastructure.rv_frozen object at 0x1a2df2fcf8>, 'max_features': <scipy.stats._distn_infrastructure.rv_frozen object at 0x1a2df56cf8>, 'min_samples_split': <scipy.sta... False], 'criterion': ['gini', 'entropy'], 'class_weight': ['balanced', None], 'random_state': [42]},\n",
       "          pre_dispatch='2*n_jobs', random_state=42, refit=True,\n",
       "          return_train_score=True, scoring=None, verbose=2)"
      ]
     },
     "execution_count": 1346,
     "metadata": {},
     "output_type": "execute_result"
    }
   ],
   "source": [
    "rf_random = RandomizedSearchCV(estimator = rf, param_distributions = param_dist, n_iter = 150, cv = 5, verbose=2, random_state=42, n_jobs = -1)\n",
    "# Fit the random search model\n",
    "rf_random.fit(X_train, y_train)"
   ]
  },
  {
   "cell_type": "code",
   "execution_count": 1347,
   "metadata": {},
   "outputs": [
    {
     "data": {
      "text/plain": [
       "{'bootstrap': False,\n",
       " 'class_weight': None,\n",
       " 'criterion': 'gini',\n",
       " 'max_depth': 108,\n",
       " 'max_features': 48,\n",
       " 'min_samples_leaf': 2,\n",
       " 'min_samples_split': 4,\n",
       " 'n_estimators': 22,\n",
       " 'random_state': 42}"
      ]
     },
     "execution_count": 1347,
     "metadata": {},
     "output_type": "execute_result"
    }
   ],
   "source": [
    "rf_random.best_params_"
   ]
  },
  {
   "cell_type": "markdown",
   "metadata": {},
   "source": [
    "{'bootstrap': False,\n",
    " 'class_weight': 'balanced',\n",
    " 'criterion': 'gini',\n",
    " 'max_depth': 107,\n",
    " 'max_features': 41,\n",
    " 'min_samples_leaf': 3,\n",
    " 'min_samples_split': 9,\n",
    " 'n_estimators': 16,\n",
    " 'random_state': 42}"
   ]
  },
  {
   "cell_type": "code",
   "execution_count": 1348,
   "metadata": {},
   "outputs": [
    {
     "name": "stdout",
     "output_type": "stream",
     "text": [
      "Model Performance\n",
      "Accuracy = 0.43%.\n",
      "Model Performance\n",
      "Accuracy = 0.46%.\n",
      "Improvement of 6.22%.\n"
     ]
    }
   ],
   "source": [
    "def evaluate(model, test_features, test_labels):\n",
    "    predictions = model.predict(test_features)\n",
    "    accuracy=accuracy_score(test_labels,predictions)\n",
    "    print('Model Performance')\n",
    "    print('Accuracy = {:0.2f}%.'.format(accuracy))\n",
    "    \n",
    "    return accuracy\n",
    "base_model = RandomForestClassifier(n_estimators = 10, random_state = 42)\n",
    "base_model.fit(X_train, y_train)\n",
    "base_accuracy = evaluate(base_model, X_test, y_test)\n",
    "\n",
    "best_random = rf_random.best_estimator_\n",
    "random_accuracy = evaluate(best_random, X_test, y_test)\n",
    "\n",
    "print('Improvement of {:0.2f}%.'.format( 100 * (random_accuracy - base_accuracy) / base_accuracy))"
   ]
  },
  {
   "cell_type": "code",
   "execution_count": 1351,
   "metadata": {
    "scrolled": true
   },
   "outputs": [
    {
     "name": "stdout",
     "output_type": "stream",
     "text": [
      "RF Accuracy: 0.461\n",
      "RF CV Score 0.402628880634\n",
      "             precision    recall  f1-score   support\n",
      "\n",
      "      1-Low       0.22      0.26      0.24        69\n",
      "      2-Med       0.50      0.57      0.54       268\n",
      "     3-High       0.50      0.39      0.44       218\n",
      "\n",
      "avg / total       0.47      0.46      0.46       555\n",
      "\n"
     ]
    }
   ],
   "source": [
    "best_random = rf_random.best_estimator_\n",
    "best_random.fit(X_train,y_train)\n",
    "print(\"RF Accuracy: %.3f\"% accuracy_score(y_test, best_random.predict(X_test)))\n",
    "print(\"RF CV Score\",np.mean(cross_val_score(best_random, X, y,cv=10)))\n",
    "print(classification_report(y_test, best_random.predict(X_test)))"
   ]
  },
  {
   "cell_type": "markdown",
   "metadata": {},
   "source": [
    "**Investigating feature importance**"
   ]
  },
  {
   "cell_type": "code",
   "execution_count": 1385,
   "metadata": {},
   "outputs": [
    {
     "data": {
      "text/plain": [
       "[('Cocoa Percent', 0.45219231920767483),\n",
       " ('United States', 0.031806747444793122),\n",
       " ('Origin: LATIN AMER. & CARIB', 0.029333040955395462),\n",
       " ('Unknown', 0.028751917334252031),\n",
       " ('Trinitario', 0.024050715695705823)]"
      ]
     },
     "execution_count": 1385,
     "metadata": {},
     "output_type": "execute_result"
    }
   ],
   "source": [
    "features=sorted(zip(X.columns,rf.feature_importances_),key = lambda t: t[1],reverse=True)\n",
    "features[:5]"
   ]
  },
  {
   "cell_type": "code",
   "execution_count": 847,
   "metadata": {
    "collapsed": true
   },
   "outputs": [],
   "source": [
    "import json\n",
    "from sklearn.preprocessing import scale"
   ]
  },
  {
   "cell_type": "markdown",
   "metadata": {},
   "source": [
    "**Looking at feature importances specific to a class**"
   ]
  },
  {
   "cell_type": "code",
   "execution_count": 1387,
   "metadata": {
    "collapsed": true
   },
   "outputs": [],
   "source": [
    "def class_feature_importance(X, Y, feature_importances):\n",
    "    N, M = X.shape\n",
    "    X = scale(X)\n",
    "\n",
    "    out = {}\n",
    "    for c in set(Y):\n",
    "        out[c] = dict(\n",
    "            zip(range(N), np.mean(X[Y==c, :], axis=0)*feature_importances)\n",
    "        )\n",
    "\n",
    "    return out"
   ]
  },
  {
   "cell_type": "code",
   "execution_count": 1408,
   "metadata": {
    "collapsed": true
   },
   "outputs": [],
   "source": [
    "feature_importances=best_random.feature_importances_\n",
    "result = class_feature_importance(X, y, feature_importances)"
   ]
  },
  {
   "cell_type": "code",
   "execution_count": 1422,
   "metadata": {},
   "outputs": [
    {
     "data": {
      "text/plain": [
       "{'1-Low': {0: 0.11865724682929329,\n",
       "  1: -0.00046326019644492349,\n",
       "  2: 0.0012257796039361814,\n",
       "  3: -0.0,\n",
       "  4: -8.2943566675514912e-05,\n",
       "  5: -6.7864853626262273e-05,\n",
       "  6: -0.00017612654967612835,\n",
       "  7: -0.0,\n",
       "  8: -0.0024003797683852914,\n",
       "  9: -5.4236810251503309e-06,\n",
       "  10: 0.0049864069518008166,\n",
       "  11: 0.00050141436297345169,\n",
       "  12: -3.3287814505206969e-05,\n",
       "  13: 0.0,\n",
       "  14: -0.0058907772381709186,\n",
       "  15: 0.0048688554471427899,\n",
       "  16: -0.0014655893327271778,\n",
       "  17: 0.0012334636489209664,\n",
       "  18: 1.6235406267972609e-05,\n",
       "  19: -0.0015327823018758248,\n",
       "  20: -0.0024889887171762521,\n",
       "  21: 0.0069162681802279391,\n",
       "  22: -5.1175971542696876e-05,\n",
       "  23: -0.0010485383797378507,\n",
       "  24: -0.0011336060302973815,\n",
       "  25: 0.0013555337611559782,\n",
       "  26: -0.0,\n",
       "  27: -0.00025194807133939765,\n",
       "  28: -0.00371693391588473,\n",
       "  29: -0.0,\n",
       "  30: -0.00022972827793718342,\n",
       "  31: 5.2587406243052678e-07,\n",
       "  32: -0.0,\n",
       "  33: -0.0002676912898068934,\n",
       "  34: -7.3247730180588579e-07,\n",
       "  35: 0.0030764924587829041,\n",
       "  36: -0.0,\n",
       "  37: -0.0,\n",
       "  38: -0.00069087104300346496,\n",
       "  39: 0.00013965815422578148,\n",
       "  40: -0.0,\n",
       "  41: 6.5393486858727326e-05,\n",
       "  42: -1.1630066878831719e-05,\n",
       "  43: -0.0,\n",
       "  44: 0.00091446417838544956,\n",
       "  45: -6.0704154638240574e-06,\n",
       "  46: 0.00035210568027671578,\n",
       "  47: 0.00033728389872604922,\n",
       "  48: 1.4846782413810339e-05,\n",
       "  49: -6.4453545386491585e-05,\n",
       "  50: 0.00012043297198903108,\n",
       "  51: 2.6949426401763334e-05,\n",
       "  52: 5.4386782432660496e-05,\n",
       "  53: -0.0,\n",
       "  54: 0.00035893159894417138,\n",
       "  55: -0.00013115933038056557,\n",
       "  56: -1.8261840210131132e-05,\n",
       "  57: -4.3390755354526191e-05,\n",
       "  58: 0.00039226063548864637,\n",
       "  59: -0.0,\n",
       "  60: 1.5346738596318378e-05,\n",
       "  61: 9.1526610391302401e-06,\n",
       "  62: 0.0010505243843431486,\n",
       "  63: -1.8019005286810735e-05,\n",
       "  64: 9.8630471615695752e-06,\n",
       "  65: -0.0,\n",
       "  66: 0.0028815644584630857,\n",
       "  67: -5.539569567340817e-05,\n",
       "  68: -0.0001575054641076349,\n",
       "  69: -0.0,\n",
       "  70: -0.0,\n",
       "  71: -5.0726914630429623e-05,\n",
       "  72: -0.0012096868876615215,\n",
       "  73: 0.0015532957976691162,\n",
       "  74: 0.0035958203047646523,\n",
       "  75: 0.00067720834598501451,\n",
       "  76: -0.00026535682458705967},\n",
       " '2-Med': {0: 0.0035475729245354722,\n",
       "  1: -0.00017011259109911978,\n",
       "  2: 0.00027156310508938647,\n",
       "  3: -0.0,\n",
       "  4: -8.2943566675513732e-05,\n",
       "  5: -2.2768036114096884e-05,\n",
       "  6: -0.00075239792717091093,\n",
       "  7: -0.0,\n",
       "  8: -0.0011004224242369453,\n",
       "  9: -5.4236810251502852e-06,\n",
       "  10: -0.0011129315542971769,\n",
       "  11: -4.1386077898040489e-05,\n",
       "  12: -1.1167756538424477e-05,\n",
       "  13: -0.0,\n",
       "  14: 0.00030143873629233364,\n",
       "  15: 0.0029217948848862148,\n",
       "  16: -6.3796791683970981e-05,\n",
       "  17: 0.00068505104226554013,\n",
       "  18: -3.2973712314011877e-05,\n",
       "  19: 6.9747646710420087e-05,\n",
       "  20: -8.021541165420232e-05,\n",
       "  21: -0.00070484468887274752,\n",
       "  22: -5.8334350877512325e-06,\n",
       "  23: -0.00050639873487396769,\n",
       "  24: 0.00012187997233329524,\n",
       "  25: -0.00075818041784749327,\n",
       "  26: -0.0,\n",
       "  27: -2.871899986140951e-05,\n",
       "  28: -0.00010759746115062156,\n",
       "  29: -0.0,\n",
       "  30: 5.8063261455766735e-05,\n",
       "  31: 7.5342168614289187e-07,\n",
       "  32: 0.0,\n",
       "  33: -2.1916044644399591e-06,\n",
       "  34: 4.3569361835574129e-07,\n",
       "  35: -9.2763447727312001e-06,\n",
       "  36: -0.0,\n",
       "  37: -0.0,\n",
       "  38: -0.0012046859263162076,\n",
       "  39: -6.0227381930680031e-06,\n",
       "  40: 0.0,\n",
       "  41: 9.6693891159470037e-06,\n",
       "  42: 2.2808480674992503e-06,\n",
       "  43: 0.0,\n",
       "  44: -0.00029459413608845346,\n",
       "  45: -2.0365687262667781e-06,\n",
       "  46: -2.9692307153114933e-07,\n",
       "  47: 0.00011770438353062804,\n",
       "  48: -0.00011019678879525455,\n",
       "  49: -0.00066777450768577688,\n",
       "  50: 0.00025250725107073957,\n",
       "  51: -1.4237657850676685e-07,\n",
       "  52: 2.1787876362357909e-05,\n",
       "  53: 0.0,\n",
       "  54: 0.0001252589368865828,\n",
       "  55: -5.2718410463644674e-05,\n",
       "  56: 2.347981662165932e-06,\n",
       "  57: 4.310990904155132e-05,\n",
       "  58: 5.3055738937736954e-05,\n",
       "  59: -0.0,\n",
       "  60: -3.6758915545631051e-05,\n",
       "  61: 1.353355590670807e-06,\n",
       "  62: -8.8588439321339342e-07,\n",
       "  63: 5.9285831849807323e-06,\n",
       "  64: -3.4869715570793694e-06,\n",
       "  65: -0.0,\n",
       "  66: -0.00017737468266776192,\n",
       "  67: 3.2950578850396734e-05,\n",
       "  68: -4.9215490711228713e-05,\n",
       "  69: 0.0,\n",
       "  70: 0.0,\n",
       "  71: 3.0173485142631455e-05,\n",
       "  72: -5.2521145850489034e-06,\n",
       "  73: 0.00045620332301462158,\n",
       "  74: 0.002249749335030477,\n",
       "  75: -0.00015442479864859039,\n",
       "  76: -0.00012108515296691592},\n",
       " '3-High': {0: -0.035550868829368747,\n",
       "  1: 0.00033722886228748313,\n",
       "  2: -0.0006655656202325949,\n",
       "  3: 0.0,\n",
       "  4: 0.00012702864047017294,\n",
       "  5: 4.6668707562170449e-05,\n",
       "  6: 0.0010015247253089997,\n",
       "  7: 0.0,\n",
       "  8: 0.0020254303055195397,\n",
       "  9: 8.3064046385183061e-06,\n",
       "  10: 0.00010860797676646072,\n",
       "  11: -7.8637327556771108e-05,\n",
       "  12: 2.2891072440567533e-05,\n",
       "  13: 0.0,\n",
       "  14: 0.0011584996492433697,\n",
       "  15: -0.004984185272183141,\n",
       "  16: 0.00046447560060538129,\n",
       "  17: -0.001192649141265794,\n",
       "  18: 3.7624203723155801e-05,\n",
       "  19: 0.00031247308377768625,\n",
       "  20: 0.00075309113915634314,\n",
       "  21: -0.00091454273402536367,\n",
       "  22: 2.0797540946575027e-05,\n",
       "  23: 0.00091740062706588312,\n",
       "  24: 0.00014183016086824428,\n",
       "  25: 0.00060811821775863593,\n",
       "  26: 0.0,\n",
       "  27: 0.00010238985547582814,\n",
       "  28: 0.0011091468827678702,\n",
       "  29: 0.0,\n",
       "  30: -1.3625400388336033e-05,\n",
       "  31: -1.0943340396969713e-06,\n",
       "  32: -0.0,\n",
       "  33: 7.282281327623248e-05,\n",
       "  34: -3.6162304050799551e-07,\n",
       "  35: -0.00079316560003183691,\n",
       "  36: 0.0,\n",
       "  37: 0.0,\n",
       "  38: 0.0017105482505599765,\n",
       "  39: -2.8892642674164439e-05,\n",
       "  40: -0.0,\n",
       "  41: -2.9388602329451812e-05,\n",
       "  42: 1.4657070587036453e-07,\n",
       "  43: -0.0,\n",
       "  44: 0.00013483028230461619,\n",
       "  45: 4.1744500860816946e-06,\n",
       "  46: -9.1749229103481526e-05,\n",
       "  47: -0.00023771669615009171,\n",
       "  48: 0.00013605025722213682,\n",
       "  49: 0.00086484602163501795,\n",
       "  50: -0.0003521601635513346,\n",
       "  51: -6.8703525403583344e-06,\n",
       "  52: -4.1897584702111403e-05,\n",
       "  53: -0.0,\n",
       "  54: -0.00025297393135917401,\n",
       "  55: 0.00010126218986642325,\n",
       "  56: 1.7964828483664386e-06,\n",
       "  57: -4.3390755354526475e-05,\n",
       "  58: -0.00017000609777207044,\n",
       "  59: 0.0,\n",
       "  60: 4.2663407724525286e-05,\n",
       "  61: -4.1133135493503294e-06,\n",
       "  62: -0.000273738277502783,\n",
       "  63: -2.8139268530088644e-06,\n",
       "  64: 1.8473707199353447e-06,\n",
       "  65: 0.0,\n",
       "  66: -0.00052870202840197081,\n",
       "  67: -2.7348779069446524e-05,\n",
       "  68: 0.00010370726511487804,\n",
       "  69: -0.0,\n",
       "  70: -0.0,\n",
       "  71: -2.5043808264118525e-05,\n",
       "  72: 0.00032317658323789878,\n",
       "  73: -0.00098572599697180721,\n",
       "  74: -0.0037976976873746239,\n",
       "  75: 1.891095104670674e-05,\n",
       "  76: 0.00022319053465267368}}"
      ]
     },
     "execution_count": 1422,
     "metadata": {},
     "output_type": "execute_result"
    }
   ],
   "source": [
    "result"
   ]
  },
  {
   "cell_type": "markdown",
   "metadata": {},
   "source": [
    "These features are most important for predicting a High rating"
   ]
  },
  {
   "cell_type": "code",
   "execution_count": 1409,
   "metadata": {},
   "outputs": [
    {
     "data": {
      "text/plain": [
       "[('Criollo', 0.0020254303055195397),\n",
       " ('France', 0.0017105482505599765),\n",
       " ('Trinitario', 0.0011584996492433697),\n",
       " ('Canada', 0.0011091468827678702),\n",
       " ('Blend', 0.0010015247253089997),\n",
       " ('Australia', 0.00091740062706588312),\n",
       " ('Italy', 0.00086484602163501795),\n",
       " ('Origin: SUB-SAHARAN AFRICA', 0.00075309113915634314),\n",
       " ('Belgium', 0.00060811821775863593),\n",
       " ('Origin: ASIA (EX. NEAR EAST)', 0.00046447560060538129),\n",
       " ('Multi_Origin', 0.00033722886228748313),\n",
       " ('Switzerland', 0.00032317658323789878),\n",
       " ('Origin: OCEANIA', 0.00031247308377768625),\n",
       " ('Vietnam', 0.00022319053465267368),\n",
       " ('Austria', 0.00014183016086824428)]"
      ]
     },
     "execution_count": 1409,
     "metadata": {},
     "output_type": "execute_result"
    }
   ],
   "source": [
    "feat=sorted(zip(X.columns,list(result['3-High'].values())),key = lambda t: t[1],reverse=True)\n",
    "feat[:15]"
   ]
  },
  {
   "cell_type": "markdown",
   "metadata": {},
   "source": [
    "# Section 5: Confusion Matrices<a id='section5'></a>\n",
    "[Back to Top](#top)  "
   ]
  },
  {
   "cell_type": "code",
   "execution_count": 62,
   "metadata": {
    "collapsed": true
   },
   "outputs": [],
   "source": [
    "from sklearn.metrics import confusion_matrix"
   ]
  },
  {
   "cell_type": "code",
   "execution_count": 287,
   "metadata": {
    "collapsed": true
   },
   "outputs": [],
   "source": [
    "def plot_confusion_matrix(cm, classes,\n",
    "                          normalize=False,\n",
    "                          title='Confusion matrix',\n",
    "                          cmap=plt.cm.copper_r):\n",
    "    \"\"\"\n",
    "    This function prints and plots the confusion matrix.\n",
    "    Normalization can be applied by setting `normalize=True`.\n",
    "    \"\"\"\n",
    "    if normalize:\n",
    "        cm = cm.astype('float') / cm.sum(axis=1)[:, np.newaxis]\n",
    "        print(\"Normalized confusion matrix\")\n",
    "    else:\n",
    "        print('Confusion matrix, without normalization')\n",
    "\n",
    "    print(cm)\n",
    "\n",
    "    plt.imshow(cm, interpolation='nearest', cmap=cmap)\n",
    "    plt.title(title)\n",
    "    plt.colorbar()\n",
    "    tick_marks = np.arange(len(classes))\n",
    "    plt.xticks(tick_marks, classes, rotation=45)\n",
    "    plt.yticks(tick_marks, classes)\n",
    "\n",
    "    fmt = '.2f' if normalize else 'd'\n",
    "    thresh = cm.max() / 2.\n",
    "    for i, j in itertools.product(range(cm.shape[0]), range(cm.shape[1])):\n",
    "        plt.text(j, i, format(cm[i, j], fmt),\n",
    "                 horizontalalignment=\"center\",\n",
    "                 color=\"white\" if cm[i, j] > thresh else \"black\")\n",
    "\n",
    "    plt.tight_layout()\n",
    "    plt.ylabel('True label')\n",
    "    plt.xlabel('Predicted label')"
   ]
  },
  {
   "cell_type": "code",
   "execution_count": 1352,
   "metadata": {
    "scrolled": false
   },
   "outputs": [
    {
     "name": "stdout",
     "output_type": "stream",
     "text": [
      "Normalized confusion matrix\n",
      "[[ 0.2   0.75  0.04]\n",
      " [ 0.09  0.77  0.13]\n",
      " [ 0.06  0.76  0.17]]\n",
      "Normalized confusion matrix\n",
      "[[ 0.19  0.71  0.1 ]\n",
      " [ 0.13  0.69  0.18]\n",
      " [ 0.14  0.69  0.17]]\n",
      "Normalized confusion matrix\n",
      "[[ 0.16  0.71  0.13]\n",
      " [ 0.12  0.7   0.18]\n",
      " [ 0.1   0.72  0.18]]\n",
      "Normalized confusion matrix\n",
      "[[ 0.26  0.65  0.09]\n",
      " [ 0.15  0.64  0.21]\n",
      " [ 0.14  0.57  0.29]]\n",
      "Normalized confusion matrix\n",
      "[[ 0.26  0.62  0.12]\n",
      " [ 0.15  0.58  0.26]\n",
      " [ 0.13  0.52  0.35]]\n",
      "Normalized confusion matrix\n",
      "[[ 0.26  0.64  0.1 ]\n",
      " [ 0.14  0.57  0.28]\n",
      " [ 0.12  0.49  0.39]]\n"
     ]
    },
    {
     "data": {
      "image/png": "[encoded data removed]",
      "text/plain": [
       "<matplotlib.figure.Figure at 0x1a2f304fd0>"
      ]
     },
     "metadata": {},
     "output_type": "display_data"
    },
    {
     "data": {
      "image/png": "[encoded data removed]",
      "text/plain": [
       "<matplotlib.figure.Figure at 0x1a310b3780>"
      ]
     },
     "metadata": {},
     "output_type": "display_data"
    },
    {
     "data": {
      "image/png": "[encoded data removed]",
      "text/plain": [
       "<matplotlib.figure.Figure at 0x1a2b792320>"
      ]
     },
     "metadata": {},
     "output_type": "display_data"
    },
    {
     "data": {
      "image/png": "[encoded data removed]",
      "text/plain": [
       "<matplotlib.figure.Figure at 0x1a2b718f60>"
      ]
     },
     "metadata": {},
     "output_type": "display_data"
    },
    {
     "data": {
      "image/png": "[encoded data removed]",
      "text/plain": [
       "<matplotlib.figure.Figure at 0x1a312e54a8>"
      ]
     },
     "metadata": {},
     "output_type": "display_data"
    },
    {
     "data": {
      "image/png": "[encoded data removed]",
      "text/plain": [
       "<matplotlib.figure.Figure at 0x1a2b7d5470>"
      ]
     },
     "metadata": {},
     "output_type": "display_data"
    }
   ],
   "source": [
    "#Plot a confusion matrix for each model\n",
    "\n",
    "models=[('KNN',knn),('NB',nb),('LR',lr),('Decision Tree',dtc),('RF',rf),('Updated RF', best_random)]\n",
    "for name,model in models:\n",
    "    y_pred=model.predict(X_test)\n",
    "    # Compute confusion matrix\n",
    "    cnf_matrix = confusion_matrix(y_test, y_pred)\n",
    "    np.set_printoptions(precision=2)\n",
    "\n",
    "    # Plot normalized confusion matrix\n",
    "    plt.figure()\n",
    "    plot_confusion_matrix(cnf_matrix, classes=class_names, normalize=True,\n",
    "                          title='%s confusion matrix'%name)\n"
   ]
  },
  {
   "cell_type": "markdown",
   "metadata": {},
   "source": [
    "# Section 6: Testing the Model<a id='section6'></a>\n",
    "[Back to Top](#top)  "
   ]
  },
  {
   "cell_type": "code",
   "execution_count": 946,
   "metadata": {},
   "outputs": [
    {
     "data": {
      "text/plain": [
       "(77,)"
      ]
     },
     "execution_count": 946,
     "metadata": {},
     "output_type": "execute_result"
    }
   ],
   "source": [
    "X.columns.shape"
   ]
  },
  {
   "cell_type": "code",
   "execution_count": 1423,
   "metadata": {},
   "outputs": [
    {
     "data": {
      "text/plain": [
       "8"
      ]
     },
     "execution_count": 1423,
     "metadata": {},
     "output_type": "execute_result"
    }
   ],
   "source": [
    "# Use this to find the index number of a specific feature\n",
    "columns=list(X.columns)\n",
    "columns.index('Criollo')"
   ]
  },
  {
   "cell_type": "code",
   "execution_count": 1420,
   "metadata": {
    "collapsed": true
   },
   "outputs": [],
   "source": [
    "# Set up some fake test data\n",
    "zero_arr=np.zeros((1,77))\n",
    "zero_arr[0][0]=0. #Cocoa pct\n",
    "zero_arr[0][1]=0 # Multi_orig\n",
    "zero_arr[0][8]=1 # Criollo\n",
    "zero_arr[0][14]=1 # feat\n",
    "zero_arr[0][6]=0 # Blend\n",
    "zero_arr[0][57]=1 # France\n",
    "zero_arr[0][39]=1 # Origin: SUB-SAHARAN AFRICA\n",
    "\n",
    "prob_high=[]\n",
    "for i in np.linspace(0,1,10):\n",
    "    zero_arr[0][0]=i\n",
    "    best_random.predict(zero_arr)\n",
    "    p=best_random.predict_proba(zero_arr)[0][2]\n",
    "    prob_high.append(p)"
   ]
  },
  {
   "cell_type": "code",
   "execution_count": 1421,
   "metadata": {
    "scrolled": true
   },
   "outputs": [
    {
     "data": {
      "text/plain": [
       "<matplotlib.text.Text at 0x1a335ab710>"
      ]
     },
     "execution_count": 1421,
     "metadata": {},
     "output_type": "execute_result"
    },
    {
     "data": {
      "image/png": "[encoded data removed]",
      "text/plain": [
       "<matplotlib.figure.Figure at 0x1a337981d0>"
      ]
     },
     "metadata": {},
     "output_type": "display_data"
    }
   ],
   "source": [
    "plt.plot(np.linspace(0,1,10),prob_high)\n",
    "plt.title('Probability of High Rating as Cocoa % Increases')\n",
    "plt.xlabel('Cocoa Percentage')\n",
    "plt.ylabel('Probability of High Rating')"
   ]
  },
  {
   "cell_type": "code",
   "execution_count": 1402,
   "metadata": {
    "collapsed": true
   },
   "outputs": [],
   "source": [
    "# Predicting on Lindt chocolate\n",
    "zero_arr=np.zeros((1,77))\n",
    "zero_arr[0][0]=.3 #Cocoa pct\n",
    "zero_arr[0][1]=1 # Multi Origin\n",
    "zero_arr[0][6]=1 # Cocoa Bean Blend \n",
    "zero_arr[0][17]=1 # Origin: LATIN AMER. & CARIB\n",
    "zero_arr[0][74]=1 # Produced in United States\n",
    "zero_arr[0][15]=1 # Unknown/undisclosed beans\n",
    "\n",
    "# prob_high=[]\n",
    "# for i in np.linspace(0,1,10):\n",
    "#     zero_arr[0][0]=i\n",
    "#     best_random.predict(zero_arr)\n",
    "#     p=best_random.predict_proba(zero_arr)[0][2]\n",
    "#     prob_high.append(p)"
   ]
  },
  {
   "cell_type": "code",
   "execution_count": 1403,
   "metadata": {},
   "outputs": [
    {
     "data": {
      "text/plain": [
       "array(['1-Low'], dtype=object)"
      ]
     },
     "execution_count": 1403,
     "metadata": {},
     "output_type": "execute_result"
    }
   ],
   "source": [
    "best_random.predict(zero_arr)"
   ]
  },
  {
   "cell_type": "code",
   "execution_count": 1404,
   "metadata": {},
   "outputs": [
    {
     "data": {
      "text/plain": [
       "[('1-Low', '0.55'), ('2-Med', '0.32'), ('3-High', '0.14')]"
      ]
     },
     "execution_count": 1404,
     "metadata": {},
     "output_type": "execute_result"
    }
   ],
   "source": [
    "predprobs=['%.2f'%x for x in list(best_random.predict_proba(zero_arr)[0])]\n",
    "\n",
    "list(zip(['1-Low','2-Med','3-High'],predprobs))"
   ]
  },
  {
   "cell_type": "markdown",
   "metadata": {},
   "source": [
    "# Appendix <a id='appendix'></a>\n",
    "  \n",
    "Model performs very well if you include categories on brands, but we cannot get a lot of detail about \n",
    "Confusion Matrix or ROC Curves.  \n",
    "[Back to Top](#top)"
   ]
  },
  {
   "cell_type": "markdown",
   "metadata": {},
   "source": [
    "## Experimenting with Polynomial Features\n",
    "**Note:** Polynomial features provided very similar model performance while significantly increasing complexity. Thus, they were not used in the final model."
   ]
  },
  {
   "cell_type": "code",
   "execution_count": 80,
   "metadata": {
    "collapsed": true
   },
   "outputs": [],
   "source": [
    "from sklearn.preprocessing import PolynomialFeatures"
   ]
  },
  {
   "cell_type": "code",
   "execution_count": 492,
   "metadata": {
    "collapsed": true
   },
   "outputs": [],
   "source": [
    "# y=df2['Tier'].apply(str)\n",
    "# X=df2.drop(['Company (Maker-if known)', 'Specific Bean Origin or Bar Name', \n",
    "#        'Review Date', 'Company Location', 'Rating',\n",
    "#        'Bean Type', 'Broad Bean Origin','Broad Bean Origin2','First Broad Bean Origin','First Bean Type','REF','Prod_Region','Origin_Region'],axis=1,errors='ignore')\n",
    "\n",
    "# X_train, X_test, y_train, y_test = train_test_split(X,y, test_size = .3, random_state = 4444)\n",
    "# X_test=X_test.drop('Tier',axis=1)"
   ]
  },
  {
   "cell_type": "code",
   "execution_count": 493,
   "metadata": {},
   "outputs": [
    {
     "data": {
      "text/plain": [
       "2-Med     659\n",
       "3-High    512\n",
       "1-Low     300\n",
       "Name: Tier, dtype: int64"
      ]
     },
     "execution_count": 493,
     "metadata": {},
     "output_type": "execute_result"
    }
   ],
   "source": [
    "# # Separate majority and minority classes\n",
    "# df_low = X_train[X_train.Tier=='1-Low']\n",
    "# df_med = X_train[X_train.Tier=='2-Med']\n",
    "# df_high = X_train[X_train.Tier=='3-High']\n",
    "\n",
    "# # Upsample minority class\n",
    "# train_upsampled = resample(df_low, \n",
    "#                          replace=True,\n",
    "#                          n_samples=300,\n",
    "#                          random_state=123)\n",
    " \n",
    "# # Combine majority class with upsampled minority class\n",
    "# train_upsampled = pd.concat([df_med,df_high ,train_upsampled])\n",
    " \n",
    "# # Display new class counts\n",
    "# train_upsampled.Tier.value_counts()"
   ]
  },
  {
   "cell_type": "code",
   "execution_count": 494,
   "metadata": {
    "collapsed": true
   },
   "outputs": [],
   "source": [
    "# poly = PolynomialFeatures(interaction_only=True)\n",
    "# X_train=train_upsampled.drop('Tier',axis=1)\n",
    "# y_train=train_upsampled.Tier\n",
    "# X_train=poly.fit_transform(X_train)\n",
    "# X_test=poaly.transform(X_test)"
   ]
  },
  {
   "cell_type": "code",
   "execution_count": 495,
   "metadata": {
    "collapsed": true
   },
   "outputs": [],
   "source": [
    "# X=X.drop('Tier',axis=1)\n",
    "# X=poly.transform(X)"
   ]
  },
  {
   "cell_type": "code",
   "execution_count": 2646,
   "metadata": {},
   "outputs": [
    {
     "name": "stdout",
     "output_type": "stream",
     "text": [
      "NB Accuracy: 0.393\n",
      "NB CV Score 0.362316344475\n",
      "             precision    recall  f1-score   support\n",
      "\n",
      "       High       0.42      0.29      0.35       214\n",
      "        Low       0.37      0.29      0.33       207\n",
      "        Med       0.39      0.55      0.46       271\n",
      "\n",
      "avg / total       0.39      0.39      0.38       692\n",
      "\n"
     ]
    }
   ],
   "source": [
    "# nb = MultinomialNB()\n",
    "# nb.fit(X_train, y_train)\n",
    "# print(\"NB Accuracy: %.3f\"% accuracy_score(y_test, nb.predict(X_test)))\n",
    "# print(\"NB CV Score\",np.mean(cross_val_score(nb, X, y,cv=10)))\n",
    "# print(classification_report(y_test, nb.predict(X_test)))"
   ]
  },
  {
   "cell_type": "code",
   "execution_count": 94,
   "metadata": {
    "scrolled": false
   },
   "outputs": [
    {
     "name": "stdout",
     "output_type": "stream",
     "text": [
      "RF Accuracy: 0.467\n",
      "RF CV Score 0.390222698154\n",
      "             precision    recall  f1-score   support\n",
      "\n",
      "      1-Low       0.32      0.26      0.29        69\n",
      "      2-Med       0.49      0.61      0.54       268\n",
      "     3-High       0.48      0.36      0.41       218\n",
      "\n",
      "avg / total       0.46      0.47      0.46       555\n",
      "\n"
     ]
    }
   ],
   "source": [
    "# rf = RandomForestClassifier()\n",
    "# rf.fit(X_train, y_train)\n",
    "# print(\"RF Accuracy: %.3f\"% accuracy_score(y_test, rf.predict(X_test)))\n",
    "# print(\"RF CV Score\",np.mean(cross_val_score(rf, X, y,cv=10)))\n",
    "# print(classification_report(y_test, rf.predict(X_test)))"
   ]
  },
  {
   "cell_type": "code",
   "execution_count": 2813,
   "metadata": {
    "collapsed": true
   },
   "outputs": [],
   "source": [
    "# features=sorted(zip(poly.get_feature_names([x for x in X.columns]),rf.feature_importances_),\\\n",
    "#                 key = lambda t: t[1],reverse=True)"
   ]
  }
 ],
 "metadata": {
  "kernelspec": {
   "display_name": "Python 3",
   "language": "python",
   "name": "python3"
  },
  "language_info": {
   "codemirror_mode": {
    "name": "ipython",
    "version": 3
   },
   "file_extension": ".py",
   "mimetype": "text/x-python",
   "name": "python",
   "nbconvert_exporter": "python",
   "pygments_lexer": "ipython3",
   "version": "3.6.2"
  }
 },
 "nbformat": 4,
 "nbformat_minor": 2
}
